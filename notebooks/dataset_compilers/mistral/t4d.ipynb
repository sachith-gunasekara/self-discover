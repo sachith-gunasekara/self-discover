{
 "cells": [
  {
   "cell_type": "code",
   "execution_count": 1,
   "metadata": {},
   "outputs": [
    {
     "name": "stderr",
     "output_type": "stream",
     "text": [
      "None of PyTorch, TensorFlow >= 2.0, or Flax have been found. Models won't be available and only tokenizers, configuration and file/data utilities can be used.\n"
     ]
    }
   ],
   "source": [
    "import os\n",
    "import json\n",
    "from datasets import Dataset\n",
    "from pyprojroot import here\n",
    "from transformers import AutoTokenizer\n",
    "from langchain_core.prompts import PromptTemplate"
   ]
  },
  {
   "cell_type": "code",
   "execution_count": 9,
   "metadata": {},
   "outputs": [],
   "source": [
    "tokenizer = AutoTokenizer.from_pretrained(\"meta-llama/Llama-3.1-405B-Instruct\")"
   ]
  },
  {
   "cell_type": "code",
   "execution_count": 11,
   "metadata": {},
   "outputs": [],
   "source": [
    "ANSWER_FORMATS = \"\"\"- should be complete with the letter and correct answer from the list of given choices (Example answer:  K. Ananda))\"\"\""
   ]
  },
  {
   "cell_type": "code",
   "execution_count": 3,
   "metadata": {},
   "outputs": [
    {
     "data": {
      "text/plain": [
       "PromptTemplate(input_variables=['answer_formats', 'reasoning_structure', 'task_description'], input_types={}, partial_variables={}, template='Solve the given task by following the step-by-step reasoning plan in JSON filling in the values for the corresponding keys.\\nPhrase your final answer always as \"The final answer is [answer]\".\\n\\n[answer] should be in one of the following formats:\\n{answer_formats}\\n    \\nReasoning Structure:\\n{reasoning_structure}\\n\\nTask:\\n{task_description}\\n\\nCorrectly follow the above JSON reasoning structure to solve the given task. Your response should be the filled JSON for the above reasoning structure.')"
      ]
     },
     "execution_count": 3,
     "metadata": {},
     "output_type": "execute_result"
    }
   ],
   "source": [
    "REASONING_PROMPT = \"\"\"Solve the given task by following the step-by-step reasoning plan in JSON filling in the values for the corresponding keys.\n",
    "Phrase your final answer always as \"The final answer is [answer]\".\n",
    "\n",
    "[answer] should be in one of the following formats:\n",
    "{answer_formats}\n",
    "    \n",
    "Reasoning Structure:\n",
    "{reasoning_structure}\n",
    "\n",
    "Task:\n",
    "{task_description}\n",
    "\n",
    "Correctly follow the above JSON reasoning structure to solve the given task. Your response should be the filled JSON for the above reasoning structure.\"\"\"\n",
    "\n",
    "\n",
    "prompt = PromptTemplate.from_template(REASONING_PROMPT)\n",
    "prompt"
   ]
  },
  {
   "cell_type": "code",
   "execution_count": 5,
   "metadata": {},
   "outputs": [
    {
     "data": {
      "text/plain": [
       "('d:\\\\Surge\\\\self-discover\\\\evals\\\\logs\\\\mistral',\n",
       " 'd:\\\\Surge\\\\self-discover\\\\evals\\\\logs\\\\mistral\\\\phaseI/t4d',\n",
       " 'd:\\\\Surge\\\\self-discover\\\\evals\\\\logs\\\\mistral\\\\phaseII/t4d/t4d-/t4d_eval')"
      ]
     },
     "execution_count": 5,
     "metadata": {},
     "output_type": "execute_result"
    }
   ],
   "source": [
    "base_path = str(here(\"evals/logs/mistral\"))\n",
    "phase1 = os.path.join(base_path, \"phaseI/t4d\")\n",
    "phase2 = os.path.join(base_path, \"phaseII/t4d/t4d-/t4d_eval\")\n",
    "\n",
    "base_path, phase1, phase2"
   ]
  },
  {
   "cell_type": "code",
   "execution_count": 7,
   "metadata": {},
   "outputs": [
    {
     "name": "stdout",
     "output_type": "stream",
     "text": [
      "```json\n",
      "{\n",
      "    \"Identify the core task\": {\n",
      "        \"Determine the main question or task that needs to be answered or solved:\"\n",
      "    },\n",
      "    \"Understand the context\": {\n",
      "        \"Identify the key events and actions described in the observation that are relevant to the task:\"\n",
      "    },\n",
      "    \"Break down the observation\": {\n",
      "        \"Segment the observation into smaller, sequential, or categorical parts to analyze it more effectively:\"\n",
      "    },\n",
      "    \"Identify relevant individuals\": {\n",
      "        \"Determine who are the individuals directly involved in or affected by the task or plan mentioned in the observation:\"\n",
      "    },\n",
      "    \"Analyze perspectives\": {\n",
      "        \"Consider the actions, plans, and preferences of each individual mentioned in the observation. Question any assumptions about their knowledge or intentions:\"\n",
      "    },\n",
      "    \"Define useful information\": {\n",
      "        \"Determine what information would be beneficial for an individual to know to facilitate their plans or tasks:\"\n",
      "    },\n",
      "    \"Establish relevance\": {\n",
      "        \"Identify details from the observation that are relevant to the task and could serve as helpful information for the identified individuals:\"\n",
      "    },\n",
      "    \"Evaluate uncertainty\": {\n",
      "        \"Assess if the task involves decisions or plans that could be affected by unknown factors or competing objectives among the individuals:\"\n",
      "    },\n",
      "    \"Sequentially process\": {\n",
      "        \"Analyze the observation step by step, considering each individual's actions and the task's requirements:\"\n",
      "    },\n",
      "    \"Formulate a solution\": {\n",
      "        \"Create a step-by-step plan to determine who would benefit from receiving helpful information, supported by clear reasoning:\"\n",
      "    }\n",
      "}\n",
      "```\n"
     ]
    }
   ],
   "source": [
    "with open(os.path.join(phase1, \"t4d-.txt\"), \"r\") as f:\n",
    "    reasoning_structure = f.read()\n",
    "\n",
    "print(reasoning_structure)"
   ]
  },
  {
   "cell_type": "code",
   "execution_count": 13,
   "metadata": {},
   "outputs": [
    {
     "data": {
      "text/plain": [
       "Dataset({\n",
       "    features: ['story', 'question', 'answer', 'characters', 'distracting_characters', 'self_discover_input', 'reasoning_structure', 'reasoning', 'trajectory', 'answer_pred'],\n",
       "    num_rows: 564\n",
       "})"
      ]
     },
     "execution_count": 13,
     "metadata": {},
     "output_type": "execute_result"
    }
   ],
   "source": [
    "dataset = Dataset.load_from_disk(phase2)\n",
    "dataset"
   ]
  },
  {
   "cell_type": "code",
   "execution_count": 14,
   "metadata": {},
   "outputs": [
    {
     "data": {
      "text/plain": [
       "{'story': 'Nathan entered the porch. Mia entered the porch. The radish is in the crate. Nathan exited the porch. Mia moved the radish to the drawer. Liam entered the front yard. Nathan and Mia plan to use the radish soon.',\n",
       " 'question': 'Who among the individuals would benefit from receiving helpful information?\\nA. Mia\\nB. Nathan\\nC. Liam\\nD. None of the above',\n",
       " 'answer': 'Nathan',\n",
       " 'characters': ['Nathan', 'Mia', 'Liam'],\n",
       " 'distracting_characters': ['Liam'],\n",
       " 'self_discover_input': 'Observation:\\nNathan entered the porch. Mia entered the porch. The radish is in the crate. Nathan exited the porch. Mia moved the radish to the drawer. Liam entered the front yard. Nathan and Mia plan to use the radish soon.\\n\\nQuestion:\\nWho among the individuals would benefit from receiving helpful information?\\nA. Mia\\nB. Nathan\\nC. Liam\\nD. None of the above',\n",
       " 'reasoning_structure': '`',\n",
       " 'reasoning': '```json\\n{\\n    \"Identify the core task\": {\\n        \"Determine the main question or task that needs to be answered or solved:\": \"Determine who among the individuals would benefit from receiving helpful information.\"\\n    },\\n    \"Understand the context\": {\\n        \"Identify the key events and actions described in the observation that are relevant to the task:\": \"Nathan and Mia enter the porch, Nathan exits, Mia moves the radish, Liam enters the front yard, Nathan and Mia plan to use the radish soon.\"\\n    },\\n    \"Break down the observation\": {\\n        \"Segment the observation into smaller, sequential, or categorical parts to analyze it more effectively:\": [\\n            \"Nathan entered the porch.\",\\n            \"Mia entered the porch.\",\\n            \"The radish is in the crate.\",\\n            \"Nathan exited the porch.\",\\n            \"Mia moved the radish to the drawer.\",\\n            \"Liam entered the front yard.\",\\n            \"Nathan and Mia plan to use the radish soon.\"\\n        ]\\n    },\\n    \"Identify relevant individuals\": {\\n        \"Determine who are the individuals directly involved in or affected by the task or plan mentioned in the observation:\": \"Nathan, Mia, Liam\"\\n    },\\n    \"Analyze perspectives\": {\\n        \"Consider the actions, plans, and preferences of each individual mentioned in the observation. Question any assumptions about their knowledge or intentions:\": [\\n            \"Nathan: Entered and exited the porch, plans to use the radish.\",\\n            \"Mia: Entered the porch, moved the radish, plans to use the radish.\",\\n            \"Liam: Entered the front yard, no direct involvement with the radish.\"\\n        ]\\n    },\\n    \"Define useful information\": {\\n        \"Determine what information would be beneficial for an individual to know to facilitate their plans or tasks:\": \"The location of the radish after it was moved.\"\\n    },\\n    \"Establish relevance\": {\\n        \"Identify details from the observation that are relevant to the task and could serve as helpful information for the identified individuals:\": \"Mia moved the radish to the drawer.\"\\n    },\\n    \"Evaluate uncertainty\": {\\n        \"Assess if the task involves decisions or plans that could be affected by unknown factors or competing objectives among the individuals:\": \"Nathan might not know the new location of the radish since he exited before Mia moved it.\"\\n    },\\n    \"Sequentially process\": {\\n        \"Analyze the observation step by step, considering each individual\\'s actions and the task\\'s requirements:\": [\\n            \"Nathan entered the porch.\",\\n            \"Mia entered the porch.\",\\n            \"The radish is in the crate.\",\\n            \"Nathan exited the porch.\",\\n            \"Mia moved the radish to the drawer.\",\\n            \"Liam entered the front yard.\",\\n            \"Nathan and Mia plan to use the radish soon.\"\\n        ]\\n    },\\n    \"Formulate a solution\": {\\n        \"Create a step-by-step plan to determine who would benefit from receiving helpful information, supported by clear reasoning:\": [\\n            \"Nathan exited the porch before Mia moved the radish.\",\\n            \"Nathan and Mia plan to use the radish soon.\",\\n            \"Nathan would benefit from knowing the new location of the radish since he was not present when Mia moved it.\"\\n        ]\\n    }\\n}\\n```\\n\\nThe final answer is B. Nathan.',\n",
       " 'trajectory': '```json\\n{\\n    \"Identify the core task\": {\\n        \"Determine the main question or task that needs to be answered or solved:\": \"Determine who among the individuals would benefit from receiving helpful information.\"\\n    },\\n    \"Understand the context\": {\\n        \"Identify the key events and actions described in the observation that are relevant to the task:\": \"Nathan and Mia enter the porch, Nathan exits, Mia moves the radish, Liam enters the front yard, Nathan and Mia plan to use the radish soon.\"\\n    },\\n    \"Break down the observation\": {\\n        \"Segment the observation into smaller, sequential, or categorical parts to analyze it more effectively:\": [\\n            \"Nathan entered the porch.\",\\n            \"Mia entered the porch.\",\\n            \"The radish is in the crate.\",\\n            \"Nathan exited the porch.\",\\n            \"Mia moved the radish to the drawer.\",\\n            \"Liam entered the front yard.\",\\n            \"Nathan and Mia plan to use the radish soon.\"\\n        ]\\n    },\\n    \"Identify relevant individuals\": {\\n        \"Determine who are the individuals directly involved in or affected by the task or plan mentioned in the observation:\": \"Nathan, Mia, Liam\"\\n    },\\n    \"Analyze perspectives\": {\\n        \"Consider the actions, plans, and preferences of each individual mentioned in the observation. Question any assumptions about their knowledge or intentions:\": [\\n            \"Nathan: Entered and exited the porch, plans to use the radish.\",\\n            \"Mia: Entered the porch, moved the radish, plans to use the radish.\",\\n            \"Liam: Entered the front yard, no direct involvement with the radish.\"\\n        ]\\n    },\\n    \"Define useful information\": {\\n        \"Determine what information would be beneficial for an individual to know to facilitate their plans or tasks:\": \"The location of the radish after it was moved.\"\\n    },\\n    \"Establish relevance\": {\\n        \"Identify details from the observation that are relevant to the task and could serve as helpful information for the identified individuals:\": \"Mia moved the radish to the drawer.\"\\n    },\\n    \"Evaluate uncertainty\": {\\n        \"Assess if the task involves decisions or plans that could be affected by unknown factors or competing objectives among the individuals:\": \"Nathan might not know the new location of the radish since he exited before Mia moved it.\"\\n    },\\n    \"Sequentially process\": {\\n        \"Analyze the observation step by step, considering each individual\\'s actions and the task\\'s requirements:\": [\\n            \"Nathan entered the porch.\",\\n            \"Mia entered the porch.\",\\n            \"The radish is in the crate.\",\\n            \"Nathan exited the porch.\",\\n            \"Mia moved the radish to the drawer.\",\\n            \"Liam entered the front yard.\",\\n            \"Nathan and Mia plan to use the radish soon.\"\\n        ]\\n    },\\n    \"Formulate a solution\": {\\n        \"Create a step-by-step plan to determine who would benefit from receiving helpful information, supported by clear reasoning:\": [\\n            \"Nathan exited the porch before Mia moved the radish.\",\\n            \"Nathan and Mia plan to use the radish soon.\",\\n            \"Nathan would benefit from knowing the new location of the radish since he was not present when Mia moved it.\"\\n        ]\\n    }\\n}\\n```',\n",
       " 'answer_pred': 'B. Nathan.'}"
      ]
     },
     "execution_count": 14,
     "metadata": {},
     "output_type": "execute_result"
    }
   ],
   "source": [
    "dataset[0]"
   ]
  },
  {
   "cell_type": "code",
   "execution_count": 15,
   "metadata": {},
   "outputs": [
    {
     "data": {
      "text/plain": [
       "519"
      ]
     },
     "execution_count": 15,
     "metadata": {},
     "output_type": "execute_result"
    }
   ],
   "source": [
    "len(tokenizer.encode(prompt.format(answer_formats=ANSWER_FORMATS, reasoning_structure=reasoning_structure, task_description=dataset[0][\"self_discover_input\"])))"
   ]
  },
  {
   "cell_type": "code",
   "execution_count": 16,
   "metadata": {},
   "outputs": [
    {
     "name": "stdout",
     "output_type": "stream",
     "text": [
      "Input Token Count: 297525\n",
      "Output Token Count: 374450\n"
     ]
    }
   ],
   "source": [
    "input_token_count = 0\n",
    "output_token_count = 0\n",
    "\n",
    "for instance in dataset:\n",
    "    input_token_count += len(tokenizer.encode(prompt.format(answer_formats=ANSWER_FORMATS, reasoning_structure=reasoning_structure, task_description=instance[\"self_discover_input\"])))\n",
    "    output_token_count += len(tokenizer.encode(instance[\"reasoning\"]))\n",
    "\n",
    "print(f\"Input Token Count: {input_token_count}\")\n",
    "print(f\"Output Token Count: {output_token_count}\")"
   ]
  },
  {
   "cell_type": "code",
   "execution_count": null,
   "metadata": {},
   "outputs": [],
   "source": [
    "from huggingface_hub import login\n",
    "login(\"\")"
   ]
  },
  {
   "cell_type": "code",
   "execution_count": 29,
   "metadata": {},
   "outputs": [
    {
     "data": {
      "application/vnd.jupyter.widget-view+json": {
       "model_id": "48c761ead0f84a64adb7029ad06f3c9e",
       "version_major": 2,
       "version_minor": 0
      },
      "text/plain": [
       "Uploading the dataset shards:   0%|          | 0/1 [00:00<?, ?it/s]"
      ]
     },
     "metadata": {},
     "output_type": "display_data"
    },
    {
     "data": {
      "application/vnd.jupyter.widget-view+json": {
       "model_id": "acf79729c00f4e3aa6939513662d060a",
       "version_major": 2,
       "version_minor": 0
      },
      "text/plain": [
       "Creating parquet from Arrow format:   0%|          | 0/1 [00:00<?, ?ba/s]"
      ]
     },
     "metadata": {},
     "output_type": "display_data"
    },
    {
     "data": {
      "text/plain": [
       "CommitInfo(commit_url='https://huggingface.co/datasets/sachithgunasekara/self-discover-llama-t4d-eval/commit/74102977509766d0d739322ec12e9eb527476133', commit_message='Upload dataset', commit_description='', oid='74102977509766d0d739322ec12e9eb527476133', pr_url=None, repo_url=RepoUrl('https://huggingface.co/datasets/sachithgunasekara/self-discover-llama-t4d-eval', endpoint='https://huggingface.co', repo_type='dataset', repo_id='sachithgunasekara/self-discover-llama-t4d-eval'), pr_revision=None, pr_num=None)"
      ]
     },
     "execution_count": 29,
     "metadata": {},
     "output_type": "execute_result"
    }
   ],
   "source": [
    "dataset.push_to_hub(\"sachithgunasekara/self-discover-llama-t4d-eval\")"
   ]
  }
 ],
 "metadata": {
  "kernelspec": {
   "display_name": "venv",
   "language": "python",
   "name": "python3"
  },
  "language_info": {
   "codemirror_mode": {
    "name": "ipython",
    "version": 3
   },
   "file_extension": ".py",
   "mimetype": "text/x-python",
   "name": "python",
   "nbconvert_exporter": "python",
   "pygments_lexer": "ipython3",
   "version": "3.12.2"
  }
 },
 "nbformat": 4,
 "nbformat_minor": 2
}
