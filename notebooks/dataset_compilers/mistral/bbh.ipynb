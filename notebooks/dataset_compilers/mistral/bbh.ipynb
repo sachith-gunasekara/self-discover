{
 "cells": [
  {
   "cell_type": "code",
   "execution_count": 14,
   "metadata": {},
   "outputs": [],
   "source": [
    "import os\n",
    "import json\n",
    "from datasets import Dataset\n",
    "from pyprojroot import here\n",
    "from transformers import AutoTokenizer\n",
    "from langchain_core.prompts import PromptTemplate"
   ]
  },
  {
   "cell_type": "code",
   "execution_count": 3,
   "metadata": {},
   "outputs": [],
   "source": [
    "tokenizer = AutoTokenizer.from_pretrained(\"meta-llama/Llama-3.1-405B-Instruct\")"
   ]
  },
  {
   "cell_type": "code",
   "execution_count": 12,
   "metadata": {},
   "outputs": [],
   "source": [
    "ANSWER_FORMATS = \"\"\"- If the answer is not multiple choice, [answer] should be the decided answer. (For eg: Q: not True or False. A: False)\n",
    "- If the answer is multiple choice,\n",
    "    - and the given choices are unlabelled options, [answer] should be the chosen option (For eg: Q: Where does the sun rise from? Options: - East, - West, - North. A: East)\n",
    "    - and the given choices are labelled options, [answer] should be the letter corresponding to the chosen option (For eg: Q: Where does the sun rise from? Options: - A. West, - B. East, - C. North. A: B)\"\"\""
   ]
  },
  {
   "cell_type": "code",
   "execution_count": 15,
   "metadata": {},
   "outputs": [
    {
     "data": {
      "text/plain": [
       "PromptTemplate(input_variables=['answer_formats', 'reasoning_structure', 'task_description'], input_types={}, partial_variables={}, template='Solve the given task by following the step-by-step reasoning plan in JSON filling in the values for the corresponding keys.\\nPhrase your final answer always as \"The final answer is [answer]\".\\n\\n[answer] should be in one of the following formats:\\n{answer_formats}\\n    \\nReasoning Structure:\\n{reasoning_structure}\\n\\nTask:\\n{task_description}\\n\\nCorrectly follow the above JSON reasoning structure to solve the given task. Your response should be the filled JSON for the above reasoning structure.')"
      ]
     },
     "execution_count": 15,
     "metadata": {},
     "output_type": "execute_result"
    }
   ],
   "source": [
    "REASONING_PROMPT = \"\"\"Solve the given task by following the step-by-step reasoning plan in JSON filling in the values for the corresponding keys.\n",
    "Phrase your final answer always as \"The final answer is [answer]\".\n",
    "\n",
    "[answer] should be in one of the following formats:\n",
    "{answer_formats}\n",
    "    \n",
    "Reasoning Structure:\n",
    "{reasoning_structure}\n",
    "\n",
    "Task:\n",
    "{task_description}\n",
    "\n",
    "Correctly follow the above JSON reasoning structure to solve the given task. Your response should be the filled JSON for the above reasoning structure.\"\"\"\n",
    "\n",
    "\n",
    "prompt = PromptTemplate.from_template(REASONING_PROMPT)\n",
    "prompt"
   ]
  },
  {
   "cell_type": "code",
   "execution_count": 4,
   "metadata": {},
   "outputs": [
    {
     "data": {
      "text/plain": [
       "('d:\\\\Surge\\\\self-discover\\\\evals\\\\logs\\\\mistral',\n",
       " 'd:\\\\Surge\\\\self-discover\\\\evals\\\\logs\\\\mistral\\\\phaseI/bbh',\n",
       " 'd:\\\\Surge\\\\self-discover\\\\evals\\\\logs\\\\mistral\\\\phaseII/bbh')"
      ]
     },
     "execution_count": 4,
     "metadata": {},
     "output_type": "execute_result"
    }
   ],
   "source": [
    "base_path = str(here(\"evals/logs/mistral\"))\n",
    "phase1 = os.path.join(base_path, \"phaseI/bbh\")\n",
    "phase2 = os.path.join(base_path, \"phaseII/bbh\")\n",
    "\n",
    "base_path, phase1, phase2"
   ]
  },
  {
   "cell_type": "code",
   "execution_count": null,
   "metadata": {},
   "outputs": [],
   "source": []
  },
  {
   "cell_type": "code",
   "execution_count": 17,
   "metadata": {},
   "outputs": [
    {
     "name": "stdout",
     "output_type": "stream",
     "text": [
      "Input Token Count: 4207004\n",
      "Output Token Count: 4502629\n"
     ]
    }
   ],
   "source": [
    "input_token_count = 0\n",
    "output_token_count = 0\n",
    "\n",
    "for category in os.listdir(phase2):\n",
    "    with open(os.path.join(phase1, f\"{category}.txt\"), \"r\") as f:\n",
    "        reasoning_structure = f.read()\n",
    "\n",
    "    dataset = Dataset.load_from_disk(os.path.join(phase2, category, f\"{category}_eval\"))\n",
    "\n",
    "    for instance in dataset:\n",
    "        input_token_count += len(tokenizer.encode(prompt.format(answer_formats=ANSWER_FORMATS, reasoning_structure=reasoning_structure, task_description=instance[\"self_discover_input\"])))\n",
    "        output_token_count += len(tokenizer.encode(instance[\"reasoning\"]))\n",
    "\n",
    "print(f\"Input Token Count: {input_token_count}\")\n",
    "print(f\"Output Token Count: {output_token_count}\")"
   ]
  },
  {
   "cell_type": "code",
   "execution_count": null,
   "metadata": {},
   "outputs": [
    {
     "data": {
      "application/vnd.jupyter.widget-view+json": {
       "model_id": "951e9fbe2b7f419a9ec02549e05c8608",
       "version_major": 2,
       "version_minor": 0
      },
      "text/plain": [
       "Uploading the dataset shards:   0%|          | 0/1 [00:00<?, ?it/s]"
      ]
     },
     "metadata": {},
     "output_type": "display_data"
    },
    {
     "data": {
      "application/vnd.jupyter.widget-view+json": {
       "model_id": "d48dd329df8a468fa5542a0ce79a6ac5",
       "version_major": 2,
       "version_minor": 0
      },
      "text/plain": [
       "Creating parquet from Arrow format:   0%|          | 0/1 [00:00<?, ?ba/s]"
      ]
     },
     "metadata": {},
     "output_type": "display_data"
    },
    {
     "data": {
      "application/vnd.jupyter.widget-view+json": {
       "model_id": "0397afa041184a9ab6343b851f84d79f",
       "version_major": 2,
       "version_minor": 0
      },
      "text/plain": [
       "Uploading the dataset shards:   0%|          | 0/1 [00:00<?, ?it/s]"
      ]
     },
     "metadata": {},
     "output_type": "display_data"
    },
    {
     "data": {
      "application/vnd.jupyter.widget-view+json": {
       "model_id": "b3b7a1d73a7c4695be7103a86131263a",
       "version_major": 2,
       "version_minor": 0
      },
      "text/plain": [
       "Creating parquet from Arrow format:   0%|          | 0/1 [00:00<?, ?ba/s]"
      ]
     },
     "metadata": {},
     "output_type": "display_data"
    },
    {
     "data": {
      "application/vnd.jupyter.widget-view+json": {
       "model_id": "50ba6ecfec984c26b23262596bfc1fc9",
       "version_major": 2,
       "version_minor": 0
      },
      "text/plain": [
       "README.md:   0%|          | 0.00/583 [00:00<?, ?B/s]"
      ]
     },
     "metadata": {},
     "output_type": "display_data"
    },
    {
     "name": "stderr",
     "output_type": "stream",
     "text": [
      "d:\\Surge\\self-discover\\venv\\Lib\\site-packages\\huggingface_hub\\file_download.py:140: UserWarning: `huggingface_hub` cache-system uses symlinks by default to efficiently store duplicated files but your machine does not support them in C:\\Users\\sachi\\.cache\\huggingface\\hub\\datasets--sachithgunasekara--self-discover-llama-bbh-eval. Caching files will still work but in a degraded version that might require more space on your disk. This warning can be disabled by setting the `HF_HUB_DISABLE_SYMLINKS_WARNING` environment variable. For more details, see https://huggingface.co/docs/huggingface_hub/how-to-cache#limitations.\n",
      "To support symlinks on Windows, you either need to activate Developer Mode or to run Python as an administrator. In order to activate developer mode, see this article: https://docs.microsoft.com/en-us/windows/apps/get-started/enable-your-device-for-development\n",
      "  warnings.warn(message)\n"
     ]
    },
    {
     "data": {
      "application/vnd.jupyter.widget-view+json": {
       "model_id": "7731b6466550494d949ff29462c2b842",
       "version_major": 2,
       "version_minor": 0
      },
      "text/plain": [
       "Uploading the dataset shards:   0%|          | 0/1 [00:00<?, ?it/s]"
      ]
     },
     "metadata": {},
     "output_type": "display_data"
    },
    {
     "data": {
      "application/vnd.jupyter.widget-view+json": {
       "model_id": "de060cd3793144829b93ecc2f0fc99d4",
       "version_major": 2,
       "version_minor": 0
      },
      "text/plain": [
       "Creating parquet from Arrow format:   0%|          | 0/1 [00:00<?, ?ba/s]"
      ]
     },
     "metadata": {},
     "output_type": "display_data"
    },
    {
     "data": {
      "application/vnd.jupyter.widget-view+json": {
       "model_id": "c22cfb0bd2714ce8ab1d3e2e85b1986c",
       "version_major": 2,
       "version_minor": 0
      },
      "text/plain": [
       "README.md:   0%|          | 0.00/1.13k [00:00<?, ?B/s]"
      ]
     },
     "metadata": {},
     "output_type": "display_data"
    },
    {
     "data": {
      "application/vnd.jupyter.widget-view+json": {
       "model_id": "1182c8e4f4744f2fa56cada4579e9370",
       "version_major": 2,
       "version_minor": 0
      },
      "text/plain": [
       "Uploading the dataset shards:   0%|          | 0/1 [00:00<?, ?it/s]"
      ]
     },
     "metadata": {},
     "output_type": "display_data"
    },
    {
     "data": {
      "application/vnd.jupyter.widget-view+json": {
       "model_id": "a33ccf072a4b49889fc4098533e4df9e",
       "version_major": 2,
       "version_minor": 0
      },
      "text/plain": [
       "Creating parquet from Arrow format:   0%|          | 0/1 [00:00<?, ?ba/s]"
      ]
     },
     "metadata": {},
     "output_type": "display_data"
    },
    {
     "data": {
      "application/vnd.jupyter.widget-view+json": {
       "model_id": "8e754603994b414f9a42f7128318c152",
       "version_major": 2,
       "version_minor": 0
      },
      "text/plain": [
       "README.md:   0%|          | 0.00/1.68k [00:00<?, ?B/s]"
      ]
     },
     "metadata": {},
     "output_type": "display_data"
    },
    {
     "data": {
      "application/vnd.jupyter.widget-view+json": {
       "model_id": "582ff31d52bb46b4af616da708c22e28",
       "version_major": 2,
       "version_minor": 0
      },
      "text/plain": [
       "Uploading the dataset shards:   0%|          | 0/1 [00:00<?, ?it/s]"
      ]
     },
     "metadata": {},
     "output_type": "display_data"
    },
    {
     "data": {
      "application/vnd.jupyter.widget-view+json": {
       "model_id": "dea609082ca44049bbd8e5d188a11c4c",
       "version_major": 2,
       "version_minor": 0
      },
      "text/plain": [
       "Creating parquet from Arrow format:   0%|          | 0/1 [00:00<?, ?ba/s]"
      ]
     },
     "metadata": {},
     "output_type": "display_data"
    },
    {
     "data": {
      "application/vnd.jupyter.widget-view+json": {
       "model_id": "fa878ebacb814abf9e3f308b082cc409",
       "version_major": 2,
       "version_minor": 0
      },
      "text/plain": [
       "README.md:   0%|          | 0.00/2.22k [00:00<?, ?B/s]"
      ]
     },
     "metadata": {},
     "output_type": "display_data"
    },
    {
     "data": {
      "application/vnd.jupyter.widget-view+json": {
       "model_id": "edfdad12913c484e92419fe90f220d79",
       "version_major": 2,
       "version_minor": 0
      },
      "text/plain": [
       "Uploading the dataset shards:   0%|          | 0/1 [00:00<?, ?it/s]"
      ]
     },
     "metadata": {},
     "output_type": "display_data"
    },
    {
     "data": {
      "application/vnd.jupyter.widget-view+json": {
       "model_id": "ce0f42230959480da4894cac60e9f484",
       "version_major": 2,
       "version_minor": 0
      },
      "text/plain": [
       "Creating parquet from Arrow format:   0%|          | 0/1 [00:00<?, ?ba/s]"
      ]
     },
     "metadata": {},
     "output_type": "display_data"
    },
    {
     "data": {
      "application/vnd.jupyter.widget-view+json": {
       "model_id": "67d959aea4b9490fbf1f12332880f996",
       "version_major": 2,
       "version_minor": 0
      },
      "text/plain": [
       "README.md:   0%|          | 0.00/2.76k [00:00<?, ?B/s]"
      ]
     },
     "metadata": {},
     "output_type": "display_data"
    },
    {
     "data": {
      "application/vnd.jupyter.widget-view+json": {
       "model_id": "751d6c1cfaa242a48b34732e099b4788",
       "version_major": 2,
       "version_minor": 0
      },
      "text/plain": [
       "Uploading the dataset shards:   0%|          | 0/1 [00:00<?, ?it/s]"
      ]
     },
     "metadata": {},
     "output_type": "display_data"
    },
    {
     "data": {
      "application/vnd.jupyter.widget-view+json": {
       "model_id": "fe6de2aa031f4d1ebcbb04bc53072379",
       "version_major": 2,
       "version_minor": 0
      },
      "text/plain": [
       "Creating parquet from Arrow format:   0%|          | 0/1 [00:00<?, ?ba/s]"
      ]
     },
     "metadata": {},
     "output_type": "display_data"
    },
    {
     "data": {
      "application/vnd.jupyter.widget-view+json": {
       "model_id": "e82a1124e8e449ceb7ca9d39055cfb54",
       "version_major": 2,
       "version_minor": 0
      },
      "text/plain": [
       "README.md:   0%|          | 0.00/3.30k [00:00<?, ?B/s]"
      ]
     },
     "metadata": {},
     "output_type": "display_data"
    },
    {
     "data": {
      "application/vnd.jupyter.widget-view+json": {
       "model_id": "249b8968cf814d9e9ff0ad52e2ec4938",
       "version_major": 2,
       "version_minor": 0
      },
      "text/plain": [
       "Uploading the dataset shards:   0%|          | 0/1 [00:00<?, ?it/s]"
      ]
     },
     "metadata": {},
     "output_type": "display_data"
    },
    {
     "data": {
      "application/vnd.jupyter.widget-view+json": {
       "model_id": "a7fabcba311e4453be6dbcd5d8bb2027",
       "version_major": 2,
       "version_minor": 0
      },
      "text/plain": [
       "Creating parquet from Arrow format:   0%|          | 0/1 [00:00<?, ?ba/s]"
      ]
     },
     "metadata": {},
     "output_type": "display_data"
    },
    {
     "data": {
      "application/vnd.jupyter.widget-view+json": {
       "model_id": "d65146af8ce14dfcb248d6b3009f4474",
       "version_major": 2,
       "version_minor": 0
      },
      "text/plain": [
       "README.md:   0%|          | 0.00/3.84k [00:00<?, ?B/s]"
      ]
     },
     "metadata": {},
     "output_type": "display_data"
    },
    {
     "data": {
      "application/vnd.jupyter.widget-view+json": {
       "model_id": "4352a581fa6c43cba7290a105c7ec26b",
       "version_major": 2,
       "version_minor": 0
      },
      "text/plain": [
       "Uploading the dataset shards:   0%|          | 0/1 [00:00<?, ?it/s]"
      ]
     },
     "metadata": {},
     "output_type": "display_data"
    },
    {
     "data": {
      "application/vnd.jupyter.widget-view+json": {
       "model_id": "140b9f0151264eb0a57e46a76e0c9f91",
       "version_major": 2,
       "version_minor": 0
      },
      "text/plain": [
       "Creating parquet from Arrow format:   0%|          | 0/1 [00:00<?, ?ba/s]"
      ]
     },
     "metadata": {},
     "output_type": "display_data"
    },
    {
     "data": {
      "application/vnd.jupyter.widget-view+json": {
       "model_id": "5842c8287f0545d59f2789bb724c21f9",
       "version_major": 2,
       "version_minor": 0
      },
      "text/plain": [
       "README.md:   0%|          | 0.00/4.37k [00:00<?, ?B/s]"
      ]
     },
     "metadata": {},
     "output_type": "display_data"
    },
    {
     "data": {
      "application/vnd.jupyter.widget-view+json": {
       "model_id": "69a67624f3d44756b399b4e9249605c6",
       "version_major": 2,
       "version_minor": 0
      },
      "text/plain": [
       "Uploading the dataset shards:   0%|          | 0/1 [00:00<?, ?it/s]"
      ]
     },
     "metadata": {},
     "output_type": "display_data"
    },
    {
     "data": {
      "application/vnd.jupyter.widget-view+json": {
       "model_id": "34f507df631b4822874120ada4fdbc82",
       "version_major": 2,
       "version_minor": 0
      },
      "text/plain": [
       "Creating parquet from Arrow format:   0%|          | 0/1 [00:00<?, ?ba/s]"
      ]
     },
     "metadata": {},
     "output_type": "display_data"
    },
    {
     "data": {
      "application/vnd.jupyter.widget-view+json": {
       "model_id": "05da710c48f0490cb0cea6435425d175",
       "version_major": 2,
       "version_minor": 0
      },
      "text/plain": [
       "README.md:   0%|          | 0.00/4.95k [00:00<?, ?B/s]"
      ]
     },
     "metadata": {},
     "output_type": "display_data"
    },
    {
     "data": {
      "application/vnd.jupyter.widget-view+json": {
       "model_id": "e78fef3f7b334a21813d57b40d50f95b",
       "version_major": 2,
       "version_minor": 0
      },
      "text/plain": [
       "Uploading the dataset shards:   0%|          | 0/1 [00:00<?, ?it/s]"
      ]
     },
     "metadata": {},
     "output_type": "display_data"
    },
    {
     "data": {
      "application/vnd.jupyter.widget-view+json": {
       "model_id": "65c38642d1714400b9b9f3511336ed8f",
       "version_major": 2,
       "version_minor": 0
      },
      "text/plain": [
       "Creating parquet from Arrow format:   0%|          | 0/1 [00:00<?, ?ba/s]"
      ]
     },
     "metadata": {},
     "output_type": "display_data"
    },
    {
     "data": {
      "application/vnd.jupyter.widget-view+json": {
       "model_id": "9e2550e812004cd2b30f476bc6a10904",
       "version_major": 2,
       "version_minor": 0
      },
      "text/plain": [
       "README.md:   0%|          | 0.00/5.54k [00:00<?, ?B/s]"
      ]
     },
     "metadata": {},
     "output_type": "display_data"
    },
    {
     "data": {
      "application/vnd.jupyter.widget-view+json": {
       "model_id": "48e0de0701134368a4c4229a04b46854",
       "version_major": 2,
       "version_minor": 0
      },
      "text/plain": [
       "Uploading the dataset shards:   0%|          | 0/1 [00:00<?, ?it/s]"
      ]
     },
     "metadata": {},
     "output_type": "display_data"
    },
    {
     "data": {
      "application/vnd.jupyter.widget-view+json": {
       "model_id": "97c49d3c423540f8966c3319cdfa588a",
       "version_major": 2,
       "version_minor": 0
      },
      "text/plain": [
       "Creating parquet from Arrow format:   0%|          | 0/1 [00:00<?, ?ba/s]"
      ]
     },
     "metadata": {},
     "output_type": "display_data"
    },
    {
     "data": {
      "application/vnd.jupyter.widget-view+json": {
       "model_id": "d1c0d8474d16409c9700f418c6a6c89f",
       "version_major": 2,
       "version_minor": 0
      },
      "text/plain": [
       "README.md:   0%|          | 0.00/6.13k [00:00<?, ?B/s]"
      ]
     },
     "metadata": {},
     "output_type": "display_data"
    },
    {
     "data": {
      "application/vnd.jupyter.widget-view+json": {
       "model_id": "46c7173c6e3744779437678bf5fffd46",
       "version_major": 2,
       "version_minor": 0
      },
      "text/plain": [
       "Uploading the dataset shards:   0%|          | 0/1 [00:00<?, ?it/s]"
      ]
     },
     "metadata": {},
     "output_type": "display_data"
    },
    {
     "data": {
      "application/vnd.jupyter.widget-view+json": {
       "model_id": "addcff84c0e043188d7a3d57a1d69278",
       "version_major": 2,
       "version_minor": 0
      },
      "text/plain": [
       "Creating parquet from Arrow format:   0%|          | 0/1 [00:00<?, ?ba/s]"
      ]
     },
     "metadata": {},
     "output_type": "display_data"
    },
    {
     "data": {
      "application/vnd.jupyter.widget-view+json": {
       "model_id": "e0788d09c4d94d0ea39eff29776582ef",
       "version_major": 2,
       "version_minor": 0
      },
      "text/plain": [
       "README.md:   0%|          | 0.00/6.68k [00:00<?, ?B/s]"
      ]
     },
     "metadata": {},
     "output_type": "display_data"
    },
    {
     "data": {
      "application/vnd.jupyter.widget-view+json": {
       "model_id": "517a811c1fa143a1986711c0a57447dc",
       "version_major": 2,
       "version_minor": 0
      },
      "text/plain": [
       "Uploading the dataset shards:   0%|          | 0/1 [00:00<?, ?it/s]"
      ]
     },
     "metadata": {},
     "output_type": "display_data"
    },
    {
     "data": {
      "application/vnd.jupyter.widget-view+json": {
       "model_id": "7687b7aa36494c20bb22203d80d31616",
       "version_major": 2,
       "version_minor": 0
      },
      "text/plain": [
       "Creating parquet from Arrow format:   0%|          | 0/1 [00:00<?, ?ba/s]"
      ]
     },
     "metadata": {},
     "output_type": "display_data"
    },
    {
     "data": {
      "application/vnd.jupyter.widget-view+json": {
       "model_id": "34c6f32c1df0482cb92d6dc465fc56de",
       "version_major": 2,
       "version_minor": 0
      },
      "text/plain": [
       "README.md:   0%|          | 0.00/7.25k [00:00<?, ?B/s]"
      ]
     },
     "metadata": {},
     "output_type": "display_data"
    },
    {
     "data": {
      "application/vnd.jupyter.widget-view+json": {
       "model_id": "c146392f0d774e569b22daf62ad55181",
       "version_major": 2,
       "version_minor": 0
      },
      "text/plain": [
       "Uploading the dataset shards:   0%|          | 0/1 [00:00<?, ?it/s]"
      ]
     },
     "metadata": {},
     "output_type": "display_data"
    },
    {
     "data": {
      "application/vnd.jupyter.widget-view+json": {
       "model_id": "7403ed60d6384fafbfcf3204d67b8d5c",
       "version_major": 2,
       "version_minor": 0
      },
      "text/plain": [
       "Creating parquet from Arrow format:   0%|          | 0/1 [00:00<?, ?ba/s]"
      ]
     },
     "metadata": {},
     "output_type": "display_data"
    },
    {
     "data": {
      "application/vnd.jupyter.widget-view+json": {
       "model_id": "4c3282545fc140418c26d385ec6d5892",
       "version_major": 2,
       "version_minor": 0
      },
      "text/plain": [
       "README.md:   0%|          | 0.00/7.77k [00:00<?, ?B/s]"
      ]
     },
     "metadata": {},
     "output_type": "display_data"
    },
    {
     "data": {
      "application/vnd.jupyter.widget-view+json": {
       "model_id": "96343e8bcd594fbb97705dee7f1206ba",
       "version_major": 2,
       "version_minor": 0
      },
      "text/plain": [
       "Uploading the dataset shards:   0%|          | 0/1 [00:00<?, ?it/s]"
      ]
     },
     "metadata": {},
     "output_type": "display_data"
    },
    {
     "data": {
      "application/vnd.jupyter.widget-view+json": {
       "model_id": "90a1c9b1ef6d4acf854d8c07c66bf7da",
       "version_major": 2,
       "version_minor": 0
      },
      "text/plain": [
       "Creating parquet from Arrow format:   0%|          | 0/1 [00:00<?, ?ba/s]"
      ]
     },
     "metadata": {},
     "output_type": "display_data"
    },
    {
     "data": {
      "application/vnd.jupyter.widget-view+json": {
       "model_id": "edb7b0dddc1e421c837101d2052e98a1",
       "version_major": 2,
       "version_minor": 0
      },
      "text/plain": [
       "README.md:   0%|          | 0.00/8.31k [00:00<?, ?B/s]"
      ]
     },
     "metadata": {},
     "output_type": "display_data"
    },
    {
     "data": {
      "application/vnd.jupyter.widget-view+json": {
       "model_id": "9c2f9e676e4544d3acf69778e25a06c2",
       "version_major": 2,
       "version_minor": 0
      },
      "text/plain": [
       "Uploading the dataset shards:   0%|          | 0/1 [00:00<?, ?it/s]"
      ]
     },
     "metadata": {},
     "output_type": "display_data"
    },
    {
     "data": {
      "application/vnd.jupyter.widget-view+json": {
       "model_id": "343b51101b5f475bb0ba6edad4197076",
       "version_major": 2,
       "version_minor": 0
      },
      "text/plain": [
       "Creating parquet from Arrow format:   0%|          | 0/1 [00:00<?, ?ba/s]"
      ]
     },
     "metadata": {},
     "output_type": "display_data"
    },
    {
     "data": {
      "application/vnd.jupyter.widget-view+json": {
       "model_id": "503b2f5b94d44454b40aca47f7af4b3a",
       "version_major": 2,
       "version_minor": 0
      },
      "text/plain": [
       "README.md:   0%|          | 0.00/8.86k [00:00<?, ?B/s]"
      ]
     },
     "metadata": {},
     "output_type": "display_data"
    },
    {
     "data": {
      "application/vnd.jupyter.widget-view+json": {
       "model_id": "d543089baaeb46d4929d7c84c7054cbe",
       "version_major": 2,
       "version_minor": 0
      },
      "text/plain": [
       "Uploading the dataset shards:   0%|          | 0/1 [00:00<?, ?it/s]"
      ]
     },
     "metadata": {},
     "output_type": "display_data"
    },
    {
     "data": {
      "application/vnd.jupyter.widget-view+json": {
       "model_id": "43c71c6c8aac4a17a057d736d90b9170",
       "version_major": 2,
       "version_minor": 0
      },
      "text/plain": [
       "Creating parquet from Arrow format:   0%|          | 0/1 [00:00<?, ?ba/s]"
      ]
     },
     "metadata": {},
     "output_type": "display_data"
    },
    {
     "data": {
      "application/vnd.jupyter.widget-view+json": {
       "model_id": "490c80427e4142c4a236b020a16f4a42",
       "version_major": 2,
       "version_minor": 0
      },
      "text/plain": [
       "README.md:   0%|          | 0.00/9.45k [00:00<?, ?B/s]"
      ]
     },
     "metadata": {},
     "output_type": "display_data"
    },
    {
     "data": {
      "application/vnd.jupyter.widget-view+json": {
       "model_id": "b70bb89cfe3c49d687c1d7dc0be271c3",
       "version_major": 2,
       "version_minor": 0
      },
      "text/plain": [
       "Uploading the dataset shards:   0%|          | 0/1 [00:00<?, ?it/s]"
      ]
     },
     "metadata": {},
     "output_type": "display_data"
    },
    {
     "data": {
      "application/vnd.jupyter.widget-view+json": {
       "model_id": "4353ba89b50b4fc9b29f59e373250430",
       "version_major": 2,
       "version_minor": 0
      },
      "text/plain": [
       "Creating parquet from Arrow format:   0%|          | 0/1 [00:00<?, ?ba/s]"
      ]
     },
     "metadata": {},
     "output_type": "display_data"
    },
    {
     "data": {
      "application/vnd.jupyter.widget-view+json": {
       "model_id": "a4b1ffc9ef5248299c329ab3a9731c39",
       "version_major": 2,
       "version_minor": 0
      },
      "text/plain": [
       "README.md:   0%|          | 0.00/9.97k [00:00<?, ?B/s]"
      ]
     },
     "metadata": {},
     "output_type": "display_data"
    },
    {
     "data": {
      "application/vnd.jupyter.widget-view+json": {
       "model_id": "b05002cde2d942fa80fd701169f49e24",
       "version_major": 2,
       "version_minor": 0
      },
      "text/plain": [
       "Uploading the dataset shards:   0%|          | 0/1 [00:00<?, ?it/s]"
      ]
     },
     "metadata": {},
     "output_type": "display_data"
    },
    {
     "data": {
      "application/vnd.jupyter.widget-view+json": {
       "model_id": "be510e7a69064fd48d9fde5c520c1d04",
       "version_major": 2,
       "version_minor": 0
      },
      "text/plain": [
       "Creating parquet from Arrow format:   0%|          | 0/1 [00:00<?, ?ba/s]"
      ]
     },
     "metadata": {},
     "output_type": "display_data"
    },
    {
     "data": {
      "application/vnd.jupyter.widget-view+json": {
       "model_id": "c0b6c3a227004356b454b8883e693ad8",
       "version_major": 2,
       "version_minor": 0
      },
      "text/plain": [
       "README.md:   0%|          | 0.00/10.6k [00:00<?, ?B/s]"
      ]
     },
     "metadata": {},
     "output_type": "display_data"
    },
    {
     "data": {
      "application/vnd.jupyter.widget-view+json": {
       "model_id": "e6b0b714e999432580e6eb492a28b63b",
       "version_major": 2,
       "version_minor": 0
      },
      "text/plain": [
       "Uploading the dataset shards:   0%|          | 0/1 [00:00<?, ?it/s]"
      ]
     },
     "metadata": {},
     "output_type": "display_data"
    },
    {
     "data": {
      "application/vnd.jupyter.widget-view+json": {
       "model_id": "141ae623c6d14b9d848fe8b9131c7f48",
       "version_major": 2,
       "version_minor": 0
      },
      "text/plain": [
       "Creating parquet from Arrow format:   0%|          | 0/1 [00:00<?, ?ba/s]"
      ]
     },
     "metadata": {},
     "output_type": "display_data"
    },
    {
     "data": {
      "application/vnd.jupyter.widget-view+json": {
       "model_id": "62ec7398e5624403a494159492150834",
       "version_major": 2,
       "version_minor": 0
      },
      "text/plain": [
       "README.md:   0%|          | 0.00/11.1k [00:00<?, ?B/s]"
      ]
     },
     "metadata": {},
     "output_type": "display_data"
    },
    {
     "data": {
      "application/vnd.jupyter.widget-view+json": {
       "model_id": "1c7758d32610453eb80bd2deb3666de2",
       "version_major": 2,
       "version_minor": 0
      },
      "text/plain": [
       "Uploading the dataset shards:   0%|          | 0/1 [00:00<?, ?it/s]"
      ]
     },
     "metadata": {},
     "output_type": "display_data"
    },
    {
     "data": {
      "application/vnd.jupyter.widget-view+json": {
       "model_id": "9e9b48891c7648db8066ee21c3f18b04",
       "version_major": 2,
       "version_minor": 0
      },
      "text/plain": [
       "Creating parquet from Arrow format:   0%|          | 0/1 [00:00<?, ?ba/s]"
      ]
     },
     "metadata": {},
     "output_type": "display_data"
    },
    {
     "data": {
      "application/vnd.jupyter.widget-view+json": {
       "model_id": "0a71bedc09de40a09be64a8839f41481",
       "version_major": 2,
       "version_minor": 0
      },
      "text/plain": [
       "README.md:   0%|          | 0.00/11.6k [00:00<?, ?B/s]"
      ]
     },
     "metadata": {},
     "output_type": "display_data"
    },
    {
     "data": {
      "application/vnd.jupyter.widget-view+json": {
       "model_id": "e5eb663f73494ad59d13049f8c63307e",
       "version_major": 2,
       "version_minor": 0
      },
      "text/plain": [
       "Uploading the dataset shards:   0%|          | 0/1 [00:00<?, ?it/s]"
      ]
     },
     "metadata": {},
     "output_type": "display_data"
    },
    {
     "data": {
      "application/vnd.jupyter.widget-view+json": {
       "model_id": "8b42af8c51f14473b6e5a7fa77d2385a",
       "version_major": 2,
       "version_minor": 0
      },
      "text/plain": [
       "Creating parquet from Arrow format:   0%|          | 0/1 [00:00<?, ?ba/s]"
      ]
     },
     "metadata": {},
     "output_type": "display_data"
    },
    {
     "data": {
      "application/vnd.jupyter.widget-view+json": {
       "model_id": "239d5d5cfdbf4f32b2cf69d03217a7e1",
       "version_major": 2,
       "version_minor": 0
      },
      "text/plain": [
       "README.md:   0%|          | 0.00/12.2k [00:00<?, ?B/s]"
      ]
     },
     "metadata": {},
     "output_type": "display_data"
    },
    {
     "data": {
      "application/vnd.jupyter.widget-view+json": {
       "model_id": "87542fa8558845b78f03165f5fbd6850",
       "version_major": 2,
       "version_minor": 0
      },
      "text/plain": [
       "Uploading the dataset shards:   0%|          | 0/1 [00:00<?, ?it/s]"
      ]
     },
     "metadata": {},
     "output_type": "display_data"
    },
    {
     "data": {
      "application/vnd.jupyter.widget-view+json": {
       "model_id": "2e8f702436174ef1a1bffb4bfd3074a4",
       "version_major": 2,
       "version_minor": 0
      },
      "text/plain": [
       "Creating parquet from Arrow format:   0%|          | 0/1 [00:00<?, ?ba/s]"
      ]
     },
     "metadata": {},
     "output_type": "display_data"
    },
    {
     "data": {
      "application/vnd.jupyter.widget-view+json": {
       "model_id": "bdc51ae5d7894b6e9f23122f9d10333e",
       "version_major": 2,
       "version_minor": 0
      },
      "text/plain": [
       "README.md:   0%|          | 0.00/12.8k [00:00<?, ?B/s]"
      ]
     },
     "metadata": {},
     "output_type": "display_data"
    },
    {
     "data": {
      "application/vnd.jupyter.widget-view+json": {
       "model_id": "37144c7c82f348538015cea084bc6f2f",
       "version_major": 2,
       "version_minor": 0
      },
      "text/plain": [
       "Uploading the dataset shards:   0%|          | 0/1 [00:00<?, ?it/s]"
      ]
     },
     "metadata": {},
     "output_type": "display_data"
    },
    {
     "data": {
      "application/vnd.jupyter.widget-view+json": {
       "model_id": "e41d77bd74804c3fbe6535410eb8bb9e",
       "version_major": 2,
       "version_minor": 0
      },
      "text/plain": [
       "Creating parquet from Arrow format:   0%|          | 0/1 [00:00<?, ?ba/s]"
      ]
     },
     "metadata": {},
     "output_type": "display_data"
    },
    {
     "data": {
      "application/vnd.jupyter.widget-view+json": {
       "model_id": "3f6074d3f6bc492a809e2609e7c17d8d",
       "version_major": 2,
       "version_minor": 0
      },
      "text/plain": [
       "README.md:   0%|          | 0.00/13.4k [00:00<?, ?B/s]"
      ]
     },
     "metadata": {},
     "output_type": "display_data"
    },
    {
     "data": {
      "application/vnd.jupyter.widget-view+json": {
       "model_id": "f3cf49328ea3496ba183aa13e2ffcbcf",
       "version_major": 2,
       "version_minor": 0
      },
      "text/plain": [
       "Uploading the dataset shards:   0%|          | 0/1 [00:00<?, ?it/s]"
      ]
     },
     "metadata": {},
     "output_type": "display_data"
    },
    {
     "data": {
      "application/vnd.jupyter.widget-view+json": {
       "model_id": "8608890c5869491fb94fe02c60225dfb",
       "version_major": 2,
       "version_minor": 0
      },
      "text/plain": [
       "Creating parquet from Arrow format:   0%|          | 0/1 [00:00<?, ?ba/s]"
      ]
     },
     "metadata": {},
     "output_type": "display_data"
    },
    {
     "data": {
      "application/vnd.jupyter.widget-view+json": {
       "model_id": "3b18e75eb050433fab16471d09244bb7",
       "version_major": 2,
       "version_minor": 0
      },
      "text/plain": [
       "README.md:   0%|          | 0.00/14.0k [00:00<?, ?B/s]"
      ]
     },
     "metadata": {},
     "output_type": "display_data"
    },
    {
     "data": {
      "application/vnd.jupyter.widget-view+json": {
       "model_id": "695bcf306ed84846b297b80039c91523",
       "version_major": 2,
       "version_minor": 0
      },
      "text/plain": [
       "Uploading the dataset shards:   0%|          | 0/1 [00:00<?, ?it/s]"
      ]
     },
     "metadata": {},
     "output_type": "display_data"
    },
    {
     "data": {
      "application/vnd.jupyter.widget-view+json": {
       "model_id": "2ac68a92563a4d76afaba2044fefc820",
       "version_major": 2,
       "version_minor": 0
      },
      "text/plain": [
       "Creating parquet from Arrow format:   0%|          | 0/1 [00:00<?, ?ba/s]"
      ]
     },
     "metadata": {},
     "output_type": "display_data"
    },
    {
     "data": {
      "application/vnd.jupyter.widget-view+json": {
       "model_id": "07801c7427c34b3bb8ce1a5af508aacb",
       "version_major": 2,
       "version_minor": 0
      },
      "text/plain": [
       "README.md:   0%|          | 0.00/14.6k [00:00<?, ?B/s]"
      ]
     },
     "metadata": {},
     "output_type": "display_data"
    }
   ],
   "source": [
    "for category in os.listdir(phase2):\n",
    "    dataset = Dataset.load_from_disk(os.path.join(phase2, category, f\"{category}_eval\"))\n",
    "\n",
    "    dataset.push_to_hub(\"sachithgunasekara/self-discover-llama-bbh-eval\", category[4:])"
   ]
  },
  {
   "cell_type": "code",
   "execution_count": 11,
   "metadata": {},
   "outputs": [
    {
     "data": {
      "text/plain": [
       "{'input': 'Sort the following words alphabetically: List: syndrome therefrom',\n",
       " 'target': 'syndrome therefrom',\n",
       " 'self_discover_input': 'Sort the following words alphabetically: List: syndrome therefrom',\n",
       " 'reasoning_structure': '`',\n",
       " 'reasoning': '```json\\n{\\n    \"Identify the core task\": {\\n        \"Identify the core task: sorting words alphabetically\": \"The core task is to sort the words \\'syndrome\\' and \\'therefrom\\' alphabetically.\"\\n    },\\n    \"Analyze the list from different perspectives\": {\\n        \"Analyze the list from different perspectives (e.g., word length, prefixes, suffixes) to identify the best sorting approach\": \"The words are \\'syndrome\\' and \\'therefrom\\'. Analyzing word length, \\'syndrome\\' has 8 letters and \\'therefrom\\' has 9 letters. Analyzing initial letters, \\'syndrome\\' starts with \\'s\\' and \\'therefrom\\' starts with \\'t\\'.\"\\n    },\\n    \"Identify relevant data\": {\\n        \"Identify relevant data (e.g., word length, initial letters) and how it can be used to optimize sorting\": \"The relevant data is the initial letters of the words. \\'syndrome\\' starts with \\'s\\' and \\'therefrom\\' starts with \\'t\\'.\"\\n    },\\n    \"Generate a list of sorting algorithms\": {\\n        \"Generate a list of sorting algorithms and apply each one to the list to see which is most effective\": \"For a small list like this, a simple comparison-based sorting algorithm like bubble sort or insertion sort is sufficient.\"\\n    },\\n    \"Explore creative sorting methods\": {\\n        \"Explore creative sorting methods, such as bucket sort or radix sort, that might offer unconventional yet efficient solutions\": \"For this small list, creative sorting methods are not necessary.\"\\n    },\\n    \"Divide the list into smaller chunks\": {\\n        \"Divide the list into smaller, manageable chunks for sorting\": \"The list is already small with only two words, so no division is needed.\"\\n    },\\n    \"Design a simple test to verify the sorting process\": {\\n        \"Design a simple test to verify the sorting process for this list of words\": \"The test will be to check if the words are in alphabetical order after sorting.\"\\n    },\\n    \"Measure or evaluate the progress of the sorting process\": {\\n        \"Measure or evaluate the progress or success of the sorting process\": \"The sorting process is straightforward and can be evaluated by checking the final order of the words.\"\\n    },\\n    \"Identify indicators or metrics for correct sorting\": {\\n        \"Identify indicators or metrics to ensure the list is sorted correctly (e.g., checking if each word is alphabetically preceded by the previous word)\": \"The indicator is that \\'syndrome\\' should come before \\'therefrom\\' alphabetically.\"\\n    },\\n    \"Consider decision-making criteria\": {\\n        \"Consider if the sorting process involves decision-making based on specific criteria (e.g., case sensitivity, treating identical words)\": \"The sorting process does not involve case sensitivity or identical words.\"\\n    },\\n    \"Create a step-by-step plan for sorting\": {\\n        \"Create a step-by-step plan for sorting the words, implementing it with clear explanations for each stage\": \"1. Compare \\'syndrome\\' and \\'therefrom\\'. 2. Since \\'s\\' comes before \\'t\\' in the alphabet, \\'syndrome\\' should come before \\'therefrom\\'.\"\\n    },\\n    \"Sort the words step by step\": {\\n        \"Sort these words step by step\": \"1. Compare \\'syndrome\\' and \\'therefrom\\'. 2. \\'syndrome\\' comes before \\'therefrom\\' alphabetically. The sorted list is: \\'syndrome\\', \\'therefrom\\'.\"\\n    }\\n}\\n```\\n\\nThe final answer is: syndrome, therefrom',\n",
       " 'trajectory': '```json\\n{\\n    \"Identify the core task\": {\\n        \"Identify the core task: sorting words alphabetically\": \"The core task is to sort the words \\'syndrome\\' and \\'therefrom\\' alphabetically.\"\\n    },\\n    \"Analyze the list from different perspectives\": {\\n        \"Analyze the list from different perspectives (e.g., word length, prefixes, suffixes) to identify the best sorting approach\": \"The words are \\'syndrome\\' and \\'therefrom\\'. Analyzing word length, \\'syndrome\\' has 8 letters and \\'therefrom\\' has 9 letters. Analyzing initial letters, \\'syndrome\\' starts with \\'s\\' and \\'therefrom\\' starts with \\'t\\'.\"\\n    },\\n    \"Identify relevant data\": {\\n        \"Identify relevant data (e.g., word length, initial letters) and how it can be used to optimize sorting\": \"The relevant data is the initial letters of the words. \\'syndrome\\' starts with \\'s\\' and \\'therefrom\\' starts with \\'t\\'.\"\\n    },\\n    \"Generate a list of sorting algorithms\": {\\n        \"Generate a list of sorting algorithms and apply each one to the list to see which is most effective\": \"For a small list like this, a simple comparison-based sorting algorithm like bubble sort or insertion sort is sufficient.\"\\n    },\\n    \"Explore creative sorting methods\": {\\n        \"Explore creative sorting methods, such as bucket sort or radix sort, that might offer unconventional yet efficient solutions\": \"For this small list, creative sorting methods are not necessary.\"\\n    },\\n    \"Divide the list into smaller chunks\": {\\n        \"Divide the list into smaller, manageable chunks for sorting\": \"The list is already small with only two words, so no division is needed.\"\\n    },\\n    \"Design a simple test to verify the sorting process\": {\\n        \"Design a simple test to verify the sorting process for this list of words\": \"The test will be to check if the words are in alphabetical order after sorting.\"\\n    },\\n    \"Measure or evaluate the progress of the sorting process\": {\\n        \"Measure or evaluate the progress or success of the sorting process\": \"The sorting process is straightforward and can be evaluated by checking the final order of the words.\"\\n    },\\n    \"Identify indicators or metrics for correct sorting\": {\\n        \"Identify indicators or metrics to ensure the list is sorted correctly (e.g., checking if each word is alphabetically preceded by the previous word)\": \"The indicator is that \\'syndrome\\' should come before \\'therefrom\\' alphabetically.\"\\n    },\\n    \"Consider decision-making criteria\": {\\n        \"Consider if the sorting process involves decision-making based on specific criteria (e.g., case sensitivity, treating identical words)\": \"The sorting process does not involve case sensitivity or identical words.\"\\n    },\\n    \"Create a step-by-step plan for sorting\": {\\n        \"Create a step-by-step plan for sorting the words, implementing it with clear explanations for each stage\": \"1. Compare \\'syndrome\\' and \\'therefrom\\'. 2. Since \\'s\\' comes before \\'t\\' in the alphabet, \\'syndrome\\' should come before \\'therefrom\\'.\"\\n    },\\n    \"Sort the words step by step\": {\\n        \"Sort these words step by step\": \"1. Compare \\'syndrome\\' and \\'therefrom\\'. 2. \\'syndrome\\' comes before \\'therefrom\\' alphabetically. The sorted list is: \\'syndrome\\', \\'therefrom\\'.\"\\n    }\\n}\\n```',\n",
       " 'answer_pred': 'syndrome, therefrom'}"
      ]
     },
     "execution_count": 11,
     "metadata": {},
     "output_type": "execute_result"
    }
   ],
   "source": [
    "dataset[0]"
   ]
  }
 ],
 "metadata": {
  "kernelspec": {
   "display_name": "venv",
   "language": "python",
   "name": "python3"
  },
  "language_info": {
   "codemirror_mode": {
    "name": "ipython",
    "version": 3
   },
   "file_extension": ".py",
   "mimetype": "text/x-python",
   "name": "python",
   "nbconvert_exporter": "python",
   "pygments_lexer": "ipython3",
   "version": "3.12.2"
  }
 },
 "nbformat": 4,
 "nbformat_minor": 2
}
