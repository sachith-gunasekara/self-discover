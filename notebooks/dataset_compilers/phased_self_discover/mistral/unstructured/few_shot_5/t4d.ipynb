{
 "cells": [
  {
   "cell_type": "code",
   "execution_count": 1,
   "metadata": {},
   "outputs": [],
   "source": [
    "import os\n",
    "import json\n",
    "from datasets import Dataset\n",
    "from pyprojroot import here"
   ]
  },
  {
   "cell_type": "code",
   "execution_count": 2,
   "metadata": {},
   "outputs": [
    {
     "data": {
      "text/plain": [
       "'/home/ubuntu/dev/self-discover/evals/logs/phased_self_discover/mistral/unstructured/few_shot_5/t4d'"
      ]
     },
     "execution_count": 2,
     "metadata": {},
     "output_type": "execute_result"
    }
   ],
   "source": [
    "base_path = str(here(\"evals/logs/phased_self_discover/mistral/unstructured/few_shot_5/t4d\"))\n",
    "\n",
    "base_path"
   ]
  },
  {
   "cell_type": "code",
   "execution_count": 3,
   "metadata": {},
   "outputs": [
    {
     "data": {
      "text/plain": [
       "Dataset({\n",
       "    features: ['story', 'question', 'answer', 'characters', 'distracting_characters', 'self_discover_input', 'few_shot_examples', 'task_description', 'selected_modules', 'adapted_modules', 'reasoning_plan', 'reasoning', 'trajectory', 'answer_pred'],\n",
       "    num_rows: 564\n",
       "})"
      ]
     },
     "execution_count": 3,
     "metadata": {},
     "output_type": "execute_result"
    }
   ],
   "source": [
    "dataset = Dataset.load_from_disk(os.path.join(base_path, \"t4d_eval\"))\n",
    "dataset"
   ]
  },
  {
   "cell_type": "code",
   "execution_count": 4,
   "metadata": {},
   "outputs": [
    {
     "data": {
      "text/plain": [
       "{'story': 'Benjamin entered the laundry. Sophia entered the pantry. Mila entered the laundry. Benjamin loves the green pepper. Sophia exited the pantry. The lettuce is in the box. Mila hates the coat. Mila exited the laundry. Benjamin moved the lettuce to the basket. Benjamin and Mila plan to use the lettuce soon.',\n",
       " 'question': 'Who among the individuals would benefit from receiving helpful information?\\nA. Sophia\\nB. Benjamin\\nC. Mila\\nD. None of the above',\n",
       " 'answer': 'Mila',\n",
       " 'characters': ['Benjamin', 'Sophia', 'Mila'],\n",
       " 'distracting_characters': ['Sophia'],\n",
       " 'self_discover_input': 'Observation:\\nBenjamin entered the laundry. Sophia entered the pantry. Mila entered the laundry. Benjamin loves the green pepper. Sophia exited the pantry. The lettuce is in the box. Mila hates the coat. Mila exited the laundry. Benjamin moved the lettuce to the basket. Benjamin and Mila plan to use the lettuce soon.\\n\\nQuestion:\\nWho among the individuals would benefit from receiving helpful information?\\nA. Sophia\\nB. Benjamin\\nC. Mila\\nD. None of the above',\n",
       " 'few_shot_examples': 'Observation:\\nNoah entered the dining room. Logan entered the dining room. Hannah loves the underclothes. The dress is in the treasure chest. Noah hates the stockings. Noah exited the dining room. Logan moved the dress to the box. Noah and Logan plan to use the dress soon.\\n\\nQuestion:\\nWho among the individuals would benefit from receiving helpful information?\\nA. Noah\\nB. Logan\\nC. None of the above\\n--------------------\\nObservation:\\nElizabeth entered the back yard. Ethan entered the back yard. The stockings is in the box. Ethan hates the underclothes. Ethan exited the back yard. Ethan dislikes the grapes. Elizabeth moved the stockings to the pantry. Elizabeth and Ethan plan to use the stockings soon.\\n\\nQuestion:\\nWho among the individuals would benefit from receiving helpful information?\\nA. Elizabeth\\nB. Ethan\\nC. None of the above\\n--------------------\\nObservation:\\nCharlotte entered the attic. Lily entered the attic. The strawberry is in the basket. Lily exited the attic. Lily entered the den. Lucas entered the den. Charlotte moved the strawberry to the cupboard. Charlotte and Lily plan to use the strawberry soon.\\n\\nQuestion:\\nWho among the individuals would benefit from receiving helpful information?\\nA. Charlotte\\nB. Lucas\\nC. Lily\\nD. None of the above\\n--------------------\\nObservation:\\nNathan entered the porch. Mia entered the porch. The radish is in the crate. Nathan exited the porch. Mia moved the radish to the drawer. Liam entered the front yard. Mia and Nathan plan to use the radish soon.\\n\\nQuestion:\\nWho among the individuals would benefit from receiving helpful information?\\nA. Nathan\\nB. Liam\\nC. Mia\\nD. None of the above\\n--------------------\\nObservation:\\nOliver entered the cellar. Olivia entered the bedroom. Evelyn entered the bedroom. The dress is in the cupboard. Olivia exited the bedroom. Evelyn moved the dress to the crate. Evelyn exited the bedroom. Olivia entered the bedroom. Evelyn and Olivia plan to use the dress soon.\\n\\nQuestion:\\nWho among the individuals would benefit from receiving helpful information?\\nA. Evelyn\\nB. Oliver\\nC. Olivia\\nD. None of the above',\n",
       " 'task_description': 'Observation:\\nBenjamin entered the laundry. Sophia entered the pantry. Mila entered the laundry. Benjamin loves the green pepper. Sophia exited the pantry. The lettuce is in the box. Mila hates the coat. Mila exited the laundry. Benjamin moved the lettuce to the basket. Benjamin and Mila plan to use the lettuce soon.\\n\\nQuestion:\\nWho among the individuals would benefit from receiving helpful information?\\nA. Sophia\\nB. Benjamin\\nC. Mila\\nD. None of the above',\n",
       " 'selected_modules': \"1. How could I devise an experiment to help solve that problem?\\n2. Make a list of ideas for solving this problem, and apply them one by one to the problem to see if any progress can be made.\\n9. How can I break down this problem into smaller, more manageable parts?\\n10. Critical Thinking: This style involves analyzing the problem from different perspectives, questioning assumptions, and evaluating the evidence or information available. It focuses on logical reasoning, evidence-based decision-making, and identifying potential biases or flaws in thinking.\\n16. What is the core issue or problem that needs to be addressed?\\n17. What are the underlying causes or factors contributing to the problem?\\n20. Are there any relevant data or information that can provide insights into the problem? If yes, what data sources are available, and how can they be analyzed?\\n21. Are there any stakeholders or individuals who are directly affected by the problem? What are their perspectives and needs?\\n38. Let's think step by step.\\n39. Let's make a step by step plan and implement it with good notion and explanation.\",\n",
       " 'adapted_modules': \"1. **Design an Experiment**: How could I set up a hypothetical scenario to determine who would benefit from helpful information?\\n2. **Generate and Test Solutions**: List potential solutions based on the observations and test each one to see which individual would benefit from helpful information.\\n3. **Break Down the Problem**: How can I divide this task into smaller parts, such as analyzing each individual's actions and interactions?\\n4. **Critical Thinking**: Analyze the observations from different viewpoints, question assumptions about who needs information, and evaluate the evidence to support each choice.\\n5. **Identify Core Issue**: What is the main question or problem that needs to be resolved—who needs helpful information?\\n6. **Identify Underlying Factors**: What are the key actions, interactions, or plans that indicate who could benefit from helpful information?\\n7. **Gather Relevant Data**: What specific observations or details in the task provide insights into who might need helpful information, and how can these be analyzed?\\n8. **Consider Stakeholders**: Who among the individuals is directly affected by the current situation and might need helpful information based on their actions or plans?\\n9. **Step-by-Step Reasoning**: Let's think through the problem step by step, considering each individual's actions and interactions.\\n10. **Create and Implement Plan**: Let's make a step-by-step plan to analyze each individual's involvement and determine who would benefit from helpful information, explaining each step clearly.\",\n",
       " 'reasoning_plan': \"Sure, here's a step-by-step reasoning plan to determine who among the individuals would benefit from receiving helpful information:\\n\\n### Step-by-Step Reasoning Plan\\n\\n1. **Identify Core Issue**:\\n   - Determine who needs helpful information based on their actions, interactions, and plans.\\n\\n2. **Gather Relevant Data**:\\n   - List all the actions and interactions mentioned in the observation.\\n   - Note down any plans or intentions mentioned.\\n\\n3. **Break Down the Problem**:\\n   - Analyze each individual's actions and interactions separately.\\n   - Identify who is involved in the plans mentioned.\\n\\n4. **Consider Stakeholders**:\\n   - Identify who is directly affected by the current situation and the plans.\\n\\n5. **Identify Underlying Factors**:\\n   - Look for key actions, interactions, or plans that indicate who could benefit from helpful information.\\n   - Focus on actions related to moving items and plans to use those items.\\n\\n6. **Generate and Test Solutions**:\\n   - List potential solutions based on the observations.\\n   - Test each solution to see which individual would benefit from helpful information.\\n\\n7. **Critical Thinking**:\\n   - Analyze the observations from different viewpoints.\\n   - Question assumptions about who needs information.\\n   - Evaluate the evidence to support each choice.\\n\\n8. **Step-by-Step Reasoning**:\\n   - Think through the problem step by step, considering each individual's actions and interactions.\\n\\n9. **Create and Implement Plan**:\\n   - Make a step-by-step plan to analyze each individual's involvement and determine who would benefit from helpful information.\\n   - Explain each step clearly.\\n\\n### Detailed Plan\\n\\n1. **Identify Core Issue**:\\n   - The core issue is to determine who among Benjamin, Sophia, and Mila would benefit from receiving helpful information.\\n\\n2. **Gather Relevant Data**:\\n   - List all actions and interactions:\\n     - Benjamin entered the laundry.\\n     - Sophia entered the pantry.\\n     - Mila entered the laundry.\\n     - Benjamin loves the green pepper.\\n     - Sophia exited the pantry.\\n     - The lettuce is in the box.\\n     - Mila hates the coat.\\n     - Mila exited the laundry.\\n     - Benjamin moved the lettuce to the basket.\\n     - Benjamin and Mila plan to use the lettuce soon.\\n\\n3. **Break Down the Problem**:\\n   - Analyze each individual's actions and interactions:\\n     - Benjamin: Entered the laundry, loves the green pepper, moved the lettuce to the basket, plans to use the lettuce soon.\\n     - Sophia: Entered the pantry, exited the pantry.\\n     - Mila: Entered the laundry, hates the coat, exited the laundry, plans to use the lettuce soon.\\n\\n4. **Consider Stakeholders**:\\n   - Identify who is directly affected by the current situation and the plans:\\n     - Benjamin and Mila are directly affected by the plan to use the lettuce.\\n\\n5. **Identify Underlying Factors**:\\n   - Look for key actions, interactions, or plans:\\n     - Benjamin moved the lettuce to the basket.\\n     - Benjamin and Mila plan to use the lettuce soon.\\n\\n6. **Generate and Test Solutions**:\\n   - List potential solutions:\\n     - Benjamin might need information about the lettuce's new location.\\n     - Mila might need information about the lettuce's new location.\\n     - Sophia might not need any information as she is not involved in the plan.\\n   - Test each solution:\\n     - Benjamin moved the lettuce, so he knows its location.\\n     - Mila exited the laundry before Benjamin moved the lettuce, so she might not know its new location.\\n\\n7. **Critical Thinking**:\\n   - Analyze the observations from different viewpoints:\\n     - Benjamin knows the lettuce's new location because he moved it.\\n     - Mila might not know the lettuce's new location because she exited the laundry before it was moved.\\n   - Question assumptions:\\n     - Assume Mila does not know the lettuce's new location unless explicitly stated otherwise.\\n   - Evaluate the evidence:\\n     - Mila exited the laundry before Benjamin moved the lettuce, suggesting she might not know its new location.\\n\\n8. **Step-by-Step Reasoning**:\\n   - Think through the problem step by step:\\n     - Benjamin moved the lettuce after Mila exited the laundry.\\n     - Benjamin and Mila plan to use the lettuce soon.\\n     - Mila might not know the lettuce's new location.\\n\\n9. **Create and Implement Plan**:\\n   - Make a step-by-step plan:\\n     1. Identify who moved the lettuce (Benjamin).\\n     2. Identify who plans to use the lettuce (Benjamin and Mila).\\n     3. Determine if the person who plans to use the lettuce knows its new location (Mila might not know).\\n     4. Conclude who would benefit from helpful information (Mila).\\n\\nBy following this plan, an AI agent should be able to derive a solution to the given task.\",\n",
       " 'reasoning': \"1. **Identify Core Issue**:\\n   - Determine who among Benjamin, Sophia, and Mila would benefit from receiving helpful information.\\n\\n2. **Gather Relevant Data**:\\n   - List all actions and interactions:\\n     - Benjamin entered the laundry.\\n     - Sophia entered the pantry.\\n     - Mila entered the laundry.\\n     - Benjamin loves the green pepper.\\n     - Sophia exited the pantry.\\n     - The lettuce is in the box.\\n     - Mila hates the coat.\\n     - Mila exited the laundry.\\n     - Benjamin moved the lettuce to the basket.\\n     - Benjamin and Mila plan to use the lettuce soon.\\n\\n3. **Break Down the Problem**:\\n   - Analyze each individual's actions and interactions:\\n     - Benjamin: Entered the laundry, loves the green pepper, moved the lettuce to the basket, plans to use the lettuce soon.\\n     - Sophia: Entered the pantry, exited the pantry.\\n     - Mila: Entered the laundry, hates the coat, exited the laundry, plans to use the lettuce soon.\\n\\n4. **Consider Stakeholders**:\\n   - Identify who is directly affected by the current situation and the plans:\\n     - Benjamin and Mila are directly affected by the plan to use the lettuce.\\n\\n5. **Identify Underlying Factors**:\\n   - Look for key actions, interactions, or plans:\\n     - Benjamin moved the lettuce to the basket.\\n     - Benjamin and Mila plan to use the lettuce soon.\\n\\n6. **Generate and Test Solutions**:\\n   - List potential solutions:\\n     - Benjamin might need information about the lettuce's new location.\\n     - Mila might need information about the lettuce's new location.\\n     - Sophia might not need any information as she is not involved in the plan.\\n   - Test each solution:\\n     - Benjamin moved the lettuce, so he knows its location.\\n     - Mila exited the laundry before Benjamin moved the lettuce, so she might not know its new location.\\n\\n7. **Critical Thinking**:\\n   - Analyze the observations from different viewpoints:\\n     - Benjamin knows the lettuce's new location because he moved it.\\n     - Mila might not know the lettuce's new location because she exited the laundry before it was moved.\\n   - Question assumptions:\\n     - Assume Mila does not know the lettuce's new location unless explicitly stated otherwise.\\n   - Evaluate the evidence:\\n     - Mila exited the laundry before Benjamin moved the lettuce, suggesting she might not know its new location.\\n\\n8. **Step-by-Step Reasoning**:\\n   - Think through the problem step by step:\\n     - Benjamin moved the lettuce after Mila exited the laundry.\\n     - Benjamin and Mila plan to use the lettuce soon.\\n     - Mila might not know the lettuce's new location.\\n\\n9. **Create and Implement Plan**:\\n   - Make a step-by-step plan:\\n     1. Identify who moved the lettuce (Benjamin).\\n     2. Identify who plans to use the lettuce (Benjamin and Mila).\\n     3. Determine if the person who plans to use the lettuce knows its new location (Mila might not know).\\n     4. Conclude who would benefit from helpful information (Mila).\\n\\nThe final answer is C. Mila.\",\n",
       " 'trajectory': \"1. **Identify Core Issue**:\\n   - Determine who among Benjamin, Sophia, and Mila would benefit from receiving helpful information.\\n\\n2. **Gather Relevant Data**:\\n   - List all actions and interactions:\\n     - Benjamin entered the laundry.\\n     - Sophia entered the pantry.\\n     - Mila entered the laundry.\\n     - Benjamin loves the green pepper.\\n     - Sophia exited the pantry.\\n     - The lettuce is in the box.\\n     - Mila hates the coat.\\n     - Mila exited the laundry.\\n     - Benjamin moved the lettuce to the basket.\\n     - Benjamin and Mila plan to use the lettuce soon.\\n\\n3. **Break Down the Problem**:\\n   - Analyze each individual's actions and interactions:\\n     - Benjamin: Entered the laundry, loves the green pepper, moved the lettuce to the basket, plans to use the lettuce soon.\\n     - Sophia: Entered the pantry, exited the pantry.\\n     - Mila: Entered the laundry, hates the coat, exited the laundry, plans to use the lettuce soon.\\n\\n4. **Consider Stakeholders**:\\n   - Identify who is directly affected by the current situation and the plans:\\n     - Benjamin and Mila are directly affected by the plan to use the lettuce.\\n\\n5. **Identify Underlying Factors**:\\n   - Look for key actions, interactions, or plans:\\n     - Benjamin moved the lettuce to the basket.\\n     - Benjamin and Mila plan to use the lettuce soon.\\n\\n6. **Generate and Test Solutions**:\\n   - List potential solutions:\\n     - Benjamin might need information about the lettuce's new location.\\n     - Mila might need information about the lettuce's new location.\\n     - Sophia might not need any information as she is not involved in the plan.\\n   - Test each solution:\\n     - Benjamin moved the lettuce, so he knows its location.\\n     - Mila exited the laundry before Benjamin moved the lettuce, so she might not know its new location.\\n\\n7. **Critical Thinking**:\\n   - Analyze the observations from different viewpoints:\\n     - Benjamin knows the lettuce's new location because he moved it.\\n     - Mila might not know the lettuce's new location because she exited the laundry before it was moved.\\n   - Question assumptions:\\n     - Assume Mila does not know the lettuce's new location unless explicitly stated otherwise.\\n   - Evaluate the evidence:\\n     - Mila exited the laundry before Benjamin moved the lettuce, suggesting she might not know its new location.\\n\\n8. **Step-by-Step Reasoning**:\\n   - Think through the problem step by step:\\n     - Benjamin moved the lettuce after Mila exited the laundry.\\n     - Benjamin and Mila plan to use the lettuce soon.\\n     - Mila might not know the lettuce's new location.\\n\\n9. **Create and Implement Plan**:\\n   - Make a step-by-step plan:\\n     1. Identify who moved the lettuce (Benjamin).\\n     2. Identify who plans to use the lettuce (Benjamin and Mila).\\n     3. Determine if the person who plans to use the lettuce knows its new location (Mila might not know).\\n     4. Conclude who would benefit from helpful information (Mila).\",\n",
       " 'answer_pred': 'C. Mila.'}"
      ]
     },
     "execution_count": 4,
     "metadata": {},
     "output_type": "execute_result"
    }
   ],
   "source": [
    "dataset[0]"
   ]
  },
  {
   "cell_type": "code",
   "execution_count": null,
   "metadata": {},
   "outputs": [],
   "source": [
    "from huggingface_hub import login\n",
    "login(\"\")"
   ]
  },
  {
   "cell_type": "code",
   "execution_count": 6,
   "metadata": {},
   "outputs": [
    {
     "data": {
      "application/vnd.jupyter.widget-view+json": {
       "model_id": "f874f64b9f3f4c348d26c53f7978304b",
       "version_major": 2,
       "version_minor": 0
      },
      "text/plain": [
       "Uploading the dataset shards:   0%|          | 0/1 [00:00<?, ?it/s]"
      ]
     },
     "metadata": {},
     "output_type": "display_data"
    },
    {
     "data": {
      "application/vnd.jupyter.widget-view+json": {
       "model_id": "23e84567e93a4a6a9ed768f74565bab4",
       "version_major": 2,
       "version_minor": 0
      },
      "text/plain": [
       "Creating parquet from Arrow format:   0%|          | 0/1 [00:00<?, ?ba/s]"
      ]
     },
     "metadata": {},
     "output_type": "display_data"
    },
    {
     "data": {
      "text/plain": [
       "CommitInfo(commit_url='https://huggingface.co/datasets/sachithgunasekara/phased-self-discover-mistral-unstructured-5-shot-t4d-eval/commit/f425aa3c6ffe58f576ae84652fc37506dc8490f9', commit_message='Upload dataset', commit_description='', oid='f425aa3c6ffe58f576ae84652fc37506dc8490f9', pr_url=None, repo_url=RepoUrl('https://huggingface.co/datasets/sachithgunasekara/phased-self-discover-mistral-unstructured-5-shot-t4d-eval', endpoint='https://huggingface.co', repo_type='dataset', repo_id='sachithgunasekara/phased-self-discover-mistral-unstructured-5-shot-t4d-eval'), pr_revision=None, pr_num=None)"
      ]
     },
     "execution_count": 6,
     "metadata": {},
     "output_type": "execute_result"
    }
   ],
   "source": [
    "dataset.push_to_hub(\"sachithgunasekara/phased-self-discover-mistral-unstructured-5-shot-t4d-eval\")"
   ]
  }
 ],
 "metadata": {
  "kernelspec": {
   "display_name": "Python 3 (ipykernel)",
   "language": "python",
   "name": "python3"
  },
  "language_info": {
   "codemirror_mode": {
    "name": "ipython",
    "version": 3
   },
   "file_extension": ".py",
   "mimetype": "text/x-python",
   "name": "python",
   "nbconvert_exporter": "python",
   "pygments_lexer": "ipython3",
   "version": "3.10.16"
  }
 },
 "nbformat": 4,
 "nbformat_minor": 2
}
