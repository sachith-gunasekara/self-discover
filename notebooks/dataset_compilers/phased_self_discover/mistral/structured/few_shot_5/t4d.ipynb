{
 "cells": [
  {
   "cell_type": "code",
   "execution_count": 1,
   "metadata": {},
   "outputs": [],
   "source": [
    "import os\n",
    "import json\n",
    "from datasets import Dataset\n",
    "from pyprojroot import here"
   ]
  },
  {
   "cell_type": "code",
   "execution_count": 2,
   "metadata": {},
   "outputs": [
    {
     "data": {
      "text/plain": [
       "'/home/ubuntu/dev/self-discover/evals/logs/phased_self_discover/mistral/structured/few_shot_5/t4d'"
      ]
     },
     "execution_count": 2,
     "metadata": {},
     "output_type": "execute_result"
    }
   ],
   "source": [
    "base_path = str(here(\"evals/logs/phased_self_discover/mistral/structured/few_shot_5/t4d\"))\n",
    "\n",
    "base_path"
   ]
  },
  {
   "cell_type": "code",
   "execution_count": 3,
   "metadata": {},
   "outputs": [
    {
     "data": {
      "text/plain": [
       "Dataset({\n",
       "    features: ['story', 'question', 'answer', 'characters', 'distracting_characters', 'self_discover_input', 'few_shot_examples', 'task_description', 'selected_modules', 'adapted_modules', 'reasoning_plan', 'reasoning', 'trajectory', 'answer_pred'],\n",
       "    num_rows: 564\n",
       "})"
      ]
     },
     "execution_count": 3,
     "metadata": {},
     "output_type": "execute_result"
    }
   ],
   "source": [
    "dataset = Dataset.load_from_disk(os.path.join(base_path, \"t4d_eval\"))\n",
    "dataset"
   ]
  },
  {
   "cell_type": "code",
   "execution_count": 4,
   "metadata": {},
   "outputs": [
    {
     "data": {
      "text/plain": [
       "{'story': 'Benjamin entered the laundry. Sophia entered the pantry. Mila entered the laundry. Benjamin loves the green pepper. Sophia exited the pantry. The lettuce is in the box. Mila hates the coat. Mila exited the laundry. Benjamin moved the lettuce to the basket. Benjamin and Mila plan to use the lettuce soon.',\n",
       " 'question': 'Who among the individuals would benefit from receiving helpful information?\\nA. Sophia\\nB. Benjamin\\nC. Mila\\nD. None of the above',\n",
       " 'answer': 'Mila',\n",
       " 'characters': ['Benjamin', 'Sophia', 'Mila'],\n",
       " 'distracting_characters': ['Sophia'],\n",
       " 'self_discover_input': 'Observation:\\nBenjamin entered the laundry. Sophia entered the pantry. Mila entered the laundry. Benjamin loves the green pepper. Sophia exited the pantry. The lettuce is in the box. Mila hates the coat. Mila exited the laundry. Benjamin moved the lettuce to the basket. Benjamin and Mila plan to use the lettuce soon.\\n\\nQuestion:\\nWho among the individuals would benefit from receiving helpful information?\\nA. Sophia\\nB. Benjamin\\nC. Mila\\nD. None of the above',\n",
       " 'few_shot_examples': 'Observation:\\nJayden entered the porch. Hunter entered the hall. Ethan entered the hall. The jeans is in the crate. Ethan hates the lemon. Hunter exited the hall. Ethan moved the jeans to the pantry. Hunter and Ethan plan to use the jeans soon.\\n\\nQuestion:\\nWho among the individuals would benefit from receiving helpful information?\\nA. Hunter\\nB. Jayden\\nC. Ethan\\nD. None of the above\\n--------------------\\nObservation:\\nMia entered the bathroom. Ava entered the bathroom. The green pepper is in the container. Mia exited the bathroom. Jack hates the underclothes. Ava moved the green pepper to the pantry. Ava and Mia plan to use the green soon.\\n\\nQuestion:\\nWho among the individuals would benefit from receiving helpful information?\\nA. Mia\\nB. Ava\\nC. None of the above\\n--------------------\\nObservation:\\nAvery entered the crawlspace. Olivia entered the crawlspace. The tie is in the bathtub. Olivia exited the crawlspace. Avery moved the tie to the treasure chest. Olivia and Avery plan to use the tie soon.\\n\\nQuestion:\\nWho among the individuals would benefit from receiving helpful information?\\nA. Olivia\\nB. Avery\\nC. None of the above\\n--------------------\\nObservation:\\nCarter entered the kitchen. Sophia entered the kitchen. The onion is in the cupboard. Ava entered the kitchen. Sophia exited the kitchen. Ava exited the kitchen. Carter moved the onion to the treasure chest. Sophia and Carter plan to use the onion soon.\\n\\nQuestion:\\nWho among the individuals would benefit from receiving helpful information?\\nA. Carter\\nB. Ava\\nC. Sophia\\nD. None of the above\\n--------------------\\nObservation:\\nEvelyn entered the laundry. Hannah entered the laundry. The hat is in the cupboard. Hannah dislikes the pajamas. Hannah exited the laundry. Evelyn moved the hat to the crate. Evelyn exited the laundry. Hannah entered the back yard. Evelyn and Hannah plan to use the hat soon.\\n\\nQuestion:\\nWho among the individuals would benefit from receiving helpful information?\\nA. Hannah\\nB. Evelyn\\nC. None of the above',\n",
       " 'task_description': 'Observation:\\nBenjamin entered the laundry. Sophia entered the pantry. Mila entered the laundry. Benjamin loves the green pepper. Sophia exited the pantry. The lettuce is in the box. Mila hates the coat. Mila exited the laundry. Benjamin moved the lettuce to the basket. Benjamin and Mila plan to use the lettuce soon.\\n\\nQuestion:\\nWho among the individuals would benefit from receiving helpful information?\\nA. Sophia\\nB. Benjamin\\nC. Mila\\nD. None of the above',\n",
       " 'selected_modules': \"16 What is the core issue or problem that needs to be addressed?\\n17 What are the underlying causes or factors contributing to the problem?\\n21 What are the potential obstacles or challenges that might arise in solving this problem?\\n28 Does the problem involve decision-making or planning, where choices need to be made under uncertainty or with competing objectives?\\n38 Let's think step by step.\\n39 Let's make a step by step plan and implement it with good notion and explanation.\",\n",
       " 'adapted_modules': \"16 Identify the core issue or problem: Who needs to be informed about the current status and plans regarding the items and locations?\\n17 Determine the underlying causes or factors: What actions and plans have been made by the individuals that might necessitate communication?\\n21 Identify potential obstacles or challenges: What information gaps or misunderstandings might arise due to the movements and plans of the individuals?\\n28 Assess decision-making or planning needs: Are there any uncertainties or competing objectives in the plans that require coordination or information sharing?\\n38 Break down the task step by step: Analyze each individual's actions, the item's movements, and the stated plans.\\n39 Create and implement a step-by-step plan: Evaluate who would benefit from receiving information based on their involvement in the plans and their current knowledge of the situation.\",\n",
       " 'reasoning_plan': 'Certainly! Here is a step-by-step reasoning plan in JSON format for determining who among the individuals would benefit from receiving helpful information:\\n\\n```json\\n{\\n    \"Step 1: Identify the core issue or problem\": {\\n        \"Description\": \"Determine who needs to be informed about the current status and plans regarding the items and locations.\",\\n        \"Action\": \"List all individuals involved and their actions.\"\\n    },\\n    \"Step 2: Determine the underlying causes or factors\": {\\n        \"Description\": \"Identify the actions and plans made by the individuals that might necessitate communication.\",\\n        \"Action\": \"Analyze each individual\\'s actions and plans related to the items and locations.\"\\n    },\\n    \"Step 3: Identify potential obstacles or challenges\": {\\n        \"Description\": \"Identify information gaps or misunderstandings that might arise due to the movements and plans of the individuals.\",\\n        \"Action\": \"Note any potential misunderstandings or lack of information that could affect the plans.\"\\n    },\\n    \"Step 4: Assess decision-making or planning needs\": {\\n        \"Description\": \"Evaluate if there are any uncertainties or competing objectives in the plans that require coordination or information sharing.\",\\n        \"Action\": \"Check for any uncertainties or competing objectives that might require communication.\"\\n    },\\n    \"Step 5: Break down the task step by step\": {\\n        \"Description\": \"Analyze each individual\\'s actions, the item\\'s movements, and the stated plans.\",\\n        \"Action\": \"Create a timeline of events and actions taken by each individual.\"\\n    },\\n    \"Step 6: Create and implement a step-by-step plan\": {\\n        \"Description\": \"Evaluate who would benefit from receiving information based on their involvement in the plans and their current knowledge of the situation.\",\\n        \"Action\": \"Determine which individuals need to be informed to ensure smooth execution of the plans.\"\\n    },\\n    \"Step 7: Evaluate the final decision\": {\\n        \"Description\": \"Based on the analysis, decide who among the individuals would benefit from receiving helpful information.\",\\n        \"Action\": \"Make a final decision on who needs to be informed.\"\\n    }\\n}\\n```\\n\\nThis plan provides a structured approach to analyze the observations and determine who would benefit from receiving helpful information. Each step outlines a specific action to be taken, ensuring a thorough evaluation of the situation.',\n",
       " 'reasoning': '```json\\n{\\n    \"Step 1: Identify the core issue or problem\": {\\n        \"Description\": \"Determine who needs to be informed about the current status and plans regarding the items and locations.\",\\n        \"Action\": \"List all individuals involved and their actions.\"\\n    },\\n    \"Step 2: Determine the underlying causes or factors\": {\\n        \"Description\": \"Identify the actions and plans made by the individuals that might necessitate communication.\",\\n        \"Action\": \"Analyze each individual\\'s actions and plans related to the items and locations.\",\\n        \"Details\": {\\n            \"Benjamin\": \"Entered the laundry, loves the green pepper, moved the lettuce to the basket, plans to use the lettuce soon.\",\\n            \"Sophia\": \"Entered and exited the pantry.\",\\n            \"Mila\": \"Entered and exited the laundry, hates the coat, plans to use the lettuce soon.\"\\n        }\\n    },\\n    \"Step 3: Identify potential obstacles or challenges\": {\\n        \"Description\": \"Identify information gaps or misunderstandings that might arise due to the movements and plans of the individuals.\",\\n        \"Action\": \"Note any potential misunderstandings or lack of information that could affect the plans.\",\\n        \"Details\": \"Benjamin and Mila plan to use the lettuce soon, but Sophia might not be aware of this plan.\"\\n    },\\n    \"Step 4: Assess decision-making or planning needs\": {\\n        \"Description\": \"Evaluate if there are any uncertainties or competing objectives in the plans that require coordination or information sharing.\",\\n        \"Action\": \"Check for any uncertainties or competing objectives that might require communication.\",\\n        \"Details\": \"There are no competing objectives, but Sophia might not know about the plans involving the lettuce.\"\\n    },\\n    \"Step 5: Break down the task step by step\": {\\n        \"Description\": \"Analyze each individual\\'s actions, the item\\'s movements, and the stated plans.\",\\n        \"Action\": \"Create a timeline of events and actions taken by each individual.\",\\n        \"Details\": {\\n            \"1. Benjamin entered the laundry.\",\\n            \"2. Sophia entered the pantry.\",\\n            \"3. Mila entered the laundry.\",\\n            \"4. Benjamin loves the green pepper.\",\\n            \"5. Sophia exited the pantry.\",\\n            \"6. The lettuce is in the box.\",\\n            \"7. Mila hates the coat.\",\\n            \"8. Mila exited the laundry.\",\\n            \"9. Benjamin moved the lettuce to the basket.\",\\n            \"10. Benjamin and Mila plan to use the lettuce soon.\"\\n        }\\n    },\\n    \"Step 6: Create and implement a step-by-step plan\": {\\n        \"Description\": \"Evaluate who would benefit from receiving information based on their involvement in the plans and their current knowledge of the situation.\",\\n        \"Action\": \"Determine which individuals need to be informed to ensure smooth execution of the plans.\",\\n        \"Details\": \"Sophia would benefit from knowing about the plans involving the lettuce since she might not be aware of them.\"\\n    },\\n    \"Step 7: Evaluate the final decision\": {\\n        \"Description\": \"Based on the analysis, decide who among the individuals would benefit from receiving helpful information.\",\\n        \"Action\": \"Make a final decision on who needs to be informed.\",\\n        \"Final Decision\": \"A. Sophia\"\\n    }\\n}\\n```\\n\\nThe final answer is A. Sophia.',\n",
       " 'trajectory': '```json\\n{\\n    \"Step 1: Identify the core issue or problem\": {\\n        \"Description\": \"Determine who needs to be informed about the current status and plans regarding the items and locations.\",\\n        \"Action\": \"List all individuals involved and their actions.\"\\n    },\\n    \"Step 2: Determine the underlying causes or factors\": {\\n        \"Description\": \"Identify the actions and plans made by the individuals that might necessitate communication.\",\\n        \"Action\": \"Analyze each individual\\'s actions and plans related to the items and locations.\",\\n        \"Details\": {\\n            \"Benjamin\": \"Entered the laundry, loves the green pepper, moved the lettuce to the basket, plans to use the lettuce soon.\",\\n            \"Sophia\": \"Entered and exited the pantry.\",\\n            \"Mila\": \"Entered and exited the laundry, hates the coat, plans to use the lettuce soon.\"\\n        }\\n    },\\n    \"Step 3: Identify potential obstacles or challenges\": {\\n        \"Description\": \"Identify information gaps or misunderstandings that might arise due to the movements and plans of the individuals.\",\\n        \"Action\": \"Note any potential misunderstandings or lack of information that could affect the plans.\",\\n        \"Details\": \"Benjamin and Mila plan to use the lettuce soon, but Sophia might not be aware of this plan.\"\\n    },\\n    \"Step 4: Assess decision-making or planning needs\": {\\n        \"Description\": \"Evaluate if there are any uncertainties or competing objectives in the plans that require coordination or information sharing.\",\\n        \"Action\": \"Check for any uncertainties or competing objectives that might require communication.\",\\n        \"Details\": \"There are no competing objectives, but Sophia might not know about the plans involving the lettuce.\"\\n    },\\n    \"Step 5: Break down the task step by step\": {\\n        \"Description\": \"Analyze each individual\\'s actions, the item\\'s movements, and the stated plans.\",\\n        \"Action\": \"Create a timeline of events and actions taken by each individual.\",\\n        \"Details\": {\\n            \"1. Benjamin entered the laundry.\",\\n            \"2. Sophia entered the pantry.\",\\n            \"3. Mila entered the laundry.\",\\n            \"4. Benjamin loves the green pepper.\",\\n            \"5. Sophia exited the pantry.\",\\n            \"6. The lettuce is in the box.\",\\n            \"7. Mila hates the coat.\",\\n            \"8. Mila exited the laundry.\",\\n            \"9. Benjamin moved the lettuce to the basket.\",\\n            \"10. Benjamin and Mila plan to use the lettuce soon.\"\\n        }\\n    },\\n    \"Step 6: Create and implement a step-by-step plan\": {\\n        \"Description\": \"Evaluate who would benefit from receiving information based on their involvement in the plans and their current knowledge of the situation.\",\\n        \"Action\": \"Determine which individuals need to be informed to ensure smooth execution of the plans.\",\\n        \"Details\": \"Sophia would benefit from knowing about the plans involving the lettuce since she might not be aware of them.\"\\n    },\\n    \"Step 7: Evaluate the final decision\": {\\n        \"Description\": \"Based on the analysis, decide who among the individuals would benefit from receiving helpful information.\",\\n        \"Action\": \"Make a final decision on who needs to be informed.\",\\n        \"Final Decision\": \"A. Sophia\"\\n    }\\n}\\n```',\n",
       " 'answer_pred': 'A. Sophia.'}"
      ]
     },
     "execution_count": 4,
     "metadata": {},
     "output_type": "execute_result"
    }
   ],
   "source": [
    "dataset[0]"
   ]
  },
  {
   "cell_type": "code",
   "execution_count": null,
   "metadata": {},
   "outputs": [],
   "source": [
    "from huggingface_hub import login\n",
    "login(\"\")"
   ]
  },
  {
   "cell_type": "code",
   "execution_count": 5,
   "metadata": {},
   "outputs": [
    {
     "data": {
      "application/vnd.jupyter.widget-view+json": {
       "model_id": "a1a6432bde8847e080ff2ff98dfb1085",
       "version_major": 2,
       "version_minor": 0
      },
      "text/plain": [
       "Uploading the dataset shards:   0%|          | 0/1 [00:00<?, ?it/s]"
      ]
     },
     "metadata": {},
     "output_type": "display_data"
    },
    {
     "data": {
      "application/vnd.jupyter.widget-view+json": {
       "model_id": "6d3323399c4f47758e1eb00b0086cdce",
       "version_major": 2,
       "version_minor": 0
      },
      "text/plain": [
       "Creating parquet from Arrow format:   0%|          | 0/1 [00:00<?, ?ba/s]"
      ]
     },
     "metadata": {},
     "output_type": "display_data"
    },
    {
     "data": {
      "text/plain": [
       "CommitInfo(commit_url='https://huggingface.co/datasets/sachithgunasekara/phased-self-discover-mistral-structured-5-shot-t4d-eval/commit/a765fa33fa1655ae0dfb48052f5d1dd6dafa207a', commit_message='Upload dataset', commit_description='', oid='a765fa33fa1655ae0dfb48052f5d1dd6dafa207a', pr_url=None, repo_url=RepoUrl('https://huggingface.co/datasets/sachithgunasekara/phased-self-discover-mistral-structured-5-shot-t4d-eval', endpoint='https://huggingface.co', repo_type='dataset', repo_id='sachithgunasekara/phased-self-discover-mistral-structured-5-shot-t4d-eval'), pr_revision=None, pr_num=None)"
      ]
     },
     "execution_count": 5,
     "metadata": {},
     "output_type": "execute_result"
    }
   ],
   "source": [
    "dataset.push_to_hub(\"sachithgunasekara/phased-self-discover-mistral-structured-5-shot-t4d-eval\")"
   ]
  }
 ],
 "metadata": {
  "kernelspec": {
   "display_name": "Python 3 (ipykernel)",
   "language": "python",
   "name": "python3"
  },
  "language_info": {
   "codemirror_mode": {
    "name": "ipython",
    "version": 3
   },
   "file_extension": ".py",
   "mimetype": "text/x-python",
   "name": "python",
   "nbconvert_exporter": "python",
   "pygments_lexer": "ipython3",
   "version": "3.10.16"
  }
 },
 "nbformat": 4,
 "nbformat_minor": 2
}
