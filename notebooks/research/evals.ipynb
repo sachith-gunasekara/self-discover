{
 "cells": [
  {
   "cell_type": "code",
   "execution_count": 15,
   "metadata": {},
   "outputs": [
    {
     "data": {
      "text/plain": [
       "Dataset({\n",
       "    features: ['story', 'question', 'answer', 'characters', 'distracting_characters', 'self_discover_input', 'reasoning_structure', 'reasoning', 'trajectory', 'answer_pred'],\n",
       "    num_rows: 564\n",
       "})"
      ]
     },
     "execution_count": 15,
     "metadata": {},
     "output_type": "execute_result"
    }
   ],
   "source": [
    "from datasets import Dataset\n",
    "from pyprojroot import here\n",
    "\n",
    "dataset = Dataset.load_from_disk(here('evals/logs/mistral/phaseII/t4d/t4d-/t4d_eval'))\n",
    "dataset"
   ]
  },
  {
   "cell_type": "code",
   "execution_count": 25,
   "metadata": {},
   "outputs": [
    {
     "data": {
      "text/plain": [
       "{'story': 'Isabella entered the pantry. Emily entered the pantry. Sophia entered the attic. Sophia loves the carrot. The t-shirt is in the envelope. Sophia exited the attic. Isabella exited the pantry. Emily moved the t-shirt to the container. Isabella and Emily plan to use the t-shirt soon.',\n",
       " 'question': 'Who among the individuals would benefit from receiving helpful information?\\nA. Sophia\\nB. Isabella\\nC. Emily\\nD. None of the above',\n",
       " 'answer': 'Isabella',\n",
       " 'characters': ['Isabella', 'Emily', 'Sophia'],\n",
       " 'distracting_characters': ['Sophia'],\n",
       " 'self_discover_input': 'Observation:\\nIsabella entered the pantry. Emily entered the pantry. Sophia entered the attic. Sophia loves the carrot. The t-shirt is in the envelope. Sophia exited the attic. Isabella exited the pantry. Emily moved the t-shirt to the container. Isabella and Emily plan to use the t-shirt soon.\\n\\nQuestion:\\nWho among the individuals would benefit from receiving helpful information?\\nA. Sophia\\nB. Isabella\\nC. Emily\\nD. None of the above',\n",
       " 'reasoning_structure': 'n',\n",
       " 'reasoning': '```json\\n{\\n    \"Identify the core task\": {\\n        \"Determine the main question or task that needs to be answered or solved: Who among the individuals would benefit from receiving helpful information?\"\\n    },\\n    \"Understand the context\": {\\n        \"Identify the key events and actions described in the observation that are relevant to the task: Isabella and Emily entered and exited the pantry, Sophia entered and exited the attic, Sophia loves the carrot, the t-shirt is moved from the envelope to the container, Isabella and Emily plan to use the t-shirt soon.\"\\n    },\\n    \"Break down the observation\": {\\n        \"Segment the observation into smaller, sequential, or categorical parts to analyze it more effectively: 1. Isabella entered the pantry. 2. Emily entered the pantry. 3. Sophia entered the attic. 4. Sophia loves the carrot. 5. The t-shirt is in the envelope. 6. Sophia exited the attic. 7. Isabella exited the pantry. 8. Emily moved the t-shirt to the container. 9. Isabella and Emily plan to use the t-shirt soon.\"\\n    },\\n    \"Identify relevant individuals\": {\\n        \"Determine who are the individuals directly involved in or affected by the task or plan mentioned in the observation: Isabella, Emily, Sophia.\"\\n    },\\n    \"Analyze perspectives\": {\\n        \"Consider the actions, plans, and preferences of each individual mentioned in the observation. Question any assumptions about their knowledge or intentions: Isabella and Emily are planning to use the t-shirt soon, so they need to know its current location. Sophia\\'s actions are unrelated to the t-shirt.\"\\n    },\\n    \"Define useful information\": {\\n        \"Determine what information would be beneficial for an individual to know to facilitate their plans or tasks: The current location of the t-shirt is useful information for Isabella and Emily.\"\\n    },\\n    \"Establish relevance\": {\\n        \"Identify details from the observation that are relevant to the task and could serve as helpful information for the identified individuals: The t-shirt is moved to the container by Emily.\"\\n    },\\n    \"Evaluate uncertainty\": {\\n        \"Assess if the task involves decisions or plans that could be affected by unknown factors or competing objectives among the individuals: There is no indication of competing objectives or unknown factors affecting the use of the t-shirt.\"\\n    },\\n    \"Sequentially process\": {\\n        \"Analyze the observation step by step, considering each individual\\'s actions and the task\\'s requirements: Isabella and Emily need to know the t-shirt\\'s location to use it soon. Emily moved the t-shirt to the container, so Isabella needs to be informed of this change.\"\\n    },\\n    \"Formulate a solution\": {\\n        \"Create a step-by-step plan to determine who would benefit from receiving helpful information, supported by clear reasoning: Isabella would benefit from knowing that the t-shirt has been moved to the container, as she plans to use it soon.\"\\n    }\\n}\\n```\\n\\nThe final answer is B. Isabella.',\n",
       " 'trajectory': '```json\\n{\\n    \"Identify the core task\": {\\n        \"Determine the main question or task that needs to be answered or solved: Who among the individuals would benefit from receiving helpful information?\"\\n    },\\n    \"Understand the context\": {\\n        \"Identify the key events and actions described in the observation that are relevant to the task: Isabella and Emily entered and exited the pantry, Sophia entered and exited the attic, Sophia loves the carrot, the t-shirt is moved from the envelope to the container, Isabella and Emily plan to use the t-shirt soon.\"\\n    },\\n    \"Break down the observation\": {\\n        \"Segment the observation into smaller, sequential, or categorical parts to analyze it more effectively: 1. Isabella entered the pantry. 2. Emily entered the pantry. 3. Sophia entered the attic. 4. Sophia loves the carrot. 5. The t-shirt is in the envelope. 6. Sophia exited the attic. 7. Isabella exited the pantry. 8. Emily moved the t-shirt to the container. 9. Isabella and Emily plan to use the t-shirt soon.\"\\n    },\\n    \"Identify relevant individuals\": {\\n        \"Determine who are the individuals directly involved in or affected by the task or plan mentioned in the observation: Isabella, Emily, Sophia.\"\\n    },\\n    \"Analyze perspectives\": {\\n        \"Consider the actions, plans, and preferences of each individual mentioned in the observation. Question any assumptions about their knowledge or intentions: Isabella and Emily are planning to use the t-shirt soon, so they need to know its current location. Sophia\\'s actions are unrelated to the t-shirt.\"\\n    },\\n    \"Define useful information\": {\\n        \"Determine what information would be beneficial for an individual to know to facilitate their plans or tasks: The current location of the t-shirt is useful information for Isabella and Emily.\"\\n    },\\n    \"Establish relevance\": {\\n        \"Identify details from the observation that are relevant to the task and could serve as helpful information for the identified individuals: The t-shirt is moved to the container by Emily.\"\\n    },\\n    \"Evaluate uncertainty\": {\\n        \"Assess if the task involves decisions or plans that could be affected by unknown factors or competing objectives among the individuals: There is no indication of competing objectives or unknown factors affecting the use of the t-shirt.\"\\n    },\\n    \"Sequentially process\": {\\n        \"Analyze the observation step by step, considering each individual\\'s actions and the task\\'s requirements: Isabella and Emily need to know the t-shirt\\'s location to use it soon. Emily moved the t-shirt to the container, so Isabella needs to be informed of this change.\"\\n    },\\n    \"Formulate a solution\": {\\n        \"Create a step-by-step plan to determine who would benefit from receiving helpful information, supported by clear reasoning: Isabella would benefit from knowing that the t-shirt has been moved to the container, as she plans to use it soon.\"\\n    }\\n}\\n```',\n",
       " 'answer_pred': 'B. Isabella.'}"
      ]
     },
     "execution_count": 25,
     "metadata": {},
     "output_type": "execute_result"
    }
   ],
   "source": [
    "dataset[16]"
   ]
  },
  {
   "cell_type": "code",
   "execution_count": 29,
   "metadata": {},
   "outputs": [
    {
     "name": "stderr",
     "output_type": "stream",
     "text": [
      "564it [00:00, 188869.26it/s]"
     ]
    },
    {
     "name": "stdout",
     "output_type": "stream",
     "text": [
      "Lily B. Carter.\n",
      "Benjamin B. Aiden.\n",
      "Ethan B. Elizabeth.\n",
      "Evelyn A. William.\n",
      "Mila B. Benjamin.\n",
      "Jayden A. Charlotte.\n",
      "Hannah B. Nathan.\n",
      "Jayden B. Jayden.\"\n",
      "Noah B. Jacob.\n",
      "Ava C. Avery.\n",
      "Ethan C. Olivia.\n",
      "Abigail A. Mila.\n",
      "Amelia B. Lily.\n",
      "Emily A. Hunter.\n",
      "Ethan A. Ava.\n",
      "Owen B. Noah.\n",
      "Liam D. None of the above.\n",
      "Jack B. Abigail.\n",
      "Oliver A. Lily.\n",
      "====================================================================================================\n",
      "545\n",
      "0.9663120567375887\n"
     ]
    },
    {
     "name": "stderr",
     "output_type": "stream",
     "text": [
      "\n"
     ]
    }
   ],
   "source": [
    "from tqdm import tqdm\n",
    "\n",
    "t4d = (\n",
    "    lambda y_i, y_pred_i: y_pred_i\n",
    "    and y_i in y_pred_i\n",
    "    and y_i == str(y_pred_i.translate(str.maketrans(\"\", \"\", \".\"))[2:])\n",
    ")\n",
    "\n",
    "correct = 0\n",
    "for y_i, y_pred_i in tqdm(zip(dataset[\"answer\"], dataset[\"answer_pred\"])):\n",
    "    eval_fn = t4d\n",
    "\n",
    "    if eval_fn(y_i, y_pred_i):\n",
    "        correct += 1\n",
    "    else:\n",
    "        print(y_i, y_pred_i)\n",
    "\n",
    "print(\"=\"*100)\n",
    "print(correct)\n",
    "print(correct / dataset.num_rows)"
   ]
  },
  {
   "cell_type": "code",
   "execution_count": 30,
   "metadata": {},
   "outputs": [
    {
     "name": "stderr",
     "output_type": "stream",
     "text": [
      "Calculating accuracy: 564it [00:00, 288944.36it/s]\n"
     ]
    },
    {
     "data": {
      "text/plain": [
       "0.9663120567375887"
      ]
     },
     "execution_count": 30,
     "metadata": {},
     "output_type": "execute_result"
    }
   ],
   "source": [
    "t4d = (\n",
    "    lambda y_i, y_pred_i: y_pred_i\n",
    "    and y_i in y_pred_i\n",
    "    and y_i == str(y_pred_i.translate(str.maketrans(\"\", \"\", \".\"))[2:])\n",
    ")\n",
    "bbh = lambda y_i, y_pred_i: y_pred_i and y_i.translate(\n",
    "    str.maketrans(\"\", \"\", \"()\")\n",
    ") == y_pred_i.translate(str.maketrans(\"\", \"\", '.()\"'))\n",
    "\n",
    "\n",
    "def calculate_accuracy(benchmark, y: list[str], y_pred: list[str]):\n",
    "    correct_preds = 0\n",
    "    for y_i, y_pred_i in tqdm(zip(y, y_pred), desc=\"Calculating accuracy\"):\n",
    "        if benchmark == \"t4d\":\n",
    "            eval_fn = t4d\n",
    "        elif benchmark == \"bbh\":\n",
    "            eval_fn = bbh\n",
    "\n",
    "        if eval_fn(y_i, y_pred_i):\n",
    "            correct_preds += 1\n",
    "    return correct_preds / len(y_pred)\n",
    "\n",
    "calculate_accuracy(\"t4d\", dataset[\"answer\"], dataset[\"answer_pred\"])"
   ]
  },
  {
   "cell_type": "code",
   "execution_count": 17,
   "metadata": {},
   "outputs": [
    {
     "name": "stdout",
     "output_type": "stream",
     "text": [
      "Observation:\n",
      "Nathan entered the porch. Mia entered the porch. The radish is in the crate. Nathan exited the porch. Mia moved the radish to the drawer. Liam entered the front yard. Nathan and Mia plan to use the radish soon.\n",
      "\n",
      "Question:\n",
      "Who among the individuals would benefit from receiving helpful information?\n",
      "A. Mia\n",
      "B. Nathan\n",
      "C. Liam\n",
      "D. None of the above\n"
     ]
    }
   ],
   "source": [
    "print(dataset[0][\"self_discover_input\"])"
   ]
  },
  {
   "cell_type": "code",
   "execution_count": 20,
   "metadata": {},
   "outputs": [
    {
     "name": "stdout",
     "output_type": "stream",
     "text": [
      "```json\n",
      "{\n",
      "    \"Identify the core task\": {\n",
      "        \"Determine the main question or task that needs to be answered or solved:\": \"Determine who among the individuals would benefit from receiving helpful information.\"\n",
      "    },\n",
      "    \"Understand the context\": {\n",
      "        \"Identify the key events and actions described in the observation that are relevant to the task:\": \"Nathan and Mia enter the porch, Nathan exits, Mia moves the radish, Liam enters the front yard, Nathan and Mia plan to use the radish soon.\"\n",
      "    },\n",
      "    \"Break down the observation\": {\n",
      "        \"Segment the observation into smaller, sequential, or categorical parts to analyze it more effectively:\": [\n",
      "            \"Nathan entered the porch.\",\n",
      "            \"Mia entered the porch.\",\n",
      "            \"The radish is in the crate.\",\n",
      "            \"Nathan exited the porch.\",\n",
      "            \"Mia moved the radish to the drawer.\",\n",
      "            \"Liam entered the front yard.\",\n",
      "            \"Nathan and Mia plan to use the radish soon.\"\n",
      "        ]\n",
      "    },\n",
      "    \"Identify relevant individuals\": {\n",
      "        \"Determine who are the individuals directly involved in or affected by the task or plan mentioned in the observation:\": \"Nathan, Mia, Liam\"\n",
      "    },\n",
      "    \"Analyze perspectives\": {\n",
      "        \"Consider the actions, plans, and preferences of each individual mentioned in the observation. Question any assumptions about their knowledge or intentions:\": [\n",
      "            \"Nathan: Entered and exited the porch, plans to use the radish.\",\n",
      "            \"Mia: Entered the porch, moved the radish, plans to use the radish.\",\n",
      "            \"Liam: Entered the front yard, no direct involvement with the radish.\"\n",
      "        ]\n",
      "    },\n",
      "    \"Define useful information\": {\n",
      "        \"Determine what information would be beneficial for an individual to know to facilitate their plans or tasks:\": \"The location of the radish after it was moved.\"\n",
      "    },\n",
      "    \"Establish relevance\": {\n",
      "        \"Identify details from the observation that are relevant to the task and could serve as helpful information for the identified individuals:\": \"Mia moved the radish to the drawer.\"\n",
      "    },\n",
      "    \"Evaluate uncertainty\": {\n",
      "        \"Assess if the task involves decisions or plans that could be affected by unknown factors or competing objectives among the individuals:\": \"Nathan might not know the new location of the radish since he exited before Mia moved it.\"\n",
      "    },\n",
      "    \"Sequentially process\": {\n",
      "        \"Analyze the observation step by step, considering each individual's actions and the task's requirements:\": [\n",
      "            \"Nathan entered the porch.\",\n",
      "            \"Mia entered the porch.\",\n",
      "            \"The radish is in the crate.\",\n",
      "            \"Nathan exited the porch.\",\n",
      "            \"Mia moved the radish to the drawer.\",\n",
      "            \"Liam entered the front yard.\",\n",
      "            \"Nathan and Mia plan to use the radish soon.\"\n",
      "        ]\n",
      "    },\n",
      "    \"Formulate a solution\": {\n",
      "        \"Create a step-by-step plan to determine who would benefit from receiving helpful information, supported by clear reasoning:\": [\n",
      "            \"Nathan exited the porch before Mia moved the radish.\",\n",
      "            \"Nathan and Mia plan to use the radish soon.\",\n",
      "            \"Nathan would benefit from knowing the new location of the radish since he was not present when Mia moved it.\"\n",
      "        ]\n",
      "    }\n",
      "}\n",
      "```\n",
      "\n",
      "The final answer is B. Nathan.\n"
     ]
    }
   ],
   "source": [
    "print(dataset[0][\"reasoning\"])"
   ]
  }
 ],
 "metadata": {
  "kernelspec": {
   "display_name": "Python 3 (ipykernel)",
   "language": "python",
   "name": "python3"
  },
  "language_info": {
   "codemirror_mode": {
    "name": "ipython",
    "version": 3
   },
   "file_extension": ".py",
   "mimetype": "text/x-python",
   "name": "python",
   "nbconvert_exporter": "python",
   "pygments_lexer": "ipython3",
   "version": "3.12.2"
  }
 },
 "nbformat": 4,
 "nbformat_minor": 2
}
