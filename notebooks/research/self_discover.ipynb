{
    "cells": [
        {
            "cell_type": "code",
            "execution_count": 1,
            "metadata": {},
            "outputs": [
                {
                    "name": "stderr",
                    "output_type": "stream",
                    "text": [
                        "D:\\Surge\\self-discover\\venv\\Lib\\site-packages\\tqdm\\auto.py:21: TqdmWarning: IProgress not found. Please update jupyter and ipywidgets. See https://ipywidgets.readthedocs.io/en/stable/user_install.html\n",
                        "  from .autonotebook import tqdm as notebook_tqdm\n"
                    ]
                }
            ],
            "source": [
                "from self_discover import graph, self_discover"
            ]
        },
        {
            "cell_type": "code",
            "execution_count": 2,
            "metadata": {},
            "outputs": [
                {
                    "data": {
                        "image/png": "[encoded data removed]",
                        "text/plain": [
                            "<langgraph.graph.state.CompiledStateGraph object at 0x0000028BCAE87470>"
                        ]
                    },
                    "execution_count": 2,
                    "metadata": {},
                    "output_type": "execute_result"
                }
            ],
            "source": [
                "graph"
            ]
        },
        {
            "cell_type": "code",
            "execution_count": 3,
            "metadata": {},
            "outputs": [],
            "source": [
                "import getpass\n",
                "import os\n",
                "\n",
                "if \"MISTRAL_API_KEY\" not in os.environ:\n",
                "    os.environ[\"MISTRAL_API_KEY\"] = getpass.getpass(\"Enter your Mistral API key: \")"
            ]
        },
        {
            "cell_type": "code",
            "execution_count": 4,
            "metadata": {},
            "outputs": [
                {
                    "name": "stderr",
                    "output_type": "stream",
                    "text": [
                        "C:\\Users\\sachi\\AppData\\Local\\Temp\\ipykernel_24452\\2015449585.py:11: LangChainBetaWarning: Introduced in 0.2.24. API subject to change.\n",
                        "  rate_limiter = InMemoryRateLimiter(\n"
                    ]
                }
            ],
            "source": [
                "from langchain_mistralai import ChatMistralAI\n",
                "from langchain_core.rate_limiters import InMemoryRateLimiter\n",
                "\n",
                "model_kwargs = {\n",
                "    \"temperature\": 0.2,\n",
                "    \"top_p\": 0.9,\n",
                "    \"top_k\": 15,\n",
                "    \"max_tokens\": 10240\n",
                "}\n",
                "\n",
                "rate_limiter = InMemoryRateLimiter(\n",
                "    requests_per_second=0.9,\n",
                "    check_every_n_seconds=1,\n",
                "    max_bucket_size=1,\n",
                ")\n",
                "\n",
                "model = ChatMistralAI(\n",
                "    model=\"mistral-large-2407\",\n",
                "    rate_limiter=rate_limiter,\n",
                "    **model_kwargs\n",
                ")"
            ]
        },
        {
            "cell_type": "code",
            "execution_count": 5,
            "metadata": {},
            "outputs": [],
            "source": [
                "task_description = [\n",
                "    r\"Suppose that $4^{a}=5$, $5^{b}=6$, $6^{c}=7,$ and $7^{d}=8$. What is $a\\cdot b\\cdot c\\cdot d$?\",\n",
                "    r\"Find all values of $x$ that satisfy the equation $x = \\!\\sqrt{11-2x} + 4$.\",\n",
                "    r\"Two positive numbers $p$ and $q$ have the property that their sum is equal to their product. If their difference is $7$, what is $\\frac{1}{\\frac{1}{p^2}+\\frac{1}{q^2}}$? Your answer will be of the form $\\frac{a+b\\sqrt{c}}{d}$, where $a$ and $b$ don't both share the same common factor with $d$ and $c$ has no square as a factor. Find $a+b+c+d$.\",\n",
                "    r\"$a$ and $b$ are real numbers and satisfy $ab^2=\\frac{27}{5}$ and $a^2b=135$. Compute $a+5b$.\",\n",
                "    r\"The expression $\\dfrac{\\sqrt{10}}{\\sqrt[4]{10}}$ equals 10 raised to what power?\"\n",
                "]"
            ]
        },
        {
            "cell_type": "code",
            "execution_count": 6,
            "metadata": {},
            "outputs": [
                {
                    "name": "stdout",
                    "output_type": "stream",
                    "text": [
                        "{'select': {'selected_modules': \"4 How can I simplify the problem so that it is easier to solve?\\n9 How can I break down this problem into smaller, more manageable parts?\\n10 Critical Thinking: This style involves analyzing the problem from different perspectives, questioning assumptions, and evaluating the evidence or information available. It focuses on logical reasoning, evidence-based decision-making, and identifying potential biases or flaws in thinking.\\n16 What is the core issue or problem that needs to be addressed?\\n20 Are there any relevant data or information that can provide insights into the problem? If yes, what data sources are available, and how can they be analyzed?\\n25 Is the problem a technical or practical one that requires a specific expertise or skill set? Or is it more of a conceptual or theoretical problem?\\n29 Is the problem an analytical one that requires data analysis, modeling, or optimization techniques?\\n38 Let's think step by step.\\n39 Let's make a step by step plan and implement it with good notion and explanation.\"}}\n",
                        "{'adapt': {'adapted_modules': \"4 **How can I simplify the equation or expression to make it more solvable?**\\n9 **How can I break down this mathematical problem into smaller, more manageable steps or components?**\\n10 **Critical Thinking: Analyze the problem from different mathematical perspectives, question assumptions, and evaluate the given information. Focus on logical reasoning, mathematical principles, and identifying potential errors.**\\n16 **What is the core mathematical issue or problem that needs to be solved?**\\n20 **Are there any relevant mathematical formulas, theorems, or data that can provide insights into the problem? If yes, how can they be applied or analyzed?**\\n25 **Is the problem primarily computational or does it require specific mathematical techniques or concepts?**\\n29 **Is the problem an analytical one that requires algebraic manipulation, equation solving, or optimization strategies?**\\n38 **Let's solve this problem step by step, ensuring each step logically follows from the previous.**\\n39 **Let's create a step-by-step plan to solve the problem, ensuring each step is clearly explained and mathematically sound.**\"}}\n",
                        "{'implement': {'reasoning_structure': '```json\\n{\\n    \"Identify the core mathematical issue or problem\": {\\n        \"Analyze the problem to determine the core issue\": {}\\n    },\\n    \"Simplify the equation or expression\": {\\n        \"Simplify the given equation or expression to make it more solvable\": {}\\n    },\\n    \"Break down the problem into smaller steps\": {\\n        \"Break down the mathematical problem into smaller, more manageable steps or components\": {}\\n    },\\n    \"Apply relevant mathematical formulas or theorems\": {\\n        \"Identify and apply relevant mathematical formulas, theorems, or data to the problem\": {}\\n    },\\n    \"Determine if the problem is computational or requires specific techniques\": {\\n        \"Assess if the problem is primarily computational or requires specific mathematical techniques or concepts\": {}\\n    },\\n    \"Analyze the problem from different mathematical perspectives\": {\\n        \"Critically analyze the problem from different mathematical perspectives, question assumptions, and evaluate the given information\": {}\\n    },\\n    \"Solve the problem step by step\": {\\n        \"Solve the problem step by step, ensuring each step logically follows from the previous\": {}\\n    },\\n    \"Create a step-by-step plan\": {\\n        \"Create a step-by-step plan to solve the problem, ensuring each step is clearly explained and mathematically sound\": {}\\n    }\\n}\\n```'}}\n",
                        "{'reason': {'reasoning': ['```json\\n{\\n    \"Identify the core mathematical issue or problem\": {\\n        \"Analyze the problem to determine the core issue\": \"The core issue is to find the product of the exponents a, b, c, and d given the equations 4^a = 5, 5^b = 6, 6^c = 7, and 7^d = 8.\"\\n    },\\n    \"Simplify the equation or expression\": {\\n        \"Simplify the given equation or expression to make it more solvable\": \"The equations are already in their simplest form.\"\\n    },\\n    \"Break down the problem into smaller steps\": {\\n        \"Break down the mathematical problem into smaller, more manageable steps or components\": \"We need to find the values of a, b, c, and d individually and then multiply them together.\"\\n    },\\n    \"Apply relevant mathematical formulas or theorems\": {\\n        \"Identify and apply relevant mathematical formulas, theorems, or data to the problem\": \"We can use logarithms to solve for each exponent.\"\\n    },\\n    \"Determine if the problem is computational or requires specific techniques\": {\\n        \"Assess if the problem is primarily computational or requires specific mathematical techniques or concepts\": \"The problem requires the use of logarithms to solve for the exponents.\"\\n    },\\n    \"Analyze the problem from different mathematical perspectives\": {\\n        \"Critically analyze the problem from different mathematical perspectives, question assumptions, and evaluate the given information\": \"The problem assumes that the exponents a, b, c, and d are real numbers that satisfy the given equations.\"\\n    },\\n    \"Solve the problem step by step\": {\\n        \"Solve the problem step by step, ensuring each step logically follows from the previous\": {\\n            \"Step 1\": \"Solve for a using the equation 4^a = 5. Taking the logarithm base 4 of both sides, we get a = log_4(5).\",\\n            \"Step 2\": \"Solve for b using the equation 5^b = 6. Taking the logarithm base 5 of both sides, we get b = log_5(6).\",\\n            \"Step 3\": \"Solve for c using the equation 6^c = 7. Taking the logarithm base 6 of both sides, we get c = log_6(7).\",\\n            \"Step 4\": \"Solve for d using the equation 7^d = 8. Taking the logarithm base 7 of both sides, we get d = log_7(8).\",\\n            \"Step 5\": \"Multiply the values of a, b, c, and d together to get the final answer. a * b * c * d = log_4(5) * log_5(6) * log_6(7) * log_7(8).\"\\n        }\\n    },\\n    \"Create a step-by-step plan\": {\\n        \"Create a step-by-step plan to solve the problem, ensuring each step is clearly explained and mathematically sound\": {\\n            \"Step 1\": \"Use logarithms to solve for each exponent.\",\\n            \"Step 2\": \"Multiply the values of the exponents together to get the final answer.\"\\n        }\\n    }\\n}\\n```\\n\\nThe final answer is log_4(5) * log_5(6) * log_6(7) * log_7(8).']}}\n",
                        "{'reason': {'reasoning': ['```json\\n{\\n    \"Identify the core mathematical issue or problem\": {\\n        \"Analyze the problem to determine the core issue\": \"The core issue is to determine the power to which 10 must be raised to equal the expression \\\\\\\\(\\\\\\\\dfrac{\\\\\\\\sqrt{10}}{\\\\\\\\sqrt[4]{10}}\\\\\\\\).\"\\n    },\\n    \"Simplify the equation or expression\": {\\n        \"Simplify the given equation or expression to make it more solvable\": \"Rewrite the expression using exponents: \\\\\\\\(\\\\\\\\dfrac{\\\\\\\\sqrt{10}}{\\\\\\\\sqrt[4]{10}} = \\\\\\\\dfrac{10^{1/2}}{10^{1/4}}\\\\\\\\).\"\\n    },\\n    \"Break down the problem into smaller steps\": {\\n        \"Break down the mathematical problem into smaller, more manageable steps or components\": \"1. Simplify the expression using exponent rules. 2. Determine the resulting exponent.\"\\n    },\\n    \"Apply relevant mathematical formulas or theorems\": {\\n        \"Identify and apply relevant mathematical formulas, theorems, or data to the problem\": \"Use the exponent rule for division: \\\\\\\\(\\\\\\\\dfrac{a^m}{a^n} = a^{m-n}\\\\\\\\).\"\\n    },\\n    \"Determine if the problem is computational or requires specific techniques\": {\\n        \"Assess if the problem is primarily computational or requires specific mathematical techniques or concepts\": \"The problem requires the application of exponent rules.\"\\n    },\\n    \"Analyze the problem from different mathematical perspectives\": {\\n        \"Critically analyze the problem from different mathematical perspectives, question assumptions, and evaluate the given information\": \"Ensure that the simplification and application of exponent rules are correct.\"\\n    },\\n    \"Solve the problem step by step\": {\\n        \"Solve the problem step by step, ensuring each step logically follows from the previous\": \"1. Rewrite the expression: \\\\\\\\(\\\\\\\\dfrac{10^{1/2}}{10^{1/4}}\\\\\\\\). 2. Apply the exponent rule: \\\\\\\\(10^{1/2 - 1/4} = 10^{1/4}\\\\\\\\).\"\\n    },\\n    \"Create a step-by-step plan\": {\\n        \"Create a step-by-step plan to solve the problem, ensuring each step is clearly explained and mathematically sound\": \"1. Identify the core issue. 2. Simplify the expression using exponents. 3. Apply the exponent rule for division. 4. Determine the resulting exponent.\"\\n    }\\n}\\n```\\n\\nThe final answer is \\\\( \\\\frac{1}{4} \\\\).']}}\n",
                        "{'reason': {'reasoning': ['```json\\n{\\n    \"Identify the core mathematical issue or problem\": {\\n        \"Analyze the problem to determine the core issue\": \"The core issue is to find the value of the expression \\\\(\\\\frac{1}{\\\\frac{1}{p^2}+\\\\frac{1}{q^2}}\\\\) given that the sum of two positive numbers \\\\(p\\\\) and \\\\(q\\\\) is equal to their product and their difference is 7.\"\\n    },\\n    \"Simplify the equation or expression\": {\\n        \"Simplify the given equation or expression to make it more solvable\": \"Given \\\\(p + q = pq\\\\) and \\\\(p - q = 7\\\\), we need to simplify these equations to find \\\\(p\\\\) and \\\\(q\\\\).\"\\n    },\\n    \"Break down the problem into smaller steps\": {\\n        \"Break down the mathematical problem into smaller, more manageable steps or components\": \"1. Solve for \\\\(p\\\\) and \\\\(q\\\\) using the given equations. 2. Substitute \\\\(p\\\\) and \\\\(q\\\\) into the expression \\\\(\\\\frac{1}{\\\\frac{1}{p^2}+\\\\frac{1}{q^2}}\\\\). 3. Simplify the expression to the required form.\"\\n    },\\n    \"Apply relevant mathematical formulas or theorems\": {\\n        \"Identify and apply relevant mathematical formulas, theorems, or data to the problem\": \"Use the quadratic formula to solve for \\\\(p\\\\) and \\\\(q\\\\) from the equations \\\\(p + q = pq\\\\) and \\\\(p - q = 7\\\\).\"\\n    },\\n    \"Determine if the problem is computational or requires specific techniques\": {\\n        \"Assess if the problem is primarily computational or requires specific mathematical techniques or concepts\": \"The problem requires solving quadratic equations and simplifying algebraic expressions.\"\\n    },\\n    \"Analyze the problem from different mathematical perspectives\": {\\n        \"Critically analyze the problem from different mathematical perspectives, question assumptions, and evaluate the given information\": \"Ensure that the solutions for \\\\(p\\\\) and \\\\(q\\\\) are positive and satisfy the given conditions.\"\\n    },\\n    \"Solve the problem step by step\": {\\n        \"Solve the problem step by step, ensuring each step logically follows from the previous\": \"1. From \\\\(p + q = pq\\\\), we get \\\\(pq - p - q = 0\\\\). Adding 1 to both sides, we get \\\\(pq - p - q + 1 = 1\\\\), which factors to \\\\((p-1)(q-1) = 1\\\\). 2. Given \\\\(p - q = 7\\\\), we solve the system of equations \\\\((p-1)(q-1) = 1\\\\) and \\\\(p - q = 7\\\\). 3. Solving these, we find \\\\(p = \\\\frac{9 + \\\\sqrt{57}}{2}\\\\) and \\\\(q = \\\\frac{-1 + \\\\sqrt{57}}{2}\\\\). 4. Substitute \\\\(p\\\\) and \\\\(q\\\\) into \\\\(\\\\frac{1}{\\\\frac{1}{p^2}+\\\\frac{1}{q^2}}\\\\) and simplify to get \\\\(\\\\frac{57 + 7\\\\sqrt{57}}{16}\\\\).\"\\n    },\\n    \"Create a step-by-step plan\": {\\n        \"Create a step-by-step plan to solve the problem, ensuring each step is clearly explained and mathematically sound\": \"1. Identify the equations \\\\(p + q = pq\\\\) and \\\\(p - q = 7\\\\). 2. Solve for \\\\(p\\\\) and \\\\(q\\\\) using these equations. 3. Substitute \\\\(p\\\\) and \\\\(q\\\\) into the expression \\\\(\\\\frac{1}{\\\\frac{1}{p^2}+\\\\frac{1}{q^2}}\\\\). 4. Simplify the expression to the form \\\\(\\\\frac{a+b\\\\sqrt{c}}{d}\\\\). 5. Find \\\\(a+b+c+d\\\\).\"\\n    }\\n}\\n```\\n\\nThe final answer is \\\\(78\\\\).']}}\n",
                        "{'reason': {'reasoning': ['```json\\n{\\n    \"Identify the core mathematical issue or problem\": {\\n        \"Analyze the problem to determine the core issue\": \"The core issue is to find all values of x that satisfy the equation x = √(11 - 2x) + 4.\"\\n    },\\n    \"Simplify the equation or expression\": {\\n        \"Simplify the given equation or expression to make it more solvable\": \"Let y = √(11 - 2x). Then the equation becomes x = y + 4.\"\\n    },\\n    \"Break down the problem into smaller steps\": {\\n        \"Break down the mathematical problem into smaller, more manageable steps or components\": \"1. Substitute y = √(11 - 2x) into the equation. 2. Solve for y. 3. Substitute back to find x.\"\\n    },\\n    \"Apply relevant mathematical formulas or theorems\": {\\n        \"Identify and apply relevant mathematical formulas, theorems, or data to the problem\": \"Use the properties of square roots and algebraic manipulation.\"\\n    },\\n    \"Determine if the problem is computational or requires specific techniques\": {\\n        \"Assess if the problem is primarily computational or requires specific mathematical techniques or concepts\": \"The problem requires algebraic manipulation and solving a quadratic equation.\"\\n    },\\n    \"Analyze the problem from different mathematical perspectives\": {\\n        \"Critically analyze the problem from different mathematical perspectives, question assumptions, and evaluate the given information\": \"Consider the domain of the square root function and ensure the solutions are valid within this domain.\"\\n    },\\n    \"Solve the problem step by step\": {\\n        \"Solve the problem step by step, ensuring each step logically follows from the previous\": {\\n            \"Step 1\": \"Substitute y = √(11 - 2x) into the equation x = y + 4.\",\\n            \"Step 2\": \"Square both sides to eliminate the square root: (x - 4)^2 = 11 - 2x.\",\\n            \"Step 3\": \"Expand and simplify: x^2 - 8x + 16 = 11 - 2x.\",\\n            \"Step 4\": \"Rearrange to form a quadratic equation: x^2 - 6x + 5 = 0.\",\\n            \"Step 5\": \"Factorize the quadratic equation: (x - 5)(x - 1) = 0.\",\\n            \"Step 6\": \"Solve for x: x = 5 or x = 1.\",\\n            \"Step 7\": \"Verify the solutions: For x = 5, √(11 - 2*5) + 4 = √1 + 4 = 5. For x = 1, √(11 - 2*1) + 4 = √9 + 4 = 3 + 4 = 7 (not a solution).\"\\n        }\\n    },\\n    \"Create a step-by-step plan\": {\\n        \"Create a step-by-step plan to solve the problem, ensuring each step is clearly explained and mathematically sound\": {\\n            \"Step 1\": \"Substitute y = √(11 - 2x) into the equation x = y + 4.\",\\n            \"Step 2\": \"Square both sides to eliminate the square root: (x - 4)^2 = 11 - 2x.\",\\n            \"Step 3\": \"Expand and simplify: x^2 - 8x + 16 = 11 - 2x.\",\\n            \"Step 4\": \"Rearrange to form a quadratic equation: x^2 - 6x + 5 = 0.\",\\n            \"Step 5\": \"Factorize the quadratic equation: (x - 5)(x - 1) = 0.\",\\n            \"Step 6\": \"Solve for x: x = 5 or x = 1.\",\\n            \"Step 7\": \"Verify the solutions: For x = 5, √(11 - 2*5) + 4 = √1 + 4 = 5. For x = 1, √(11 - 2*1) + 4 = √9 + 4 = 3 + 4 = 7 (not a solution).\"\\n        }\\n    }\\n}\\n```\\n\\nThe final answer is x = 5.']}}\n",
                        "{'reason': {'reasoning': ['```json\\n{\\n    \"Identify the core mathematical issue or problem\": {\\n        \"Analyze the problem to determine the core issue\": \"We need to find the value of \\\\(a + 5b\\\\) given the equations \\\\(ab^2 = \\\\frac{27}{5}\\\\) and \\\\(a^2b = 135\\\\).\"\\n    },\\n    \"Simplify the equation or expression\": {\\n        \"Simplify the given equation or expression to make it more solvable\": \"We can start by expressing \\\\(a\\\\) and \\\\(b\\\\) in terms of each other using the given equations.\"\\n    },\\n    \"Break down the problem into smaller steps\": {\\n        \"Break down the mathematical problem into smaller, more manageable steps or components\": \"1. Solve for \\\\(a\\\\) and \\\\(b\\\\) using the given equations. 2. Substitute the values into \\\\(a + 5b\\\\).\"\\n    },\\n    \"Apply relevant mathematical formulas or theorems\": {\\n        \"Identify and apply relevant mathematical formulas, theorems, or data to the problem\": \"We can use the properties of exponents and algebraic manipulation to solve the system of equations.\"\\n    },\\n    \"Determine if the problem is computational or requires specific techniques\": {\\n        \"Assess if the problem is primarily computational or requires specific mathematical techniques or concepts\": \"The problem requires algebraic manipulation and solving a system of equations.\"\\n    },\\n    \"Analyze the problem from different mathematical perspectives\": {\\n        \"Critically analyze the problem from different mathematical perspectives, question assumptions, and evaluate the given information\": \"We need to ensure that the values of \\\\(a\\\\) and \\\\(b\\\\) are real numbers and satisfy both equations.\"\\n    },\\n    \"Solve the problem step by step\": {\\n        \"Solve the problem step by step, ensuring each step logically follows from the previous\": {\\n            \"Step 1\": \"From \\\\(ab^2 = \\\\frac{27}{5}\\\\), express \\\\(a\\\\) in terms of \\\\(b\\\\): \\\\(a = \\\\frac{27}{5b^2}\\\\).\",\\n            \"Step 2\": \"Substitute \\\\(a = \\\\frac{27}{5b^2}\\\\) into \\\\(a^2b = 135\\\\): \\\\(\\\\left(\\\\frac{27}{5b^2}\\\\right)^2 b = 135\\\\).\",\\n            \"Step 3\": \"Simplify the equation: \\\\(\\\\frac{729}{25b^3} = 135\\\\).\",\\n            \"Step 4\": \"Solve for \\\\(b\\\\): \\\\(b^3 = \\\\frac{729}{25 \\\\times 135} = \\\\frac{729}{3375} = \\\\frac{81}{375} = \\\\frac{27}{125}\\\\).\",\\n            \"Step 5\": \"Find \\\\(b\\\\): \\\\(b = \\\\sqrt[3]{\\\\frac{27}{125}} = \\\\frac{3}{5}\\\\).\",\\n            \"Step 6\": \"Substitute \\\\(b = \\\\frac{3}{5}\\\\) back into \\\\(a = \\\\frac{27}{5b^2}\\\\): \\\\(a = \\\\frac{27}{5 \\\\left(\\\\frac{3}{5}\\\\right)^2} = \\\\frac{27}{5 \\\\times \\\\frac{9}{25}} = \\\\frac{27 \\\\times 25}{45} = 15\\\\).\",\\n            \"Step 7\": \"Compute \\\\(a + 5b\\\\): \\\\(15 + 5 \\\\times \\\\frac{3}{5} = 15 + 3 = 18\\\\).\"\\n        }\\n    },\\n    \"Create a step-by-step plan\": {\\n        \"Create a step-by-step plan to solve the problem, ensuring each step is clearly explained and mathematically sound\": {\\n            \"Step 1\": \"Express \\\\(a\\\\) in terms of \\\\(b\\\\) using the first equation.\",\\n            \"Step 2\": \"Substitute the expression for \\\\(a\\\\) into the second equation.\",\\n            \"Step 3\": \"Solve the resulting equation for \\\\(b\\\\).\",\\n            \"Step 4\": \"Substitute the value of \\\\(b\\\\) back into the expression for \\\\(a\\\\) to find \\\\(a\\\\).\",\\n            \"Step 5\": \"Compute \\\\(a + 5b\\\\) using the values of \\\\(a\\\\) and \\\\(b\\\\).\"\\n        }\\n    }\\n}\\n```\\n\\nThe final answer is 18.']}}\n"
                    ]
                }
            ],
            "source": [
                "result = self_discover(task_description, model, \"The final value of the word problem without any expalainations.\")"
            ]
        },
        {
            "cell_type": "code",
            "execution_count": 11,
            "metadata": {},
            "outputs": [
                {
                    "name": "stdout",
                    "output_type": "stream",
                    "text": [
                        "dict_keys(['task_description', 'answer_formats', 'task_examples', 'selected_modules', 'adapted_modules', 'reasoning_structure', 'reasoning'])\n"
                    ]
                }
            ],
            "source": [
                "print(result.values.keys())"
            ]
        },
        {
            "cell_type": "code",
            "execution_count": 13,
            "metadata": {},
            "outputs": [
                {
                    "name": "stdout",
                    "output_type": "stream",
                    "text": [
                        "```json\n",
                        "{\n",
                        "    \"Identify the core mathematical issue or problem\": {\n",
                        "        \"Analyze the problem to determine the core issue\": {}\n",
                        "    },\n",
                        "    \"Simplify the equation or expression\": {\n",
                        "        \"Simplify the given equation or expression to make it more solvable\": {}\n",
                        "    },\n",
                        "    \"Break down the problem into smaller steps\": {\n",
                        "        \"Break down the mathematical problem into smaller, more manageable steps or components\": {}\n",
                        "    },\n",
                        "    \"Apply relevant mathematical formulas or theorems\": {\n",
                        "        \"Identify and apply relevant mathematical formulas, theorems, or data to the problem\": {}\n",
                        "    },\n",
                        "    \"Determine if the problem is computational or requires specific techniques\": {\n",
                        "        \"Assess if the problem is primarily computational or requires specific mathematical techniques or concepts\": {}\n",
                        "    },\n",
                        "    \"Analyze the problem from different mathematical perspectives\": {\n",
                        "        \"Critically analyze the problem from different mathematical perspectives, question assumptions, and evaluate the given information\": {}\n",
                        "    },\n",
                        "    \"Solve the problem step by step\": {\n",
                        "        \"Solve the problem step by step, ensuring each step logically follows from the previous\": {}\n",
                        "    },\n",
                        "    \"Create a step-by-step plan\": {\n",
                        "        \"Create a step-by-step plan to solve the problem, ensuring each step is clearly explained and mathematically sound\": {}\n",
                        "    }\n",
                        "}\n",
                        "```\n"
                    ]
                }
            ],
            "source": [
                "print(result.values[\"reasoning_structure\"])"
            ]
        },
        {
            "cell_type": "code",
            "execution_count": 15,
            "metadata": {},
            "outputs": [
                {
                    "name": "stdout",
                    "output_type": "stream",
                    "text": [
                        "```json\n",
                        "{\n",
                        "    \"Identify the core mathematical issue or problem\": {\n",
                        "        \"Analyze the problem to determine the core issue\": \"The core issue is to determine the power to which 10 must be raised to equal the expression \\\\(\\\\dfrac{\\\\sqrt{10}}{\\\\sqrt[4]{10}}\\\\).\"\n",
                        "    },\n",
                        "    \"Simplify the equation or expression\": {\n",
                        "        \"Simplify the given equation or expression to make it more solvable\": \"Rewrite the expression using exponents: \\\\(\\\\dfrac{\\\\sqrt{10}}{\\\\sqrt[4]{10}} = \\\\dfrac{10^{1/2}}{10^{1/4}}\\\\).\"\n",
                        "    },\n",
                        "    \"Break down the problem into smaller steps\": {\n",
                        "        \"Break down the mathematical problem into smaller, more manageable steps or components\": \"1. Simplify the expression using exponent rules. 2. Determine the resulting exponent.\"\n",
                        "    },\n",
                        "    \"Apply relevant mathematical formulas or theorems\": {\n",
                        "        \"Identify and apply relevant mathematical formulas, theorems, or data to the problem\": \"Use the exponent rule for division: \\\\(\\\\dfrac{a^m}{a^n} = a^{m-n}\\\\).\"\n",
                        "    },\n",
                        "    \"Determine if the problem is computational or requires specific techniques\": {\n",
                        "        \"Assess if the problem is primarily computational or requires specific mathematical techniques or concepts\": \"The problem requires the application of exponent rules.\"\n",
                        "    },\n",
                        "    \"Analyze the problem from different mathematical perspectives\": {\n",
                        "        \"Critically analyze the problem from different mathematical perspectives, question assumptions, and evaluate the given information\": \"Ensure that the simplification and application of exponent rules are correct.\"\n",
                        "    },\n",
                        "    \"Solve the problem step by step\": {\n",
                        "        \"Solve the problem step by step, ensuring each step logically follows from the previous\": \"1. Rewrite the expression: \\\\(\\\\dfrac{10^{1/2}}{10^{1/4}}\\\\). 2. Apply the exponent rule: \\\\(10^{1/2 - 1/4} = 10^{1/4}\\\\).\"\n",
                        "    },\n",
                        "    \"Create a step-by-step plan\": {\n",
                        "        \"Create a step-by-step plan to solve the problem, ensuring each step is clearly explained and mathematically sound\": \"1. Identify the core issue. 2. Simplify the expression using exponents. 3. Apply the exponent rule for division. 4. Determine the resulting exponent.\"\n",
                        "    }\n",
                        "}\n",
                        "```\n",
                        "\n",
                        "The final answer is \\( \\frac{1}{4} \\).\n"
                    ]
                }
            ],
            "source": [
                "print(result.values[\"reasoning\"][4])"
            ]
        }
    ],
    "metadata": {
        "kernelspec": {
            "display_name": "Python 3 (ipykernel)",
            "language": "python",
            "name": "python3"
        },
        "language_info": {
            "codemirror_mode": {
                "name": "ipython",
                "version": 3
            },
            "file_extension": ".py",
            "mimetype": "text/x-python",
            "name": "python",
            "nbconvert_exporter": "python",
            "pygments_lexer": "ipython3",
            "version": "3.12.2"
        }
    },
    "nbformat": 4,
    "nbformat_minor": 2
}