{
 "cells": [
  {
   "cell_type": "code",
   "execution_count": 1,
   "metadata": {},
   "outputs": [],
   "source": [
    "import os\n",
    "from pyprojroot import here\n",
    "from datasets import Dataset"
   ]
  },
  {
   "cell_type": "code",
   "execution_count": 3,
   "metadata": {},
   "outputs": [],
   "source": [
    "path = os.path.join(\"evals\", \"logs\", \"mistral\", \"phaseII\", \"t4d\", \"t4d-\", \"t4d_eval\")"
   ]
  },
  {
   "cell_type": "code",
   "execution_count": 4,
   "metadata": {},
   "outputs": [
    {
     "data": {
      "text/plain": [
       "Dataset({\n",
       "    features: ['story', 'question', 'answer', 'characters', 'distracting_characters', 'self_discover_input', 'reasoning_structure', 'reasoning', 'trajectory', 'answer_pred'],\n",
       "    num_rows: 564\n",
       "})"
      ]
     },
     "execution_count": 4,
     "metadata": {},
     "output_type": "execute_result"
    }
   ],
   "source": [
    "dataset = Dataset.load_from_disk(here(path))\n",
    "dataset"
   ]
  },
  {
   "cell_type": "code",
   "execution_count": 9,
   "metadata": {},
   "outputs": [
    {
     "name": "stdout",
     "output_type": "stream",
     "text": [
      "```json\n",
      "{\n",
      "    \"Identify the core task\": {\n",
      "        \"Determine the main question or task that needs to be answered or solved: Who among the individuals would benefit from receiving helpful information?\"\n",
      "    },\n",
      "    \"Understand the context\": {\n",
      "        \"Identify the key events and actions described in the observation that are relevant to the task: Ella and Carter both enter and exit the dining room, the lemon is moved from the drawer to the pantry, Ella loves the carrot, and both plan to use the lemon soon.\"\n",
      "    },\n",
      "    \"Break down the observation\": {\n",
      "        \"Segment the observation into smaller, sequential, or categorical parts to analyze it more effectively: 1. Ella entered the dining room. 2. Carter entered the dining room. 3. The lemon is in the drawer. 4. Ella exited the dining room. 5. Carter moved the lemon to the pantry. 6. Ella loves the carrot. 7. Ella and Carter plan to use the lemon soon.\"\n",
      "    },\n",
      "    \"Identify relevant individuals\": {\n",
      "        \"Determine who are the individuals directly involved in or affected by the task or plan mentioned in the observation: Ella and Carter.\"\n",
      "    },\n",
      "    \"Analyze perspectives\": {\n",
      "        \"Consider the actions, plans, and preferences of each individual mentioned in the observation. Question any assumptions about their knowledge or intentions: Ella exited the dining room before Carter moved the lemon, so she might not know its new location. Carter moved the lemon and knows its current location.\"\n",
      "    },\n",
      "    \"Define useful information\": {\n",
      "        \"Determine what information would be beneficial for an individual to know to facilitate their plans or tasks: The current location of the lemon.\"\n",
      "    },\n",
      "    \"Establish relevance\": {\n",
      "        \"Identify details from the observation that are relevant to the task and could serve as helpful information for the identified individuals: The lemon was moved to the pantry by Carter after Ella left the dining room.\"\n",
      "    },\n",
      "    \"Evaluate uncertainty\": {\n",
      "        \"Assess if the task involves decisions or plans that could be affected by unknown factors or competing objectives among the individuals: Ella might not know the lemon's new location, which could affect their plan to use it soon.\"\n",
      "    },\n",
      "    \"Sequentially process\": {\n",
      "        \"Analyze the observation step by step, considering each individual's actions and the task's requirements: Ella entered and exited the dining room without seeing Carter move the lemon. Carter moved the lemon after Ella left. Both plan to use the lemon soon, but Ella might not know its current location.\"\n",
      "    },\n",
      "    \"Formulate a solution\": {\n",
      "        \"Create a step-by-step plan to determine who would benefit from receiving helpful information, supported by clear reasoning: Ella would benefit from knowing that the lemon has been moved to the pantry, as she might not be aware of its new location due to her absence during the move.\"\n",
      "    }\n",
      "}\n",
      "```\n",
      "\n",
      "The final answer is A. Ella.\n"
     ]
    }
   ],
   "source": [
    "print(dataset[1][\"reasoning\"])"
   ]
  }
 ],
 "metadata": {
  "kernelspec": {
   "display_name": "venv",
   "language": "python",
   "name": "python3"
  },
  "language_info": {
   "codemirror_mode": {
    "name": "ipython",
    "version": 3
   },
   "file_extension": ".py",
   "mimetype": "text/x-python",
   "name": "python",
   "nbconvert_exporter": "python",
   "pygments_lexer": "ipython3",
   "version": "3.12.2"
  }
 },
 "nbformat": 4,
 "nbformat_minor": 2
}
