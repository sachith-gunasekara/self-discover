{
 "cells": [
  {
   "cell_type": "code",
   "execution_count": 35,
   "metadata": {},
   "outputs": [],
   "source": [
    "import os\n",
    "import re\n",
    "from pyprojroot import here\n",
    "from datasets import Dataset"
   ]
  },
  {
   "cell_type": "code",
   "execution_count": 10,
   "metadata": {},
   "outputs": [],
   "source": [
    "base_path = os.path.join(\"evals\", \"logs\", \"self_discover\", \"llama\", \"phaseII\", \"bbh\")"
   ]
  },
  {
   "cell_type": "code",
   "execution_count": 3,
   "metadata": {},
   "outputs": [],
   "source": [
    "from tqdm.auto import tqdm\n",
    "\n",
    "\n",
    "t4d = (\n",
    "    lambda y_i, y_pred_i: y_pred_i\n",
    "    and y_i in y_pred_i\n",
    "    and y_i == str(y_pred_i.translate(str.maketrans(\"\", \"\", \".'\"))[2:])\n",
    ")\n",
    "bbh = lambda y_i, y_pred_i: y_pred_i and y_i.translate(\n",
    "    str.maketrans(\"\", \"\", \"()\")\n",
    ") == y_pred_i.translate(str.maketrans(\"\", \"\", '.()\"'))"
   ]
  },
  {
   "cell_type": "code",
   "execution_count": 54,
   "metadata": {},
   "outputs": [],
   "source": [
    "def calculate_correct_prediction_count(benchmark, y: list[str], y_pred: list[str]):\n",
    "    correct_preds = 0\n",
    "    for y_i, y_pred_i in tqdm(zip(y, y_pred), desc=\"Calculating...\"):\n",
    "        if benchmark == \"t4d\":\n",
    "            eval_fn = t4d\n",
    "        elif benchmark == \"bbh\":\n",
    "            eval_fn = bbh\n",
    "\n",
    "        if eval_fn(y_i, y_pred_i):\n",
    "            correct_preds += 1\n",
    "        else:\n",
    "            print(f\"{'<' * 20}START{'>' * 20}\")\n",
    "            print(f\"{y_i}\\n{'-' * 100}\\n{y_pred_i}\")\n",
    "            print(f\"{'<' * 20}END{'>' * 20}\", end=\"\\n\\n\")\n",
    "    return correct_preds"
   ]
  },
  {
   "cell_type": "markdown",
   "metadata": {},
   "source": [
    "# sports_understanding"
   ]
  },
  {
   "cell_type": "code",
   "execution_count": 5,
   "metadata": {},
   "outputs": [],
   "source": [
    "subset = 'sports_understanding'"
   ]
  },
  {
   "cell_type": "code",
   "execution_count": 11,
   "metadata": {},
   "outputs": [
    {
     "data": {
      "text/plain": [
       "PosixPath('/home/ubuntu/dev/self-discover/evals/logs/self_discover/llama/phaseII/bbh/bbh-sports_understanding/bbh-sports_understanding_eval')"
      ]
     },
     "execution_count": 11,
     "metadata": {},
     "output_type": "execute_result"
    }
   ],
   "source": [
    "path = here(os.path.join(base_path, f\"bbh-{subset}\", f\"bbh-{subset}_eval\"))\n",
    "path"
   ]
  },
  {
   "cell_type": "code",
   "execution_count": 12,
   "metadata": {},
   "outputs": [
    {
     "data": {
      "text/plain": [
       "Dataset({\n",
       "    features: ['input', 'target', 'self_discover_input', 'reasoning_structure', 'reasoning', 'trajectory', 'answer_pred'],\n",
       "    num_rows: 250\n",
       "})"
      ]
     },
     "execution_count": 12,
     "metadata": {},
     "output_type": "execute_result"
    }
   ],
   "source": [
    "dataset = Dataset.load_from_disk(path)\n",
    "dataset"
   ]
  },
  {
   "cell_type": "code",
   "execution_count": 13,
   "metadata": {},
   "outputs": [
    {
     "name": "stdout",
     "output_type": "stream",
     "text": [
      "```\n",
      "{\n",
      "    Identify key assumptions: {\n",
      "        Identify the sport being referred to in the sentence: Football (American),\n",
      "        Identify the specific action being described in the sentence: Catching a screen pass,\n",
      "        Identify the key elements such as the person, action, and sport: Tyreek Hill, catching, screen pass, football,\n",
      "    },\n",
      "    Simplify the sentence: {\n",
      "        Remove any unnecessary words or phrases from the sentence: None,\n",
      "        Identify the main verb and subject of the sentence: caught (verb), Tyreek Hill (subject),\n",
      "    },\n",
      "    Analyze from different perspectives: {\n",
      "        Evaluate the sentence based on the rules of the sport: In football, a screen pass is a type of play where the quarterback throws a short pass to a receiver who is being blocked by linemen. This is a common and allowed play in football.,\n",
      "        Evaluate the sentence based on the abilities of the person mentioned: Tyreek Hill is a professional football player known for his speed and agility, making it plausible for him to catch a screen pass.,\n",
      "        Evaluate the sentence based on the context in which the action is taking place: The sentence does not provide additional context, but based on the information given, it appears to be a typical in-game scenario.,\n",
      "    },\n",
      "    Identify the core issue or problem: {\n",
      "        Check for inconsistencies with the sport or action being described: None found,\n",
      "        Check for any contradictions or ambiguities in the sentence: None found,\n",
      "    },\n",
      "    Gather relevant data or information: {\n",
      "        Check for any relevant sports statistics or rules: Screen passes are a common play in football, and there are no specific rules that would make this scenario implausible.,\n",
      "        Check for any relevant information about the person mentioned: Tyreek Hill is a skilled football player with a history of making successful catches, including screen passes.,\n",
      "    },\n",
      "    Determine the type of problem: {\n",
      "        Check if the problem is technical or practical: This is a practical scenario, as it describes a specific in-game action.,\n",
      "        Check if the problem is conceptual or theoretical: This is not a theoretical problem, as it is based on a real-life sport and scenario.,\n",
      "    },\n",
      "    Evaluate the sentence: {\n",
      "        Check if the sentence is a description of a creative or innovative action: This is not a particularly creative or innovative action, as screen passes are a common play in football.,\n",
      "        Check if the sentence is a description of a standard or common action: Yes, this is a standard action in football.,\n",
      "    },\n",
      "    Consider alternative explanations: {\n",
      "        Guess other possible explanations or interpretations of the sentence: None needed, as the sentence is clear and concise.,\n",
      "        Consider alternative perspectives or viewpoints: From the perspective of a football fan or analyst, this sentence would be considered a normal and plausible description of in-game action.,\n",
      "    },\n",
      "    Evaluate the plausibility of the sentence: {\n",
      "        Based on the analysis, determine if the sentence is plausible or not: Plausible,\n",
      "    },\n",
      "}\n",
      "```\n",
      "\n",
      "The final answer is Plausible.\n"
     ]
    }
   ],
   "source": [
    "print(dataset[0][\"reasoning\"])"
   ]
  },
  {
   "cell_type": "code",
   "execution_count": 14,
   "metadata": {},
   "outputs": [
    {
     "data": {
      "text/plain": [
       "({'False.',\n",
       "  'No.',\n",
       "  'Not very plausible.',\n",
       "  'Plausible but uncertain.',\n",
       "  'Plausible.',\n",
       "  'Somewhat plausible, but unlikely.',\n",
       "  'True.',\n",
       "  'Unlikely.'},\n",
       " {'no', 'yes'})"
      ]
     },
     "execution_count": 14,
     "metadata": {},
     "output_type": "execute_result"
    }
   ],
   "source": [
    "set(dataset[\"answer_pred\"]), set(dataset[\"target\"])"
   ]
  },
  {
   "cell_type": "code",
   "execution_count": 17,
   "metadata": {},
   "outputs": [
    {
     "data": {
      "application/vnd.jupyter.widget-view+json": {
       "model_id": "2480953b436c4b448148467fff52f3d9",
       "version_major": 2,
       "version_minor": 0
      },
      "text/plain": [
       "Map:   0%|          | 0/250 [00:00<?, ? examples/s]"
      ]
     },
     "metadata": {},
     "output_type": "display_data"
    },
    {
     "data": {
      "text/plain": [
       "{'Plausible but uncertain.', 'Somewhat plausible, but unlikely.', 'no', 'yes'}"
      ]
     },
     "execution_count": 17,
     "metadata": {},
     "output_type": "execute_result"
    }
   ],
   "source": [
    "# Plausible (Yes)\n",
    "plausible_yes = [\n",
    "    'Plausible.',\n",
    "    'True.',\n",
    "]\n",
    "\n",
    "# Implausible (No)\n",
    "implausible_no = [\n",
    "    'No.',\n",
    "    'Not very plausible.',\n",
    "    'False.',\n",
    "    'Unlikely.'\n",
    "]\n",
    "\n",
    "indeterminate = [\n",
    "    'Plausible but uncertain.',\n",
    "    'Somewhat plausible, but unlikely.',\n",
    "]\n",
    "\n",
    "\n",
    "def map_fn(ins):\n",
    "    for yes in plausible_yes:\n",
    "        if yes == ins[\"answer_pred\"]:\n",
    "            return {\n",
    "                \"answer_pred\": \"yes\"\n",
    "            }\n",
    "\n",
    "    for no in implausible_no:\n",
    "        if no == ins[\"answer_pred\"]:\n",
    "            return {\n",
    "                \"answer_pred\": \"no\"\n",
    "            }\n",
    "    return {\n",
    "        \"answer_pred\": ins[\"answer_pred\"]\n",
    "    }\n",
    "\n",
    "dataset = dataset.map(map_fn)\n",
    "set(dataset[\"answer_pred\"])"
   ]
  },
  {
   "cell_type": "code",
   "execution_count": 18,
   "metadata": {},
   "outputs": [
    {
     "data": {
      "application/vnd.jupyter.widget-view+json": {
       "model_id": "4f6bd193c7334e41be45b7c026ce6362",
       "version_major": 2,
       "version_minor": 0
      },
      "text/plain": [
       "Calculating...: 0it [00:00, ?it/s]"
      ]
     },
     "metadata": {},
     "output_type": "display_data"
    },
    {
     "name": "stdout",
     "output_type": "stream",
     "text": [
      "no, yes\n",
      "\n",
      "yes, no\n",
      "\n",
      "no, yes\n",
      "\n",
      "no, yes\n",
      "\n",
      "yes, no\n",
      "\n",
      "no, yes\n",
      "\n",
      "no, Somewhat plausible, but unlikely.\n",
      "\n",
      "no, yes\n",
      "\n",
      "no, yes\n",
      "\n",
      "no, yes\n",
      "\n",
      "no, yes\n",
      "\n",
      "yes, no\n",
      "\n",
      "no, yes\n",
      "\n",
      "no, yes\n",
      "\n",
      "no, yes\n",
      "\n",
      "no, yes\n",
      "\n",
      "no, yes\n",
      "\n",
      "no, yes\n",
      "\n",
      "no, yes\n",
      "\n",
      "yes, no\n",
      "\n",
      "no, yes\n",
      "\n",
      "no, yes\n",
      "\n",
      "no, yes\n",
      "\n",
      "yes, no\n",
      "\n",
      "no, yes\n",
      "\n",
      "yes, Plausible but uncertain.\n",
      "\n",
      "no, yes\n",
      "\n",
      "no, yes\n",
      "\n",
      "no, yes\n",
      "\n",
      "yes, no\n",
      "\n",
      "yes, no\n",
      "\n",
      "yes, no\n",
      "\n",
      "no, yes\n",
      "\n"
     ]
    },
    {
     "data": {
      "text/plain": [
       "0.868"
      ]
     },
     "execution_count": 18,
     "metadata": {},
     "output_type": "execute_result"
    }
   ],
   "source": [
    "(calculate_correct_prediction_count(\"bbh\", dataset[\"target\"], dataset[\"answer_pred\"])) / dataset.num_rows"
   ]
  },
  {
   "cell_type": "markdown",
   "metadata": {},
   "source": [
    "# web_of_lies"
   ]
  },
  {
   "cell_type": "code",
   "execution_count": 19,
   "metadata": {},
   "outputs": [],
   "source": [
    "subset = 'web_of_lies'"
   ]
  },
  {
   "cell_type": "code",
   "execution_count": 20,
   "metadata": {},
   "outputs": [
    {
     "data": {
      "text/plain": [
       "PosixPath('/home/ubuntu/dev/self-discover/evals/logs/self_discover/llama/phaseII/bbh/bbh-web_of_lies/bbh-web_of_lies_eval')"
      ]
     },
     "execution_count": 20,
     "metadata": {},
     "output_type": "execute_result"
    }
   ],
   "source": [
    "path = here(os.path.join(base_path, f\"bbh-{subset}\", f\"bbh-{subset}_eval\"))\n",
    "path"
   ]
  },
  {
   "cell_type": "code",
   "execution_count": 21,
   "metadata": {},
   "outputs": [
    {
     "data": {
      "text/plain": [
       "Dataset({\n",
       "    features: ['input', 'target', 'self_discover_input', 'reasoning_structure', 'reasoning', 'trajectory', 'answer_pred'],\n",
       "    num_rows: 250\n",
       "})"
      ]
     },
     "execution_count": 21,
     "metadata": {},
     "output_type": "execute_result"
    }
   ],
   "source": [
    "dataset = Dataset.load_from_disk(path)\n",
    "dataset"
   ]
  },
  {
   "cell_type": "code",
   "execution_count": 22,
   "metadata": {},
   "outputs": [
    {
     "name": "stdout",
     "output_type": "stream",
     "text": [
      "```\n",
      "{\n",
      "    \"Step 1: Identify the Target Person\": {\n",
      "        \"Identify the person whose truthfulness needs to be determined\": \"Elanor\"\n",
      "    },\n",
      "    \"Step 2: Analyze the Chain of Statements\": {\n",
      "        \"Break down the chain of statements into smaller parts\": [\n",
      "            \"Raymond tells the truth\",\n",
      "            \"Sal says Raymond lies\",\n",
      "            \"Alexis says Sal lies\",\n",
      "            \"Helene says Alexis lies\",\n",
      "            \"Elanor says Helene lies\"\n",
      "        ],\n",
      "        \"Identify the relationships between each pair of people\": {\n",
      "            \"Raymond and Sal\": \"opposite\",\n",
      "            \"Sal and Alexis\": \"opposite\",\n",
      "            \"Alexis and Helene\": \"opposite\",\n",
      "            \"Helene and Elanor\": \"opposite\"\n",
      "        }\n",
      "    },\n",
      "    \"Step 3: Simplify the Problem\": {\n",
      "        \"Identify the key statements and relationships between people\": [\n",
      "            \"Raymond tells the truth\",\n",
      "            \"Sal and Alexis have opposite statements\",\n",
      "            \"Alexis and Helene have opposite statements\",\n",
      "            \"Helene and Elanor have opposite statements\"\n",
      "        ],\n",
      "        \"Focus on the most relevant information to determine the truthfulness of the target person\": \"The chain of opposite statements\"\n",
      "    },\n",
      "    \"Step 4: Evaluate the Truthfulness of Each Person\": {\n",
      "        \"Analyze the relationships between each person's statements\": \"If one person lies, the next person tells the truth, and vice versa\",\n",
      "        \"Identify potential causes or motivations for lying or telling the truth\": \"Each person's statement is a reaction to the previous person's statement\"\n",
      "    },\n",
      "    \"Step 5: Determine the Truthfulness of the Target Person\": {\n",
      "        \"Combine the results from the previous steps to determine the overall truthfulness of the target person\": \"Since the chain starts with Raymond telling the truth, and each subsequent person has an opposite statement, the pattern alternates between truth and lie\"\n",
      "    },\n",
      "    \"Step 6: Consider Alternative Scenarios\": {\n",
      "        \"Consider alternative scenarios or possibilities for the chain of statements\": \"No alternative scenarios are plausible, as the chain of statements is consistent with the pattern of alternating truth and lie\",\n",
      "        \"Evaluate the likelihood of each scenario to determine the most plausible solution\": \"The given scenario is the most plausible solution\"\n",
      "    },\n",
      "    \"Step 7: Draw a Conclusion\": {\n",
      "        \"Based on the analysis, determine whether the target person tells the truth or lies\": \"Since the pattern alternates between truth and lie, and Elanor is the fifth person in the chain, Elanor tells the truth\"\n",
      "    }\n",
      "}\n",
      "```\n",
      "\n",
      "The final answer is True.\n"
     ]
    }
   ],
   "source": [
    "print(dataset[0][\"reasoning\"])"
   ]
  },
  {
   "cell_type": "code",
   "execution_count": 23,
   "metadata": {},
   "outputs": [
    {
     "data": {
      "text/plain": [
       "({'Alexis tells the truth.',\n",
       "  'False.',\n",
       "  'Lorine lies.',\n",
       "  'No.',\n",
       "  'True.',\n",
       "  'Vina tells the truth.',\n",
       "  'Yes.'},\n",
       " {'No', 'Yes'})"
      ]
     },
     "execution_count": 23,
     "metadata": {},
     "output_type": "execute_result"
    }
   ],
   "source": [
    "set(dataset[\"answer_pred\"]), set(dataset[\"target\"])"
   ]
  },
  {
   "cell_type": "code",
   "execution_count": 24,
   "metadata": {},
   "outputs": [
    {
     "data": {
      "application/vnd.jupyter.widget-view+json": {
       "model_id": "bb1f65ec5fd8473d827000c01cfd844a",
       "version_major": 2,
       "version_minor": 0
      },
      "text/plain": [
       "Map:   0%|          | 0/250 [00:00<?, ? examples/s]"
      ]
     },
     "metadata": {},
     "output_type": "display_data"
    },
    {
     "data": {
      "text/plain": [
       "{'No', 'Yes'}"
      ]
     },
     "execution_count": 24,
     "metadata": {},
     "output_type": "execute_result"
    }
   ],
   "source": [
    "# Truth (Yes)\n",
    "truth_yes = [\n",
    "    'Alexis tells the truth.',\n",
    "    'True.',\n",
    "    'Vina tells the truth.',\n",
    "    'Yes.'\n",
    "]\n",
    "\n",
    "\n",
    "# False (No)\n",
    "false_no = [\n",
    "    'False.',\n",
    "    'Lorine lies.',\n",
    "    'No.',\n",
    "]\n",
    "\n",
    "\n",
    "def map_fn(ins):\n",
    "    for yes in truth_yes:\n",
    "        if yes == ins[\"answer_pred\"]:\n",
    "            return {\n",
    "                \"answer_pred\": \"Yes\"\n",
    "            }\n",
    "\n",
    "    for no in false_no:\n",
    "        if no == ins[\"answer_pred\"]:\n",
    "            return {\n",
    "                \"answer_pred\": \"No\"\n",
    "            }\n",
    "    return {\n",
    "        \"answer_pred\": ins[\"answer_pred\"]\n",
    "    }\n",
    "\n",
    "dataset = dataset.map(map_fn)\n",
    "set(dataset[\"answer_pred\"])"
   ]
  },
  {
   "cell_type": "code",
   "execution_count": 25,
   "metadata": {},
   "outputs": [
    {
     "data": {
      "application/vnd.jupyter.widget-view+json": {
       "model_id": "9f04cb8692934765b020efd62c54b35a",
       "version_major": 2,
       "version_minor": 0
      },
      "text/plain": [
       "Calculating...: 0it [00:00, ?it/s]"
      ]
     },
     "metadata": {},
     "output_type": "display_data"
    },
    {
     "name": "stdout",
     "output_type": "stream",
     "text": [
      "No, Yes\n",
      "\n",
      "No, Yes\n",
      "\n",
      "No, Yes\n",
      "\n",
      "No, Yes\n",
      "\n",
      "No, Yes\n",
      "\n",
      "No, Yes\n",
      "\n",
      "No, Yes\n",
      "\n",
      "No, Yes\n",
      "\n",
      "No, Yes\n",
      "\n",
      "No, Yes\n",
      "\n",
      "Yes, No\n",
      "\n",
      "No, Yes\n",
      "\n",
      "No, Yes\n",
      "\n",
      "No, Yes\n",
      "\n",
      "No, Yes\n",
      "\n",
      "No, Yes\n",
      "\n",
      "No, Yes\n",
      "\n",
      "No, Yes\n",
      "\n",
      "No, Yes\n",
      "\n",
      "No, Yes\n",
      "\n",
      "No, Yes\n",
      "\n",
      "No, Yes\n",
      "\n"
     ]
    },
    {
     "data": {
      "text/plain": [
       "0.912"
      ]
     },
     "execution_count": 25,
     "metadata": {},
     "output_type": "execute_result"
    }
   ],
   "source": [
    "(calculate_correct_prediction_count(\"bbh\", dataset[\"target\"], dataset[\"answer_pred\"])) / dataset.num_rows"
   ]
  },
  {
   "cell_type": "markdown",
   "metadata": {},
   "source": [
    "# word_sorting"
   ]
  },
  {
   "cell_type": "code",
   "execution_count": 26,
   "metadata": {},
   "outputs": [],
   "source": [
    "subset = 'word_sorting'"
   ]
  },
  {
   "cell_type": "code",
   "execution_count": 27,
   "metadata": {},
   "outputs": [
    {
     "data": {
      "text/plain": [
       "PosixPath('/home/ubuntu/dev/self-discover/evals/logs/self_discover/llama/phaseII/bbh/bbh-word_sorting/bbh-word_sorting_eval')"
      ]
     },
     "execution_count": 27,
     "metadata": {},
     "output_type": "execute_result"
    }
   ],
   "source": [
    "path = here(os.path.join(base_path, f\"bbh-{subset}\", f\"bbh-{subset}_eval\"))\n",
    "path"
   ]
  },
  {
   "cell_type": "code",
   "execution_count": 106,
   "metadata": {},
   "outputs": [
    {
     "data": {
      "text/plain": [
       "Dataset({\n",
       "    features: ['input', 'target', 'self_discover_input', 'reasoning_structure', 'reasoning', 'trajectory', 'answer_pred'],\n",
       "    num_rows: 250\n",
       "})"
      ]
     },
     "execution_count": 106,
     "metadata": {},
     "output_type": "execute_result"
    }
   ],
   "source": [
    "dataset = Dataset.load_from_disk(path)\n",
    "dataset"
   ]
  },
  {
   "cell_type": "code",
   "execution_count": 58,
   "metadata": {},
   "outputs": [
    {
     "name": "stdout",
     "output_type": "stream",
     "text": [
      "```\n",
      "{\n",
      "    Identify the list of words to be sorted: {\n",
      "        Extract the list of words from the task description: The list of words to be sorted is \"slurp\", \"raytheon\", and \"gloucester\".\n",
      "    },\n",
      "    Determine the primary goal or objective: {\n",
      "        Identify the sorting criterion, which is alphabetical order: The primary goal is to arrange the words in alphabetical order.\n",
      "    },\n",
      "    Simplify the list of words: {\n",
      "        Identify common characteristics, such as prefixes or suffixes: There are no common prefixes or suffixes among the words.\n",
      "    },\n",
      "    Break down the list of words into smaller groups or categories: {\n",
      "        Group words starting with the same letter: The words can be grouped as follows: \n",
      "            - \"g\": gloucester\n",
      "            - \"r\": raytheon\n",
      "            - \"s\": slurp\n",
      "    },\n",
      "    Compare each word to the ones that come before and after it: {\n",
      "        Iterate through the list of words step by step to ensure correct order: \n",
      "            1. gloucester comes before raytheon\n",
      "            2. raytheon comes before slurp\n",
      "    },\n",
      "    Implement a step-by-step plan for sorting the list of words: {\n",
      "        Check for correct spelling: All words are spelled correctly.\n",
      "        Verify the alphabetical order of each word: \n",
      "            1. gloucester\n",
      "            2. raytheon\n",
      "            3. slurp\n",
      "    },\n",
      "    Combine the sorted groups or categories: {\n",
      "        Merge the groups of words into a single sorted list: The sorted list is gloucester, raytheon, slurp.\n",
      "    },\n",
      "}\n",
      "```\n",
      "\n",
      "The final answer is gloucester, raytheon, slurp.\n"
     ]
    }
   ],
   "source": [
    "print(dataset[0][\"reasoning\"])"
   ]
  },
  {
   "cell_type": "code",
   "execution_count": 59,
   "metadata": {},
   "outputs": [
    {
     "data": {
      "text/plain": [
       "36"
      ]
     },
     "execution_count": 59,
     "metadata": {},
     "output_type": "execute_result"
    }
   ],
   "source": [
    "answer_pred_list = [x.translate(str.maketrans(\"\", \"\", \"-.'\\\"\")) for x in dataset[\"answer_pred\"] if x and '[' in x]\n",
    "len(answer_pred_list)"
   ]
  },
  {
   "cell_type": "code",
   "execution_count": 60,
   "metadata": {},
   "outputs": [
    {
     "data": {
      "text/plain": [
       "['asset',\n",
       " 'bona',\n",
       " 'cicero',\n",
       " 'coastal',\n",
       " 'dusky',\n",
       " 'exonerate',\n",
       " 'gaussian',\n",
       " 'handlebar',\n",
       " 'inhabitation',\n",
       " 'portfolio',\n",
       " 'purport',\n",
       " 'rastus',\n",
       " 'responsible',\n",
       " 'ruanda',\n",
       " 'silver',\n",
       " 'zig']"
      ]
     },
     "execution_count": 60,
     "metadata": {},
     "output_type": "execute_result"
    }
   ],
   "source": [
    "answer_pred_list[0].translate(str.maketrans(\"\", \"\", \"[]\")).split(\", \")"
   ]
  },
  {
   "cell_type": "code",
   "execution_count": 61,
   "metadata": {},
   "outputs": [
    {
     "data": {
      "text/plain": [
       "{'',\n",
       " '\"clytemnestra\", \"crag\", \"cutover\", \"diocletian\", \"dickson\", \"electrolytic\", \"inhuman\", \"lipton\", \"marginal\", \"scrawny\", \"stalk\", \"thereupon\", \"took\", \"wife\", \"wireman\", \"workplace\".',\n",
       " \"- accelerate, bauer, county, nail, nominee, o'connell, phony, poole, putnam, quantify, raisin, venice.\",\n",
       " '[\"abc\", \"ada\", \"austere\", \"blend\", \"cankerworm\", \"falcon\", \"flamboyant\", \"gag\", \"grecian\", \"hanukkah\", \"indicate\", \"kruger\", \"lobster\", \"militia\", \"nobody\", \"pierson\", \"quad\", \"right\", \"ron\", \"wildcat\"].',\n",
       " '[\"abdominal\", \"address\", \"berry\", \"bounty\", \"effusive\", \"fomalhaut\", \"hanoverian\", \"involve\", \"islamabad\", \"jordan\", \"optimal\", \"pay\", \"stearic\", \"stigmata\", \"swathe\", \"tattoo\", \"them\", \"tornado\", \"yang\"].',\n",
       " '[\"abramson\", \"bangui\", \"carlisle\", \"cavalier\", \"contextual\", \"dustbin\", \"emacs\", \"implementor\", \"islamabad\", \"magistrate\", \"nudge\", \"picnicking\", \"railway\", \"refractory\", \"silvery\", \"waite\"].',\n",
       " '[\"absorption\", \"aristocratic\", \"bermuda\", \"cesium\", \"cheerful\", \"congo\", \"diagram\", \"eucre\", \"ezra\", \"fallen\", \"juvenile\", \"musty\", \"nigeria\", \"nod\", \"quartile\", \"screechy\", \"slack\", \"testicle\"].',\n",
       " '[\"accept\", \"alpenstock\", \"angus\", \"castigate\", \"chromium\", \"concision\", \"doge\", \"drool\", \"elizabethan\", \"jutish\", \"marshmallow\", \"ocean\", \"octennial\", \"prize\", \"resistive\", \"stonewort\", \"vociferous\"].',\n",
       " '[\"accrue\", \"archipelago\", \"biplane\", \"breezy\", \"canada\", \"conspiracy\", \"constructor\", \"dobbins\", \"germinal\", \"hamburger\", \"insubstantial\", \"laramie\", \"lost\", \"malleable\", \"nutrient\", \"peloponnese\", \"ted\", \"thigh\"].',\n",
       " '[\"acoustic\", \"anarchic\", \"bureaucracy\", \"diatom\", \"fabricate\", \"guelph\", \"immovable\", \"leftward\", \"liven\", \"neo\", \"phenomenology\", \"provide\", \"shortcut\", \"suggestive\", \"syndrome\", \"total\", \"trammel\", \"usage\", \"yarmulke\"].',\n",
       " '[\"adipic\", \"antique\", \"athlete\", \"atonic\", \"catch\", \"encumber\", \"lauderdale\", \"neutrino\", \"olivia\", \"persona\", \"sovereignty\", \"specify\", \"statuette\", \"whiteface\"].',\n",
       " '[\"adonis\", \"birdseed\", \"citizen\", \"contaminant\", \"convair\", \"extensive\", \"fateful\", \"frighten\", \"judaica\", \"scrubby\", \"soothe\", \"southeastern\", \"stormy\", \"suppose\", \"trillion\", \"trundle\"].',\n",
       " '[\"aerospace\", \"allure\", \"common\", \"decoy\", \"denmark\", \"enviable\", \"exclusive\", \"frill\", \"griffith\", \"jibe\", \"loosestrife\", \"nanosecond\", \"saute\", \"screechy\", \"sow\", \"spermatozoa\", \"spitz\", \"swabby\", \"yates\"].',\n",
       " '[\"afternoon\", \"complementary\", \"dixie\", \"hesitate\", \"horsepower\", \"immaculate\", \"kind\", \"laughlin\", \"loire\", \"mechanism\", \"nimble\", \"sandia\", \"septuagenarian\", \"shuffleboard\", \"sierra\", \"toggle\", \"woebegone\"].',\n",
       " '[\"aggression\", \"arachne\", \"asplenium\", \"bystander\", \"definite\", \"gneiss\", \"lengthy\", \"sanford\", \"southeast\", \"translate\"].',\n",
       " '[\"airlift\", \"butch\", \"cone\", \"homeowner\", \"inanimate\", \"incurring\", \"logarithm\", \"lumber\", \"maladapt\", \"micron\", \"newman\", \"profuse\", \"robertson\", \"sammy\", \"souvenir\", \"uganda\", \"wilcox\"].',\n",
       " '[\"allocable\", \"bertram\", \"boutique\", \"champlain\", \"crunchy\", \"dissipate\", \"facto\", \"highlight\", \"hydrology\", \"judaism\", \"labile\", \"necessity\", \"often\", \"phenol\", \"silage\", \"vale\"].',\n",
       " '[\"allocate\", \"ann\", \"bishopric\", \"blake\", \"carbondale\", \"casual\", \"cometh\", \"confirmatory\", \"crinkle\", \"degum\", \"elliot\", \"expatriate\", \"hangable\", \"neal\", \"orthodontist\", \"shenandoah\", \"soybean\", \"telegraph\", \"tuxedo\", \"unipolar\"].',\n",
       " '[\"alveolar\", \"arabesque\", \"arkansan\", \"bedroom\", \"bend\", \"brassiere\", \"curvilinear\", \"diagnosable\", \"deterrent\", \"fluke\", \"fossiliferous\", \"novel\", \"patrolman\", \"planeload\", \"sheep\", \"spearmint\", \"trident\", \"yen\", \"ytterbium\"].',\n",
       " '[\"amanita\", \"amatory\", \"annoy\", \"besiege\", \"boggle\", \"california\", \"canticle\", \"crocodilian\", \"dexter\", \"dissipate\", \"dizzy\", \"encephalitis\", \"hornblower\", \"notre\", \"pasture\", \"propylene\", \"psychiatric\", \"sepia\", \"snipe\", \"straight\"].',\n",
       " '[\"animism\", \"awash\", \"beau\", \"bessie\", \"cream\", \"extricable\", \"helical\", \"indoeuropean\", \"pendulum\", \"sanhedrin\", \"scratchy\", \"venezuela\", \"vice\"].',\n",
       " '[\"antaeus\", \"caw\", \"daughter\", \"devonshire\", \"gloria\", \"helvetica\", \"hi\", \"leatherback\", \"magnesium\", \"megohm\", \"nikko\", \"raincoat\", \"scald\", \"schroedinger\", \"sojourn\", \"terminal\", \"woodcarver\"].',\n",
       " '[\"asset\", \"bona\", \"cicero\", \"coastal\", \"dusky\", \"exonerate\", \"gaussian\", \"handlebar\", \"inhabitation\", \"portfolio\", \"purport\", \"rastus\", \"responsible\", \"ruanda\", \"silver\", \"zig\"].',\n",
       " '[\"astronomic\", \"cabdriver\", \"coherent\", \"loch\", \"pivot\", \"wagging\"].',\n",
       " '[\"authenticate\", \"carbonic\", \"choreograph\", \"corvallis\", \"countersink\", \"equestrian\", \"have\", \"libya\", \"metal\", \"multifarious\", \"nitric\", \"obfuscatory\", \"petition\", \"pro\", \"retardant\", \"wigwam\", \"wishful\"].',\n",
       " '[\"avoidance\", \"casualty\", \"courtier\", \"gibbon\", \"leprosy\", \"merge\", \"sidewinder\", \"shouldn\\'t\", \"tacky\", \"transgressor\"].',\n",
       " '[\"babysat\", \"consul\", \"curvaceous\", \"cutaneous\", \"hugh\", \"regiment\", \"spoke\", \"stationarity\"].',\n",
       " '[\"banshee\", \"beefsteak\", \"beware\", \"bicycle\", \"birthplace\", \"diacritic\", \"helical\", \"junctor\", \"musicology\", \"obstinate\", \"postcondition\", \"protoplasmic\", \"sap\", \"state\", \"uptrend\", \"vasoconstriction\"].',\n",
       " '[\"barn\", \"damp\", \"delmarva\", \"dot\", \"drumhead\", \"embezzle\", \"entirety\", \"greene\", \"guru\", \"it&t\", \"malton\", \"obstetric\", \"onus\", \"panicking\", \"prod\", \"same\", \"scorch\", \"splutter\", \"subsist\", \"thrill\"].',\n",
       " '[\"baronial\", \"checksum\", \"circumstance\", \"comment\", \"dartmouth\", \"dredge\", \"emittance\", \"eulogy\", \"felicia\", \"huckster\", \"monochromator\", \"neuroanatomic\", \"spotlight\"].',\n",
       " '[\"bindle\", \"chiang\", \"crystallography\", \"dent\", \"mambo\", \"ram\", \"roadside\", \"rundown\", \"savannah\", \"shipshape\", \"spew\", \"strange\", \"survey\", \"won\\'t\"].',\n",
       " '[\"bonito\", \"dreamboat\", \"fritter\", \"haggard\", \"nose\", \"whodunit\", \"worcestershire\"].',\n",
       " '[\"campfire\", \"contrast\", \"crowfoot\", \"purgatory\", \"scrupulous\"].',\n",
       " '[\"christen\", \"clearheaded\", \"despond\", \"driveway\", \"encapsulate\", \"fungi\", \"gob\", \"mendelevium\", \"midwinter\", \"purpose\", \"sisyphus\", \"stanhope\", \"strip\", \"studious\", \"symmetry\", \"trample\", \"vs\", \"wring\"].',\n",
       " '[\"cloudy\", \"ecosystem\", \"ferret\", \"knotty\"].',\n",
       " '[\"downtrodden\", \"gadgetry\", \"gamin\", \"hurst\", \"inertial\", \"maraud\", \"morphine\", \"parsonage\", \"propane\"].',\n",
       " '[\"haughty\", \"seashore\"].',\n",
       " '[\"muddy\", \"nascent\"].',\n",
       " '[\"syndrome\", \"therefrom\"].',\n",
       " 'abbas, average, bridesmaid, catsup, charm, coddle, dogfish, hypothalamus, inequity, inconvertible, integral, invocable, memorandum, multiplet, phloem, region, scherzo, shutout, therewith, trumpery.',\n",
       " 'abbe, adposition, arragon, cast, danbury, emplace, falsetto, gavin, income, inhibit, onerous, palazzi, tabletop.',\n",
       " 'aberdeen, analogue, deciduous, easel, sprightly, swaziland.',\n",
       " 'abner, abramson, amity, automate, exquisite, fruitful, gurgle, none, shampoo, shorten, waterproof.',\n",
       " 'abo, armful, bonaventure, cremate, dictatorial, embryology, frond, gasify, guiana, herman, indistinguishable, oscillatory, pancreatic, passenger, referential, stockholder, through, tip.',\n",
       " 'above, big, broken, coexist, dominate, irk, olive, prometheus, screw, thirdhand.',\n",
       " 'abstract, borough, brown, cortex, cosec, delphinium, diminutive, fleabane, foot, guy, hair, highfalutin, ipsilateral, longish, mobster, richfield, trapezoidal, ugh, wintertime.',\n",
       " 'abuilding, burgher, celebrity, chigger, ernie, exorcism, indiscoverable, medlar, newsboy, pow, snuff, synchronous, thimble, thirteenth, tinfoil, yap.',\n",
       " 'abutted, agamemnon, aquatic, capacity, casualty, essex, guinea, hitachi, hondo, islamic, loquacious, loosen, niece, planet, roadway, solstice, steed, suspicion, tibet.',\n",
       " 'academia, amos, beautiful, butterscotch, circuitous, diatom, europium, extoller, farrell, fiducial, ford, glance, kochab, metzler, molybdate, monomer, predatory, veterinarian.',\n",
       " 'accept, avoid, caramel, carbuncle, compressor, conclave, drib, elegy, embower, error, gaillardia, grassland, hostile, pitfall, rosa, spectra, stepchild, utopia, whimsey.',\n",
       " 'accessory, admiration, allusion, bandgap, bruckner, cruise, fungus, gambit, heron, maidenhair, postprocessor, proscenium, technion.',\n",
       " 'acclaim, champ, clothbound, commodity, conclusion, delirious, dyestuff, exempt, gadwall, hayes, hood, hypothalamus, jigsaw, lozenge, pipeline, plentiful, sarcastic, seashell, sensory, teen',\n",
       " 'accomplice, az, choral, circumcircle, clatter, crepe, doff, emission, fairfax, incantation, labour, lorry, pleura, prig, ride, tea, upon, viaduct, wheelbase, whim.',\n",
       " 'acidify, antagonism, asteria.',\n",
       " 'acquisitive, annuity, autocracy, bruno, custody, dare, exploitation, lodge, militant, quench, somatic, thunderclap, ventricle.',\n",
       " 'acrobacy, advisee, ape, apostate, cardigan, chancery, cochran, crowbait, equip, evildoer, hillman, hoofprint, kuwait, max, molten, practise, retinue, sloane, wuhan.',\n",
       " 'across, admixture, directrix, flight, gut, indicate, marshal, predacious, quagmire, smuggle, vantage.',\n",
       " 'admixture, catwalk, chateaux, coordinate, equine, higgins, irremediable, malthusian, offertory, panamanian, pecos, reluctant, shelve, suction, tunis.',\n",
       " 'adopt, afghan, friday, glimmer, multitudinous, pacifist, wage, worcestershire.',\n",
       " 'adsorption, align, anastasia, anastomotic, apache, award, bobbin, burrow, calumny, epaulet, execrable, hostelry, hun, macedon, omnipotent, putty, roughshod, smooth, spontaneity.',\n",
       " 'advent, anger, convoy, deliver, filly, gneiss, grocer, hessian, hotbox, landau, marlborough, ninebark, plat, platelet, pyrotechnic, siemens, stapleton, transitive, treadle, uncle.',\n",
       " 'aeneas, colombo, foothold, fox, garry, glycerine, inviolate, lucre, magnanimity, nevada, notoriety, plebiscite, pompey, quagmire, satanic, scription, softball, spleenwort, tennyson, type.',\n",
       " 'aeneid, administer, coachman, decadent, delhi, dey, gradate, grim, jacky, littleneck, phosphorescent, pristine, shrunk, sinh, systemwide, tasting, thrown, torpedo, verdict.',\n",
       " 'aerodynamic, botanist, giacomo, habitation, jimmy, nebulous, offset, padre, panicking, roosevelt, schoolmate, suburbia, vector, wv.',\n",
       " 'affable, almost, apache, antic, astute, dandelion, deadlock, delphic, execution, fortunate, horntail, leverage, levitate, libertarian, sanction, scathe, semitic, storehouse, sweeney, unbeknownst.',\n",
       " 'affirmative, airframe, arcing, ballroom, bassoon, benefit, buggy, coupon, decide, dodge, hypothermia, intrepid, junior, ladle, nineveh, prorogue, schmitt, shagging, sparse, ulcerate.',\n",
       " 'affluent, cheshire, covalent, diagnostician, divisive, epsilon, folklore, gideon, gothic, grover, horowitz, julio, peanut, quadrature, salient, spiderwort, spiritual.',\n",
       " 'afloat, apostasy, bechtel, chattel, conner, ferment, grosbeak, hendrickson, indonesia, jacm, lanthanide, melancholy, quark, scavenge, strove, vibrate.',\n",
       " 'afro, blackbird, blame, calyx, elgin, emphases, implacable, jura, mayapple, perquisite, vii, whit.',\n",
       " 'agamemnon, clench, depreciate, eject, frame, forum, herbivorous, lien, marcello, numbly, search, sprout, unary, zaire.',\n",
       " 'agglomerate, ballast, dollop, erosible, expiry, extensor, gazpacho, indiscreet, manuel, oilcloth, ogle, spaniard.',\n",
       " 'agile, blackguard, butt, clapeyron, cognoscenti, flamboyant, geophysical, lift, lightfooted, manumitted, mathieu, meager, purposive, reconnaissance, sawbelly, scribe, seaworthy, wiseacre, woodcut, yves.',\n",
       " 'agrarian, applicate, candid, colossus, haddock, honeymoon, people, pragmatic, sheepskin.',\n",
       " 'aitken barycentric detest downey kajar nat solvate usable vision.',\n",
       " 'alcohol, behold, escutcheon, forth, fumarole, hackberry, motif, pease, regret, satisfy, uptake, walkie.',\n",
       " 'aldebaran, backyard, boxwood, cabbage, entrepreneurial, fiberboard, game, inkling, invincible, lakeside, lightface, matte, mcgee, peruse, polyhedra, pulsate, rae, rowley, shape, watchworks.',\n",
       " 'algonquin, beachhead, bloodstain, dilate, forth, frolic, lacunae, lazy, liggett, mcintosh, parameter, piggish, pintail, protector, slaughterhouse, sterno, unesco.',\n",
       " 'alkali, breach, buckle, falsetto, hyperboloid, liquidate, mirth, nagasaki, parmesan.',\n",
       " 'allegoric, collate, euphony, gloriana, loge, lollipop, mast, milord, prolix, rendezvous, salle, schnabel.',\n",
       " 'allele, anthropocentric, badinage, banish, bartok, brunswick, dale, dar, desolater, dun, fraternity, goat, martinson, monomer, morphemic, pegging, starkey, underclassmen, whoop, yourselves.',\n",
       " 'alleviate, benelux, buoyant, duopoly, felice, gland, gunk, hardbound, klaxon, mattress, tomography, townsmen.',\n",
       " 'allis, anthology, jacobi, marmot, membrane, oakland, seaborg, toggle, trapezoidal.',\n",
       " 'allot, chauncey, clergymen, coachmen, coddington, companion, embark, fatten, gazpacho, granular, hobble, murk, muslim, niggle, pristine, pvc, singlet, threefold, too, yeats.',\n",
       " 'allotted, fate, figural, gorky, grapple, hydroxyl, knives, neapolitan, nerve, plainfield, rampage, saxon, scottish, scrumptious, seventeen, siena, sidereal, stooge, thermal, yakima.',\n",
       " 'allstate dose dyad multitudinous plural powderpuff stalin.',\n",
       " 'allyn, carbonaceous, cetacean, investigatory, johann, majorca, paradigmatic, pathogenic, pray, supersede, tung.',\n",
       " 'almagest, archenemy, catawba, councilwomen, decrement, gnome, jungian, limpid, milt, photolysis, sagging, transfusable.',\n",
       " 'alphabet, birmingham, cantonese, educate, entourage, fashion, fond, marimba, mechanic, philology, retrofit.',\n",
       " 'alterate, aseptic, cayenne, chandigarh, declassify, debauch, dingy, equanimity, excursion, foamflower, groupoid, inclement, kruger, lawful, october, only, scorch.',\n",
       " 'altercate, cornerstone, courtroom, dusenberg, foraminifera, gossamer, insist, jive, promulgate, raft, sal, sophocles, syllabus, wrongdoer.',\n",
       " 'alternate, boone, chalcedony, charity, genteel, million, olden, satin, sinai.',\n",
       " \"ambient, appropriable, arroyo, billion, breccia, coupon, eardrum, faze, fivefold, intimidate, martinson, o'connor, perplex, secretary, social, surtout, terrestrial, voltmeter.\",\n",
       " 'amerada, craftsmen, din, eclipse, gaillardia, inroad, jackboot, jest, jordan, kill, mirth, nate, pomade, putt, shortcoming, spruce, whelan.',\n",
       " 'amethyst, bathos, dormouse, obtuse, resignation, walt.',\n",
       " 'ami, bituminous, decadent, exeter, knickerbocker.',\n",
       " \"amicable, browne, calumny, coo, deerstalker, extreme, henchman, histology, indoeuropean, paginate, pelvis, sonority, they've, tramway, turvy.\",\n",
       " 'amperage, crimea, farther, insolent, ping, protocol, raillery, stephen, tech.',\n",
       " 'anaglyph, cowbell, duane, fest, glamour, harriet, impressible, switchboard, texture, vietnamese, whippet.',\n",
       " 'anaheim, clinic, eaten, immemorial, madeira, marx, micro, offprint, sprue, subject, trafficked, va.',\n",
       " 'analyses, augustine, blueback, credential, den, erda, falter, fireproof, geophysics, guitar, keynote, meter, porte, shibboleth, stonewort, swampland, telephony, testimonial, timeshare, usa.',\n",
       " 'anaplasmosis, bumble, chopstick, clue, fiesta, footwork, fresco, ingot, orthography, palisade, pilate, saul, smalley, storey, teen.',\n",
       " 'anastomosis, backslide, calvert, commando, gabriel, hendrickson, hollister, jackson, pizzicato, quail, separate, shelter, spongy, sticktight, syndicate, variety, washy.',\n",
       " 'anchor, barre, buckle, concatenate, dimension, edgy, eleanor, epiphyte, faunal, integrate, masochist, orthodoxy, parasol, patrician, pendant, sail, singular, swift.',\n",
       " 'anharmonic, beauteous, coypu, inflammation.',\n",
       " 'anheuser, bungle, chaperon, frame, hippodrome, keller, miterwort, prompt, spidery, together, yolk.',\n",
       " 'aniline, boletus, eddy, fontainebleau, galveston, gentle, scandalous, skat, sportsmen, wile.',\n",
       " 'announce, carp, clayton, co, earthy, hello, inmate, nimbus, parentage, phonetic, sharon, skinny, sudan, watson.',\n",
       " 'antler, christiana, falter, invigorate, jot, kamikaze, landlady, libya, ludlow, mallow, porridge, residuary, tuscarora, wetland, wrapup.',\n",
       " 'aperture, bradshaw, holocene, mare, muriel, pathetic, r&d, sigh, staircase, talon.',\n",
       " 'apparition, conference, copra, coupe, dutton, floruit, ignore, implement, layperson, messenger, primitive, superstitious, turnoff, westward.',\n",
       " 'appliance, impede, pulitzer, superior.',\n",
       " 'appoint, baneberry, biharmonic, dyne, moustache, pirate, windowsill, wiry.',\n",
       " 'apprehension, cashew, ensemble.',\n",
       " 'aqueous, deregulate, gala, infantrymen, knob, lysergic, yaounde.',\n",
       " 'arapaho bacteria bela bock burley.',\n",
       " 'arenaceous, baccarat, blare, bowman, earl, gloss, granola, hollandaise, inauspicious, mackenzie, metaphoric, pedro, penis, psyche, quarantine, roadster, supranational',\n",
       " \"arlen, archery, barbudo, bride, coquette, lockwood, lucrative, officious, polytypy, radix, teem, tunnel, you've\",\n",
       " 'army, emancipate, envious, planetaria, pooh, scotia, wink.',\n",
       " 'aroma, carcinogen, delmarva, designate, facetious, nod, parochial, rally, sawfly, syllabus.',\n",
       " 'arraign, blutwurst, convenient, faber, glacier, horizon, inconspicuous, peste, portentous, rancho, uranyl.',\n",
       " 'arrear, brookside, eavesdropping, fasciculate, henry, hermaphrodite, herodotus, ibn, incorrigible, jane, linchpin, maritime, postdoctoral, shin, sticky, vehicular.',\n",
       " 'artful, cancelled, castrate, citadel, croon, ear, endpoint, excite, glaucous, inspiration, mckinley, marque, pesticide, prig, radiometer, relish, rothschild, school, tioga, trianon.',\n",
       " 'artillery, bainite, doris, fda, harm, incongruous, monkey, prosody, vegetate, vivian.',\n",
       " \"artistry, can't, cascade, condiment, consignee, gentlemen, glance, golf, markov, mimosa, nine, projectile, shanghai, swingable, tale, wildflower.\",\n",
       " 'assimilable, bivariate, bought, calypso, dogwood, functor, hideaway, holeable, lola, monotonous, nebuchadnezzar, pacifism, provocation, slick',\n",
       " 'assure, bully, butterball, bye, contend, cornet, deaf, dinosaur, frontage, gunky, indeterminable, lustrous, ostentatious, paradigmatic, rhyme, sanderson, sashimi, smokestack, taint.',\n",
       " 'astigmat, boyish, coriolanus, creak, cutlet, easternmost, godson, heaven, highwaymen, leather, muscular, musky, paula, scavenge, synaptic, zinc.',\n",
       " 'atavism, contrariety, crochet, dimorphic, emanate, forthwith, grind, guaranteeing, hoop, hurty, iniquity, katie, more, muong, polytope, prodigy, titrate',\n",
       " 'atmospheric, chess, credit, geopolitic, intercept, loci, lunge, newsmen, siren, swart, tamp, umber.',\n",
       " 'audacious, battleground, bulrush, filamentous, harris, intervenor, municipal, rubicund, semaphore, sensate, xylophone.',\n",
       " 'auerbach, decor, deoxyribose, devisee, dianne, hodges, incommensurable, motorcade, stratify, troupe.',\n",
       " 'avalanche, befriend, berniece, bong, bremsstrahlung, dactylic, flick, gilbertson, goff, hereafter, hoe, housekeep, hurry, lanka, metazoan, posterior, showroom.',\n",
       " 'avalanche, cameroon, canal, chaplin, clonic, coachman, cram, fortran, ipsilateral, kennan, medea, postpone, pyridine, referring, squabble, ussr.',\n",
       " 'awash, auxin, bateau, cubit, eutectic, gown, gullible, inane, jurisprudential, mistletoe, nepenthe, ow, pirouette, pussycat, scottsdale, schwartz, shockley, travelogue, upbring.',\n",
       " 'backpack, coffman, collision, cotman, detour, gnostic, hammock, jacobean, lung, membrane, monologist, notate, quirinal, rhubarb, secretive, stove, tobacco.',\n",
       " 'baden, bizarre, claret, colonist, deplore, dove, horticulture, monaco, paschal, play, rodriguez, sonant, strap, valuate.',\n",
       " 'ballard, brindle, cornerstone, credulous, curio, des, difluoride, green, horseplay, jew, mixup, nonce, nostalgic, pitney, predilect, prowl, rape, scrappy, toward.',\n",
       " 'bandwidth, hidebound, wreak.',\n",
       " 'bare, census, exaltation, gnomon, humility, infirm, intrinsic, manatee, moth, oblique, paregoric, patristic, snagging, sorrowful, stressful, timeout, torch.',\n",
       " 'batavia, canaan, maladjust, merry, olefin, ranch, relinquish, yang.',\n",
       " 'bate, callous, climb, cortez, dnieper, dogging, garrison, giantess, mast, moran, muddy, prank, reverie, satisfy, staunch.',\n",
       " 'battery, bushland, capacitive, contingent, crossbill, enigma, jane, lipton, meager, ricochet, wacke, wallet, wysiwyg.',\n",
       " 'bauble, cube, fabulous, kitakyushu, length, limnology, senescent, sequel, seventh, voluntary, willow, yucca',\n",
       " 'bedtime, boon, bottle, chapati, kenney, okinawa.',\n",
       " 'behold, dew, dissipate, format, hew, maybe, misogyny, oxalic, pray, steel, stiffen, termcap.',\n",
       " 'belize, bolshevism, cost, dance, deadline, dietetic, formulae, foster, hesitant, huddle, judson, mantle, odessa, palace, proust, progeny, rackety, resplendent, thirdhand, warmth.',\n",
       " 'benefice, improvise, nevins, protein, pullman, puree, pusey, river, squeamish, whale.',\n",
       " 'bengal, fettle, yeager.',\n",
       " 'berg, bluish, gamut, multiplexor, puerto, shreveport, subliminal.',\n",
       " 'berra, calabash, episode, hen, marietta, molybdenum, pedantic, pounce, schedule, sparkman, vinaigrette.',\n",
       " 'bertrand, careful, eyelid, feign, heterostructure, libra, paste, snip, southeastern, wherewith.',\n",
       " 'besetting, boyd, counterweight, detergent, groove, hide, intangible, menlo, nv, ovipositor, sans, spumoni.',\n",
       " 'betelgeuse, blue, caudal, char, cyanide, dew, epoch, grossman, inexplainable, lyre, meaty, snazzy, stain, tao, trail, trailside, wash.',\n",
       " 'beth, kenya.',\n",
       " 'betony, boar, bootleg, bronzy, centaur, charge, clemens, collet, contemporaneous, contravariant, cordial, dorado, handicraft, macmahon, mesh, monterey, possession, regina, underclassman.',\n",
       " 'biennial, creedal, cry, eyesight, fletch, fraudulent, j, miltonic, mirage, titmice, whisper.',\n",
       " 'bighorn, contaminate, demystify, nigeria, odysseus, penny, proton, sociolinguistic, stirrup, voltaire.',\n",
       " 'bijective, briton, concord, dim, dive, eigenspace, floruit, gaucherie, glycogen, guidebook, irrevocable, jacket, pinkish, reversible, song',\n",
       " 'bilinear, brenda, cacao, chivalry, derivate, eaten, endothelial, ferocity, gastronomic, grammarian, irreducible, knutson, phenotype, polkadot, rockaway, scurrilous',\n",
       " 'bilk, lethe, perturb, tactual.',\n",
       " \"bivalve, mainstream, malformed, mortify, o'connell, paunchy, sleuth, twelvefold, umbilical, vinegar.\",\n",
       " 'bizarre, contravention, dreg, drapery, ingratiate, margaret, peculiar, sequential, superintendent.',\n",
       " 'blackstone, feed, figural, giveth, hecatomb, hunt, incense, middle, obstinacy, pasty, pestle, plume, sinkhole, spavin, statutory, tel, toothpaste, undulate.',\n",
       " 'blest buxton consternate proximity quizzes sound tariff xerxes.',\n",
       " 'block, custodian, deadwood, foxtail, guaranty, hexadecimal, macedonia, rubaiyat, victoria.',\n",
       " 'blunderbuss, box, dinnertime, feel, frugal, labial, oresteia, papaw, perfidious, sonar.',\n",
       " 'blutwurst, buckaroo, closeup, intelligent, laguerre, thesaurus, vertebral, wily.',\n",
       " 'bodyguard, commensal, flagellate, flotation, ineradicable, involve, jocund, miff, postprocess.',\n",
       " 'boldface, darkle, fungi, gobble, inflammation, jacqueline, joanne, macaque, piano, schiller, slump, sojourn, sst',\n",
       " 'boletus, calypso, conklin, debugging, deportee, lucretia, necktie, omnipotent, passband, revving, ulysses.',\n",
       " 'bologna, cottrell, crackle, cure, doubtful, entropy, extoller, gloria, litigant, procedural, summand, tyke.',\n",
       " 'bone, convergent, doleful, hindustan, homeobox, ia, sweatshirt, wagoneer.',\n",
       " 'booby, butadiene, flair, functor, heck, orphanage, racy, rheumatic, shivery, sin, snowball, spec, testy, trench, zorn.',\n",
       " 'bootlegging, indifferent, trainman.',\n",
       " 'borough hyperboloidal.',\n",
       " 'bosporus, bully, cork, edt, flogging, forfeit, lexicographer, minor, multiple, perceptive, pizza, pungent, rancorous, reedy, referring, sedition, sell, tit.',\n",
       " 'brainwash, broom, deathward, faithful, gondola, integer, kinematic, menu, soc.',\n",
       " 'brake, bunny, chevalier, choose, cubby, drone, exotica, good, indomitable, lineage, mental, nick, pique, rajah, sheaf, steelmake, stitch, thymine, wigging.',\n",
       " 'brewster, inaudible, synapse, tithing, tuba.',\n",
       " 'brindle, clifford, florist, gloat, sacramento, siskin, triploidy, willard.',\n",
       " 'broadcast, cortland, diffusible, galvanometer, gross, gujarati, incestuous, larynx, nomograph, pewter, scout, sketchbook, stag, transition.',\n",
       " 'broaden, envy.',\n",
       " 'brownian, coach, eosine, erudite, flax, inadvisable, magnesium, marriageable, stahl, vicksburg, virgo.',\n",
       " 'buckley, frisian, ix, livre, panoramic, substitution.',\n",
       " 'bucolic, oblong, whoosh.',\n",
       " 'budd, deform.',\n",
       " 'built, poland, swab, thunderclap.',\n",
       " 'bully, cardamom, cryptic, ebb, flatland, forthwith, insurmountable, interior, jurassic, landslide, licensor, mammary, nassau, opinionate, seeable, valkyrie.',\n",
       " 'bust, chalk, cowboy, dentistry, dumb, fatty, goucher, horror, masonry, midshipmen, musicale, pathway, resiny, roadrunner, rocket, sapient, serf, tangential, urea, urinary.',\n",
       " 'buxton, callus, cameron, contribute, extensible, marque, methanol, olympic, precise, procrustean, seepage, shelf, sideboard, tty, typescript, unitary, verify.',\n",
       " \"caching, defend, delicious, distort, emboss, epistemology, gherkin, indicate, injustice, maser, percent, phillip, roadside, savoyard, somewhat, spicy, we're, winston.\",\n",
       " 'caliber, capricious, eft, faulkner, fragile, gastrointestinal, headboard, irishman, kingsley, lobby, nary, ouzo, peaceable, phillip, phylum, residue, stamp, sulfanilamide, upholster.',\n",
       " 'calligraph, form, goat, inverness, sibyl, threadbare.',\n",
       " 'captious, elton, ineligible, iodinate, olympic, sherman.',\n",
       " 'carport firewood introvert sweepstake tiresome.',\n",
       " \"cartilaginous, no, science, spokane, that'd.\",\n",
       " 'caruso, chassis, corporal, signora.',\n",
       " 'catechism daddy.',\n",
       " 'celandine, diploma, faith, harold, hostile, mohawk, octavia, supercilious, thebes.',\n",
       " 'charcuterie, crucifix, diatom, footfall, greenberg, impenetrable, muddle, spoken, synchronous.',\n",
       " 'cheddar, edt, from, oblivion, pang, poignant, yuh.',\n",
       " 'chicanery, fugue, mountain.',\n",
       " 'chlorate, glidden, incentive, judicatory, lavoisier, manatee, spurt.',\n",
       " 'chrysalis, wallaby.',\n",
       " 'cite, coleus, fructose, hurricane, improbable, irreducible, tipoff, tularemia, vesper, whereabout, whitetail, wier.',\n",
       " 'citrus, cloudy, euclidean, fight, hobby, invite, majestic, scene, stonehenge, surge, thrifty, winsome.',\n",
       " 'cocksure, comet, heusen, hydrate, injun, manley, pincer, snippet, spokesperson.',\n",
       " 'coltish, condescend, date, percolate, placid, rampant, rochester, significant.',\n",
       " 'compton, confident, foundling, pam, saprophytic, stowaway, stupor.',\n",
       " 'confess, croupier, daffy, dockyard, duty, household, hypothesis, info, loam, mantic, mandate, minstrelsy, nepotism, peccary, sawtimber, serenade, silver, summate, triode.',\n",
       " 'confidential, faery, fiction, heterozygous, horehound, overture, ursa.',\n",
       " 'confrontation, daddy, hirsute, proserpine, proofread, quantitative.',\n",
       " 'conglomerate, dynastic, inflammable, nebulae, phosphide, prick, stagnate, tackle, tristan, vitiate.',\n",
       " 'consonant, globule, jacob, musician, sleight.',\n",
       " \"convey, decimate, experiment, fortieth, incautious, kudo, marshall, neoclassic, rest, whimper, wiley, xylem, z's.\",\n",
       " 'coplanar, natalie, stevenson, zan.',\n",
       " 'core, discreet, hat, sonnet.',\n",
       " 'correspond, herpes, him, seashore.',\n",
       " 'cortex, incident, insane, kangaroo, marionette, mcleod, pillage, roundabout, sinter, stipulate, threshold, trammel.',\n",
       " 'cotyledon, more, pepperoni, regret, starlight, wallboard.',\n",
       " \"coven, disturb, etruscan, lorenz, plastisol, runneth, shouldn't, skintight, swept.\",\n",
       " 'covenant, davenport, densitometer, noisy, scoreboard, sonorant, thence.',\n",
       " 'crude, cunard, danubian, inscribe, peculate, perceptive, posterior, tragedian, upraise.',\n",
       " 'damon, europa, foliate, potpourri.',\n",
       " 'darkle, erudite, hookup, instant, lip, moldboard, olsen, pea, quadrant, yonkers.',\n",
       " 'dateline, household, jill, langmuir, pipette.',\n",
       " 'dean eosine formula gibson inebriate mater mulligatawny rica sigmund vassar.',\n",
       " 'dnieper, labile, lease, soulful, vehicular.',\n",
       " 'dulse, kowalewski, politician, yew.',\n",
       " 'erg, inability, invocable, janice, nucleus, possible, vague.',\n",
       " 'fasciculate, judicature, presto.',\n",
       " 'fortescue, helmsman, percept, purloin, sioux.',\n",
       " 'fracture, sediment, towel, varsity.',\n",
       " 'geld, phase, thunder.',\n",
       " 'gloucester, raytheon, slurp.',\n",
       " 'greasy, lapidary, mark.',\n",
       " 'jugoslavia, polyhedron, retrorocket, scoot, walnut.',\n",
       " 'laudatory, shakespearian.',\n",
       " 'leasehold, orchestra, permafrost, shiva, testate.',\n",
       " 'lise, miaow, snipe.',\n",
       " 'murray, sweatband.',\n",
       " 'neff, nicodemus, sortie.',\n",
       " 'novelty rectitude splashy.',\n",
       " 'skimpy, zoroaster.'}"
      ]
     },
     "execution_count": 61,
     "metadata": {},
     "output_type": "execute_result"
    }
   ],
   "source": [
    "set(dataset[\"answer_pred\"])"
   ]
  },
  {
   "cell_type": "code",
   "execution_count": 77,
   "metadata": {},
   "outputs": [
    {
     "data": {
      "text/plain": [
       "Dataset({\n",
       "    features: ['input', 'target', 'self_discover_input', 'reasoning_structure', 'reasoning', 'trajectory', 'answer_pred'],\n",
       "    num_rows: 7\n",
       "})"
      ]
     },
     "execution_count": 77,
     "metadata": {},
     "output_type": "execute_result"
    }
   ],
   "source": [
    "dataset.filter(lambda x: x[\"answer_pred\"] == '')"
   ]
  },
  {
   "cell_type": "code",
   "execution_count": 72,
   "metadata": {},
   "outputs": [
    {
     "name": "stdout",
     "output_type": "stream",
     "text": [
      "```\n",
      "{\n",
      "    Identify the list of words to be sorted: {\n",
      "        Extract the list of words from the task description: The list of words to be sorted is \"extempore\" and \"gotten\",\n",
      "    },\n",
      "    Determine the primary goal or objective: {\n",
      "        Identify the sorting criterion, which is alphabetical order: The primary goal is to sort the words alphabetically,\n",
      "    },\n",
      "    Simplify the list of words: {\n",
      "        Identify common characteristics, such as prefixes or suffixes: There are no common prefixes or suffixes in the given words,\n",
      "    },\n",
      "    Break down the list of words into smaller groups or categories: {\n",
      "        Group words starting with the same letter: The words can be grouped as follows: \n",
      "            - E: extempore\n",
      "            - G: gotten\n",
      "    },\n",
      "    Compare each word to the ones that come before and after it: {\n",
      "        Iterate through the list of words step by step to ensure correct order: \n",
      "            - extempore comes before gotten in alphabetical order,\n",
      "    },\n",
      "    Implement a step-by-step plan for sorting the list of words: {\n",
      "        Check for correct spelling: The words are spelled correctly,\n",
      "        Verify the alphabetical order of each word: The correct order is \n",
      "            1. extempore\n",
      "            2. gotten\n",
      "    },\n",
      "    Combine the sorted groups or categories: {\n",
      "        Merge the groups of words into a single sorted list: The sorted list is \n",
      "            1. extempore\n",
      "            2. gotten\n",
      "    },\n",
      "}\n",
      "```\n",
      "\n",
      "The final answer is \n",
      "1. extempore\n",
      "2. gotten\n"
     ]
    }
   ],
   "source": [
    "print(dataset.filter(lambda x: x[\"answer_pred\"] == '')[\"reasoning\"][6])"
   ]
  },
  {
   "cell_type": "code",
   "execution_count": 112,
   "metadata": {},
   "outputs": [
    {
     "name": "stdout",
     "output_type": "stream",
     "text": [
      "```\n",
      "{\n",
      "    Identify the list of words to be sorted: {\n",
      "        Extract the list of words from the task description: \n",
      "            The list of words is: corpulent, diagnose, code, scalp, bombproof, fluorine, blythe, swipe, honeybee, damn, pore, maharaja, cytolysis, solicit\n",
      "    },\n",
      "    Determine the primary goal or objective: {\n",
      "        Identify the sorting criterion, which is alphabetical order: \n",
      "            The goal is to arrange the words in alphabetical order from A to Z.\n",
      "    },\n",
      "    Simplify the list of words: {\n",
      "        Identify common characteristics, such as prefixes or suffixes: \n",
      "            There are no common prefixes, but some words have suffixes like -proof, -lysis, and -bee.\n",
      "    },\n",
      "    Break down the list of words into smaller groups or categories: {\n",
      "        Group words starting with the same letter: \n",
      "            B: bombproof, blythe\n",
      "            C: code, corpulent, cytolysis\n",
      "            D: damn, diagnose\n",
      "            F: fluorine\n",
      "            H: honeybee\n",
      "            M: maharaja\n",
      "            P: pore\n",
      "            S: scalp, solicit, swipe\n",
      "    },\n",
      "    Compare each word to the ones that come before and after it: {\n",
      "        Iterate through the list of words step by step to ensure correct order: \n",
      "            Starting with B, then C, and so on, comparing each word to ensure correct alphabetical order.\n",
      "    },\n",
      "    Implement a step-by-step plan for sorting the list of words: {\n",
      "        Check for correct spelling: \n",
      "            All words are spelled correctly.\n",
      "        Verify the alphabetical order of each word: \n",
      "            Each word is in its correct position in the alphabetized list.\n",
      "    },\n",
      "    Combine the sorted groups or categories: {\n",
      "        Merge the groups of words into a single sorted list: \n",
      "            The sorted list is: \n",
      "            1. bombproof\n",
      "            2. blythe\n",
      "            3. code\n",
      "            4. corpulent\n",
      "            5. cytolysis\n",
      "            6. damn\n",
      "            7. diagnose\n",
      "            8. fluorine\n",
      "            9. honeybee\n",
      "            10. maharaja\n",
      "            11. pore\n",
      "            12. scalp\n",
      "            13. solicit\n",
      "            14. swipe\n",
      "    },\n",
      "}\n",
      "```\n",
      "\n",
      "The final answer is: \n",
      "1. bombproof\n",
      "2. blythe\n",
      "3. code\n",
      "4. corpulent\n",
      "5. cytolysis\n",
      "6. damn\n",
      "7. diagnose\n",
      "8. fluorine\n",
      "9. honeybee\n",
      "10. maharaja\n",
      "11. pore\n",
      "12. scalp\n",
      "13. solicit\n",
      "14. swipe\n"
     ]
    }
   ],
   "source": [
    "print(content)"
   ]
  },
  {
   "cell_type": "code",
   "execution_count": 127,
   "metadata": {},
   "outputs": [
    {
     "name": "stdout",
     "output_type": "stream",
     "text": [
      " \n",
      "1. extempore\n",
      "2. gotten\n"
     ]
    }
   ],
   "source": [
    "pattern = r\"The final answer is:?\"\n",
    "  \n",
    "index = 6\n",
    "# Use re.search to find the first occurrence of the pattern in the text\n",
    "match = re.search(pattern, t[\"reasoning\"][index], re.IGNORECASE)\n",
    "\n",
    "if match:\n",
    "    start_index = match.end()\n",
    "    content = t[\"reasoning\"][index][start_index:]\n",
    "\n",
    "print(content)"
   ]
  },
  {
   "cell_type": "code",
   "execution_count": 146,
   "metadata": {},
   "outputs": [
    {
     "data": {
      "application/vnd.jupyter.widget-view+json": {
       "model_id": "185a43c9fa28452c872068fb03b51082",
       "version_major": 2,
       "version_minor": 0
      },
      "text/plain": [
       "Map:   0%|          | 0/250 [00:00<?, ? examples/s]"
      ]
     },
     "metadata": {},
     "output_type": "display_data"
    }
   ],
   "source": [
    "def map_fn(ins):\n",
    "    if ins[\"answer_pred\"] == '':\n",
    "        pattern = r\"The final answer is:?\"\n",
    "    \n",
    "        response = ins[\"reasoning\"]\n",
    "    \n",
    "        try:\n",
    "            match = re.search(pattern, response, re.IGNORECASE)\n",
    "\n",
    "            if match:\n",
    "                start_index = match.end()\n",
    "                answer = response[start_index:]\n",
    "            \n",
    "                trajectory = re.sub(pattern, \"\", response[:start_index], flags=re.IGNORECASE)\n",
    "        except:\n",
    "            answer, trajectory = None, response\n",
    "\n",
    "        return {\n",
    "            \"trajectory\": trajectory,\n",
    "            \"answer_pred\": answer\n",
    "        }\n",
    "\n",
    "    return {\n",
    "        \"trajectory\": ins[\"trajectory\"],\n",
    "        \"answer_pred\": ins[\"answer_pred\"]\n",
    "    }\n",
    "\n",
    "dataset = dataset.map(map_fn)"
   ]
  },
  {
   "cell_type": "code",
   "execution_count": 147,
   "metadata": {},
   "outputs": [
    {
     "data": {
      "text/plain": [
       "{' \\n- amphibious\\n- assist\\n- baseplate\\n- benchmark\\n- ell\\n- hatchet\\n- homecoming\\n- loess\\n- machine\\n- percentage\\n- pilot\\n- prorate\\n- redcoat\\n- reverie\\n- sank\\n- stallion\\n- thoughtful\\n- wehr\\n- wince',\n",
       " ' \\n- anarchic\\n- bstj\\n- elution\\n- exhumation\\n- furl\\n- geld\\n- gradual\\n- j\\n- liniment\\n- locomote\\n- midshipman\\n- pantheist\\n- profess\\n- riddance\\n- rowley\\n- saline',\n",
       " \" \\n1. acuity\\n2. anticonvulsant\\n3. carrageen\\n4. discovery\\n5. disseminate\\n6. drafty\\n7. embolden\\n8. glamour\\n9. hangout\\n10. hasty\\n11. magnificent\\n12. pewee\\n13. proscenium\\n14. registrar\\n15. scrub\\n16. supposable\\n17. sushi\\n18. you'd\",\n",
       " ' \\n1. behind\\n2. hornpipe\\n3. iniquity\\n4. inmate\\n5. mcconnell\\n6. mollie\\n7. sandy\\n8. scorn\\n9. toroidal\\n10. volcanism\\n11. wellwisher\\n12. yoghurt\\n13. zip',\n",
       " ' \\n1. bombproof\\n2. blythe\\n3. code\\n4. corpulent\\n5. cytolysis\\n6. damn\\n7. diagnose\\n8. fluorine\\n9. honeybee\\n10. maharaja\\n11. pore\\n12. scalp\\n13. solicit\\n14. swipe',\n",
       " ' \\n1. brainy,\\n2. cony,\\n3. enigma,\\n4. erudite,\\n5. fatuous,\\n6. gouda,\\n7. hoof,\\n8. impalpable,\\n9. isaacson,\\n10. lisbon,\\n11. malaria,\\n12. portsmouth,\\n13. portrait,\\n14. servomechanism,\\n15. stronghold,\\n16. succumb',\n",
       " ' \\n1. extempore\\n2. gotten',\n",
       " '\"clytemnestra\", \"crag\", \"cutover\", \"diocletian\", \"dickson\", \"electrolytic\", \"inhuman\", \"lipton\", \"marginal\", \"scrawny\", \"stalk\", \"thereupon\", \"took\", \"wife\", \"wireman\", \"workplace\".',\n",
       " \"- accelerate, bauer, county, nail, nominee, o'connell, phony, poole, putnam, quantify, raisin, venice.\",\n",
       " '[\"abc\", \"ada\", \"austere\", \"blend\", \"cankerworm\", \"falcon\", \"flamboyant\", \"gag\", \"grecian\", \"hanukkah\", \"indicate\", \"kruger\", \"lobster\", \"militia\", \"nobody\", \"pierson\", \"quad\", \"right\", \"ron\", \"wildcat\"].',\n",
       " '[\"abdominal\", \"address\", \"berry\", \"bounty\", \"effusive\", \"fomalhaut\", \"hanoverian\", \"involve\", \"islamabad\", \"jordan\", \"optimal\", \"pay\", \"stearic\", \"stigmata\", \"swathe\", \"tattoo\", \"them\", \"tornado\", \"yang\"].',\n",
       " '[\"abramson\", \"bangui\", \"carlisle\", \"cavalier\", \"contextual\", \"dustbin\", \"emacs\", \"implementor\", \"islamabad\", \"magistrate\", \"nudge\", \"picnicking\", \"railway\", \"refractory\", \"silvery\", \"waite\"].',\n",
       " '[\"absorption\", \"aristocratic\", \"bermuda\", \"cesium\", \"cheerful\", \"congo\", \"diagram\", \"eucre\", \"ezra\", \"fallen\", \"juvenile\", \"musty\", \"nigeria\", \"nod\", \"quartile\", \"screechy\", \"slack\", \"testicle\"].',\n",
       " '[\"accept\", \"alpenstock\", \"angus\", \"castigate\", \"chromium\", \"concision\", \"doge\", \"drool\", \"elizabethan\", \"jutish\", \"marshmallow\", \"ocean\", \"octennial\", \"prize\", \"resistive\", \"stonewort\", \"vociferous\"].',\n",
       " '[\"accrue\", \"archipelago\", \"biplane\", \"breezy\", \"canada\", \"conspiracy\", \"constructor\", \"dobbins\", \"germinal\", \"hamburger\", \"insubstantial\", \"laramie\", \"lost\", \"malleable\", \"nutrient\", \"peloponnese\", \"ted\", \"thigh\"].',\n",
       " '[\"acoustic\", \"anarchic\", \"bureaucracy\", \"diatom\", \"fabricate\", \"guelph\", \"immovable\", \"leftward\", \"liven\", \"neo\", \"phenomenology\", \"provide\", \"shortcut\", \"suggestive\", \"syndrome\", \"total\", \"trammel\", \"usage\", \"yarmulke\"].',\n",
       " '[\"adipic\", \"antique\", \"athlete\", \"atonic\", \"catch\", \"encumber\", \"lauderdale\", \"neutrino\", \"olivia\", \"persona\", \"sovereignty\", \"specify\", \"statuette\", \"whiteface\"].',\n",
       " '[\"adonis\", \"birdseed\", \"citizen\", \"contaminant\", \"convair\", \"extensive\", \"fateful\", \"frighten\", \"judaica\", \"scrubby\", \"soothe\", \"southeastern\", \"stormy\", \"suppose\", \"trillion\", \"trundle\"].',\n",
       " '[\"aerospace\", \"allure\", \"common\", \"decoy\", \"denmark\", \"enviable\", \"exclusive\", \"frill\", \"griffith\", \"jibe\", \"loosestrife\", \"nanosecond\", \"saute\", \"screechy\", \"sow\", \"spermatozoa\", \"spitz\", \"swabby\", \"yates\"].',\n",
       " '[\"afternoon\", \"complementary\", \"dixie\", \"hesitate\", \"horsepower\", \"immaculate\", \"kind\", \"laughlin\", \"loire\", \"mechanism\", \"nimble\", \"sandia\", \"septuagenarian\", \"shuffleboard\", \"sierra\", \"toggle\", \"woebegone\"].',\n",
       " '[\"aggression\", \"arachne\", \"asplenium\", \"bystander\", \"definite\", \"gneiss\", \"lengthy\", \"sanford\", \"southeast\", \"translate\"].',\n",
       " '[\"airlift\", \"butch\", \"cone\", \"homeowner\", \"inanimate\", \"incurring\", \"logarithm\", \"lumber\", \"maladapt\", \"micron\", \"newman\", \"profuse\", \"robertson\", \"sammy\", \"souvenir\", \"uganda\", \"wilcox\"].',\n",
       " '[\"allocable\", \"bertram\", \"boutique\", \"champlain\", \"crunchy\", \"dissipate\", \"facto\", \"highlight\", \"hydrology\", \"judaism\", \"labile\", \"necessity\", \"often\", \"phenol\", \"silage\", \"vale\"].',\n",
       " '[\"allocate\", \"ann\", \"bishopric\", \"blake\", \"carbondale\", \"casual\", \"cometh\", \"confirmatory\", \"crinkle\", \"degum\", \"elliot\", \"expatriate\", \"hangable\", \"neal\", \"orthodontist\", \"shenandoah\", \"soybean\", \"telegraph\", \"tuxedo\", \"unipolar\"].',\n",
       " '[\"alveolar\", \"arabesque\", \"arkansan\", \"bedroom\", \"bend\", \"brassiere\", \"curvilinear\", \"diagnosable\", \"deterrent\", \"fluke\", \"fossiliferous\", \"novel\", \"patrolman\", \"planeload\", \"sheep\", \"spearmint\", \"trident\", \"yen\", \"ytterbium\"].',\n",
       " '[\"amanita\", \"amatory\", \"annoy\", \"besiege\", \"boggle\", \"california\", \"canticle\", \"crocodilian\", \"dexter\", \"dissipate\", \"dizzy\", \"encephalitis\", \"hornblower\", \"notre\", \"pasture\", \"propylene\", \"psychiatric\", \"sepia\", \"snipe\", \"straight\"].',\n",
       " '[\"animism\", \"awash\", \"beau\", \"bessie\", \"cream\", \"extricable\", \"helical\", \"indoeuropean\", \"pendulum\", \"sanhedrin\", \"scratchy\", \"venezuela\", \"vice\"].',\n",
       " '[\"antaeus\", \"caw\", \"daughter\", \"devonshire\", \"gloria\", \"helvetica\", \"hi\", \"leatherback\", \"magnesium\", \"megohm\", \"nikko\", \"raincoat\", \"scald\", \"schroedinger\", \"sojourn\", \"terminal\", \"woodcarver\"].',\n",
       " '[\"asset\", \"bona\", \"cicero\", \"coastal\", \"dusky\", \"exonerate\", \"gaussian\", \"handlebar\", \"inhabitation\", \"portfolio\", \"purport\", \"rastus\", \"responsible\", \"ruanda\", \"silver\", \"zig\"].',\n",
       " '[\"astronomic\", \"cabdriver\", \"coherent\", \"loch\", \"pivot\", \"wagging\"].',\n",
       " '[\"authenticate\", \"carbonic\", \"choreograph\", \"corvallis\", \"countersink\", \"equestrian\", \"have\", \"libya\", \"metal\", \"multifarious\", \"nitric\", \"obfuscatory\", \"petition\", \"pro\", \"retardant\", \"wigwam\", \"wishful\"].',\n",
       " '[\"avoidance\", \"casualty\", \"courtier\", \"gibbon\", \"leprosy\", \"merge\", \"sidewinder\", \"shouldn\\'t\", \"tacky\", \"transgressor\"].',\n",
       " '[\"babysat\", \"consul\", \"curvaceous\", \"cutaneous\", \"hugh\", \"regiment\", \"spoke\", \"stationarity\"].',\n",
       " '[\"banshee\", \"beefsteak\", \"beware\", \"bicycle\", \"birthplace\", \"diacritic\", \"helical\", \"junctor\", \"musicology\", \"obstinate\", \"postcondition\", \"protoplasmic\", \"sap\", \"state\", \"uptrend\", \"vasoconstriction\"].',\n",
       " '[\"barn\", \"damp\", \"delmarva\", \"dot\", \"drumhead\", \"embezzle\", \"entirety\", \"greene\", \"guru\", \"it&t\", \"malton\", \"obstetric\", \"onus\", \"panicking\", \"prod\", \"same\", \"scorch\", \"splutter\", \"subsist\", \"thrill\"].',\n",
       " '[\"baronial\", \"checksum\", \"circumstance\", \"comment\", \"dartmouth\", \"dredge\", \"emittance\", \"eulogy\", \"felicia\", \"huckster\", \"monochromator\", \"neuroanatomic\", \"spotlight\"].',\n",
       " '[\"bindle\", \"chiang\", \"crystallography\", \"dent\", \"mambo\", \"ram\", \"roadside\", \"rundown\", \"savannah\", \"shipshape\", \"spew\", \"strange\", \"survey\", \"won\\'t\"].',\n",
       " '[\"bonito\", \"dreamboat\", \"fritter\", \"haggard\", \"nose\", \"whodunit\", \"worcestershire\"].',\n",
       " '[\"campfire\", \"contrast\", \"crowfoot\", \"purgatory\", \"scrupulous\"].',\n",
       " '[\"christen\", \"clearheaded\", \"despond\", \"driveway\", \"encapsulate\", \"fungi\", \"gob\", \"mendelevium\", \"midwinter\", \"purpose\", \"sisyphus\", \"stanhope\", \"strip\", \"studious\", \"symmetry\", \"trample\", \"vs\", \"wring\"].',\n",
       " '[\"cloudy\", \"ecosystem\", \"ferret\", \"knotty\"].',\n",
       " '[\"downtrodden\", \"gadgetry\", \"gamin\", \"hurst\", \"inertial\", \"maraud\", \"morphine\", \"parsonage\", \"propane\"].',\n",
       " '[\"haughty\", \"seashore\"].',\n",
       " '[\"muddy\", \"nascent\"].',\n",
       " '[\"syndrome\", \"therefrom\"].',\n",
       " 'abbas, average, bridesmaid, catsup, charm, coddle, dogfish, hypothalamus, inequity, inconvertible, integral, invocable, memorandum, multiplet, phloem, region, scherzo, shutout, therewith, trumpery.',\n",
       " 'abbe, adposition, arragon, cast, danbury, emplace, falsetto, gavin, income, inhibit, onerous, palazzi, tabletop.',\n",
       " 'aberdeen, analogue, deciduous, easel, sprightly, swaziland.',\n",
       " 'abner, abramson, amity, automate, exquisite, fruitful, gurgle, none, shampoo, shorten, waterproof.',\n",
       " 'abo, armful, bonaventure, cremate, dictatorial, embryology, frond, gasify, guiana, herman, indistinguishable, oscillatory, pancreatic, passenger, referential, stockholder, through, tip.',\n",
       " 'above, big, broken, coexist, dominate, irk, olive, prometheus, screw, thirdhand.',\n",
       " 'abstract, borough, brown, cortex, cosec, delphinium, diminutive, fleabane, foot, guy, hair, highfalutin, ipsilateral, longish, mobster, richfield, trapezoidal, ugh, wintertime.',\n",
       " 'abuilding, burgher, celebrity, chigger, ernie, exorcism, indiscoverable, medlar, newsboy, pow, snuff, synchronous, thimble, thirteenth, tinfoil, yap.',\n",
       " 'abutted, agamemnon, aquatic, capacity, casualty, essex, guinea, hitachi, hondo, islamic, loquacious, loosen, niece, planet, roadway, solstice, steed, suspicion, tibet.',\n",
       " 'academia, amos, beautiful, butterscotch, circuitous, diatom, europium, extoller, farrell, fiducial, ford, glance, kochab, metzler, molybdate, monomer, predatory, veterinarian.',\n",
       " 'accept, avoid, caramel, carbuncle, compressor, conclave, drib, elegy, embower, error, gaillardia, grassland, hostile, pitfall, rosa, spectra, stepchild, utopia, whimsey.',\n",
       " 'accessory, admiration, allusion, bandgap, bruckner, cruise, fungus, gambit, heron, maidenhair, postprocessor, proscenium, technion.',\n",
       " 'acclaim, champ, clothbound, commodity, conclusion, delirious, dyestuff, exempt, gadwall, hayes, hood, hypothalamus, jigsaw, lozenge, pipeline, plentiful, sarcastic, seashell, sensory, teen',\n",
       " 'accomplice, az, choral, circumcircle, clatter, crepe, doff, emission, fairfax, incantation, labour, lorry, pleura, prig, ride, tea, upon, viaduct, wheelbase, whim.',\n",
       " 'acidify, antagonism, asteria.',\n",
       " 'acquisitive, annuity, autocracy, bruno, custody, dare, exploitation, lodge, militant, quench, somatic, thunderclap, ventricle.',\n",
       " 'acrobacy, advisee, ape, apostate, cardigan, chancery, cochran, crowbait, equip, evildoer, hillman, hoofprint, kuwait, max, molten, practise, retinue, sloane, wuhan.',\n",
       " 'across, admixture, directrix, flight, gut, indicate, marshal, predacious, quagmire, smuggle, vantage.',\n",
       " 'admixture, catwalk, chateaux, coordinate, equine, higgins, irremediable, malthusian, offertory, panamanian, pecos, reluctant, shelve, suction, tunis.',\n",
       " 'adopt, afghan, friday, glimmer, multitudinous, pacifist, wage, worcestershire.',\n",
       " 'adsorption, align, anastasia, anastomotic, apache, award, bobbin, burrow, calumny, epaulet, execrable, hostelry, hun, macedon, omnipotent, putty, roughshod, smooth, spontaneity.',\n",
       " 'advent, anger, convoy, deliver, filly, gneiss, grocer, hessian, hotbox, landau, marlborough, ninebark, plat, platelet, pyrotechnic, siemens, stapleton, transitive, treadle, uncle.',\n",
       " 'aeneas, colombo, foothold, fox, garry, glycerine, inviolate, lucre, magnanimity, nevada, notoriety, plebiscite, pompey, quagmire, satanic, scription, softball, spleenwort, tennyson, type.',\n",
       " 'aeneid, administer, coachman, decadent, delhi, dey, gradate, grim, jacky, littleneck, phosphorescent, pristine, shrunk, sinh, systemwide, tasting, thrown, torpedo, verdict.',\n",
       " 'aerodynamic, botanist, giacomo, habitation, jimmy, nebulous, offset, padre, panicking, roosevelt, schoolmate, suburbia, vector, wv.',\n",
       " 'affable, almost, apache, antic, astute, dandelion, deadlock, delphic, execution, fortunate, horntail, leverage, levitate, libertarian, sanction, scathe, semitic, storehouse, sweeney, unbeknownst.',\n",
       " 'affirmative, airframe, arcing, ballroom, bassoon, benefit, buggy, coupon, decide, dodge, hypothermia, intrepid, junior, ladle, nineveh, prorogue, schmitt, shagging, sparse, ulcerate.',\n",
       " 'affluent, cheshire, covalent, diagnostician, divisive, epsilon, folklore, gideon, gothic, grover, horowitz, julio, peanut, quadrature, salient, spiderwort, spiritual.',\n",
       " 'afloat, apostasy, bechtel, chattel, conner, ferment, grosbeak, hendrickson, indonesia, jacm, lanthanide, melancholy, quark, scavenge, strove, vibrate.',\n",
       " 'afro, blackbird, blame, calyx, elgin, emphases, implacable, jura, mayapple, perquisite, vii, whit.',\n",
       " 'agamemnon, clench, depreciate, eject, frame, forum, herbivorous, lien, marcello, numbly, search, sprout, unary, zaire.',\n",
       " 'agglomerate, ballast, dollop, erosible, expiry, extensor, gazpacho, indiscreet, manuel, oilcloth, ogle, spaniard.',\n",
       " 'agile, blackguard, butt, clapeyron, cognoscenti, flamboyant, geophysical, lift, lightfooted, manumitted, mathieu, meager, purposive, reconnaissance, sawbelly, scribe, seaworthy, wiseacre, woodcut, yves.',\n",
       " 'agrarian, applicate, candid, colossus, haddock, honeymoon, people, pragmatic, sheepskin.',\n",
       " 'aitken barycentric detest downey kajar nat solvate usable vision.',\n",
       " 'alcohol, behold, escutcheon, forth, fumarole, hackberry, motif, pease, regret, satisfy, uptake, walkie.',\n",
       " 'aldebaran, backyard, boxwood, cabbage, entrepreneurial, fiberboard, game, inkling, invincible, lakeside, lightface, matte, mcgee, peruse, polyhedra, pulsate, rae, rowley, shape, watchworks.',\n",
       " 'algonquin, beachhead, bloodstain, dilate, forth, frolic, lacunae, lazy, liggett, mcintosh, parameter, piggish, pintail, protector, slaughterhouse, sterno, unesco.',\n",
       " 'alkali, breach, buckle, falsetto, hyperboloid, liquidate, mirth, nagasaki, parmesan.',\n",
       " 'allegoric, collate, euphony, gloriana, loge, lollipop, mast, milord, prolix, rendezvous, salle, schnabel.',\n",
       " 'allele, anthropocentric, badinage, banish, bartok, brunswick, dale, dar, desolater, dun, fraternity, goat, martinson, monomer, morphemic, pegging, starkey, underclassmen, whoop, yourselves.',\n",
       " 'alleviate, benelux, buoyant, duopoly, felice, gland, gunk, hardbound, klaxon, mattress, tomography, townsmen.',\n",
       " 'allis, anthology, jacobi, marmot, membrane, oakland, seaborg, toggle, trapezoidal.',\n",
       " 'allot, chauncey, clergymen, coachmen, coddington, companion, embark, fatten, gazpacho, granular, hobble, murk, muslim, niggle, pristine, pvc, singlet, threefold, too, yeats.',\n",
       " 'allotted, fate, figural, gorky, grapple, hydroxyl, knives, neapolitan, nerve, plainfield, rampage, saxon, scottish, scrumptious, seventeen, siena, sidereal, stooge, thermal, yakima.',\n",
       " 'allstate dose dyad multitudinous plural powderpuff stalin.',\n",
       " 'allyn, carbonaceous, cetacean, investigatory, johann, majorca, paradigmatic, pathogenic, pray, supersede, tung.',\n",
       " 'almagest, archenemy, catawba, councilwomen, decrement, gnome, jungian, limpid, milt, photolysis, sagging, transfusable.',\n",
       " 'alphabet, birmingham, cantonese, educate, entourage, fashion, fond, marimba, mechanic, philology, retrofit.',\n",
       " 'alterate, aseptic, cayenne, chandigarh, declassify, debauch, dingy, equanimity, excursion, foamflower, groupoid, inclement, kruger, lawful, october, only, scorch.',\n",
       " 'altercate, cornerstone, courtroom, dusenberg, foraminifera, gossamer, insist, jive, promulgate, raft, sal, sophocles, syllabus, wrongdoer.',\n",
       " 'alternate, boone, chalcedony, charity, genteel, million, olden, satin, sinai.',\n",
       " \"ambient, appropriable, arroyo, billion, breccia, coupon, eardrum, faze, fivefold, intimidate, martinson, o'connor, perplex, secretary, social, surtout, terrestrial, voltmeter.\",\n",
       " 'amerada, craftsmen, din, eclipse, gaillardia, inroad, jackboot, jest, jordan, kill, mirth, nate, pomade, putt, shortcoming, spruce, whelan.',\n",
       " 'amethyst, bathos, dormouse, obtuse, resignation, walt.',\n",
       " 'ami, bituminous, decadent, exeter, knickerbocker.',\n",
       " \"amicable, browne, calumny, coo, deerstalker, extreme, henchman, histology, indoeuropean, paginate, pelvis, sonority, they've, tramway, turvy.\",\n",
       " 'amperage, crimea, farther, insolent, ping, protocol, raillery, stephen, tech.',\n",
       " 'anaglyph, cowbell, duane, fest, glamour, harriet, impressible, switchboard, texture, vietnamese, whippet.',\n",
       " 'anaheim, clinic, eaten, immemorial, madeira, marx, micro, offprint, sprue, subject, trafficked, va.',\n",
       " 'analyses, augustine, blueback, credential, den, erda, falter, fireproof, geophysics, guitar, keynote, meter, porte, shibboleth, stonewort, swampland, telephony, testimonial, timeshare, usa.',\n",
       " 'anaplasmosis, bumble, chopstick, clue, fiesta, footwork, fresco, ingot, orthography, palisade, pilate, saul, smalley, storey, teen.',\n",
       " 'anastomosis, backslide, calvert, commando, gabriel, hendrickson, hollister, jackson, pizzicato, quail, separate, shelter, spongy, sticktight, syndicate, variety, washy.',\n",
       " 'anchor, barre, buckle, concatenate, dimension, edgy, eleanor, epiphyte, faunal, integrate, masochist, orthodoxy, parasol, patrician, pendant, sail, singular, swift.',\n",
       " 'anharmonic, beauteous, coypu, inflammation.',\n",
       " 'anheuser, bungle, chaperon, frame, hippodrome, keller, miterwort, prompt, spidery, together, yolk.',\n",
       " 'aniline, boletus, eddy, fontainebleau, galveston, gentle, scandalous, skat, sportsmen, wile.',\n",
       " 'announce, carp, clayton, co, earthy, hello, inmate, nimbus, parentage, phonetic, sharon, skinny, sudan, watson.',\n",
       " 'antler, christiana, falter, invigorate, jot, kamikaze, landlady, libya, ludlow, mallow, porridge, residuary, tuscarora, wetland, wrapup.',\n",
       " 'aperture, bradshaw, holocene, mare, muriel, pathetic, r&d, sigh, staircase, talon.',\n",
       " 'apparition, conference, copra, coupe, dutton, floruit, ignore, implement, layperson, messenger, primitive, superstitious, turnoff, westward.',\n",
       " 'appliance, impede, pulitzer, superior.',\n",
       " 'appoint, baneberry, biharmonic, dyne, moustache, pirate, windowsill, wiry.',\n",
       " 'apprehension, cashew, ensemble.',\n",
       " 'aqueous, deregulate, gala, infantrymen, knob, lysergic, yaounde.',\n",
       " 'arapaho bacteria bela bock burley.',\n",
       " 'arenaceous, baccarat, blare, bowman, earl, gloss, granola, hollandaise, inauspicious, mackenzie, metaphoric, pedro, penis, psyche, quarantine, roadster, supranational',\n",
       " \"arlen, archery, barbudo, bride, coquette, lockwood, lucrative, officious, polytypy, radix, teem, tunnel, you've\",\n",
       " 'army, emancipate, envious, planetaria, pooh, scotia, wink.',\n",
       " 'aroma, carcinogen, delmarva, designate, facetious, nod, parochial, rally, sawfly, syllabus.',\n",
       " 'arraign, blutwurst, convenient, faber, glacier, horizon, inconspicuous, peste, portentous, rancho, uranyl.',\n",
       " 'arrear, brookside, eavesdropping, fasciculate, henry, hermaphrodite, herodotus, ibn, incorrigible, jane, linchpin, maritime, postdoctoral, shin, sticky, vehicular.',\n",
       " 'artful, cancelled, castrate, citadel, croon, ear, endpoint, excite, glaucous, inspiration, mckinley, marque, pesticide, prig, radiometer, relish, rothschild, school, tioga, trianon.',\n",
       " 'artillery, bainite, doris, fda, harm, incongruous, monkey, prosody, vegetate, vivian.',\n",
       " \"artistry, can't, cascade, condiment, consignee, gentlemen, glance, golf, markov, mimosa, nine, projectile, shanghai, swingable, tale, wildflower.\",\n",
       " 'assimilable, bivariate, bought, calypso, dogwood, functor, hideaway, holeable, lola, monotonous, nebuchadnezzar, pacifism, provocation, slick',\n",
       " 'assure, bully, butterball, bye, contend, cornet, deaf, dinosaur, frontage, gunky, indeterminable, lustrous, ostentatious, paradigmatic, rhyme, sanderson, sashimi, smokestack, taint.',\n",
       " 'astigmat, boyish, coriolanus, creak, cutlet, easternmost, godson, heaven, highwaymen, leather, muscular, musky, paula, scavenge, synaptic, zinc.',\n",
       " 'atavism, contrariety, crochet, dimorphic, emanate, forthwith, grind, guaranteeing, hoop, hurty, iniquity, katie, more, muong, polytope, prodigy, titrate',\n",
       " 'atmospheric, chess, credit, geopolitic, intercept, loci, lunge, newsmen, siren, swart, tamp, umber.',\n",
       " 'audacious, battleground, bulrush, filamentous, harris, intervenor, municipal, rubicund, semaphore, sensate, xylophone.',\n",
       " 'auerbach, decor, deoxyribose, devisee, dianne, hodges, incommensurable, motorcade, stratify, troupe.',\n",
       " 'avalanche, befriend, berniece, bong, bremsstrahlung, dactylic, flick, gilbertson, goff, hereafter, hoe, housekeep, hurry, lanka, metazoan, posterior, showroom.',\n",
       " 'avalanche, cameroon, canal, chaplin, clonic, coachman, cram, fortran, ipsilateral, kennan, medea, postpone, pyridine, referring, squabble, ussr.',\n",
       " 'awash, auxin, bateau, cubit, eutectic, gown, gullible, inane, jurisprudential, mistletoe, nepenthe, ow, pirouette, pussycat, scottsdale, schwartz, shockley, travelogue, upbring.',\n",
       " 'backpack, coffman, collision, cotman, detour, gnostic, hammock, jacobean, lung, membrane, monologist, notate, quirinal, rhubarb, secretive, stove, tobacco.',\n",
       " 'baden, bizarre, claret, colonist, deplore, dove, horticulture, monaco, paschal, play, rodriguez, sonant, strap, valuate.',\n",
       " 'ballard, brindle, cornerstone, credulous, curio, des, difluoride, green, horseplay, jew, mixup, nonce, nostalgic, pitney, predilect, prowl, rape, scrappy, toward.',\n",
       " 'bandwidth, hidebound, wreak.',\n",
       " 'bare, census, exaltation, gnomon, humility, infirm, intrinsic, manatee, moth, oblique, paregoric, patristic, snagging, sorrowful, stressful, timeout, torch.',\n",
       " 'batavia, canaan, maladjust, merry, olefin, ranch, relinquish, yang.',\n",
       " 'bate, callous, climb, cortez, dnieper, dogging, garrison, giantess, mast, moran, muddy, prank, reverie, satisfy, staunch.',\n",
       " 'battery, bushland, capacitive, contingent, crossbill, enigma, jane, lipton, meager, ricochet, wacke, wallet, wysiwyg.',\n",
       " 'bauble, cube, fabulous, kitakyushu, length, limnology, senescent, sequel, seventh, voluntary, willow, yucca',\n",
       " 'bedtime, boon, bottle, chapati, kenney, okinawa.',\n",
       " 'behold, dew, dissipate, format, hew, maybe, misogyny, oxalic, pray, steel, stiffen, termcap.',\n",
       " 'belize, bolshevism, cost, dance, deadline, dietetic, formulae, foster, hesitant, huddle, judson, mantle, odessa, palace, proust, progeny, rackety, resplendent, thirdhand, warmth.',\n",
       " 'benefice, improvise, nevins, protein, pullman, puree, pusey, river, squeamish, whale.',\n",
       " 'bengal, fettle, yeager.',\n",
       " 'berg, bluish, gamut, multiplexor, puerto, shreveport, subliminal.',\n",
       " 'berra, calabash, episode, hen, marietta, molybdenum, pedantic, pounce, schedule, sparkman, vinaigrette.',\n",
       " 'bertrand, careful, eyelid, feign, heterostructure, libra, paste, snip, southeastern, wherewith.',\n",
       " 'besetting, boyd, counterweight, detergent, groove, hide, intangible, menlo, nv, ovipositor, sans, spumoni.',\n",
       " 'betelgeuse, blue, caudal, char, cyanide, dew, epoch, grossman, inexplainable, lyre, meaty, snazzy, stain, tao, trail, trailside, wash.',\n",
       " 'beth, kenya.',\n",
       " 'betony, boar, bootleg, bronzy, centaur, charge, clemens, collet, contemporaneous, contravariant, cordial, dorado, handicraft, macmahon, mesh, monterey, possession, regina, underclassman.',\n",
       " 'biennial, creedal, cry, eyesight, fletch, fraudulent, j, miltonic, mirage, titmice, whisper.',\n",
       " 'bighorn, contaminate, demystify, nigeria, odysseus, penny, proton, sociolinguistic, stirrup, voltaire.',\n",
       " 'bijective, briton, concord, dim, dive, eigenspace, floruit, gaucherie, glycogen, guidebook, irrevocable, jacket, pinkish, reversible, song',\n",
       " 'bilinear, brenda, cacao, chivalry, derivate, eaten, endothelial, ferocity, gastronomic, grammarian, irreducible, knutson, phenotype, polkadot, rockaway, scurrilous',\n",
       " 'bilk, lethe, perturb, tactual.',\n",
       " \"bivalve, mainstream, malformed, mortify, o'connell, paunchy, sleuth, twelvefold, umbilical, vinegar.\",\n",
       " 'bizarre, contravention, dreg, drapery, ingratiate, margaret, peculiar, sequential, superintendent.',\n",
       " 'blackstone, feed, figural, giveth, hecatomb, hunt, incense, middle, obstinacy, pasty, pestle, plume, sinkhole, spavin, statutory, tel, toothpaste, undulate.',\n",
       " 'blest buxton consternate proximity quizzes sound tariff xerxes.',\n",
       " 'block, custodian, deadwood, foxtail, guaranty, hexadecimal, macedonia, rubaiyat, victoria.',\n",
       " 'blunderbuss, box, dinnertime, feel, frugal, labial, oresteia, papaw, perfidious, sonar.',\n",
       " 'blutwurst, buckaroo, closeup, intelligent, laguerre, thesaurus, vertebral, wily.',\n",
       " 'bodyguard, commensal, flagellate, flotation, ineradicable, involve, jocund, miff, postprocess.',\n",
       " 'boldface, darkle, fungi, gobble, inflammation, jacqueline, joanne, macaque, piano, schiller, slump, sojourn, sst',\n",
       " 'boletus, calypso, conklin, debugging, deportee, lucretia, necktie, omnipotent, passband, revving, ulysses.',\n",
       " 'bologna, cottrell, crackle, cure, doubtful, entropy, extoller, gloria, litigant, procedural, summand, tyke.',\n",
       " 'bone, convergent, doleful, hindustan, homeobox, ia, sweatshirt, wagoneer.',\n",
       " 'booby, butadiene, flair, functor, heck, orphanage, racy, rheumatic, shivery, sin, snowball, spec, testy, trench, zorn.',\n",
       " 'bootlegging, indifferent, trainman.',\n",
       " 'borough hyperboloidal.',\n",
       " 'bosporus, bully, cork, edt, flogging, forfeit, lexicographer, minor, multiple, perceptive, pizza, pungent, rancorous, reedy, referring, sedition, sell, tit.',\n",
       " 'brainwash, broom, deathward, faithful, gondola, integer, kinematic, menu, soc.',\n",
       " 'brake, bunny, chevalier, choose, cubby, drone, exotica, good, indomitable, lineage, mental, nick, pique, rajah, sheaf, steelmake, stitch, thymine, wigging.',\n",
       " 'brewster, inaudible, synapse, tithing, tuba.',\n",
       " 'brindle, clifford, florist, gloat, sacramento, siskin, triploidy, willard.',\n",
       " 'broadcast, cortland, diffusible, galvanometer, gross, gujarati, incestuous, larynx, nomograph, pewter, scout, sketchbook, stag, transition.',\n",
       " 'broaden, envy.',\n",
       " 'brownian, coach, eosine, erudite, flax, inadvisable, magnesium, marriageable, stahl, vicksburg, virgo.',\n",
       " 'buckley, frisian, ix, livre, panoramic, substitution.',\n",
       " 'bucolic, oblong, whoosh.',\n",
       " 'budd, deform.',\n",
       " 'built, poland, swab, thunderclap.',\n",
       " 'bully, cardamom, cryptic, ebb, flatland, forthwith, insurmountable, interior, jurassic, landslide, licensor, mammary, nassau, opinionate, seeable, valkyrie.',\n",
       " 'bust, chalk, cowboy, dentistry, dumb, fatty, goucher, horror, masonry, midshipmen, musicale, pathway, resiny, roadrunner, rocket, sapient, serf, tangential, urea, urinary.',\n",
       " 'buxton, callus, cameron, contribute, extensible, marque, methanol, olympic, precise, procrustean, seepage, shelf, sideboard, tty, typescript, unitary, verify.',\n",
       " \"caching, defend, delicious, distort, emboss, epistemology, gherkin, indicate, injustice, maser, percent, phillip, roadside, savoyard, somewhat, spicy, we're, winston.\",\n",
       " 'caliber, capricious, eft, faulkner, fragile, gastrointestinal, headboard, irishman, kingsley, lobby, nary, ouzo, peaceable, phillip, phylum, residue, stamp, sulfanilamide, upholster.',\n",
       " 'calligraph, form, goat, inverness, sibyl, threadbare.',\n",
       " 'captious, elton, ineligible, iodinate, olympic, sherman.',\n",
       " 'carport firewood introvert sweepstake tiresome.',\n",
       " \"cartilaginous, no, science, spokane, that'd.\",\n",
       " 'caruso, chassis, corporal, signora.',\n",
       " 'catechism daddy.',\n",
       " 'celandine, diploma, faith, harold, hostile, mohawk, octavia, supercilious, thebes.',\n",
       " 'charcuterie, crucifix, diatom, footfall, greenberg, impenetrable, muddle, spoken, synchronous.',\n",
       " 'cheddar, edt, from, oblivion, pang, poignant, yuh.',\n",
       " 'chicanery, fugue, mountain.',\n",
       " 'chlorate, glidden, incentive, judicatory, lavoisier, manatee, spurt.',\n",
       " 'chrysalis, wallaby.',\n",
       " 'cite, coleus, fructose, hurricane, improbable, irreducible, tipoff, tularemia, vesper, whereabout, whitetail, wier.',\n",
       " 'citrus, cloudy, euclidean, fight, hobby, invite, majestic, scene, stonehenge, surge, thrifty, winsome.',\n",
       " 'cocksure, comet, heusen, hydrate, injun, manley, pincer, snippet, spokesperson.',\n",
       " 'coltish, condescend, date, percolate, placid, rampant, rochester, significant.',\n",
       " 'compton, confident, foundling, pam, saprophytic, stowaway, stupor.',\n",
       " 'confess, croupier, daffy, dockyard, duty, household, hypothesis, info, loam, mantic, mandate, minstrelsy, nepotism, peccary, sawtimber, serenade, silver, summate, triode.',\n",
       " 'confidential, faery, fiction, heterozygous, horehound, overture, ursa.',\n",
       " 'confrontation, daddy, hirsute, proserpine, proofread, quantitative.',\n",
       " 'conglomerate, dynastic, inflammable, nebulae, phosphide, prick, stagnate, tackle, tristan, vitiate.',\n",
       " 'consonant, globule, jacob, musician, sleight.',\n",
       " \"convey, decimate, experiment, fortieth, incautious, kudo, marshall, neoclassic, rest, whimper, wiley, xylem, z's.\",\n",
       " 'coplanar, natalie, stevenson, zan.',\n",
       " 'core, discreet, hat, sonnet.',\n",
       " 'correspond, herpes, him, seashore.',\n",
       " 'cortex, incident, insane, kangaroo, marionette, mcleod, pillage, roundabout, sinter, stipulate, threshold, trammel.',\n",
       " 'cotyledon, more, pepperoni, regret, starlight, wallboard.',\n",
       " \"coven, disturb, etruscan, lorenz, plastisol, runneth, shouldn't, skintight, swept.\",\n",
       " 'covenant, davenport, densitometer, noisy, scoreboard, sonorant, thence.',\n",
       " 'crude, cunard, danubian, inscribe, peculate, perceptive, posterior, tragedian, upraise.',\n",
       " 'damon, europa, foliate, potpourri.',\n",
       " 'darkle, erudite, hookup, instant, lip, moldboard, olsen, pea, quadrant, yonkers.',\n",
       " 'dateline, household, jill, langmuir, pipette.',\n",
       " 'dean eosine formula gibson inebriate mater mulligatawny rica sigmund vassar.',\n",
       " 'dnieper, labile, lease, soulful, vehicular.',\n",
       " 'dulse, kowalewski, politician, yew.',\n",
       " 'erg, inability, invocable, janice, nucleus, possible, vague.',\n",
       " 'fasciculate, judicature, presto.',\n",
       " 'fortescue, helmsman, percept, purloin, sioux.',\n",
       " 'fracture, sediment, towel, varsity.',\n",
       " 'geld, phase, thunder.',\n",
       " 'gloucester, raytheon, slurp.',\n",
       " 'greasy, lapidary, mark.',\n",
       " 'jugoslavia, polyhedron, retrorocket, scoot, walnut.',\n",
       " 'laudatory, shakespearian.',\n",
       " 'leasehold, orchestra, permafrost, shiva, testate.',\n",
       " 'lise, miaow, snipe.',\n",
       " 'murray, sweatband.',\n",
       " 'neff, nicodemus, sortie.',\n",
       " 'novelty rectitude splashy.',\n",
       " 'skimpy, zoroaster.'}"
      ]
     },
     "execution_count": 147,
     "metadata": {},
     "output_type": "execute_result"
    }
   ],
   "source": [
    "set(dataset[\"answer_pred\"])"
   ]
  },
  {
   "cell_type": "code",
   "execution_count": 45,
   "metadata": {},
   "outputs": [
    {
     "data": {
      "application/vnd.jupyter.widget-view+json": {
       "model_id": "c36c6a21dc3c45e0ac82853df566670d",
       "version_major": 2,
       "version_minor": 0
      },
      "text/plain": [
       "Map:   0%|          | 0/250 [00:00<?, ? examples/s]"
      ]
     },
     "metadata": {},
     "output_type": "display_data"
    }
   ],
   "source": [
    "def map_fn(ins):\n",
    "    answer_pred = ins[\"answer_pred\"].encode().decode('unicode_escape').replace('.', '')\n",
    "    refined_answer = answer_pred\n",
    "    \n",
    "    if \"[\" in answer_pred:\n",
    "        refined_answer = \" \".join([re.sub(r\"^'|'$\", \"\", word) for word in answer_pred.translate(str.maketrans(\"\", \"\", \"[]\\\"-\")).replace('\"', \"\").split(\", \")])\n",
    "    elif \",\" in answer_pred:\n",
    "        refined_answer = \" \".join([re.sub(r\"^'|'$\", \"\", word) for word in answer_pred.replace('\"', \"\").split(\", \")])\n",
    "    elif \"9\" in answer_pred:\n",
    "        refined_answer = \" \".join(pair.split(\" \")[1] for pair in answer_pred.split(\"\\n\"))\n",
    "    elif \"-\" in answer_pred:\n",
    "        refined_answer = \" \".join(pair.split(\" \")[1] for pair in answer_pred.split(\"\\n\"))\n",
    "\n",
    "    return {\n",
    "        \"answer_pred\": refined_answer\n",
    "    }\n",
    "\n",
    "\n",
    "dataset = dataset.map(map_fn)"
   ]
  },
  {
   "cell_type": "code",
   "execution_count": 55,
   "metadata": {},
   "outputs": [
    {
     "data": {
      "application/vnd.jupyter.widget-view+json": {
       "model_id": "c403b95ded21409fa2cbae98eda1201d",
       "version_major": 2,
       "version_minor": 0
      },
      "text/plain": [
       "Calculating...: 0it [00:00, ?it/s]"
      ]
     },
     "metadata": {},
     "output_type": "display_data"
    },
    {
     "name": "stdout",
     "output_type": "stream",
     "text": [
      "<<<<<<<<<<<<<<<<<<<<START>>>>>>>>>>>>>>>>>>>>\n",
      "confess croupier daffy dockyard duty household hypothesis info loam mandate mantic minstrelsy nepotism peccary sawtimber serenade silver summate triode\n",
      "----------------------------------------------------------------------------------------------------\n",
      "confess croupier daffy dockyard duty household hypothesis info loam mantic mandate minstrelsy nepotism peccary sawtimber serenade silver summate triode\n",
      "<<<<<<<<<<<<<<<<<<<<END>>>>>>>>>>>>>>>>>>>>\n",
      "\n",
      "<<<<<<<<<<<<<<<<<<<<START>>>>>>>>>>>>>>>>>>>>\n",
      "clytemnestra crag cutover dickson diocletian electrolytic inhuman lipton marginal scrawny stalk thereupon took wife wireman workplace\n",
      "----------------------------------------------------------------------------------------------------\n",
      "clytemnestra crag cutover diocletian dickson electrolytic inhuman lipton marginal scrawny stalk thereupon took wife wireman workplace\n",
      "<<<<<<<<<<<<<<<<<<<<END>>>>>>>>>>>>>>>>>>>>\n",
      "\n",
      "<<<<<<<<<<<<<<<<<<<<START>>>>>>>>>>>>>>>>>>>>\n",
      "abutted agamemnon aquatic capacity casualty essex guinea hitachi hondo islamic loosen loquacious niece planet roadway solstice steed suspicion tibet\n",
      "----------------------------------------------------------------------------------------------------\n",
      "abutted agamemnon aquatic capacity casualty essex guinea hitachi hondo islamic loquacious loosen niece planet roadway solstice steed suspicion tibet\n",
      "<<<<<<<<<<<<<<<<<<<<END>>>>>>>>>>>>>>>>>>>>\n",
      "\n",
      "<<<<<<<<<<<<<<<<<<<<START>>>>>>>>>>>>>>>>>>>>\n",
      "alveolar arabesque arkansan bedroom bend brassiere curvilinear deterrent diagnosable fluke fossiliferous novel patrolman planeload sheep spearmint trident yen ytterbium\n",
      "----------------------------------------------------------------------------------------------------\n",
      "alveolar arabesque arkansan bedroom bend brassiere curvilinear diagnosable deterrent fluke fossiliferous novel patrolman planeload sheep spearmint trident yen ytterbium\n",
      "<<<<<<<<<<<<<<<<<<<<END>>>>>>>>>>>>>>>>>>>>\n",
      "\n",
      "<<<<<<<<<<<<<<<<<<<<START>>>>>>>>>>>>>>>>>>>>\n",
      "accrue archipelago biplane breezy canada conspiracy constructor dobbin germinal hamburger insubstantial laramie lost malleable nutrient peloponnese ted thigh\n",
      "----------------------------------------------------------------------------------------------------\n",
      "accrue archipelago biplane breezy canada conspiracy constructor dobbins germinal hamburger insubstantial laramie lost malleable nutrient peloponnese ted thigh\n",
      "<<<<<<<<<<<<<<<<<<<<END>>>>>>>>>>>>>>>>>>>>\n",
      "\n",
      "<<<<<<<<<<<<<<<<<<<<START>>>>>>>>>>>>>>>>>>>>\n",
      "administer aeneid coachman decadent delhi dey gradate grim jacky littleneck phosphorescent pristine shrunk sinh systemwide tasting thrown torpedo verdict\n",
      "----------------------------------------------------------------------------------------------------\n",
      "aeneid administer coachman decadent delhi dey gradate grim jacky littleneck phosphorescent pristine shrunk sinh systemwide tasting thrown torpedo verdict\n",
      "<<<<<<<<<<<<<<<<<<<<END>>>>>>>>>>>>>>>>>>>>\n",
      "\n",
      "<<<<<<<<<<<<<<<<<<<<START>>>>>>>>>>>>>>>>>>>>\n",
      "blythe bombproof code corpulent cytolysis damn diagnose fluorine honeybee maharaja pore scalp solicit swipe\n",
      "----------------------------------------------------------------------------------------------------\n",
      "\n",
      "<<<<<<<<<<<<<<<<<<<<END>>>>>>>>>>>>>>>>>>>>\n",
      "\n",
      "<<<<<<<<<<<<<<<<<<<<START>>>>>>>>>>>>>>>>>>>>\n",
      "acuity anticonvulsant carrageen discovery disseminate drafty embolden glamour hangout hasty magnificent pewee proscenium registrar scrub supposable sushi you'd\n",
      "----------------------------------------------------------------------------------------------------\n",
      "\n",
      "<<<<<<<<<<<<<<<<<<<<END>>>>>>>>>>>>>>>>>>>>\n",
      "\n",
      "<<<<<<<<<<<<<<<<<<<<START>>>>>>>>>>>>>>>>>>>>\n",
      "avoidance casualty courtier gibbon leprosy merge shouldn't sidewinder tacky transgressor\n",
      "----------------------------------------------------------------------------------------------------\n",
      "avoidance casualty courtier gibbon leprosy merge sidewinder shouldn't tacky transgressor\n",
      "<<<<<<<<<<<<<<<<<<<<END>>>>>>>>>>>>>>>>>>>>\n",
      "\n",
      "<<<<<<<<<<<<<<<<<<<<START>>>>>>>>>>>>>>>>>>>>\n",
      "auxin awash bateau cubit eutectic gown gullible inane jurisprudential mistletoe nepenthe ow pirouette pussycat schwartz scottsdale shockley travelogue upbring\n",
      "----------------------------------------------------------------------------------------------------\n",
      "awash auxin bateau cubit eutectic gown gullible inane jurisprudential mistletoe nepenthe ow pirouette pussycat scottsdale schwartz shockley travelogue upbring\n",
      "<<<<<<<<<<<<<<<<<<<<END>>>>>>>>>>>>>>>>>>>>\n",
      "\n",
      "<<<<<<<<<<<<<<<<<<<<START>>>>>>>>>>>>>>>>>>>>\n",
      "abbas average bridesmaid catsup charm coddle dogfish hypothalamus inconvertible inequity integral invocable memorandum multiplet phloem region scherzo shutout therewith trumpery\n",
      "----------------------------------------------------------------------------------------------------\n",
      "abbas average bridesmaid catsup charm coddle dogfish hypothalamus inequity inconvertible integral invocable memorandum multiplet phloem region scherzo shutout therewith trumpery\n",
      "<<<<<<<<<<<<<<<<<<<<END>>>>>>>>>>>>>>>>>>>>\n",
      "\n",
      "<<<<<<<<<<<<<<<<<<<<START>>>>>>>>>>>>>>>>>>>>\n",
      "bizarre contravention drapery dreg ingratiate margaret peculiar sequential superintendent\n",
      "----------------------------------------------------------------------------------------------------\n",
      "bizarre contravention dreg drapery ingratiate margaret peculiar sequential superintendent\n",
      "<<<<<<<<<<<<<<<<<<<<END>>>>>>>>>>>>>>>>>>>>\n",
      "\n",
      "<<<<<<<<<<<<<<<<<<<<START>>>>>>>>>>>>>>>>>>>>\n",
      "brainy cony enigma erudite fatuous gouda hoof impalpable isaacson lisbon malaria portrait portsmouth servomechanism stronghold succumb\n",
      "----------------------------------------------------------------------------------------------------\n",
      "\n",
      "<<<<<<<<<<<<<<<<<<<<END>>>>>>>>>>>>>>>>>>>>\n",
      "\n",
      "<<<<<<<<<<<<<<<<<<<<START>>>>>>>>>>>>>>>>>>>>\n",
      "confrontation daddy hirsute proofread proserpine quantitative\n",
      "----------------------------------------------------------------------------------------------------\n",
      "confrontation daddy hirsute proserpine proofread quantitative\n",
      "<<<<<<<<<<<<<<<<<<<<END>>>>>>>>>>>>>>>>>>>>\n",
      "\n",
      "<<<<<<<<<<<<<<<<<<<<START>>>>>>>>>>>>>>>>>>>>\n",
      "allotted fate figural gorky grapple hydroxyl knives neapolitan nerve plainfield rampage saxon scottish scrumptious seventeen sidereal siena stooge thermal yakima\n",
      "----------------------------------------------------------------------------------------------------\n",
      "allotted fate figural gorky grapple hydroxyl knives neapolitan nerve plainfield rampage saxon scottish scrumptious seventeen siena sidereal stooge thermal yakima\n",
      "<<<<<<<<<<<<<<<<<<<<END>>>>>>>>>>>>>>>>>>>>\n",
      "\n",
      "<<<<<<<<<<<<<<<<<<<<START>>>>>>>>>>>>>>>>>>>>\n",
      "archery arlen barbudo bride coquette lockwood lucrative officious polytypy radix teem tunnel you've\n",
      "----------------------------------------------------------------------------------------------------\n",
      "arlen archery barbudo bride coquette lockwood lucrative officious polytypy radix teem tunnel you've\n",
      "<<<<<<<<<<<<<<<<<<<<END>>>>>>>>>>>>>>>>>>>>\n",
      "\n",
      "<<<<<<<<<<<<<<<<<<<<START>>>>>>>>>>>>>>>>>>>>\n",
      "accelerate bauer county nail nominee o'connell phony poole putnam quantify raisin venice\n",
      "----------------------------------------------------------------------------------------------------\n",
      "- accelerate bauer county nail nominee o'connell phony poole putnam quantify raisin venice\n",
      "<<<<<<<<<<<<<<<<<<<<END>>>>>>>>>>>>>>>>>>>>\n",
      "\n",
      "<<<<<<<<<<<<<<<<<<<<START>>>>>>>>>>>>>>>>>>>>\n",
      "agglomerate ballast dollop erosible expiry extensor gazpacho indiscreet manuel ogle oilcloth spaniard\n",
      "----------------------------------------------------------------------------------------------------\n",
      "agglomerate ballast dollop erosible expiry extensor gazpacho indiscreet manuel oilcloth ogle spaniard\n",
      "<<<<<<<<<<<<<<<<<<<<END>>>>>>>>>>>>>>>>>>>>\n",
      "\n",
      "<<<<<<<<<<<<<<<<<<<<START>>>>>>>>>>>>>>>>>>>>\n",
      "anarchic bstj elution exhumation furl geld gradual j liniment locomote midshipman pantheist profess riddance rowley saline\n",
      "----------------------------------------------------------------------------------------------------\n",
      "\n",
      "<<<<<<<<<<<<<<<<<<<<END>>>>>>>>>>>>>>>>>>>>\n",
      "\n",
      "<<<<<<<<<<<<<<<<<<<<START>>>>>>>>>>>>>>>>>>>>\n",
      "amphibious assist baseplate benchmark ell hatchet homecoming loess machine percentage pilot prorate redcoat reverie sank stallion thoughtful wehr wince\n",
      "----------------------------------------------------------------------------------------------------\n",
      "\n",
      "<<<<<<<<<<<<<<<<<<<<END>>>>>>>>>>>>>>>>>>>>\n",
      "\n",
      "<<<<<<<<<<<<<<<<<<<<START>>>>>>>>>>>>>>>>>>>>\n",
      "agamemnon clench depreciate eject forum frame herbivorous lien marcello numbly search sprout unary zaire\n",
      "----------------------------------------------------------------------------------------------------\n",
      "agamemnon clench depreciate eject frame forum herbivorous lien marcello numbly search sprout unary zaire\n",
      "<<<<<<<<<<<<<<<<<<<<END>>>>>>>>>>>>>>>>>>>>\n",
      "\n",
      "<<<<<<<<<<<<<<<<<<<<START>>>>>>>>>>>>>>>>>>>>\n",
      "alterate aseptic cayenne chandigarh debauch declassify dingy equanimity excursion foamflower groupoid inclement kruger lawful october only scorch\n",
      "----------------------------------------------------------------------------------------------------\n",
      "alterate aseptic cayenne chandigarh declassify debauch dingy equanimity excursion foamflower groupoid inclement kruger lawful october only scorch\n",
      "<<<<<<<<<<<<<<<<<<<<END>>>>>>>>>>>>>>>>>>>>\n",
      "\n",
      "<<<<<<<<<<<<<<<<<<<<START>>>>>>>>>>>>>>>>>>>>\n",
      "affable almost antic apache astute dandelion deadlock delphic execution fortunate horntail leverage levitate libertarian sanction scathe semitic storehouse sweeney unbeknownst\n",
      "----------------------------------------------------------------------------------------------------\n",
      "affable almost apache antic astute dandelion deadlock delphic execution fortunate horntail leverage levitate libertarian sanction scathe semitic storehouse sweeney unbeknownst\n",
      "<<<<<<<<<<<<<<<<<<<<END>>>>>>>>>>>>>>>>>>>>\n",
      "\n",
      "<<<<<<<<<<<<<<<<<<<<START>>>>>>>>>>>>>>>>>>>>\n",
      "artful cancelled castrate citadel croon ear endpoint excite glaucous inspiration marque mckinley pesticide prig radiometer relish rothschild school tioga trianon\n",
      "----------------------------------------------------------------------------------------------------\n",
      "artful cancelled castrate citadel croon ear endpoint excite glaucous inspiration mckinley marque pesticide prig radiometer relish rothschild school tioga trianon\n",
      "<<<<<<<<<<<<<<<<<<<<END>>>>>>>>>>>>>>>>>>>>\n",
      "\n",
      "<<<<<<<<<<<<<<<<<<<<START>>>>>>>>>>>>>>>>>>>>\n",
      "behind hornpipe iniquity inmate mcconnell mollie sandy scorn toroidal volcanism wellwisher yoghurt zip\n",
      "----------------------------------------------------------------------------------------------------\n",
      "\n",
      "<<<<<<<<<<<<<<<<<<<<END>>>>>>>>>>>>>>>>>>>>\n",
      "\n",
      "<<<<<<<<<<<<<<<<<<<<START>>>>>>>>>>>>>>>>>>>>\n",
      "extempore gotten\n",
      "----------------------------------------------------------------------------------------------------\n",
      "\n",
      "<<<<<<<<<<<<<<<<<<<<END>>>>>>>>>>>>>>>>>>>>\n",
      "\n",
      "<<<<<<<<<<<<<<<<<<<<START>>>>>>>>>>>>>>>>>>>>\n",
      "belize bolshevism cost dance deadline dietetic formulae foster hesitant huddle judson mantle odessa palace progeny proust rackety resplendent thirdhand warmth\n",
      "----------------------------------------------------------------------------------------------------\n",
      "belize bolshevism cost dance deadline dietetic formulae foster hesitant huddle judson mantle odessa palace proust progeny rackety resplendent thirdhand warmth\n",
      "<<<<<<<<<<<<<<<<<<<<END>>>>>>>>>>>>>>>>>>>>\n",
      "\n"
     ]
    },
    {
     "data": {
      "text/plain": [
       "0.892"
      ]
     },
     "execution_count": 55,
     "metadata": {},
     "output_type": "execute_result"
    }
   ],
   "source": [
    "(calculate_correct_prediction_count(\"bbh\", dataset[\"target\"], dataset[\"answer_pred\"])) / dataset.num_rows"
   ]
  },
  {
   "cell_type": "code",
   "execution_count": null,
   "metadata": {},
   "outputs": [
    {
     "data": {
      "application/vnd.jupyter.widget-view+json": {
       "model_id": "5dd8deb2e1a647fea70c75728b3088b1",
       "version_major": 2,
       "version_minor": 0
      },
      "text/plain": [
       "Saving the dataset (0/1 shards):   0%|          | 0/250 [00:00<?, ? examples/s]"
      ]
     },
     "metadata": {},
     "output_type": "display_data"
    }
   ],
   "source": [
    "dataset.save_to_disk(os.path.join(os.path.dirname(path), \"bbh-word_sorting_eval_refined\"))"
   ]
  }
 ],
 "metadata": {
  "kernelspec": {
   "display_name": "self-discover",
   "language": "python",
   "name": "python3"
  },
  "language_info": {
   "codemirror_mode": {
    "name": "ipython",
    "version": 3
   },
   "file_extension": ".py",
   "mimetype": "text/x-python",
   "name": "python",
   "nbconvert_exporter": "python",
   "pygments_lexer": "ipython3",
   "version": "3.10.16"
  }
 },
 "nbformat": 4,
 "nbformat_minor": 2
}
