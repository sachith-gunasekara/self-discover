{
 "cells": [
  {
   "cell_type": "code",
   "execution_count": 7,
   "metadata": {},
   "outputs": [],
   "source": [
    "import os\n",
    "from pyprojroot import here\n",
    "from datasets import Dataset"
   ]
  },
  {
   "cell_type": "code",
   "execution_count": 4,
   "metadata": {},
   "outputs": [],
   "source": [
    "base_path = os.path.join(\"evals\", \"logs\", \"mistral\", \"phaseII\", \"bbh\")"
   ]
  },
  {
   "cell_type": "code",
   "execution_count": 54,
   "metadata": {},
   "outputs": [],
   "source": [
    "from tqdm import tqdm\n",
    "\n",
    "\n",
    "t4d = (\n",
    "    lambda y_i, y_pred_i: y_pred_i\n",
    "    and y_i in y_pred_i\n",
    "    and y_i == str(y_pred_i.translate(str.maketrans(\"\", \"\", \".'\"))[2:])\n",
    ")\n",
    "bbh = lambda y_i, y_pred_i: y_pred_i and y_i.translate(\n",
    "    str.maketrans(\"\", \"\", \"()\")\n",
    ") == y_pred_i.translate(str.maketrans(\"\", \"\", '.()\"'))"
   ]
  },
  {
   "cell_type": "code",
   "execution_count": null,
   "metadata": {},
   "outputs": [],
   "source": [
    "def calculate_correct_prediction_count(benchmark, y: list[str], y_pred: list[str]):\n",
    "    correct_preds = 0\n",
    "    for y_i, y_pred_i in tqdm(zip(y, y_pred), desc=\"Calculating...\"):\n",
    "        if benchmark == \"t4d\":\n",
    "            eval_fn = t4d\n",
    "        elif benchmark == \"bbh\":\n",
    "            eval_fn = bbh\n",
    "\n",
    "        if eval_fn(y_i, y_pred_i):\n",
    "            correct_preds += 1\n",
    "        else:\n",
    "            print(f\"{y_i}, {y_pred_i}\\n\")\n",
    "    return correct_preds"
   ]
  },
  {
   "cell_type": "markdown",
   "metadata": {},
   "source": [
    "# boolean_expressions"
   ]
  },
  {
   "cell_type": "code",
   "execution_count": 1,
   "metadata": {},
   "outputs": [],
   "source": [
    "subset = 'boolean_expressions'"
   ]
  },
  {
   "cell_type": "code",
   "execution_count": 9,
   "metadata": {},
   "outputs": [
    {
     "data": {
      "text/plain": [
       "WindowsPath('d:/Surge/self-discover/evals/logs/mistral/phaseII/bbh/bbh-boolean_expressions/bbh-boolean_expressions_eval')"
      ]
     },
     "execution_count": 9,
     "metadata": {},
     "output_type": "execute_result"
    }
   ],
   "source": [
    "path = here(os.path.join(base_path, f\"bbh-{subset}\", f\"bbh-{subset}_eval\"))\n",
    "path"
   ]
  },
  {
   "cell_type": "code",
   "execution_count": 10,
   "metadata": {},
   "outputs": [
    {
     "data": {
      "text/plain": [
       "Dataset({\n",
       "    features: ['input', 'target', 'self_discover_input', 'reasoning_structure', 'reasoning', 'trajectory', 'answer_pred'],\n",
       "    num_rows: 250\n",
       "})"
      ]
     },
     "execution_count": 10,
     "metadata": {},
     "output_type": "execute_result"
    }
   ],
   "source": [
    "dataset = Dataset.load_from_disk(path)\n",
    "dataset"
   ]
  },
  {
   "cell_type": "code",
   "execution_count": 23,
   "metadata": {},
   "outputs": [
    {
     "name": "stderr",
     "output_type": "stream",
     "text": [
      "Calculating...: 250it [00:00, 125143.33it/s]"
     ]
    },
    {
     "name": "stdout",
     "output_type": "stream",
     "text": [
      "True, False.\n",
      "\n",
      "True, False.\n",
      "\n",
      "True, False.\n",
      "\n",
      "True, False.\n",
      "\n",
      "True, False.\n",
      "\n",
      "True, False.\n",
      "\n",
      "True, False.\n",
      "\n",
      "True, False.\n",
      "\n",
      "False, True.\n",
      "\n",
      "True, False.\n",
      "\n",
      "True, False.\n",
      "\n",
      "True, False.\n",
      "\n",
      "True, False.\n",
      "\n",
      "True, False.\n",
      "\n",
      "True, False.\n",
      "\n",
      "False, True.\n",
      "\n",
      "True, 'True'.\"\n",
      "\n"
     ]
    },
    {
     "name": "stderr",
     "output_type": "stream",
     "text": [
      "\n"
     ]
    },
    {
     "data": {
      "text/plain": [
       "0.936"
      ]
     },
     "execution_count": 23,
     "metadata": {},
     "output_type": "execute_result"
    }
   ],
   "source": [
    "(calculate_correct_prediction_count(\"bbh\", dataset[\"target\"], dataset[\"answer_pred\"]) + 1) / dataset.num_rows"
   ]
  },
  {
   "cell_type": "markdown",
   "metadata": {},
   "source": [
    "## No misinterpreted instances"
   ]
  },
  {
   "cell_type": "markdown",
   "metadata": {},
   "source": [
    "# date_understanding"
   ]
  },
  {
   "cell_type": "code",
   "execution_count": 70,
   "metadata": {},
   "outputs": [],
   "source": [
    "subset = 'date_understanding'"
   ]
  },
  {
   "cell_type": "code",
   "execution_count": 71,
   "metadata": {},
   "outputs": [
    {
     "data": {
      "text/plain": [
       "WindowsPath('d:/Surge/self-discover/evals/logs/mistral/phaseII/bbh/bbh-date_understanding/bbh-date_understanding_eval')"
      ]
     },
     "execution_count": 71,
     "metadata": {},
     "output_type": "execute_result"
    }
   ],
   "source": [
    "path = here(os.path.join(base_path, f\"bbh-{subset}\", f\"bbh-{subset}_eval\"))\n",
    "path"
   ]
  },
  {
   "cell_type": "code",
   "execution_count": 72,
   "metadata": {},
   "outputs": [
    {
     "data": {
      "text/plain": [
       "Dataset({\n",
       "    features: ['input', 'target', 'self_discover_input', 'reasoning_structure', 'reasoning', 'trajectory', 'answer_pred'],\n",
       "    num_rows: 250\n",
       "})"
      ]
     },
     "execution_count": 72,
     "metadata": {},
     "output_type": "execute_result"
    }
   ],
   "source": [
    "dataset = Dataset.load_from_disk(path)\n",
    "dataset"
   ]
  },
  {
   "cell_type": "code",
   "execution_count": 73,
   "metadata": {},
   "outputs": [],
   "source": [
    "bbh = lambda y_i, y_pred_i: y_pred_i and y_i.translate(\n",
    "    str.maketrans(\"\", \"\", \"()\")\n",
    ") == y_pred_i.translate(str.maketrans(\"\", \"\", '.()\"'))[0]"
   ]
  },
  {
   "cell_type": "code",
   "execution_count": 74,
   "metadata": {},
   "outputs": [
    {
     "name": "stderr",
     "output_type": "stream",
     "text": [
      "Calculating...: 250it [00:00, 83306.27it/s]"
     ]
    },
    {
     "name": "stdout",
     "output_type": "stream",
     "text": [
      "(B), C.\n",
      "\n",
      "(E), D.\n",
      "\n",
      "(A), C.\n",
      "\n",
      "(E), A.\n",
      "\n",
      "(B), F.\n",
      "\n",
      "(C), A.\n",
      "\n",
      "(E), B.\n",
      "\n",
      "(B), D.\n",
      "\n",
      "(E), D.\n",
      "\n",
      "(C), B.\n",
      "\n",
      "(A), B.\n",
      "\n",
      "(C), D.\n",
      "\n",
      "(C), F.\n",
      "\n",
      "(D), B.\n",
      "\n",
      "(B), D.\n",
      "\n",
      "(B), F.\n",
      "\n",
      "(E), B.\n",
      "\n",
      "(A), B.\n",
      "\n",
      "(D), C.\n",
      "\n",
      "(C), B.\n",
      "\n",
      "(B), (D) 09/06/2020.\n",
      "\n",
      "(F), B.\n",
      "\n",
      "(B), C.\n",
      "\n",
      "(D), (E) 08/28/2021.\n",
      "\n",
      "(D), B.\n",
      "\n",
      "(B), that none of the given options match the correct date one year ago from today.\n",
      "\n",
      "(F), A.\n",
      "\n",
      "(F), E.\n",
      "\n",
      "(B), (E) 12/11/1929, as it is the closest option to the correct date a month ago from 12/31/1929.\n",
      "\n",
      "(A), B.\n",
      "\n",
      "(A), B.\n",
      "\n",
      "(F), B.\n",
      "\n",
      "(B), (A) 11/25/1933.\n",
      "\n",
      "(E), C.\n",
      "\n",
      "(C), (A) 09/02/2021.\n",
      "\n",
      "(D), F.\n",
      "\n",
      "(A), B.\n",
      "\n",
      "(C), D.\n",
      "\n",
      "(E), A.\n",
      "\n"
     ]
    },
    {
     "name": "stderr",
     "output_type": "stream",
     "text": [
      "\n"
     ]
    },
    {
     "data": {
      "text/plain": [
       "0.844"
      ]
     },
     "execution_count": 74,
     "metadata": {},
     "output_type": "execute_result"
    }
   ],
   "source": [
    "(calculate_correct_prediction_count(\"bbh\", dataset[\"target\"], dataset[\"answer_pred\"])) / dataset.num_rows"
   ]
  },
  {
   "cell_type": "markdown",
   "metadata": {},
   "source": [
    "# disambiguation_qa"
   ]
  },
  {
   "cell_type": "code",
   "execution_count": 29,
   "metadata": {},
   "outputs": [],
   "source": [
    "subset = 'disambiguation_qa'"
   ]
  },
  {
   "cell_type": "code",
   "execution_count": 30,
   "metadata": {},
   "outputs": [
    {
     "data": {
      "text/plain": [
       "WindowsPath('d:/Surge/self-discover/evals/logs/mistral/phaseII/bbh/bbh-disambiguation_qa/bbh-disambiguation_qa_eval')"
      ]
     },
     "execution_count": 30,
     "metadata": {},
     "output_type": "execute_result"
    }
   ],
   "source": [
    "path = here(os.path.join(base_path, f\"bbh-{subset}\", f\"bbh-{subset}_eval\"))\n",
    "path"
   ]
  },
  {
   "cell_type": "code",
   "execution_count": 31,
   "metadata": {},
   "outputs": [
    {
     "data": {
      "text/plain": [
       "Dataset({\n",
       "    features: ['input', 'target', 'self_discover_input', 'reasoning_structure', 'reasoning', 'trajectory', 'answer_pred'],\n",
       "    num_rows: 250\n",
       "})"
      ]
     },
     "execution_count": 31,
     "metadata": {},
     "output_type": "execute_result"
    }
   ],
   "source": [
    "dataset = Dataset.load_from_disk(path)\n",
    "dataset"
   ]
  },
  {
   "cell_type": "code",
   "execution_count": 35,
   "metadata": {},
   "outputs": [],
   "source": [
    "bbh = lambda y_i, y_pred_i: y_pred_i and y_i.translate(\n",
    "    str.maketrans(\"\", \"\", \"()\")\n",
    ") == y_pred_i.translate(str.maketrans(\"\", \"\", '.()\"'))[0]"
   ]
  },
  {
   "cell_type": "code",
   "execution_count": 36,
   "metadata": {},
   "outputs": [
    {
     "name": "stderr",
     "output_type": "stream",
     "text": [
      "Calculating...: 250it [00:00, 49986.94it/s]"
     ]
    },
    {
     "name": "stdout",
     "output_type": "stream",
     "text": [
      "(B), C.\n",
      "\n",
      "(A), C.\n",
      "\n",
      "(B), (C) Ambiguous.\n",
      "\n",
      "(C), B.\n",
      "\n",
      "(A), C.\n",
      "\n",
      "(A), C.\n",
      "\n",
      "(A), C.\n",
      "\n",
      "(A), C.\n",
      "\n",
      "(A), C.\n",
      "\n",
      "(B), C.\n",
      "\n",
      "(B), C.\n",
      "\n",
      "(B), C.\n",
      "\n",
      "(A), C.\n",
      "\n",
      "(A), C.\n",
      "\n",
      "(A), C.\n",
      "\n",
      "(A), C.\n",
      "\n",
      "(A), (C) Ambiguous.\n",
      "\n",
      "(C), (A) The nurse was busy.\n",
      "\n",
      "(B), (C) Ambiguous.\n",
      "\n",
      "(A), C.\n",
      "\n",
      "(A), (C) Ambiguous.\n",
      "\n",
      "(B), C.\n",
      "\n",
      "(A), C.\n",
      "\n",
      "(A), C.\n",
      "\n",
      "(A), C.\n",
      "\n",
      "(A), C.\n",
      "\n",
      "(A), C.\n",
      "\n",
      "(A), C.\n",
      "\n",
      "(B), C.\n",
      "\n",
      "(B), C.\n",
      "\n",
      "(A), C.\n",
      "\n",
      "(B), C.\n",
      "\n",
      "(B), C.\n",
      "\n",
      "(B), C.\n",
      "\n",
      "(B), C.\n",
      "\n",
      "(A), C.\n",
      "\n",
      "(B), (C) Ambiguous.\n",
      "\n",
      "(B), C.\n",
      "\n",
      "(A), C.\n",
      "\n",
      "(A), (C) Ambiguous.\n",
      "\n",
      "(A), C.\n",
      "\n",
      "(B), C.\n",
      "\n",
      "(B), C.\n",
      "\n",
      "(C), (A) The surgeon needed more time.\n",
      "\n",
      "(A), C.\n",
      "\n",
      "(C), A.\n",
      "\n",
      "(A), (C) Ambiguous.\n",
      "\n",
      "(B), (C) Ambiguous.\n",
      "\n",
      "(B), C.\n",
      "\n",
      "(A), C.\n",
      "\n",
      "(B), C.\n",
      "\n",
      "(A), C.\n",
      "\n",
      "(A), (C) Ambiguous.\n",
      "\n",
      "(A), C.\n",
      "\n",
      "(B), C.\n",
      "\n",
      "(B), C.\n",
      "\n",
      "(B), C.\n",
      "\n",
      "(B), C.\n",
      "\n",
      "(B), C.\n",
      "\n",
      "(A), C.\n",
      "\n",
      "(B), C.\n",
      "\n",
      "(A), C.\n",
      "\n",
      "(B), (C) Ambiguous.\n",
      "\n",
      "(A), C.\n",
      "\n",
      "(A), C.\n",
      "\n",
      "(A), (C) Ambiguous.\n",
      "\n",
      "(A), C.\n",
      "\n",
      "(A), (C) Ambiguous.\n",
      "\n",
      "(A), C.\n",
      "\n",
      "(B), (C) Ambiguous.\n",
      "\n",
      "(B), (C) Ambiguous.\n",
      "\n",
      "(A), C.\n",
      "\n",
      "(A), C.\n",
      "\n",
      "(A), C.\n",
      "\n",
      "(A), C.\n",
      "\n",
      "(A), C.\n",
      "\n",
      "(A), C.\n",
      "\n",
      "(A), (C) Ambiguous.\n",
      "\n",
      "(C), B.\n",
      "\n",
      "(A), C.\n",
      "\n",
      "(B), C.\n",
      "\n",
      "(B), (C) Ambiguous.\n",
      "\n",
      "(A), C.\n",
      "\n",
      "(B), C.\n",
      "\n",
      "(C), A.\n",
      "\n",
      "(B), C.\n",
      "\n",
      "(B), (C) Ambiguous.\n",
      "\n",
      "(B), C.\n",
      "\n",
      "(B), C.\n",
      "\n",
      "(B), (C) Ambiguous.\n",
      "\n",
      "(B), C.\n",
      "\n",
      "(A), (C) Ambiguous.\n",
      "\n"
     ]
    },
    {
     "name": "stderr",
     "output_type": "stream",
     "text": [
      "\n"
     ]
    },
    {
     "data": {
      "text/plain": [
       "0.632"
      ]
     },
     "execution_count": 36,
     "metadata": {},
     "output_type": "execute_result"
    }
   ],
   "source": [
    "(calculate_correct_prediction_count(\"bbh\", dataset[\"target\"], dataset[\"answer_pred\"])) / dataset.num_rows"
   ]
  },
  {
   "cell_type": "markdown",
   "metadata": {},
   "source": [
    "# dyck_languages"
   ]
  },
  {
   "cell_type": "code",
   "execution_count": 37,
   "metadata": {},
   "outputs": [],
   "source": [
    "subset = 'dyck_languages'"
   ]
  },
  {
   "cell_type": "code",
   "execution_count": 38,
   "metadata": {},
   "outputs": [
    {
     "data": {
      "text/plain": [
       "WindowsPath('d:/Surge/self-discover/evals/logs/mistral/phaseII/bbh/bbh-dyck_languages/bbh-dyck_languages_eval')"
      ]
     },
     "execution_count": 38,
     "metadata": {},
     "output_type": "execute_result"
    }
   ],
   "source": [
    "path = here(os.path.join(base_path, f\"bbh-{subset}\", f\"bbh-{subset}_eval\"))\n",
    "path"
   ]
  },
  {
   "cell_type": "code",
   "execution_count": 39,
   "metadata": {},
   "outputs": [
    {
     "data": {
      "text/plain": [
       "Dataset({\n",
       "    features: ['input', 'target', 'self_discover_input', 'reasoning_structure', 'reasoning', 'trajectory', 'answer_pred'],\n",
       "    num_rows: 250\n",
       "})"
      ]
     },
     "execution_count": 39,
     "metadata": {},
     "output_type": "execute_result"
    }
   ],
   "source": [
    "dataset = Dataset.load_from_disk(path)\n",
    "dataset"
   ]
  },
  {
   "cell_type": "code",
   "execution_count": null,
   "metadata": {},
   "outputs": [
    {
     "data": {
      "text/plain": [
       "{'input': 'Complete the rest of the sequence, making sure that the parentheses are closed properly. Input: [ [',\n",
       " 'target': '] ]',\n",
       " 'self_discover_input': 'Complete the rest of the sequence, making sure that the parentheses are closed properly. Input: [ [',\n",
       " 'reasoning_structure': '`',\n",
       " 'reasoning': '```json\\n{\\n    \"Simplify the Problem\": {\\n        \"Focus on one type of bracket at a time\": \"We will focus on closing the square brackets first, then the parentheses.\"\\n    },\\n    \"Break Down the Problem\": {\\n        \"Divide the sequence into smaller segments\": \"The sequence is \\'[ [\\'. We can break it down into two segments: the outer square brackets and the inner square brackets.\",\\n        \"Ensure each segment is properly closed before moving to the next\": \"We will close the inner square brackets first, then the outer square brackets.\"\\n    },\\n    \"Critical Thinking\": {\\n        \"Analyze the sequence from different perspectives\": \"We need to ensure that each opening bracket has a corresponding closing bracket.\",\\n        \"Consider the hierarchy of nested brackets\": \"The inner square brackets should be closed before the outer square brackets.\",\\n        \"Evaluate the evidence of open and closed brackets at each point\": \"Currently, we have two open square brackets and no closed brackets.\"\\n    },\\n    \"Systems Thinking\": {\\n        \"Consider the sequence as a system of interconnected brackets\": \"The sequence is a system where each opening bracket must have a corresponding closing bracket.\",\\n        \"Identify the underlying patterns, dependencies, and feedback loops\": \"The pattern is that each opening bracket must be closed in the reverse order of their opening.\"\\n    },\\n    \"Analytical Problem\": {\\n        \"Track and analyze the count of open and closed brackets\": \"We have two open square brackets and no closed brackets.\",\\n        \"Use a stack-based model to optimize the solution\": \"Using a stack, we push each opening bracket onto the stack and pop it when we encounter a closing bracket.\"\\n    },\\n    \"Step-by-Step Thinking\": {\\n        \"Close each open bracket one at a time\": \"First, close the inner square bracket, then close the outer square bracket.\",\\n        \"Ensure the sequence remains valid at every step\": \"After closing each bracket, the sequence should remain valid.\"\\n    },\\n    \"Step-by-Step Planning\": {\\n        \"Create a step-by-step plan to close the brackets\": \"1. Close the inner square bracket: \\'[[ ]\\'. 2. Close the outer square bracket: \\'[[ ]]\\'.\",\\n        \"Clearly explain each step\": \"Step 1: Add a closing square bracket to the inner open square bracket. Step 2: Add a closing square bracket to the outer open square bracket.\",\\n        \"Ensure the sequence is properly managed with a good understanding of the process\": \"The sequence is now properly closed with a good understanding of the process.\"\\n    }\\n}\\n```\\n\\nThe final answer is `[[ ]]`.',\n",
       " 'trajectory': '```json\\n{\\n    \"Simplify the Problem\": {\\n        \"Focus on one type of bracket at a time\": \"We will focus on closing the square brackets first, then the parentheses.\"\\n    },\\n    \"Break Down the Problem\": {\\n        \"Divide the sequence into smaller segments\": \"The sequence is \\'[ [\\'. We can break it down into two segments: the outer square brackets and the inner square brackets.\",\\n        \"Ensure each segment is properly closed before moving to the next\": \"We will close the inner square brackets first, then the outer square brackets.\"\\n    },\\n    \"Critical Thinking\": {\\n        \"Analyze the sequence from different perspectives\": \"We need to ensure that each opening bracket has a corresponding closing bracket.\",\\n        \"Consider the hierarchy of nested brackets\": \"The inner square brackets should be closed before the outer square brackets.\",\\n        \"Evaluate the evidence of open and closed brackets at each point\": \"Currently, we have two open square brackets and no closed brackets.\"\\n    },\\n    \"Systems Thinking\": {\\n        \"Consider the sequence as a system of interconnected brackets\": \"The sequence is a system where each opening bracket must have a corresponding closing bracket.\",\\n        \"Identify the underlying patterns, dependencies, and feedback loops\": \"The pattern is that each opening bracket must be closed in the reverse order of their opening.\"\\n    },\\n    \"Analytical Problem\": {\\n        \"Track and analyze the count of open and closed brackets\": \"We have two open square brackets and no closed brackets.\",\\n        \"Use a stack-based model to optimize the solution\": \"Using a stack, we push each opening bracket onto the stack and pop it when we encounter a closing bracket.\"\\n    },\\n    \"Step-by-Step Thinking\": {\\n        \"Close each open bracket one at a time\": \"First, close the inner square bracket, then close the outer square bracket.\",\\n        \"Ensure the sequence remains valid at every step\": \"After closing each bracket, the sequence should remain valid.\"\\n    },\\n    \"Step-by-Step Planning\": {\\n        \"Create a step-by-step plan to close the brackets\": \"1. Close the inner square bracket: \\'[[ ]\\'. 2. Close the outer square bracket: \\'[[ ]]\\'.\",\\n        \"Clearly explain each step\": \"Step 1: Add a closing square bracket to the inner open square bracket. Step 2: Add a closing square bracket to the outer open square bracket.\",\\n        \"Ensure the sequence is properly managed with a good understanding of the process\": \"The sequence is now properly closed with a good understanding of the process.\"\\n    }\\n}\\n```',\n",
       " 'answer_pred': '`[[ ]]`.'}"
      ]
     },
     "execution_count": 40,
     "metadata": {},
     "output_type": "execute_result"
    }
   ],
   "source": [
    "dataset[]"
   ]
  },
  {
   "cell_type": "code",
   "execution_count": null,
   "metadata": {},
   "outputs": [
    {
     "name": "stderr",
     "output_type": "stream",
     "text": [
      "Calculating...: 250it [00:00, 124889.95it/s]"
     ]
    },
    {
     "name": "stdout",
     "output_type": "stream",
     "text": [
      "(B), C.\n",
      "\n",
      "(C), (C) 06/18/2016.\n",
      "\n",
      "(E), D.\n",
      "\n",
      "(A), C.\n",
      "\n",
      "(E), A.\n",
      "\n",
      "(B), F.\n",
      "\n",
      "(C), A.\n",
      "\n",
      "(E), B.\n",
      "\n",
      "(B), D.\n",
      "\n",
      "(E), D.\n",
      "\n",
      "(A), (A) 02/29/2008.\n",
      "\n",
      "(C), B.\n",
      "\n",
      "(A), (A) 04/27/2004.\n",
      "\n",
      "(A), (A) 12/22/1929.\n",
      "\n",
      "(A), B.\n",
      "\n",
      "(C), D.\n",
      "\n",
      "(C), F.\n",
      "\n",
      "(A), (A) 01/02/1930.\n",
      "\n",
      "(A), (A) 04/29/2002.\n",
      "\n",
      "(A), (A) 01/16/2010.\n",
      "\n",
      "(A), (A) 02/23/1973.\n",
      "\n",
      "(D), B.\n",
      "\n",
      "(B), D.\n",
      "\n",
      "(B), F.\n",
      "\n",
      "(E), B.\n",
      "\n",
      "(A), (A) 09/08/2003.\n",
      "\n",
      "(A), (A) 11/29/2002.\n",
      "\n",
      "(A), (A) 09/09/1909.\n",
      "\n",
      "(A), B.\n",
      "\n",
      "(D), C.\n",
      "\n",
      "(C), B.\n",
      "\n",
      "(B), (D) 09/06/2020.\n",
      "\n",
      "(F), B.\n",
      "\n",
      "(B), C.\n",
      "\n",
      "(D), (E) 08/28/2021.\n",
      "\n",
      "(A), (A) 12/02/2007.\n",
      "\n",
      "(A), (A) 03/07/2016.\n",
      "\n",
      "(A), (A) 06/11/2019.\n",
      "\n",
      "(D), B.\n",
      "\n",
      "(B), that none of the given options match the correct date one year ago from today.\n",
      "\n",
      "(F), A.\n",
      "\n",
      "(F), E.\n",
      "\n",
      "(B), (E) 12/11/1929, as it is the closest option to the correct date a month ago from 12/31/1929.\n",
      "\n",
      "(A), B.\n",
      "\n",
      "(A), B.\n",
      "\n",
      "(A), (A) 02/28/2015.\n",
      "\n",
      "(F), B.\n",
      "\n",
      "(B), (A) 11/25/1933.\n",
      "\n",
      "(E), C.\n",
      "\n",
      "(C), (A) 09/02/2021.\n",
      "\n",
      "(F), (F) 10/22/2002.\n",
      "\n",
      "(D), F.\n",
      "\n",
      "(A), (A) 11/01/2019.\n",
      "\n",
      "(A), B.\n",
      "\n",
      "(A), (A) 06/20/2019.\n",
      "\n",
      "(C), D.\n",
      "\n",
      "(E), A.\n",
      "\n"
     ]
    },
    {
     "name": "stderr",
     "output_type": "stream",
     "text": [
      "\n"
     ]
    },
    {
     "data": {
      "text/plain": [
       "0.84"
      ]
     },
     "execution_count": 28,
     "metadata": {},
     "output_type": "execute_result"
    }
   ],
   "source": [
    "(calculate_correct_prediction_count(\"bbh\", dataset[\"target\"], dataset[\"answer_pred\"])) / dataset.num_rows"
   ]
  },
  {
   "cell_type": "markdown",
   "metadata": {},
   "source": [
    "# formal_fallacies"
   ]
  },
  {
   "cell_type": "code",
   "execution_count": 55,
   "metadata": {},
   "outputs": [],
   "source": [
    "subset = 'formal_fallacies'"
   ]
  },
  {
   "cell_type": "code",
   "execution_count": 56,
   "metadata": {},
   "outputs": [
    {
     "data": {
      "text/plain": [
       "WindowsPath('d:/Surge/self-discover/evals/logs/mistral/phaseII/bbh/bbh-formal_fallacies/bbh-formal_fallacies_eval')"
      ]
     },
     "execution_count": 56,
     "metadata": {},
     "output_type": "execute_result"
    }
   ],
   "source": [
    "path = here(os.path.join(base_path, f\"bbh-{subset}\", f\"bbh-{subset}_eval\"))\n",
    "path"
   ]
  },
  {
   "cell_type": "code",
   "execution_count": 57,
   "metadata": {},
   "outputs": [
    {
     "data": {
      "text/plain": [
       "Dataset({\n",
       "    features: ['input', 'target', 'self_discover_input', 'reasoning_structure', 'reasoning', 'trajectory', 'answer_pred'],\n",
       "    num_rows: 250\n",
       "})"
      ]
     },
     "execution_count": 57,
     "metadata": {},
     "output_type": "execute_result"
    }
   ],
   "source": [
    "dataset = Dataset.load_from_disk(path)\n",
    "dataset"
   ]
  },
  {
   "cell_type": "code",
   "execution_count": 58,
   "metadata": {},
   "outputs": [
    {
     "name": "stderr",
     "output_type": "stream",
     "text": [
      "Calculating...: 250it [00:00, 249779.90it/s]"
     ]
    },
    {
     "name": "stdout",
     "output_type": "stream",
     "text": [
      "invalid, valid.\n",
      "\n",
      "invalid, valid.\n",
      "\n",
      "invalid, valid.\n",
      "\n",
      "invalid, valid.\n",
      "\n",
      "invalid, valid.\n",
      "\n",
      "invalid, valid.\n",
      "\n",
      "invalid, valid.\n",
      "\n",
      "invalid, valid.\n",
      "\n",
      "invalid, valid.\n",
      "\n",
      "invalid, valid.\n",
      "\n",
      "invalid, valid.\n",
      "\n",
      "valid, invalid.\n",
      "\n",
      "invalid, valid.\n",
      "\n",
      "invalid, valid.\n",
      "\n",
      "invalid, valid.\n",
      "\n",
      "invalid, valid.\n",
      "\n",
      "invalid, valid.\n",
      "\n",
      "invalid, valid.\n",
      "\n",
      "valid, invalid.\n",
      "\n",
      "invalid, valid.\n",
      "\n",
      "invalid, valid.\n",
      "\n",
      "invalid, valid.\n",
      "\n",
      "valid, invalid.\n",
      "\n",
      "valid, invalid.\n",
      "\n",
      "invalid, valid.\n",
      "\n",
      "valid, invalid.\n",
      "\n",
      "valid, invalid.\n",
      "\n",
      "valid, invalid.\n",
      "\n",
      "invalid, valid.\n",
      "\n",
      "valid, invalid.\n",
      "\n",
      "invalid, valid.\n",
      "\n",
      "invalid, valid.\n",
      "\n",
      "invalid, valid.\n",
      "\n",
      "invalid, valid.\n",
      "\n",
      "valid, invalid.\n",
      "\n",
      "valid, invalid.\n",
      "\n",
      "invalid, valid.\n",
      "\n",
      "valid, invalid.\n",
      "\n",
      "invalid, valid.\n",
      "\n",
      "valid, invalid.\n",
      "\n",
      "invalid, valid.\n",
      "\n",
      "invalid, valid.\n",
      "\n",
      "valid, invalid.\n",
      "\n",
      "invalid, valid.\n",
      "\n",
      "invalid, valid.\n",
      "\n",
      "invalid, valid.\n",
      "\n",
      "invalid, valid.\n",
      "\n",
      "invalid, valid.\n",
      "\n",
      "invalid, valid.\n",
      "\n",
      "invalid, valid.\n",
      "\n",
      "valid, invalid.\n",
      "\n",
      "invalid, valid.\n",
      "\n",
      "valid, invalid.\n",
      "\n",
      "valid, invalid.\n",
      "\n",
      "invalid, valid.\n",
      "\n",
      "invalid, valid.\n",
      "\n",
      "valid, invalid.\n",
      "\n",
      "valid, invalid.\n",
      "\n",
      "invalid, valid.\n",
      "\n",
      "invalid, valid.\n",
      "\n",
      "invalid, valid.\n",
      "\n"
     ]
    },
    {
     "name": "stderr",
     "output_type": "stream",
     "text": [
      "\n"
     ]
    },
    {
     "data": {
      "text/plain": [
       "0.756"
      ]
     },
     "execution_count": 58,
     "metadata": {},
     "output_type": "execute_result"
    }
   ],
   "source": [
    "(calculate_correct_prediction_count(\"bbh\", dataset[\"target\"], dataset[\"answer_pred\"])) / dataset.num_rows"
   ]
  },
  {
   "cell_type": "markdown",
   "metadata": {},
   "source": [
    "# geometric_shapes"
   ]
  },
  {
   "cell_type": "code",
   "execution_count": 59,
   "metadata": {},
   "outputs": [],
   "source": [
    "subset = 'geometric_shapes'"
   ]
  },
  {
   "cell_type": "code",
   "execution_count": 60,
   "metadata": {},
   "outputs": [
    {
     "data": {
      "text/plain": [
       "WindowsPath('d:/Surge/self-discover/evals/logs/mistral/phaseII/bbh/bbh-geometric_shapes/bbh-geometric_shapes_eval')"
      ]
     },
     "execution_count": 60,
     "metadata": {},
     "output_type": "execute_result"
    }
   ],
   "source": [
    "path = here(os.path.join(base_path, f\"bbh-{subset}\", f\"bbh-{subset}_eval\"))\n",
    "path"
   ]
  },
  {
   "cell_type": "code",
   "execution_count": 61,
   "metadata": {},
   "outputs": [
    {
     "data": {
      "text/plain": [
       "Dataset({\n",
       "    features: ['input', 'target', 'self_discover_input', 'reasoning_structure', 'reasoning', 'trajectory', 'answer_pred'],\n",
       "    num_rows: 250\n",
       "})"
      ]
     },
     "execution_count": 61,
     "metadata": {},
     "output_type": "execute_result"
    }
   ],
   "source": [
    "dataset = Dataset.load_from_disk(path)\n",
    "dataset"
   ]
  },
  {
   "cell_type": "code",
   "execution_count": 62,
   "metadata": {},
   "outputs": [],
   "source": [
    "bbh = lambda y_i, y_pred_i: y_pred_i and y_i.translate(\n",
    "    str.maketrans(\"\", \"\", \"()\")\n",
    ") == y_pred_i.translate(str.maketrans(\"\", \"\", '.()\"'))[0]"
   ]
  },
  {
   "cell_type": "code",
   "execution_count": 63,
   "metadata": {},
   "outputs": [
    {
     "name": "stderr",
     "output_type": "stream",
     "text": [
      "Calculating...: 250it [00:00, 39845.57it/s]"
     ]
    },
    {
     "name": "stdout",
     "output_type": "stream",
     "text": [
      "(B), D.\n",
      "\n",
      "(K), J.\n",
      "\n",
      "(K), J.\n",
      "\n",
      "(C), D.\n",
      "\n",
      "(C), G.\n",
      "\n",
      "(K), D.\n",
      "\n",
      "(F), B.\n",
      "\n",
      "(C), G.\n",
      "\n",
      "(B), C.\n",
      "\n",
      "(K), I.\n",
      "\n",
      "(C), J.\n",
      "\n",
      "(B), D.\n",
      "\n",
      "(C), D.\n",
      "\n",
      "(K), D.\n",
      "\n",
      "(B), (J) triangle.\n",
      "\n",
      "(F), C.\n",
      "\n",
      "(K), J.\n",
      "\n",
      "(B), D.\n",
      "\n",
      "(K), H.\n",
      "\n",
      "(B), G.\n",
      "\n",
      "(B), J.\n",
      "\n",
      "(F), B (heptagon).\n",
      "\n",
      "(K), D.\n",
      "\n",
      "(G), J.\n",
      "\n",
      "(C), J.\n",
      "\n",
      "(B), (J) triangle.\n",
      "\n",
      "(K), I.\n",
      "\n",
      "(C), D.\n",
      "\n",
      "(F), (E) line.\n",
      "\n",
      "(K), D.\n",
      "\n",
      "(I), J.\n",
      "\n",
      "(F), B.\n",
      "\n",
      "(D), J.\n",
      "\n",
      "(K), I.\n",
      "\n",
      "(B), G.\n",
      "\n",
      "(B), C.\n",
      "\n",
      "(D), J.\n",
      "\n",
      "(C), B (heptagon), as the path data describes a shape with seven vertices.\n",
      "\n",
      "(I), J.\n",
      "\n",
      "(B), D.\n",
      "\n",
      "(C), B.\n",
      "\n",
      "(G), J.\n",
      "\n",
      "(D), J.\n",
      "\n",
      "(C), J.\n",
      "\n",
      "(F), G.\n",
      "\n",
      "(F), B.\n",
      "\n",
      "(K), J.\n",
      "\n",
      "(K), I.\n",
      "\n",
      "(C), B.\n",
      "\n",
      "(F), B (heptagon).\n",
      "\n",
      "(I), J.\n",
      "\n",
      "(F), B (heptagon).\n",
      "\n",
      "(C), G.\n",
      "\n",
      "(F), G.\n",
      "\n",
      "(D), J.\n",
      "\n",
      "(D), J.\n",
      "\n",
      "(K), D.\n",
      "\n",
      "(C), J.\n",
      "\n",
      "(F), D.\n",
      "\n",
      "(F), D.\n",
      "\n",
      "(C), G.\n",
      "\n",
      "(K), J.\n",
      "\n",
      "(F), D.\n",
      "\n",
      "(K), D.\n",
      "\n",
      "(G), D.\n",
      "\n",
      "(B), D.\n",
      "\n",
      "(B), J.\n",
      "\n",
      "(G), D.\n",
      "\n",
      "(C), G.\n",
      "\n",
      "(F), (G) pentagon.\n",
      "\n",
      "(G), D.\n",
      "\n",
      "(F), D (kite).\n",
      "\n",
      "(D), J.\n",
      "\n",
      "(B), G.\n",
      "\n",
      "(C), (J) triangle.\n",
      "\n",
      "(K), H.\n",
      "\n",
      "(K), J.\n",
      "\n",
      "(F), (G) pentagon.\n",
      "\n",
      "(G), D.\n",
      "\n",
      "(D), J.\n",
      "\n",
      "(K), D.\n",
      "\n",
      "(K), H.\n",
      "\n",
      "(C), (J) triangle.\n",
      "\n",
      "(K), D.\n",
      "\n",
      "(B), (J) triangle.\n",
      "\n",
      "(C), (J) triangle.\n",
      "\n",
      "(G), D.\n",
      "\n",
      "(F), G.\n",
      "\n",
      "(K), H.\n",
      "\n",
      "(F), (B) heptagon.\n",
      "\n",
      "(K), I.\n",
      "\n",
      "(G), J.\n",
      "\n",
      "(K), D.\n",
      "\n",
      "(G), D.\n",
      "\n",
      "(K), I.\n",
      "\n",
      "(C), J.\n",
      "\n",
      "(I), J.\n",
      "\n",
      "(B), G.\n",
      "\n",
      "(F), B.\n",
      "\n",
      "(D), J.\n",
      "\n",
      "(K), I.\n",
      "\n",
      "(K), I.\n",
      "\n",
      "(B), G.\n",
      "\n",
      "(G), J.\n",
      "\n",
      "(B), (J) triangle.\n",
      "\n",
      "(C), D.\n",
      "\n",
      "(C), G.\n",
      "\n",
      "(G), J.\n",
      "\n",
      "(B), D.\n",
      "\n",
      "(B), D.\n",
      "\n",
      "(D), J.\n",
      "\n",
      "(K), I.\n",
      "\n",
      "(D), J.\n",
      "\n",
      "(I), J.\n",
      "\n",
      "(K), I.\n",
      "\n",
      "(K), J.\n",
      "\n",
      "(C), B.\n",
      "\n",
      "(K), H.\n",
      "\n",
      "(I), J.\n",
      "\n",
      "(D), J.\n",
      "\n",
      "(K), D.\n",
      "\n",
      "(F), D.\n",
      "\n",
      "(C), D.\n",
      "\n",
      "(K), J.\n",
      "\n",
      "(F), D.\n",
      "\n",
      "(C), B.\n",
      "\n",
      "(G), D.\n",
      "\n",
      "(K), D.\n",
      "\n",
      "(G), J.\n",
      "\n",
      "(F), (B) heptagon.\n",
      "\n",
      "(K), H.\n",
      "\n",
      "(F), B.\n",
      "\n"
     ]
    },
    {
     "name": "stderr",
     "output_type": "stream",
     "text": [
      "\n"
     ]
    },
    {
     "data": {
      "text/plain": [
       "0.472"
      ]
     },
     "execution_count": 63,
     "metadata": {},
     "output_type": "execute_result"
    }
   ],
   "source": [
    "(calculate_correct_prediction_count(\"bbh\", dataset[\"target\"], dataset[\"answer_pred\"])) / dataset.num_rows"
   ]
  },
  {
   "cell_type": "markdown",
   "metadata": {},
   "source": [
    "# logical_deduction_five_objects"
   ]
  },
  {
   "cell_type": "code",
   "execution_count": 64,
   "metadata": {},
   "outputs": [],
   "source": [
    "subset = 'logical_deduction_five_objects'"
   ]
  },
  {
   "cell_type": "code",
   "execution_count": 65,
   "metadata": {},
   "outputs": [
    {
     "data": {
      "text/plain": [
       "WindowsPath('d:/Surge/self-discover/evals/logs/mistral/phaseII/bbh/bbh-logical_deduction_five_objects/bbh-logical_deduction_five_objects_eval')"
      ]
     },
     "execution_count": 65,
     "metadata": {},
     "output_type": "execute_result"
    }
   ],
   "source": [
    "path = here(os.path.join(base_path, f\"bbh-{subset}\", f\"bbh-{subset}_eval\"))\n",
    "path"
   ]
  },
  {
   "cell_type": "code",
   "execution_count": 66,
   "metadata": {},
   "outputs": [
    {
     "data": {
      "text/plain": [
       "Dataset({\n",
       "    features: ['input', 'target', 'self_discover_input', 'reasoning_structure', 'reasoning', 'trajectory', 'answer_pred'],\n",
       "    num_rows: 250\n",
       "})"
      ]
     },
     "execution_count": 66,
     "metadata": {},
     "output_type": "execute_result"
    }
   ],
   "source": [
    "dataset = Dataset.load_from_disk(path)\n",
    "dataset"
   ]
  },
  {
   "cell_type": "code",
   "execution_count": 68,
   "metadata": {},
   "outputs": [],
   "source": [
    "bbh = lambda y_i, y_pred_i: y_pred_i and y_i.translate(\n",
    "    str.maketrans(\"\", \"\", \"()\")\n",
    ") == y_pred_i.translate(str.maketrans(\"\", \"\", '.()\"'))[0]"
   ]
  },
  {
   "cell_type": "code",
   "execution_count": 69,
   "metadata": {},
   "outputs": [
    {
     "name": "stderr",
     "output_type": "stream",
     "text": [
      "Calculating...: 250it [00:00, 249660.95it/s]"
     ]
    },
    {
     "name": "stdout",
     "output_type": "stream",
     "text": [
      "(E), B.\n",
      "\n",
      "(C), D.\n",
      "\n",
      "(D), (A) The truck is the second-oldest.\n",
      "\n",
      "(A), B.\n",
      "\n",
      "(E), B.\n",
      "\n",
      "(E), C.\n",
      "\n",
      "(D), C.\n",
      "\n",
      "(E), B.\n",
      "\n",
      "(E), D.\n",
      "\n",
      "(D), B.\n",
      "\n",
      "(E), D.\n",
      "\n",
      "(E), B.\n",
      "\n",
      "(A), D.\n",
      "\n",
      "(B), E.\n",
      "\n",
      "(C), D.\n",
      "\n",
      "(C), D.\n",
      "\n",
      "(C), D.\n",
      "\n",
      "(E), C.\n",
      "\n",
      "(E), B.\n",
      "\n",
      "(B), C.\n",
      "\n",
      "(D), B.\n",
      "\n",
      "(D), E.\n",
      "\n",
      "(A), C.\n",
      "\n",
      "(B), (A) The gray book is the third from the left.\n",
      "\n",
      "(E), C.\n",
      "\n",
      "(D), B.\n",
      "\n",
      "(E), (A) The blue jay is the second from the right.\n",
      "\n",
      "(C), B.\n",
      "\n",
      "(B), C.\n",
      "\n",
      "(B), D.\n",
      "\n",
      "(C), A.\n",
      "\n",
      "(E), B.\n",
      "\n",
      "(C), E.\n",
      "\n",
      "(D), B.\n",
      "\n",
      "(D), B.\n",
      "\n",
      "(C), B.\n",
      "\n",
      "(B), A.\n",
      "\n",
      "(E), (A) The tractor is the second-oldest.\n",
      "\n",
      "(E), C.\n",
      "\n",
      "(E), B.\n",
      "\n",
      "(D), C.\n",
      "\n",
      "(A), C.\n",
      "\n",
      "(C), E.\n",
      "\n"
     ]
    },
    {
     "name": "stderr",
     "output_type": "stream",
     "text": [
      "\n"
     ]
    },
    {
     "data": {
      "text/plain": [
       "0.828"
      ]
     },
     "execution_count": 69,
     "metadata": {},
     "output_type": "execute_result"
    }
   ],
   "source": [
    "(calculate_correct_prediction_count(\"bbh\", dataset[\"target\"], dataset[\"answer_pred\"])) / dataset.num_rows"
   ]
  },
  {
   "cell_type": "markdown",
   "metadata": {},
   "source": [
    "# logical_deduction_seven_objects"
   ]
  },
  {
   "cell_type": "code",
   "execution_count": 75,
   "metadata": {},
   "outputs": [],
   "source": [
    "subset = 'logical_deduction_seven_objects'"
   ]
  },
  {
   "cell_type": "code",
   "execution_count": 76,
   "metadata": {},
   "outputs": [
    {
     "data": {
      "text/plain": [
       "WindowsPath('d:/Surge/self-discover/evals/logs/mistral/phaseII/bbh/bbh-logical_deduction_seven_objects/bbh-logical_deduction_seven_objects_eval')"
      ]
     },
     "execution_count": 76,
     "metadata": {},
     "output_type": "execute_result"
    }
   ],
   "source": [
    "path = here(os.path.join(base_path, f\"bbh-{subset}\", f\"bbh-{subset}_eval\"))\n",
    "path"
   ]
  },
  {
   "cell_type": "code",
   "execution_count": 77,
   "metadata": {},
   "outputs": [
    {
     "data": {
      "text/plain": [
       "Dataset({\n",
       "    features: ['input', 'target', 'self_discover_input', 'reasoning_structure', 'reasoning', 'trajectory', 'answer_pred'],\n",
       "    num_rows: 250\n",
       "})"
      ]
     },
     "execution_count": 77,
     "metadata": {},
     "output_type": "execute_result"
    }
   ],
   "source": [
    "dataset = Dataset.load_from_disk(path)\n",
    "dataset"
   ]
  },
  {
   "cell_type": "code",
   "execution_count": 78,
   "metadata": {},
   "outputs": [],
   "source": [
    "bbh = lambda y_i, y_pred_i: y_pred_i and y_i.translate(\n",
    "    str.maketrans(\"\", \"\", \"()\")\n",
    ") == y_pred_i.translate(str.maketrans(\"\", \"\", '.()\"'))[0]"
   ]
  },
  {
   "cell_type": "code",
   "execution_count": 79,
   "metadata": {},
   "outputs": [
    {
     "name": "stderr",
     "output_type": "stream",
     "text": [
      "Calculating...: 250it [00:00, 249839.41it/s]"
     ]
    },
    {
     "name": "stdout",
     "output_type": "stream",
     "text": [
      "(B), C.\n",
      "\n",
      "(A), F.\n",
      "\n",
      "(C), B. The yellow book is the second from the left.\n",
      "\n",
      "(F), D.\n",
      "\n",
      "(E), B.\n",
      "\n",
      "(B), D.\n",
      "\n",
      "(G), B.\n",
      "\n",
      "(E), D.\n",
      "\n",
      "(B), D.\n",
      "\n",
      "(B), D.\n",
      "\n",
      "(C), D.\n",
      "\n",
      "(E), B.\n",
      "\n",
      "(F), E.\n",
      "\n",
      "(E), G.\n",
      "\n",
      "(C), B.\n",
      "\n",
      "(E), A.\n",
      "\n",
      "(A), B.\n",
      "\n",
      "(A), B. The blue jay is the third from the left.\n",
      "\n",
      "(F), D.\n",
      "\n",
      "(F), C.\n",
      "\n",
      "(A), G.\n",
      "\n",
      "(B), D.\n",
      "\n",
      "(B), D.\n",
      "\n",
      "(C), B.\n",
      "\n",
      "(E), D.\n",
      "\n",
      "(A), D.\n",
      "\n",
      "(E), B.\n",
      "\n",
      "(F), E.\n",
      "\n",
      "(F), B.\n",
      "\n",
      "(G), D.\n",
      "\n",
      "(F), B.\n",
      "\n",
      "(E), B.\n",
      "\n",
      "(F), B.\n",
      "\n",
      "(D), B.\n",
      "\n",
      "(G), C.\n",
      "\n",
      "(F), A.\n",
      "\n",
      "(G), B.\n",
      "\n",
      "(F), D.\n",
      "\n",
      "(D), B.\n",
      "\n",
      "(G), D.\n",
      "\n",
      "(G), C.\n",
      "\n",
      "(C), B.\n",
      "\n",
      "(A), C.\n",
      "\n",
      "(G), B.\n",
      "\n",
      "(F), C.\n",
      "\n",
      "(F), G.\n",
      "\n",
      "(E), B.\n",
      "\n"
     ]
    },
    {
     "name": "stderr",
     "output_type": "stream",
     "text": [
      "\n"
     ]
    },
    {
     "data": {
      "text/plain": [
       "0.812"
      ]
     },
     "execution_count": 79,
     "metadata": {},
     "output_type": "execute_result"
    }
   ],
   "source": [
    "(calculate_correct_prediction_count(\"bbh\", dataset[\"target\"], dataset[\"answer_pred\"])) / dataset.num_rows"
   ]
  },
  {
   "cell_type": "markdown",
   "metadata": {},
   "source": [
    "# logical_deduction_three_objects"
   ]
  },
  {
   "cell_type": "code",
   "execution_count": 80,
   "metadata": {},
   "outputs": [],
   "source": [
    "subset = 'logical_deduction_three_objects'"
   ]
  },
  {
   "cell_type": "code",
   "execution_count": 81,
   "metadata": {},
   "outputs": [
    {
     "data": {
      "text/plain": [
       "WindowsPath('d:/Surge/self-discover/evals/logs/mistral/phaseII/bbh/bbh-logical_deduction_three_objects/bbh-logical_deduction_three_objects_eval')"
      ]
     },
     "execution_count": 81,
     "metadata": {},
     "output_type": "execute_result"
    }
   ],
   "source": [
    "path = here(os.path.join(base_path, f\"bbh-{subset}\", f\"bbh-{subset}_eval\"))\n",
    "path"
   ]
  },
  {
   "cell_type": "code",
   "execution_count": 82,
   "metadata": {},
   "outputs": [
    {
     "data": {
      "text/plain": [
       "Dataset({\n",
       "    features: ['input', 'target', 'self_discover_input', 'reasoning_structure', 'reasoning', 'trajectory', 'answer_pred'],\n",
       "    num_rows: 250\n",
       "})"
      ]
     },
     "execution_count": 82,
     "metadata": {},
     "output_type": "execute_result"
    }
   ],
   "source": [
    "dataset = Dataset.load_from_disk(path)\n",
    "dataset"
   ]
  },
  {
   "cell_type": "code",
   "execution_count": 83,
   "metadata": {},
   "outputs": [],
   "source": [
    "bbh = lambda y_i, y_pred_i: y_pred_i and y_i.translate(\n",
    "    str.maketrans(\"\", \"\", \"()\")\n",
    ") == y_pred_i.translate(str.maketrans(\"\", \"\", '.()\"'))[0]"
   ]
  },
  {
   "cell_type": "code",
   "execution_count": 84,
   "metadata": {},
   "outputs": [
    {
     "name": "stderr",
     "output_type": "stream",
     "text": [
      "Calculating...: 250it [00:00, 249660.95it/s]"
     ]
    },
    {
     "name": "stdout",
     "output_type": "stream",
     "text": [
      "(A), B.\n",
      "\n",
      "(C), B.\n",
      "\n",
      "(A), B.\n",
      "\n",
      "(A), B.\n",
      "\n",
      "(C), B.\n",
      "\n",
      "(B), C.\n",
      "\n",
      "(C), B.\n",
      "\n",
      "(C), B.\n",
      "\n",
      "(A), B.\n",
      "\n",
      "(C), B.\n",
      "\n",
      "(C), B.\n",
      "\n",
      "(A), C.\n",
      "\n",
      "(A), B.\n",
      "\n",
      "(C), B.\n",
      "\n",
      "(C), B.\n",
      "\n",
      "(C), B.\n",
      "\n",
      "(C), B.\n",
      "\n",
      "(C), B.\n",
      "\n",
      "(A), B.\n",
      "\n",
      "(C), (A) The hawk is the second from the left.\n",
      "\n",
      "(C), B.\n",
      "\n",
      "(A), B.\n",
      "\n",
      "(A), B.\n",
      "\n",
      "(A), B.\n",
      "\n",
      "(A), B.\n",
      "\n",
      "(A), B.\n",
      "\n"
     ]
    },
    {
     "name": "stderr",
     "output_type": "stream",
     "text": [
      "\n"
     ]
    },
    {
     "data": {
      "text/plain": [
       "0.896"
      ]
     },
     "execution_count": 84,
     "metadata": {},
     "output_type": "execute_result"
    }
   ],
   "source": [
    "(calculate_correct_prediction_count(\"bbh\", dataset[\"target\"], dataset[\"answer_pred\"])) / dataset.num_rows"
   ]
  },
  {
   "cell_type": "markdown",
   "metadata": {},
   "source": [
    "# movie_recommendation"
   ]
  },
  {
   "cell_type": "code",
   "execution_count": 85,
   "metadata": {},
   "outputs": [],
   "source": [
    "subset = 'movie_recommendation'"
   ]
  },
  {
   "cell_type": "code",
   "execution_count": 86,
   "metadata": {},
   "outputs": [
    {
     "data": {
      "text/plain": [
       "WindowsPath('d:/Surge/self-discover/evals/logs/mistral/phaseII/bbh/bbh-movie_recommendation/bbh-movie_recommendation_eval')"
      ]
     },
     "execution_count": 86,
     "metadata": {},
     "output_type": "execute_result"
    }
   ],
   "source": [
    "path = here(os.path.join(base_path, f\"bbh-{subset}\", f\"bbh-{subset}_eval\"))\n",
    "path"
   ]
  },
  {
   "cell_type": "code",
   "execution_count": 87,
   "metadata": {},
   "outputs": [
    {
     "data": {
      "text/plain": [
       "Dataset({\n",
       "    features: ['input', 'target', 'self_discover_input', 'reasoning_structure', 'reasoning', 'trajectory', 'answer_pred'],\n",
       "    num_rows: 250\n",
       "})"
      ]
     },
     "execution_count": 87,
     "metadata": {},
     "output_type": "execute_result"
    }
   ],
   "source": [
    "dataset = Dataset.load_from_disk(path)\n",
    "dataset"
   ]
  },
  {
   "cell_type": "code",
   "execution_count": 88,
   "metadata": {},
   "outputs": [],
   "source": [
    "bbh = lambda y_i, y_pred_i: y_pred_i and y_i.translate(\n",
    "    str.maketrans(\"\", \"\", \"()\")\n",
    ") == y_pred_i.translate(str.maketrans(\"\", \"\", '.()\"'))[0]"
   ]
  },
  {
   "cell_type": "code",
   "execution_count": 89,
   "metadata": {},
   "outputs": [
    {
     "name": "stderr",
     "output_type": "stream",
     "text": [
      "Calculating...: 250it [00:00, 124253.58it/s]"
     ]
    },
    {
     "name": "stdout",
     "output_type": "stream",
     "text": [
      "(C), B.\n",
      "\n",
      "(C), B.\n",
      "\n",
      "(A), B.\n",
      "\n",
      "(A), B.\n",
      "\n",
      "(A), (D) Mystery.\n",
      "\n",
      "(A), B.\n",
      "\n",
      "(C), B.\n",
      "\n",
      "(C), A.\n",
      "\n",
      "(C), B.\n",
      "\n",
      "(D), C.\n",
      "\n",
      "(C), B.\n",
      "\n",
      "(D), E.\n",
      "\n",
      "(D), (A) The Impostors.\n",
      "\n",
      "(C), B.\n",
      "\n",
      "(A), B.\n",
      "\n",
      "(A), D.\n",
      "\n",
      "(A), D.\n",
      "\n",
      "(D), E.\n",
      "\n",
      "(D), (C) Futurama Bender's Game.\n",
      "\n",
      "(A), B.\n",
      "\n",
      "(D), B.\n",
      "\n",
      "(D), C.\n",
      "\n",
      "(A), B.\n",
      "\n",
      "(A), E.\n",
      "\n",
      "Monsters, Inc, B.\n",
      "\n",
      "(D), B.\n",
      "\n",
      "(C), B.\n",
      "\n",
      "(E), (A) The Firm.\n",
      "\n",
      "(A), (C) Cleanskin.\n",
      "\n",
      "(D), B.\n",
      "\n",
      "(C), A.\n",
      "\n",
      "(A), B.\n",
      "\n",
      "(B), C.\n",
      "\n",
      "(A), B.\n",
      "\n",
      "(A), D.\n",
      "\n",
      "(B), A.\n",
      "\n",
      "(A), B.\n",
      "\n",
      "(A), B.\n",
      "\n",
      "(A), B.\n",
      "\n",
      "(C), B.\n",
      "\n",
      "(D), B.\n",
      "\n",
      "(A), B.\n",
      "\n",
      "(D), B.\n",
      "\n",
      "(A), D.\n",
      "\n",
      "(D), B.\n",
      "\n",
      "(C), B.\n",
      "\n",
      "(D), (A) The Village.\n",
      "\n",
      "(A), D.\n",
      "\n",
      "(A), B.\n",
      "\n",
      "(C), B.\n",
      "\n",
      "(A), B.\n",
      "\n",
      "(A), B.\n",
      "\n",
      "(A), B.\n",
      "\n",
      "(C), B.\n",
      "\n",
      "(C), B.\n",
      "\n",
      "(A), B.\n",
      "\n",
      "(D), B.\n",
      "\n",
      "(A), B.\n",
      "\n",
      "(C), B.\n",
      "\n",
      "(D), B.\n",
      "\n",
      "(C), B.\n",
      "\n",
      "(A), C.\n",
      "\n",
      "(A), B.\n",
      "\n",
      "(D), B.\n",
      "\n",
      "(D), B.\n",
      "\n",
      "(A), B.\n",
      "\n",
      "(A), B.\n",
      "\n",
      "(A), B.\n",
      "\n",
      "(D), C.\n",
      "\n",
      "(B), C.\n",
      "\n",
      "(A), B (Everlasting Piece).\n",
      "\n",
      "(D), B.\n",
      "\n",
      "(A), B.\n",
      "\n",
      "(A), B.\n",
      "\n",
      "(A), B.\n",
      "\n",
      "(C), D.\n",
      "\n",
      "(A), B.\n",
      "\n",
      "(A), (D) Thunderbirds, as it is the closest match in terms of genre (action, sci-fi) and themes (adventure, thriller) to the given movies.\n",
      "\n",
      "(A), B.\n",
      "\n",
      "(A), B.\n",
      "\n"
     ]
    },
    {
     "name": "stderr",
     "output_type": "stream",
     "text": [
      "\n"
     ]
    },
    {
     "data": {
      "text/plain": [
       "0.68"
      ]
     },
     "execution_count": 89,
     "metadata": {},
     "output_type": "execute_result"
    }
   ],
   "source": [
    "(calculate_correct_prediction_count(\"bbh\", dataset[\"target\"], dataset[\"answer_pred\"])) / dataset.num_rows"
   ]
  },
  {
   "cell_type": "markdown",
   "metadata": {},
   "source": [
    "# penguins_in_a_table"
   ]
  },
  {
   "cell_type": "code",
   "execution_count": 90,
   "metadata": {},
   "outputs": [],
   "source": [
    "subset = 'penguins_in_a_table'"
   ]
  },
  {
   "cell_type": "code",
   "execution_count": 91,
   "metadata": {},
   "outputs": [
    {
     "data": {
      "text/plain": [
       "WindowsPath('d:/Surge/self-discover/evals/logs/mistral/phaseII/bbh/bbh-penguins_in_a_table/bbh-penguins_in_a_table_eval')"
      ]
     },
     "execution_count": 91,
     "metadata": {},
     "output_type": "execute_result"
    }
   ],
   "source": [
    "path = here(os.path.join(base_path, f\"bbh-{subset}\", f\"bbh-{subset}_eval\"))\n",
    "path"
   ]
  },
  {
   "cell_type": "code",
   "execution_count": 92,
   "metadata": {},
   "outputs": [
    {
     "data": {
      "text/plain": [
       "Dataset({\n",
       "    features: ['input', 'target', 'self_discover_input', 'reasoning_structure', 'reasoning', 'trajectory', 'answer_pred'],\n",
       "    num_rows: 146\n",
       "})"
      ]
     },
     "execution_count": 92,
     "metadata": {},
     "output_type": "execute_result"
    }
   ],
   "source": [
    "dataset = Dataset.load_from_disk(path)\n",
    "dataset"
   ]
  },
  {
   "cell_type": "code",
   "execution_count": 93,
   "metadata": {},
   "outputs": [],
   "source": [
    "bbh = lambda y_i, y_pred_i: y_pred_i and y_i.translate(\n",
    "    str.maketrans(\"\", \"\", \"()\")\n",
    ") == y_pred_i.translate(str.maketrans(\"\", \"\", '.()\"'))[0]"
   ]
  },
  {
   "cell_type": "code",
   "execution_count": 94,
   "metadata": {},
   "outputs": [
    {
     "name": "stderr",
     "output_type": "stream",
     "text": [
      "Calculating...: 146it [00:00, 48658.59it/s]"
     ]
    },
    {
     "name": "stdout",
     "output_type": "stream",
     "text": [
      "(A), B.\n",
      "\n",
      "(B), 2 penguins.\n",
      "\n",
      "(A), B.\n",
      "\n",
      "(A), B.\n",
      "\n",
      "(A), B.\n",
      "\n",
      "(A), B.\n",
      "\n",
      "(A), B.\n",
      "\n",
      "(A), B.\n",
      "\n",
      "(B), E.\n",
      "\n",
      "(A), D.\n",
      "\n",
      "(A), B.\n",
      "\n",
      "(B), C.\n",
      "\n",
      "(D), B.\n",
      "\n",
      "(A), B.\n",
      "\n",
      "(A), B.\n",
      "\n"
     ]
    },
    {
     "name": "stderr",
     "output_type": "stream",
     "text": [
      "\n"
     ]
    },
    {
     "data": {
      "text/plain": [
       "0.8972602739726028"
      ]
     },
     "execution_count": 94,
     "metadata": {},
     "output_type": "execute_result"
    }
   ],
   "source": [
    "(calculate_correct_prediction_count(\"bbh\", dataset[\"target\"], dataset[\"answer_pred\"])) / dataset.num_rows"
   ]
  },
  {
   "cell_type": "markdown",
   "metadata": {},
   "source": [
    "# reasoning_about_colored_objects"
   ]
  },
  {
   "cell_type": "code",
   "execution_count": null,
   "metadata": {},
   "outputs": [],
   "source": [
    "subset = 'logical_deduction_five_objects'"
   ]
  },
  {
   "cell_type": "code",
   "execution_count": null,
   "metadata": {},
   "outputs": [
    {
     "data": {
      "text/plain": [
       "WindowsPath('d:/Surge/self-discover/evals/logs/mistral/phaseII/bbh/bbh-logical_deduction_five_objects/bbh-logical_deduction_five_objects_eval')"
      ]
     },
     "metadata": {},
     "output_type": "display_data"
    }
   ],
   "source": [
    "path = here(os.path.join(base_path, f\"bbh-{subset}\", f\"bbh-{subset}_eval\"))\n",
    "path"
   ]
  },
  {
   "cell_type": "code",
   "execution_count": null,
   "metadata": {},
   "outputs": [
    {
     "data": {
      "text/plain": [
       "Dataset({\n",
       "    features: ['input', 'target', 'self_discover_input', 'reasoning_structure', 'reasoning', 'trajectory', 'answer_pred'],\n",
       "    num_rows: 250\n",
       "})"
      ]
     },
     "metadata": {},
     "output_type": "display_data"
    }
   ],
   "source": [
    "dataset = Dataset.load_from_disk(path)\n",
    "dataset"
   ]
  },
  {
   "cell_type": "code",
   "execution_count": null,
   "metadata": {},
   "outputs": [],
   "source": [
    "bbh = lambda y_i, y_pred_i: y_pred_i and y_i.translate(\n",
    "    str.maketrans(\"\", \"\", \"()\")\n",
    ") == y_pred_i.translate(str.maketrans(\"\", \"\", '.()\"'))[0]"
   ]
  },
  {
   "cell_type": "code",
   "execution_count": null,
   "metadata": {},
   "outputs": [
    {
     "name": "stderr",
     "output_type": "stream",
     "text": [
      "Calculating...: 250it [00:00, 249660.95it/s]"
     ]
    },
    {
     "name": "stdout",
     "output_type": "stream",
     "text": [
      "(E), B.\n",
      "\n",
      "(C), D.\n",
      "\n",
      "(D), (A) The truck is the second-oldest.\n",
      "\n",
      "(A), B.\n",
      "\n",
      "(E), B.\n",
      "\n",
      "(E), C.\n",
      "\n",
      "(D), C.\n",
      "\n",
      "(E), B.\n",
      "\n",
      "(E), D.\n",
      "\n",
      "(D), B.\n",
      "\n",
      "(E), D.\n",
      "\n",
      "(E), B.\n",
      "\n",
      "(A), D.\n",
      "\n",
      "(B), E.\n",
      "\n",
      "(C), D.\n",
      "\n",
      "(C), D.\n",
      "\n",
      "(C), D.\n",
      "\n",
      "(E), C.\n",
      "\n",
      "(E), B.\n",
      "\n",
      "(B), C.\n",
      "\n",
      "(D), B.\n",
      "\n",
      "(D), E.\n",
      "\n",
      "(A), C.\n",
      "\n",
      "(B), (A) The gray book is the third from the left.\n",
      "\n",
      "(E), C.\n",
      "\n",
      "(D), B.\n",
      "\n",
      "(E), (A) The blue jay is the second from the right.\n",
      "\n",
      "(C), B.\n",
      "\n",
      "(B), C.\n",
      "\n",
      "(B), D.\n",
      "\n",
      "(C), A.\n",
      "\n",
      "(E), B.\n",
      "\n",
      "(C), E.\n",
      "\n",
      "(D), B.\n",
      "\n",
      "(D), B.\n",
      "\n",
      "(C), B.\n",
      "\n",
      "(B), A.\n",
      "\n",
      "(E), (A) The tractor is the second-oldest.\n",
      "\n",
      "(E), C.\n",
      "\n",
      "(E), B.\n",
      "\n",
      "(D), C.\n",
      "\n",
      "(A), C.\n",
      "\n",
      "(C), E.\n",
      "\n"
     ]
    },
    {
     "name": "stderr",
     "output_type": "stream",
     "text": [
      "\n"
     ]
    },
    {
     "data": {
      "text/plain": [
       "0.828"
      ]
     },
     "metadata": {},
     "output_type": "display_data"
    }
   ],
   "source": [
    "(calculate_correct_prediction_count(\"bbh\", dataset[\"target\"], dataset[\"answer_pred\"])) / dataset.num_rows"
   ]
  }
 ],
 "metadata": {
  "kernelspec": {
   "display_name": "venv",
   "language": "python",
   "name": "python3"
  },
  "language_info": {
   "codemirror_mode": {
    "name": "ipython",
    "version": 3
   },
   "file_extension": ".py",
   "mimetype": "text/x-python",
   "name": "python",
   "nbconvert_exporter": "python",
   "pygments_lexer": "ipython3",
   "version": "3.12.2"
  }
 },
 "nbformat": 4,
 "nbformat_minor": 2
}
