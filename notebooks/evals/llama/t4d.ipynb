{
 "cells": [
  {
   "cell_type": "code",
   "execution_count": 4,
   "metadata": {},
   "outputs": [],
   "source": [
    "import os\n",
    "from datasets import Dataset\n",
    "from pyprojroot import here"
   ]
  },
  {
   "cell_type": "code",
   "execution_count": 5,
   "metadata": {},
   "outputs": [],
   "source": [
    "dataset = Dataset.load_from_disk(here(\"evals/logs/llama/phaseII/t4d/t4d-/checkpoint_0_10\"))"
   ]
  },
  {
   "cell_type": "code",
   "execution_count": 7,
   "metadata": {},
   "outputs": [
    {
     "name": "stdout",
     "output_type": "stream",
     "text": [
      "```\n",
      "{\n",
      "    Identify the primary objective or goal that the individuals in the scenario are trying to achieve: {\n",
      "        Determine the object being moved or used and the individuals planning to use it: The radish is the object being moved or used, and Nathan and Mia plan to use it soon.\n",
      "    },\n",
      "    Filter out irrelevant information in the scenario: {\n",
      "        Focus on the key events and actions related to the object and the individuals planning to use it: Nathan and Mia's actions related to the radish are relevant, while Liam's entry into the front yard is not directly related.\n",
      "    },\n",
      "    Break down the scenario into smaller parts: {\n",
      "        Identify the individuals involved, the object being moved or used, and the locations where the events take place: The individuals involved are Nathan, Mia, and Liam. The object is the radish, and the locations are the porch, the crate, and the drawer.\n",
      "    },\n",
      "    Analyze the scenario step by step: {\n",
      "        Focus on the sequence of events and how they relate to the individuals and objects involved: Nathan and Mia enter the porch, the radish is in the crate, Nathan exits, Mia moves the radish to the drawer, and then Liam enters the front yard.\n",
      "    },\n",
      "    Identify the key event or action that triggers the need for someone to receive helpful information: {\n",
      "        Determine how it impacts the individuals involved: The key event is Mia moving the radish to the drawer, which impacts Nathan and Mia's plan to use the radish soon.\n",
      "    },\n",
      "    Determine the underlying relationships or connections between the individuals: {\n",
      "        Identify who would be affected by receiving helpful information: Nathan and Mia are planning to use the radish together, so they would both be affected by receiving helpful information about the radish's location.\n",
      "    },\n",
      "    Identify the individuals directly affected by the events or actions: {\n",
      "        Determine their needs or goals that would be impacted by receiving helpful information: Nathan and Mia's goal of using the radish soon would be impacted by receiving helpful information about its location.\n",
      "    },\n",
      "    Create a step-by-step plan to identify who would benefit from receiving helpful information: {\n",
      "        Take into account the key events, actions, and relationships in the scenario: Based on the analysis, the individual who would benefit from receiving helpful information is the one who is planning to use the radish soon but is not aware of its current location.\n",
      "    },\n",
      "    Determine who would benefit from receiving helpful information: {\n",
      "        Based on the analysis, identify the individual(s) who would benefit from receiving helpful information: Nathan would benefit from receiving helpful information about the radish's location, as he exited the porch before Mia moved it to the drawer.\n",
      "    },\n",
      "}\n",
      "```\n",
      "\n",
      "The final answer is B. Nathan.\n"
     ]
    }
   ],
   "source": [
    "print(dataset[0][\"reasoning\"])"
   ]
  }
 ],
 "metadata": {
  "kernelspec": {
   "display_name": "venv",
   "language": "python",
   "name": "python3"
  },
  "language_info": {
   "codemirror_mode": {
    "name": "ipython",
    "version": 3
   },
   "file_extension": ".py",
   "mimetype": "text/x-python",
   "name": "python",
   "nbconvert_exporter": "python",
   "pygments_lexer": "ipython3",
   "version": "3.12.2"
  }
 },
 "nbformat": 4,
 "nbformat_minor": 2
}
