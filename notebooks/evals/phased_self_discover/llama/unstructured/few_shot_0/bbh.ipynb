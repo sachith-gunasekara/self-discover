{
 "cells": [
  {
   "cell_type": "code",
   "execution_count": 11,
   "metadata": {},
   "outputs": [],
   "source": [
    "import os\n",
    "from pyprojroot import here\n",
    "from datasets import Dataset"
   ]
  },
  {
   "cell_type": "code",
   "execution_count": 12,
   "metadata": {},
   "outputs": [],
   "source": [
    "base_path = os.path.join(\"evals/logs/phased_self_discover/llama/unstructured/few_shot_0/bbh\")"
   ]
  },
  {
   "cell_type": "code",
   "execution_count": 13,
   "metadata": {},
   "outputs": [],
   "source": [
    "from tqdm.notebook import tqdm\n",
    "\n",
    "\n",
    "t4d = (\n",
    "    lambda y_i, y_pred_i: y_pred_i\n",
    "    and y_i in y_pred_i\n",
    "    and y_i == str(y_pred_i.translate(str.maketrans(\"\", \"\", \".'\"))[2:])\n",
    ")\n",
    "bbh = lambda y_i, y_pred_i: y_pred_i and y_i.translate(\n",
    "    str.maketrans(\"\", \"\", \"()\\\"\")\n",
    ") == y_pred_i.translate(str.maketrans(\"\", \"\", '.(),\"'))"
   ]
  },
  {
   "cell_type": "code",
   "execution_count": 14,
   "metadata": {},
   "outputs": [],
   "source": [
    "def calculate_correct_prediction_count(benchmark, y: list[str], y_pred: list[str]):\n",
    "    correct_preds = 0\n",
    "    for y_i, y_pred_i in tqdm(zip(y, y_pred), desc=\"Calculating...\"):\n",
    "        if benchmark == \"t4d\":\n",
    "            eval_fn = t4d\n",
    "        elif benchmark == \"bbh\":\n",
    "            eval_fn = bbh\n",
    "\n",
    "        if eval_fn(y_i, y_pred_i):\n",
    "            correct_preds += 1\n",
    "        else:\n",
    "            print(y_i)\n",
    "            print(\"-\" * 100)\n",
    "            print(y_pred_i)\n",
    "            print(\"-+=\" * 100)\n",
    "    return correct_preds"
   ]
  },
  {
   "cell_type": "markdown",
   "metadata": {},
   "source": [
    "# dyck_languages"
   ]
  },
  {
   "cell_type": "code",
   "execution_count": 9,
   "metadata": {},
   "outputs": [],
   "source": [
    "subset = 'dyck_languages'"
   ]
  },
  {
   "cell_type": "code",
   "execution_count": 10,
   "metadata": {},
   "outputs": [
    {
     "data": {
      "text/plain": [
       "PosixPath('/home/ubuntu/dev/self-discover/evals/logs/phased_self_discover/llama/unstructured/few_shot_0/bbh/bbh-dyck_languages/bbh-dyck_languages_eval')"
      ]
     },
     "execution_count": 10,
     "metadata": {},
     "output_type": "execute_result"
    }
   ],
   "source": [
    "path = here(os.path.join(base_path, f\"bbh-{subset}\", f\"bbh-{subset}_eval\"))\n",
    "path"
   ]
  },
  {
   "cell_type": "code",
   "execution_count": 11,
   "metadata": {},
   "outputs": [
    {
     "data": {
      "text/plain": [
       "Dataset({\n",
       "    features: ['input', 'target', 'self_discover_input', 'task_description', 'selected_modules', 'adapted_modules', 'reasoning_plan', 'reasoning', 'trajectory', 'answer_pred'],\n",
       "    num_rows: 250\n",
       "})"
      ]
     },
     "execution_count": 11,
     "metadata": {},
     "output_type": "execute_result"
    }
   ],
   "source": [
    "dataset = Dataset.load_from_disk(path)\n",
    "dataset"
   ]
  },
  {
   "cell_type": "code",
   "execution_count": 12,
   "metadata": {},
   "outputs": [
    {
     "name": "stdout",
     "output_type": "stream",
     "text": [
      "**Step 1: Analyze the Input Sequence**\n",
      "The given sequence is: { ( < [ < > ]\n",
      "The sequence contains curly brackets {}, round brackets (), angle brackets <>, and square brackets [].\n",
      "\n",
      "**Step 2: Identify Patterns and Relationships**\n",
      "The sequence appears to be symmetric, with the innermost parentheses being the angle brackets <>, followed by the square brackets [], then the round brackets (), and finally the curly brackets {}.\n",
      "\n",
      "**Step 3: Break Down the Sequence**\n",
      "Divide the sequence into smaller parts, focusing on one type of parenthesis at a time:\n",
      "- Innermost: < > (already closed)\n",
      "- Next: [ < > ] (already closed)\n",
      "- Next: ( [ < > ] ) (missing closing parenthesis)\n",
      "- Outermost: { ( [ < > ] ) (missing closing parentheses)\n",
      "\n",
      "**Step 4: Create a List of Possible Next Steps**\n",
      "Possible next steps:\n",
      "- Add a closing parenthesis to match the opening round bracket.\n",
      "- Add a closing parenthesis to match the opening curly bracket.\n",
      "\n",
      "**Step 5: Apply Possible Next Steps**\n",
      "Apply each possible next step to the sequence:\n",
      "- Add a closing parenthesis to match the opening round bracket: { ( [ < > ] ) }\n",
      "- Add a closing parenthesis to match the opening curly bracket: { ( [ < > ] ) }\n",
      "\n",
      "**Step 6: Evaluate the Sequence**\n",
      "The sequence is now: { ( [ < > ] ) }\n",
      "The sequence appears to be properly closed and nested.\n",
      "\n",
      "**Step 7: Refine the Solution**\n",
      "No further adjustments are needed.\n",
      "\n",
      "**Step 8: Final Evaluation**\n",
      "The final sequence is: { ( [ < > ] ) }\n",
      "The sequence meets the requirements:\n",
      "- All parentheses are properly closed.\n",
      "- The sequence is nested correctly.\n",
      "\n",
      "The final answer is { ( [ < > ] ) }.\n"
     ]
    }
   ],
   "source": [
    "print(dataset[0][\"reasoning\"])"
   ]
  },
  {
   "cell_type": "code",
   "execution_count": 13,
   "metadata": {},
   "outputs": [
    {
     "data": {
      "application/vnd.jupyter.widget-view+json": {
       "model_id": "80666fbeb9034eddb5c0de36104bd483",
       "version_major": 2,
       "version_minor": 0
      },
      "text/plain": [
       "Map:   0%|          | 0/250 [00:00<?, ? examples/s]"
      ]
     },
     "metadata": {},
     "output_type": "display_data"
    }
   ],
   "source": [
    "def map_fn(ins):\n",
    "    find = \"Input: \"\n",
    "    index = ins[\"input\"].find(find)\n",
    "    \n",
    "    return {\n",
    "        \"target\": ins[\"input\"][index + len(find):] + \" \" + ins[\"target\"]\n",
    "    }\n",
    "\n",
    "dataset = dataset.map(map_fn)"
   ]
  },
  {
   "cell_type": "code",
   "execution_count": 14,
   "metadata": {},
   "outputs": [],
   "source": [
    "bbh = lambda y_i, y_pred_i: y_pred_i and y_i.translate(\n",
    "    str.maketrans(\"\", \"\", \"()\\\"\")\n",
    ").replace(\" \", \"\") == y_pred_i.translate(str.maketrans(\"\", \"\", '.(),\"')).replace(\" \", \"\")"
   ]
  },
  {
   "cell_type": "code",
   "execution_count": 15,
   "metadata": {},
   "outputs": [
    {
     "data": {
      "application/vnd.jupyter.widget-view+json": {
       "model_id": "2ba7fcfe73cf4bf0908c40178ba3638c",
       "version_major": 2,
       "version_minor": 0
      },
      "text/plain": [
       "Calculating...: 0it [00:00, ?it/s]"
      ]
     },
     "metadata": {},
     "output_type": "display_data"
    },
    {
     "name": "stdout",
     "output_type": "stream",
     "text": [
      "{ ( < [ < > ] > ) }, { ( [ < > ] ) }.\n",
      "\n",
      "{ ( < > ) } ( ( [ ] ) < [ ( [ [ ] ] [ { } ] { } [ < { [ ] } > ] ( ) ) ] > ), { ( < > ) } ( ( [ ] ) < [ ( [ [ ] ] [ { } ] { } [ < { [ ] } > ] ( ) ) ] ) ) ) )\n",
      "\n",
      "< { < [ [ ( { } ) ] ] > } >, < { < [ [ ( { } ) ] ] } >.\n",
      "\n",
      "< ( < { [ { } < ( { ( < < < { [ ( [ ( [ { { < [ { } < ( ) > ] > } } ] ) ] ) ] } > < > > ( ( < { } > ) ) > ) } ) > ] } > ) >, < ( < { [ { } ] } < ( { ( < < < { [ ( [ ( [ { { < [ { } < ( ) > ] > } } ] ) ] ) ] } > < > > ( ( < { } > ) ) > ) } ) > ] } > )\n",
      "\n",
      "[ < < [ [ ] ( ) { < > ( [ { } { < > } { } ] ) } [ [ [ ( [ ( ) [ [ { < [ { { } } < { { < ( ) > } } > ] > } ] ] ] ) ] < < [ [ ( < < ( ) > > ) ] ] > > [ ] ] ] ] < ( [ ] ) > { ( ( < { } > ) ) } > > ], [ < < [ [ ] ( ) { < > ( [ { } { < > } { } ] ) } [ [ [ ( [ ( ) [ [ { < [ { { } } < { { < ( ) > } } > ] > } ] ] ] ) ] < < [ [ ( < < ( ) > > ) ] ] > > [ ] ] ] ] < ( [ ] ) > { ( ( < { } > ) ) } > >.\n",
      "\n",
      "< [ { ( ( < ( ( ) ) > ) ) } ] >, [ < ( () ) > ].\n",
      "\n",
      "{ { [ ( [ { ( { ( [ ( [ ] ) { ( < < [ ] > [ [ ] ] > ) } ] ) [ ] } ) } ] ) ] } { < [ ] > } ( ) }, { { [ ( [ { ( { ( [ ( [ ] ) { ( < < [ ] > [ [ ] ] > ) } ] ) [ ] } ) } ] ) ] } } { < [ ] > } ( ).\n",
      "\n",
      "[ < [ { ( < ( ( [ < < { } > < < [ ( { < < > > } ) ] > > > ] { } ) ) > ) } ] [ < < { } > ( < < ( ) < ( [ ] ) > > ( ( ) ) > ) > ] > ] < < { } > >, [ < [ { ( < ( ( [ < < { } > < < [ ( { < < > > } ) ] > > > ] { } ) ) > ) } ] [ < < { } > ( < < ( ) < ( [ ] ) > > ( ( ) ) > ) > ] > ] < < { > > }.\n",
      "\n",
      "{ { [ < > ] } < [ ( [ { } ] ) ] > < [ < > { } ] < ( [ ] ) > < > > }, { { [ < > ] } < [ ( [ { } ] ) ] > < [ < > { } ] < ( [ ] ) > < } } }.\n",
      "\n",
      "< [ { { [ [ [ < ( < [ ] { [ ( [ ] ) ] [ ] < > } > ) > ] ( [ ] ) ] ] } } ] >, < [ { { [ [ [ < ( < [ ] { [ ( [ ] ) ] [ ] < > } > ) > ] ( [ ] ) ] ] } } >\n",
      "\n",
      "( ( < < < ( ( ) ) ( [ ] ) > > { [ ] } > ) ), ( ( < < < ( ) ( ) > > > { [ ] } ) ).\n",
      "\n",
      "( { < [ < > ] > } ), ( { < [ < > ] > } ) -> ( { < [  ] > } ) -> ( { <  > } ) -> ( { } ) -> ( )\n",
      "\n",
      "[ ( [ ( [ < ( ) > [ < { } { [ ] } [ ] [ ] > { ( < { < > } > ) } ] ] ) ] ) ], [ ( [ ( [ < ( ) > ] [ < { } { [ ] } [ ] [ ] > ] { ( < { < > } > ) } ] ] ) ] ) ]\n",
      "\n",
      "< { < ( ) > } >, < { < ( ) } > >\n",
      "\n",
      "( < ( ) ( < [ ] > ( ) < [ [ { } { < > } < > ] ] > ) [ ] > [ ( < { [ ] } [ ] ( { [ < > ] < < > > ( ( < { } > ) ) } ) [ [ [ < < < ( ( ) ) > > > ] < < { [ ] } > > ( [ < > ] ) ] ] > ) ] < > ), ( < ( ) > ( < [ ] > ( ) < [ [ { } { < > } < > ] ] > ) [ ] > [ ( < { [ ] } [ ] ( { [ < > ] < < > > ( ( < { } > ) ) } ) > [ [ [ < < < ( ( ) ) > > > ] < < { [ ] } > > ( [ < > ] ) ] ] > ) ] < > ).\n",
      "\n",
      "( < { ( ) { } } ( < > ) > ), ( < ( < > ) > ).\n",
      "\n",
      "< > < { { { [ ( ) ] } } } > ( { [ { ( [ ] { } ) } ] } ), < > < { { { [ ( ) ] } } } > ( { [ { ( [ ] { } ) } ] ) )\n",
      "\n",
      "{ < > } [ ( { ( { [ < > ] } ) ( ) } ) ] { [ < > ] } [ [ ( [ ] ) ] ], { } { } [ ] [ ]\n",
      "\n",
      "{ < < ( ) > > }, { < < ( ) } > > ).\n",
      "\n",
      "< < < { < < > > } > < < { < ( < > ) < > [ [ [ < ( ( ) ) > [ ] [ ] ] ] ] < ( ) > ( ) [ ( [ [ ] ] ) ] > } { } { < [ < { ( { } ) } > ] > } { { } } > > > >, < < < { < < > > } > < < { < ( < > ) < > [ [ [ < ( ( ) ) > [ ] [ ] ] ] ] < ( ) > ( ) [ ( [ [ ] ] ) ] > } { } { < [ < { ( { } ) } > ] > } { { } } > > > > ] ] } } ) ) >\n",
      "\n",
      "( [ { < ( [ ] < > ) > } ] ), None\n",
      "\n",
      "( < { < ( ( < { } { < < { { { } } } > < < < > [ ] > { } ( < { { ( [ ( ) ] ) } } > ) > > } > ) ) > } > ), ( < { ( { } < { { } } > { } < { { } } > > > } > ) ) > } >\n",
      "\n",
      "[ { { } } ] ( < { < [ ( ( ) ) ] > } > ), None\n",
      "\n",
      "[ < { [ ] } > ], None\n",
      "\n",
      "[ [ < [ [ ] ] > ] ] { } { ( { ( ( ) ) ( ) { { [ [ ( { < { [ { [ ( < ( ( < < < [ ( ) ] [ ] > > > ) ) > < [ < { < ( ) > } > ] > ) ] } ] } > ( ( ) ) } ) [ ( ) ] ] ( < > ) ] } } } ) } [ ], [ [ < [ [ ] ] > ] ] { } { ( { ( ( ) ) ( ) { { [ [ ( { < { [ { [ ( < ( ( < < < [ ( ) ] [ ] > > > ) ) > < [ < { < ( ) > } > ] > ) ] } ] } > ( ( ) ) } ) [ ( ) ] ] ( < > ) ] } } } ) } ]\n",
      "\n",
      "{ { } ( ( ) ) }, { { } ( ( )} }\n",
      "\n",
      "[ < > ] [ { < { } > { [ ( [ ( ) ] ) ] } } ], [ < > ] [ { < { } > } ] [ ( [ ( ) ] ) ].\n",
      "\n",
      "[ ] { [ [ < { { { } } } > ] ] < [ { } ] > }, [ { [ [ < { { { } } } > ] ] < [ { } ] } ].\n",
      "\n",
      "( [ ( { } ) { < ( ( [ ] ) ) > } ] ), ( [ ( ) { < ( ) > } ) ] ).\n",
      "\n",
      "( { { { { { < < ( { ( { { < < [ < [ [ ] ] > ] [ ] > [ [ ] ] > ( < [ { < > < [ ] > } ] > ) } } ) } ) > > } } } } } ), ( { { { { { < < ( { ( { { < < [ < [ [ ] ] > ] [ ] > [ [ ] ] > ( < [ { < > < [ ] > } ] > ) } } ) } ) > > } } } } > > ) ).\n",
      "\n",
      "( [ [ [ { } ] ] { < [ < [ { } ] > ] > } ] ), ( [ [ [ { } ] ] ] { < [ < [ { } ] > ] > } ).\n",
      "\n",
      "{ < ( [ ( ( [ < { ( { } ) } < < > > > ] ) ) ] ) > }, { < ( [ ( ( [ < { ( { } ) } < < > > > ] ) ) ] ) > ) ) ) ] ) } > ).\n",
      "\n",
      "{ { ( { [ [ { < [ ] > } ] ] } ) [ ( < { < > } > ) ] } }, { { ( { [ [ { < [ ] > } ] ] } ) [ ( < { < > } > ) ] ] ) } } } }\n",
      "\n",
      "[ < > [ [ < [ ] > ] ] ], [ < [ [ < [ ] > ] > ].\n",
      "\n",
      "( ( { < > ( ) [ { < ( < > < ( ( ) ( [ { } ] ) ) > { { } { ( ) } } ) [ ] > } ] { { } } } ) ), None\n",
      "\n",
      "( [ < < > [ [ < > ] ] > ] ( < < < ( [ [ ] ] ) [ ( ( [ { { } } ] ) ) ] > > > ) ), ( [ < < > [ [ < > ] ] > ] ) ( < < < ( [ [ ] ] ) [ ( ( [ { { } } ] ) ) ] > > ).\n",
      "\n",
      "{ < [ ] > ( { [ ] } < > ) }, { < [ ] > ( { [ ] } ) > }.\n",
      "\n",
      "{ ( ( ) ( { ( < ( ) > ) } ) ) }, { ( ( ) ( { ( < ( ) > ) } ) } ) }.\n",
      "\n",
      "( ) ( [ [ ] ] ) ( { [ { < { ( ) < [ [ < > { [ ( < ( < [ { < < ( [ ( ) ] [ ( < ( { [ ] } ) > ) ] [ < > ] ) > [ { ( < > ) } ] > } ] > ) > ) ] } ] ] > { } [ [ ] ] { } } > ( ( < > ) ) } ] } ), None\n",
      "\n",
      "( ) [ ( [ < { { ( { } ) } } > ] ) ], None\n",
      "\n",
      "[ { [ { ( < < < < > { } > { [ { } ] } > > ) } ] [ ] } ] [ < { { } } [ [ ( ( ) ) ] ] > ] [ ( ( [ ] ) ) ], [ { [ { ( < < < < > { } > { [ { } ] } > > ) } ] [ ] } ] [ < { { } } [ [ ( ( ) ) ] ] > ] [ ( ( [ ] ) ) ] ]\n",
      "\n",
      "< { < ( ) ( ( < > < ( ( < < > > ) ) { ( ) } > ) ) { { } } > } >, < { < ( ) ( ( < > < ( ( < < > > ) ) { ( ) } > ) ) { { } } }}.\n",
      "\n",
      "[ { [ < [ < { } > ] [ ] > ] } ], [ ]\n",
      "\n",
      "< { { } } ( < [ ] [ { } ] > ) ( { { } { { ( ) } } } ) { < { { [ ] } [ ( ) ] } ( < { [ < > ] } > ) < ( [ ] { ( < < [ ] > > ) [ { [ [ ( ( ) ) ] ] } ] } { } ) > ( { { [ [ ( ) ] ] } } ) > } >, < { { } } ( < [ ] [ { } ] > ) ( { { } { { ( ) } } } ) { < { { [ ] } [ ( ) ] } ( < { [ < > ] } > ) < ( [ ] { ( < < [ ] > > ) [ { [ [ ( ( ) ) ] ] } ] } { } ) > ) ( { { [ [ ( ) ] ] } } ) >\n",
      "\n",
      "{ ( [ { ( < [ { ( ) { } } ] > ) < > } ] ) }, { }.\n",
      "\n",
      "{ { [ [ ] { { < > [ ( ) ( [ ] ) [ ] { < > } ] } } [ { [ ] } ] { ( ) } ] } }, { { [ [ ] { { < > [ ( ) ( [ ] ) [ ] { < > } ] } } [ { [ ] } ] { ( ) } }.\n",
      "\n",
      "{ [ < [ { < ( ) > } ] > ] }, None\n",
      "\n",
      "[ { < > < [ ] > [ < { } > ] [ ( { } ) ] [ ] [ ( ) ] ( ) < { { < { { { { { ( { } ) } ( { < > } ) } } } } > } } > } ], [ { < > < [ ] > [ < { } > ] [ ( { } ) ] [ ] [ ( ) ] ( ) < { { < { { { { { ( { } ) } ( { < > } ) } } } } > } } ] > } }.\n",
      "\n",
      "[ [ < [ ( [ < [ ] > ] ) ] > ] ( { } ) ], None\n",
      "\n",
      "{ ( { { < { < > } > } < { } > < < < [ < [ ] > ] > > > } ) }, >\n",
      "\n",
      "[ ] [ ( [ [ ( ) ] ] ) < < [ ] > > < < > > ], [ ] [ ( [ [ ] ] ) ] < < [ ] > > < < > >\n",
      "\n",
      "{ { ( [ ] ) { ( ) } } }, { { ( [ ] ) { ( ) } }\n",
      "\n",
      "{ ( ( ) ) { < > { ( [ [ { } ] [ ( ) ] ] ) } [ { { { ( < [ ] > ) } { < > } } } ] } }, { ( ( ) ) { < > { ( [ [ { } ] [ ( ) ] ] ) } [ { { { ( < [ ] > ) } { < > } } ] ] }.\n",
      "\n",
      "< ( < > ) { < < { ( ( ) { { { < > { } } [ < > ] ( ) } } ( ( ) ) ) < [ { { ( ( < > ) ) } } [ { < { } > } ] ( ) ] > } { [ ] } > > [ ] } > ( [ ] ) [ < { ( ( ( ) ( ) ) ) ( ) } > ] [ < ( ) > ], < ( < > ) { < < { ( ( ) { { { < > { } } [ < > ] ( ) } } ( ( ) ) ) < [ { { ( ( < > ) ) } } [ { < { } > } ] ( ) ] > } { [ ] } > > [ ] } > } ( [ ] ) [ < { ( ( ( ) ( ) ) ) ( ) } > ] [ < ( ) > ].\n",
      "\n",
      "[ ( { } ) ], ) ]\n",
      "\n",
      "{ < { } > { ( ) } }, { < { } > { ( ) }.\n",
      "\n",
      "{ { { } } }, { { { } } } }.\n",
      "\n",
      "< { } [ [ ( ( < { < { [ ] } > } > ) ) ] ] >, < { } [ [ ( ( < { < { } > } > ) ) ] > ] >\n",
      "\n",
      "{ [ { [ ] } ] } [ [ { { } } [ < > ] ] ], { [ { [ ] } ] } [ [ { { } } [ < } ] >\n",
      "\n",
      "{ ( ( [ ] ) ) }, { ( ( [ ] ) )} is incorrect. The correct answer is { ( ( [ ] ) )} does not make sense. The correct answer is { ( ( [ ] ) )} is incorrect and the correct answer is { ( ( [ ] ) )} does not make sense. The correct answer is { ( ( [ ] ) )} is incorrect. The correct answer is { ( ( [ ] ) )} does not make sense. The final answer is { ( ( [ ] ) )} is incorrect. The correct answer is { ( ( [ ] ) )} does not make sense. The correct answer is { ( ( [ ] ) )} is incorrect and the correct answer is { ( ( [ ] ) )} does not make sense. The final correct answer is { ( ( [ ] ) )} is incorrect. The correct answer is { ( ( [ ] ) )} does not make sense. The correct answer is { ( ( [ ] ) )} is incorrect and the correct answer is { ( ( [ ] ) )} does not make sense. The correct answer is { ( ( [ ] ) )} is incorrect. The correct answer is { ( ( [ ] ) )} does not make sense. The correct answer is { ( ( [ ] ) )} is incorrect. The final answer is { ( ( [ ] ) )} is incorrect. The correct answer is { ( ( [ ] ) )} does not make sense. The correct answer is { ( ( [ ] ) )} is incorrect. The correct answer is { ( ( [ ] ) )} does not make sense. The correct answer is { ( ( [ ] ) )} is incorrect. The correct answer is { ( ( [ ] ) )} does not make sense. The correct answer is { ( ( [ ] ) )} is incorrect. The correct answer is { ( ( [ ] ) )} does not make sense. The correct answer is { ( ( [ ] ) )} is incorrect. The correct answer is { ( ( [ ] ) )} does not make sense. The correct answer is { ( ( [ ] ) )} is incorrect. The correct answer is { ( ( [ ] ) )} does not make sense. The correct answer is { ( ( [ ] ) )} is incorrect. The correct answer is { ( ( [ ] ) )} does not make sense. The correct answer is { ( ( [ ] ) )} is incorrect. The correct answer is { ( ( [ ] ) )} does not make sense. The correct answer is { ( ( [ ] ) )} is incorrect. The correct answer is { ( ( [ ] ) )} does not make sense. The correct answer is { ( ( [ ] ) )} is incorrect. The correct answer is { ( ( [ ] ) )} does not make sense. The correct answer is { ( ( [ ] ) )} is incorrect. The correct answer is { ( ( [ ] ) )} does not make sense. The correct answer is { ( ( [ ] ) )} is incorrect. The correct answer is { ( ( [ ] ) )} does not make sense. The correct answer is { ( ( [ ] ) )} is incorrect. The correct answer is { ( ( [ ] ) )} does not make sense. The correct answer is { ( ( [ ] ) )} is incorrect. The correct answer is { ( ( [ ] ) )} does not make sense. The correct answer is { ( ( [ ] ) )} is incorrect. The correct answer is { ( ( [ ] ) )} does not make sense. The correct answer is { ( ( [ ] ) )} is incorrect. The correct answer is { ( ( [ ] ) )} does not make sense. The correct answer is { ( ( [ ] ) )} is incorrect. The correct answer is { ( ( [ ] ) )} does not make sense. The correct answer is { ( ( [ ] ) )} is incorrect. The correct answer is { ( ( [ ] ) )} does not make sense. The correct answer is { ( ( [ ] ) )} is incorrect. The correct answer is { ( ( [ ] ) )} does not make sense. The correct answer is { ( ( [ ] ) )} is incorrect. The correct answer is { ( ( [ ] ) )} does not make sense. The correct answer is { ( ( [ ] ) )} is incorrect. The correct answer is { ( ( [ ] ) )} does not make sense. The correct answer is { ( ( [ ] ) )} is incorrect. The correct answer is { ( ( [ ] ) )} does not make sense. The correct answer is { ( ( [ ] ) )} is incorrect. The correct answer is { ( ( [ ] ) )} does not make sense. The correct answer is { ( ( [ ] ) )} is incorrect. The correct answer is { ( ( [ ] ) )} does not make sense. The correct answer is { ( ( [ ] ) )} is incorrect. The correct answer is { ( ( [ ] ) )} does not make sense. The correct answer is { ( ( [ ] ) )} is incorrect. The correct answer is { ( ( [ ] ) )} does not make sense. The correct answer is { ( ( [ ] ) )} is incorrect. The correct answer is { ( ( [ ] ) )} does not make sense. The correct answer is { ( ( [ ] ) )} is incorrect. The correct answer is { ( ( [ ] ) )} does not make sense. The correct answer is { ( ( [ ] ) )} is incorrect. The correct answer is { ( ( [ ] ) )} does not make sense. The correct answer is { ( ( [ ] ) )} is incorrect. The correct answer is { ( ( [ ] ) )} does not make sense. The correct answer is { ( ( [ ] ) )} is incorrect. The correct answer is { ( ( [ ] ) )} does not make sense. The correct answer is { ( ( [ ] ) )} is incorrect. The correct answer is { ( ( [ ] ) )} does not make sense. The correct answer is { ( ( [ ] ) )} is incorrect. The correct answer is { ( ( [ ] ) )} does not make sense. The correct answer is { ( ( [ ] ) )} is incorrect. The correct answer is { ( ( [ ] ) )} does not make sense. The correct answer is { ( ( [ ] ) )} is incorrect. The correct answer is { ( ( [ ] ) )} does not make sense. The correct answer is { ( ( [ ] ) )} is incorrect. The correct answer is { ( ( [ ] ) )} does not make sense. The correct answer is { ( ( [ ] ) )} is incorrect. The correct answer is { ( ( [ ] ) )} does not make sense. The correct answer is { ( ( [ ] ) )} is incorrect. The correct answer is { ( ( [ ] ) )} does not make sense. The correct answer is { ( ( [ ] ) )} is incorrect. The correct answer is { ( ( [ ] ) )} does not make sense. The correct answer is { ( ( [ ] ) )} is incorrect. The correct answer is { ( ( [ ] ) )} does not make sense. The correct answer is { ( ( [ ] ) )} is incorrect. The correct answer is { ( ( [ ] ) )} does not make sense. The correct answer is { ( ( [ ] ) )} is incorrect. The correct answer is { ( ( [ ] ) )} does not make sense. The correct answer is { ( ( [ ] ) )} is incorrect. The correct answer is { ( ( [ ] ) )} does not make sense. The correct answer is { ( ( [ ] ) )} is incorrect. The correct answer is { ( ( [ ] ) )} does not make sense. The correct answer is { ( ( [ ] ) )} is incorrect. The correct answer is { ( ( [ ] ) )} does not make sense. The correct answer is { ( ( [ ] ) )} is incorrect. The correct answer is { ( ( [ ] ) )} does not make sense. The correct answer is { ( ( [ ] ) )} is incorrect. The correct answer is { ( ( [ ] ) )} does not make sense. The correct answer is { ( ( [ ] ) )} is incorrect. The correct answer is { ( ( [ ] ) )} does not make sense. The correct answer is { ( ( [ ] ) )} is incorrect. The correct answer is { ( ( [ ] ) )} does not make sense. The correct answer is { ( ( [ ] ) )} is incorrect. The correct answer is { ( ( [ ] ) )} does not make sense. The correct answer is { ( ( [ ] ) )} is incorrect. The correct answer is { ( ( [ ] ) )} does not make sense. The correct answer is { ( ( [ ] ) )} is incorrect. The correct answer is { ( ( [ ] ) )} does not make sense. The correct answer is { ( ( [ ] ) )} is incorrect. The correct answer is { ( ( [ ] ) )} does not make sense. The correct answer is { ( ( [ ] ) )} is incorrect. The correct answer is { ( ( [ ] ) )} does not make sense. The correct answer is { ( ( [ ] ) )} is incorrect. The correct answer is { ( ( [ ] ) )} does not make sense. The correct answer is { ( ( [ ] ) )} is incorrect. The correct answer is { ( ( [ ] ) )} does not make sense. The correct answer is { ( ( [ ] ) )} is incorrect. The correct answer is { ( ( [ ] ) )} does not make sense. The correct answer is { ( ( [ ] ) )} is incorrect. The correct answer is { ( ( [ ] ) )} does not make sense. The correct answer is { ( ( [ ] ) )} is incorrect. The correct answer is { ( ( [ ] ) )} does not make sense. The correct answer is { ( ( [ ] ) )} is incorrect. The correct answer is { ( ( [ ] ) )} does not make sense. The correct answer is { ( ( [ ] ) )} is incorrect. The correct answer is { ( ( [ ] ) )} does not make sense. The correct answer is { ( ( [ ] ) )} is incorrect. The correct answer is { ( ( [ ] ) )} does not make sense. The correct answer is { ( ( [ ] ) )} is incorrect. The correct answer is { ( ( [ ] ) )} does not make sense. The correct answer is { ( ( [ ] ) )} is incorrect. The correct answer is { ( ( [ ] ) )} does not make sense. The correct answer is { ( ( [ ] ) )} is incorrect. The correct answer is { ( ( [ ] ) )} does not make sense. The correct answer is { ( ( [ ] ) )} is incorrect. The correct answer is { ( ( [ ] ) )} does not make sense. The correct answer is { ( ( [ ] ) )} is incorrect. The correct answer is { ( ( [ ] ) )} does not make sense. The correct answer is { ( ( [ ] ) )} is incorrect. The correct answer is { ( ( [ ] ) )} does not make sense. The correct answer is { ( ( [ ] ) )} is incorrect. The correct answer is { ( ( [ ] ) )} does not make sense. The correct answer is { ( ( [ ] ) )} is incorrect. The correct answer is { ( ( [ ] ) )} does not make sense. The correct answer is { ( ( [ ] ) )} is incorrect. The correct answer is { ( ( [ ] ) )} does not make sense. The correct answer is { ( ( [ ] ) )} is incorrect. The correct answer is { ( ( [ ] ) )} does not make sense. The correct answer is { ( ( [ ] ) )} is incorrect. The correct answer is { ( ( [ ] ) )} does not make sense. The correct answer is { ( ( [ ] ) )} is incorrect. The correct answer is { ( ( [ ] ) )} does not make sense. The correct answer is { ( ( [ ] ) )} is incorrect. The correct answer is { ( ( [ ] ) )} does not make sense. The correct answer is { ( ( [ ] ) )} is incorrect. The correct answer is { ( ( [ ] ) )} does not make sense. The correct answer is { ( ( [ ] ) )} is incorrect. The correct answer is { ( ( [ ] ) )} does not make sense. The correct answer is { ( ( [ ] ) )} is incorrect. The correct answer is { ( ( [ ] ) )} does not make sense. The correct answer is { ( ( [ ] ) )} is incorrect. The correct answer is { ( ( [ ] ) )} does not make sense. The correct answer is { ( ( [ ] ) )} is incorrect. The correct answer is { ( ( [ ] ) )} does not make sense. The correct answer is { ( ( [ ] ) )} is incorrect. The correct answer is { ( ( [ ] ) )} does not make sense. The correct answer is { ( ( [ ] ) )} is incorrect. The correct answer is { ( ( [ ] ) )} does not make sense. The correct answer is { ( ( [ ] ) )} is incorrect. The correct answer is { ( ( [ ] ) )} does not make sense. The correct answer is { ( ( [ ] ) )} is incorrect. The correct answer is { ( ( [ ] ) )} does not make sense. The correct answer is { ( ( [ ] ) )} is incorrect. The correct answer is { ( ( [ ] ) )} does not make sense. The correct answer is { ( ( [ ] ) )} is incorrect. The correct answer is { ( ( [ ] ) )} does not make sense. The correct answer is { ( ( [ ] ) )} is incorrect. The correct answer is { ( ( [ ] ) )} does not make sense. The correct answer is { ( ( [ ] ) )} is incorrect. The correct answer is { ( ( [ ] ) )} does not make sense. The correct answer is { ( ( [ ] ) )} is incorrect. The correct answer is { ( ( [ ] ) )} does not make sense. The correct answer is { ( ( [ ] ) )} is incorrect. The correct answer is { ( ( [ ] ) )} does not make sense. The correct answer is { ( ( [ ] ) )} is incorrect. The correct answer is { ( ( [ ] ) )} does not make sense. The correct answer is { ( ( [ ] ) )} is incorrect. The correct answer is { ( ( [ ] ) )} does not make sense. The correct answer is { ( ( [ ] ) )} is incorrect. The correct answer is { ( ( [ ] ) )} does not make sense. The correct answer is { ( ( [ ] ) )} is incorrect. The correct answer is { ( ( [ ] ) )} does not make sense. The correct answer is { ( ( [ ] ) )} is incorrect. The correct answer is { ( ( [ ] ) )} does not make sense. The correct answer is { ( ( [ ] ) )} is incorrect. The correct answer is { ( ( [ ] ) )} does not make sense. The correct answer is { ( ( [ ] ) )} is incorrect. The correct answer is { ( ( [ ] ) )} does not make sense. The correct answer is { ( ( [ ] ) )} is incorrect. The correct answer is { ( ( [ ] ) )} does not make sense. The correct answer is { ( ( [ ] ) )} is incorrect. The correct answer is { ( ( [ ] ) )} does not make sense. The correct answer is { ( ( [ ] ) )} is incorrect. The correct answer is { ( ( [ ] ) )} does not make sense. The correct answer is { ( ( [ ] ) )} is incorrect. The correct answer is { ( ( [ ] ) )} does not make sense. The correct answer is { ( ( [ ] ) )} is incorrect. The correct answer is { ( ( [ ] ) )} does not make sense. The correct answer is { ( ( [ ] ) )} is incorrect. The correct answer is { ( ( [ ] ) )} does not make sense. The correct answer is { ( ( [ ] ) )} is incorrect. The correct answer is { ( ( [ ] ) )} does not make sense. The correct answer is { ( ( [ ] ) )} is incorrect. The correct answer is { ( ( [ ] ) )} does not make sense. The correct answer is { ( ( [ ] ) )} is incorrect. The correct answer is { ( ( [ ] ) )} does not make sense. The correct answer is { ( ( [ ] ) )} is incorrect. The correct answer is { ( ( [ ] ) )} does not make sense. The correct answer is { ( ( [ ] ) )} is incorrect. The correct answer is { ( ( [ ] ) )} does not make sense. The correct answer is { ( ( [ ] ) )} is incorrect. The correct answer is { ( ( [ ] ) )} does not make sense. The correct answer is { ( ( [ ] ) )} is incorrect. The correct answer is { ( ( [ ] ) )} does not make sense. The correct answer is { ( ( [ ] ) )} is incorrect. The correct answer is { ( ( [ ] ) )} does not make sense. The correct answer is { ( ( [ ] ) )} is incorrect. The correct answer is { ( ( [ ] ) )} does not make sense. The correct answer is { ( ( [ ] ) )} is incorrect. The correct answer is { ( ( [ ] ) )} does not make sense. The correct answer is { ( ( [ ] ) )} is incorrect. The correct answer is { ( ( [ ] ) )} does not make sense. The correct answer is { ( ( [ ] ) )} is incorrect. The correct answer is { ( ( [ ] ) )} does not make sense. The correct answer is { ( ( [ ] ) )} is incorrect. The correct answer is { ( ( [ ] ) )} does not make sense. The correct answer is { ( ( [ ] ) )} is incorrect. The correct answer is { ( ( [ ] ) )} does not make sense. The correct answer is { ( ( [ ] ) )} is incorrect. The correct answer is { ( ( [ ] ) )} does not make sense. The correct answer is { ( ( [ ] ) )} is incorrect. The correct answer is { ( ( [ ] ) )} does not make sense. The correct answer is { ( ( [ ] ) )} is incorrect. The correct answer is { ( ( [ ] ) )} does not make sense. The correct answer is { ( ( [ ] ) )} is incorrect. The correct answer is { ( ( [ ] ) )} does not make sense. The correct answer is { ( ( [ ] ) )} is incorrect. The correct answer is { ( ( [ ] ) )} does not make sense. The correct answer is { ( ( [ ] ) )} is incorrect. The correct answer is { ( ( [ ] ) )} does not make sense. The correct answer is { ( ( [ ] ) )} is incorrect. The correct answer is { ( ( [ ] ) )} does not make sense. The correct answer is { ( ( [ ] ) )} is incorrect. The correct answer is { ( ( [ ] ) )} does not make sense. The correct answer is { ( ( [ ] ) )} is incorrect. The correct answer is { ( ( [ ] ) )} does not make sense. The correct answer is { ( ( [ ] ) )} is incorrect. The correct answer is { ( ( [ ] ) )} does not make sense. The correct answer is { ( ( [ ] ) )} is incorrect. The correct answer is { ( ( [ ] ) )} does not make sense. The correct answer is { ( ( [ ] ) )} is incorrect. The correct answer is { ( ( [ ] ) )} does not make sense. The correct answer is { ( ( [ ] ) )} is incorrect. The correct answer is { ( ( [ ] ) )} does not make sense. The correct answer is { ( ( [ ] ) )} is incorrect. The correct answer is { ( ( [ ] ) )} does not make sense. The correct answer is { ( ( [ ] ) )} is incorrect. The correct answer is { ( ( [ ] ) )} does not make sense. The correct answer is { ( ( [ ] ) )} is incorrect. The correct answer is { ( ( [ ] ) )} does not make sense. The correct answer is { ( ( [ ] ) )} is incorrect. The correct answer is { ( ( [ ] ) )} does not make sense. The correct answer is { ( ( [ ] ) )} is incorrect. The correct answer is { ( ( [ ] ) )} does not make sense. The correct answer is { ( ( [ ] ) )} is incorrect. The correct answer is { ( ( [ ] ) )} does not make sense. The correct answer is { ( ( [ ] ) )} is incorrect. The correct answer is { ( ( [ ] ) )} does not make sense. The correct answer is { ( ( [ ] ) )} is incorrect. The correct answer is { ( ( [ ] ) )} does not make sense. The correct answer is { ( ( [ ] ) )} is incorrect. The correct answer is { ( ( [ ] ) )} does not make sense. The correct answer is { ( ( [ ] ) )} is incorrect. The correct answer is { ( ( [ ] ) )} does not make sense. The correct answer is { ( ( [ ] ) )} is incorrect. The correct answer is { ( ( [ ] ) )} does not make sense. The correct answer is { ( ( [ ] ) )} is incorrect. The correct answer is { ( ( [ ] ) )} does not make sense. The correct answer is { ( ( [ ] ) )} is incorrect. The correct answer is { ( ( [ ] ) )} does not make sense. The correct answer is { ( ( [ ] ) )} is incorrect. The correct answer is { ( ( [ ] ) )} does not make sense. The correct answer is { ( ( [ ] ) )} is incorrect. The correct answer is { ( ( [ ] ) )} does not make sense. The correct answer is { ( ( [ ] ) )} is incorrect. The correct answer is { ( ( [ ] ) )} does not make sense. The correct answer is { ( ( [ ] ) )} is incorrect. The correct answer is { ( ( [ ] ) )} does not make sense. The correct answer is { ( ( [ ] ) )} is incorrect. The correct answer is { ( ( [ ] ) )} does not make sense. The correct answer is { ( ( [ ] ) )} is incorrect. The correct answer is { ( ( [ ] ) )} does not make sense. The correct answer is { ( ( [ ] ) )} is incorrect. The correct answer is { ( ( [ ] ) )} does not make sense. The correct answer is { ( ( [ ] ) )} is incorrect. The correct answer is { ( ( [ ] ) )} does not make sense. The correct answer is { ( ( [ ] ) )} is incorrect. The correct answer is { ( ( [ ] ) )} does not make sense. The correct answer is { ( ( [ ] ) )} is incorrect. The correct answer is { ( ( [ ] ) )} does not make sense. The correct answer is { ( ( [ ] ) )} is incorrect. The correct answer is { ( ( [ ] ) )} does not make sense. The correct answer is { ( ( [ ] ) )} is incorrect. The correct answer is { ( ( [ ] ) )} does not make sense. The correct answer is { ( ( [ ] ) )} is incorrect. The correct answer is { ( ( [ ] ) )} does not make sense. The correct answer is { ( ( [ ] ) )} is incorrect. The correct answer is { ( ( [ ] ) )} does not make sense. The correct answer is { ( ( [ ] ) )} is incorrect. The correct answer is { ( ( [ ] ) )} does not make sense. The correct answer is { ( ( [ ] ) )} is incorrect. The correct answer is { ( ( [ ] ) )} does not make sense. The correct answer is { ( ( [ ] ) )} is incorrect. The correct answer is { ( ( [ ] ) )} does not make sense. The correct answer is { ( ( [ ] ) )} is incorrect. The correct answer is { ( ( [ ] ) )} does not make sense. The correct answer is { ( ( [ ] ) )} is incorrect. The correct answer is { ( ( [ ] ) )} does not make sense. The correct answer is { ( ( [ ] ) )} is incorrect. The correct answer is { ( ( [ ] ) )} does not make sense. The correct answer is { ( ( [ ] ) )} is incorrect. The correct answer is { ( ( [ ] ) )} does not make sense. The correct answer is { ( ( [ ] ) )} is incorrect. The correct answer is { ( ( [ ] ) )} does not make sense. The correct answer is { ( ( [ ] ) )} is incorrect. The correct answer is { ( ( [ ] ) )} does not make sense. The correct answer is { ( ( [ ] ) )} is incorrect. The correct answer is { ( ( [ ] ) )} does not make sense. The correct answer is { ( ( [ ] ) )} is incorrect. The correct answer is { ( ( [ ] ) )} does not make sense. The correct answer is { ( ( [ ] ) )} is incorrect. The correct answer is { ( ( [ ] ) )} does not make sense. The correct answer is { ( ( [ ] ) )} is incorrect. The correct answer is { ( ( [ ] ) )} does not make sense. The correct answer is { ( ( [ ] ) )} is incorrect. The correct answer is { ( ( [ ] ) )} does not make sense. The correct answer is { ( ( [ ] ) )} is incorrect. The correct answer is { ( ( [ ] ) )} does not make sense. The correct answer is { ( ( [ ] ) )} is incorrect. The correct answer is { ( ( [ ] ) )} does not make sense. The correct answer is { ( ( [ ] ) )} is incorrect. The correct answer is { ( ( [ ] ) )} does not make sense. The correct answer is { ( ( [ ] ) )} is incorrect. The correct answer is { ( ( [ ] ) )} does not make sense. The correct answer is { ( ( [ ] ) )} is incorrect. The correct answer is { ( ( [ ] ) )} does not make sense. The correct answer is { ( ( [ ] ) )} is incorrect. The correct answer is { ( ( [ ] ) )} does not make sense. The correct answer is { ( ( [ ] ) )} is incorrect. The correct answer is { ( ( [ ] ) )} does not make sense. The correct answer is { ( ( [ ] ) )} is incorrect. The correct answer is { ( ( [ ] ) )} does not make sense. The correct answer is { ( ( [ ] ) )} is incorrect. The correct answer is { ( ( [ ] ) )} does not make sense. The correct answer is { ( ( [ ] ) )} is incorrect. The correct answer is { ( ( [ ] ) )} does not make sense. The correct answer is { ( ( [ ] ) )} is incorrect. The correct answer is { ( ( [ ] ) )} does not make sense. The correct answer is { ( ( [ ] ) )} is incorrect. The correct answer is { ( ( [ ] ) )} does not make sense. The correct answer is { ( ( [ ] ) )} is incorrect. The correct answer is { ( ( [ ] ) )} does not make sense. The correct answer is { ( ( [ ] ) )} is incorrect. The correct answer is { ( ( [ ] ) )} does not make sense. The correct answer is { ( ( [ ] ) )} is incorrect. The correct answer is { ( ( [ ] ) )} does not make sense. The correct answer is { ( ( [ ] ) )} is incorrect. The correct answer is { ( ( [ ] ) )} does not make sense. The correct answer is { ( ( [ ] ) )} is incorrect. The correct answer is { ( ( [ ] ) )} does not make sense. The correct answer is { ( ( [ ] ) )} is incorrect. The correct answer is { ( ( [ ] ) )} does not make sense. The correct answer is { ( ( [ ] ) )} is incorrect. The correct answer is { ( ( [ ] ) )} does not make sense. The correct answer is { ( ( [ ] ) )} is incorrect. The correct answer is { ( ( [ ] ) )} does not make sense. The correct answer is { ( ( [ ] ) )} is incorrect. The correct answer is { ( ( [ ] ) )} does not make sense. The correct answer is { ( ( [ ] ) )} is incorrect. The correct answer is { ( ( [ ] ) )} does not make sense. The correct answer is { ( ( [ ] ) )} is incorrect. The correct answer is { ( ( [ ] ) )} does not make sense. The correct answer is { ( ( [ ] ) )} is incorrect. The correct answer is { ( ( [ ] ) )} does not make sense. The correct answer is { ( ( [ ] ) )} is incorrect. The correct answer is { ( ( [ ] ) )} does not make sense. The correct answer is { ( ( [ ] ) )} is incorrect. The correct answer is { ( ( [ ] ) )} does not make sense. The correct answer is { ( ( [ ] ) )} is incorrect. The correct answer is { ( ( [ ] ) )} does not make sense. The correct answer is { ( ( [ ] ) )} is incorrect. The correct answer is { ( ( [ ] ) )} does not make sense. The correct answer is { ( ( [ ] ) )} is incorrect. The correct answer is { ( ( [ ] ) )} does not make sense. The correct answer is { ( ( [ ] ) )} is incorrect. The correct answer is { ( ( [ ] ) )} does not make sense. The correct answer is { ( ( [ ] ) )} is incorrect. The correct answer is { ( ( [ ] ) )} does not make sense. The correct answer is { ( ( [ ] ) )} is incorrect. The correct answer is { ( ( [ ] ) )} does not make sense. The correct answer is { ( ( [ ] ) )} is incorrect. The correct answer is { ( ( [ ] ) )} does not make sense. The correct answer is { ( ( [ ] ) )} is incorrect. The correct answer is { ( ( [ ] ) )} does not make sense. The correct answer is { ( ( [ ] ) )} is incorrect. The correct answer is { ( ( [ ] ) )} does not make sense. The correct answer is { ( ( [ ] ) )} is incorrect. The correct answer is { ( ( [ ] ) )} does not make sense. The correct answer is { ( ( [ ] ) )} is incorrect. The correct answer is { ( ( [ ] ) )} does not make sense. The correct answer is { ( ( [ ] ) )} is incorrect. The correct answer is { ( ( [ ] ) )} does not make sense. The correct answer is { ( ( [ ] ) )} is incorrect. The correct answer is { ( ( [ ] ) )} does not make sense. The correct answer is { ( ( [ ] ) )} is incorrect. The correct answer is { ( ( [ ] ) )} does not make sense. The correct answer is { ( ( [ ] ) )} is incorrect. The correct answer is { ( ( [ ] ) )} does not make sense. The correct answer is { ( ( [ ] ) )} is incorrect. The correct answer is { ( ( [ ] ) )} does not make sense. The correct answer is { ( ( [ ] ) )} is incorrect. The correct answer is { ( ( [ ] ) )} does not make sense. The correct answer is { ( ( [ ] ) )} is incorrect. The correct answer is { ( ( [ ] ) )} does not make sense. The correct answer is { ( ( [ ] ) )} is incorrect. The correct answer is { ( ( [ ] ) )} does not make sense. The correct answer is { ( ( [ ] ) )} is incorrect. The correct answer is { ( ( [ ] ) )} does not make sense. The correct answer is { ( ( [ ] ) )} is incorrect. The correct answer is { ( ( [ ] ) )} does not make sense. The correct answer is { ( ( [ ] ) )} is incorrect. The correct answer is { ( ( [ ] ) )} does not make sense. The correct answer is { ( ( [ ] ) )} is incorrect. The correct answer is { ( ( [ ] ) )} does not make sense. The correct answer is { ( ( [ ] ) )} is incorrect. The correct answer is { ( ( [ ] ) )} does not make sense. The correct answer is { ( ( [ ] ) )} is incorrect. The correct answer is { ( ( [ ] ) )} does not make sense. The correct answer is { ( ( [ ] ) )} is incorrect. The correct answer is { ( ( [ ] ) )} does not make sense. The correct answer is { ( ( [ ] ) )} is incorrect. The correct answer is { ( ( [ ] ) )} does not make sense. The correct answer is { ( ( [ ] ) )} is incorrect. The correct answer is { ( ( [ ] ) )} does not make sense. The correct answer is { ( ( [ ] ) )} is incorrect. The correct answer is { ( ( [ ] ) )} does not make sense. The correct answer is { ( ( [ ] ) )} is incorrect. The correct answer is { ( ( [ ] ) )} does not make sense. The correct answer is { ( ( [ ] ) )} is incorrect. The correct answer is { ( ( [ ] ) )} does not make sense. The correct answer is { ( ( [ ] ) )} is incorrect. The correct answer is { ( ( [ ] ) )} does not make sense. The correct answer is { ( ( [ ] ) )} is incorrect. The correct answer is { (\n",
      "\n",
      "< [ ( { { ( ( ) ) } } ) [ ( [ { } ] ) ] < { { < < < > [ < [ < ( [ ( { ( ( < < < < > > > { ( { { < ( ) > ( ) } } ) } > { } ) ) } ) ] ) > ] > ] > < { } > > } ( ) < { ( ) } > } > ] [ < ( ) > ] >, [ ( { { ( ( ) ) } } ) ] [ ( [ { } ] ) ] [ { { [ [ ( [ ( { ( ( ) ) } ) ] ) ] } } ] [ ( ) ] [ { ( ) } ] [ ( ) ].\n",
      "\n",
      "{ ( { [ ( ) ] } { { [ ] } } { } < > ) } [ < [ ( ) ] > ], { ( { [ ( ) ] } { { [ ] } } { } ) } } [ < [ ( ) ] > ] }.\n",
      "\n",
      "( { < { ( ( { } ) ( ) ) } { } < { } > < > > } { } ( { ( { { } } ) [ ( ) ] } ) ) [ ( [ ] ) ], {}.\n",
      "\n",
      "< ( ) >, )\n",
      "\n",
      "[ [ < < { [ ] ( [ [ ( [ [ { [ ] } ] ] ) ( ) ] ] ) ( ) [ ] < [ ( ( ( ) ) ) ] < < < > [ ( ) ] > [ ] > > [ < > ] } > > ] ], None\n",
      "\n",
      "{ { { < { } < ( ( < > ) ) > > } } { [ [ { } ] ] [ ] < < { } > [ ( ) { ( { } ) } ] > ( [ < [ ( ( { } ( ) < > < [ < < { { ( [ { } ] ) } } { } { } > > ] > ( ) ) ) < > ] > ] ) } }, None\n",
      "\n",
      "{ { { < > } } < > < { { ( ) } } > { } } { < ( { [ < > ] [ ( ) < ( ) > { < ( ( ( ) ) ) > [ ] } ] < > ( < { } > ) } ) > }, { { { < > } } < > < { { ( ) } } > { } } { < ( { [ < > ] [ ( ) < ( ) > { < ( ( ( ) ) ) > [ ] } ] < > ( < { } > ) } }.\n",
      "\n",
      "[ < > { < [ ] > } ], [ < > { < [ ] > } > ].\n",
      "\n",
      "( { } ), )\n",
      "\n",
      "{ [ [ < ( < { } > ) > ] ] [ [ ] ] }, { [ [ < > ] ] [ [ ] ] > ] ] ] }.\n",
      "\n",
      "{ < ( ) > { < > } ( < > ) < ( ) > [ ] < < < < ( ( ) ) < ( ) > > > > > { } }, { < > { < > } < > [ ] < < < > > > > > { > > > > } }.\n",
      "\n",
      "< ( < > ) > { } < { [ < > ] } >, < ( < > ) > { } < { [ < > ] }\n",
      "\n",
      "[ < [ ] > [ ] ], [ < [ ] > [ ].\n",
      "\n",
      "< [ ] { < ( ) > } [ ] ( { } ) >, [ ] { } [ ] ( { } ).\n",
      "\n",
      "< [ ] > ( ( ( { { { { ( ( { { } } ) ) } ( { } ) } } { { { [ { ( ) } ( ) ( ( { [ < < > > ] < < > > } ) ) ] ( { } { } ) } } } } ) ) ), < [ ] > ( ( { } ) ) ) )\n",
      "\n",
      "{ < [ < ( < [ ] > ) < > < { } > { < > { } { { < [ < < { } [ { } ] < > > > ] < > > } < [ [ ] ] > } } > ] [ ( ) ] > } [ { ( < ( ( ( [ { } ] ) ) ) > ) } ] [ < ( ) ( ( { ( ) [ { { ( { } ) } } ] } ) ) > ], { < [ < ( < [ ] > ) < > < { } > { < > { } { { < [ < < { } [ { } ] < > > > ] < > > } < [ [ ] ] > } } > ] [ ( ) ] > } [ { ( < ( ( ( [ { } ] ) ) ) > ) } ] [ < ( ) ( ( { ( ) [ { { ( { } ) } } ] } ) ) > ] } ] > } ).\n",
      "\n",
      "[ < [ ] ( ) ( ( { { } } ) ) < { < > } > [ ] > ] < ( ) > ( ( ( ) ) ) ( < > ), [ < [ ] ] ( ( { { } } ) ) < { < > } > [ ] > ] < ( ) > ( ( ( ) ) ) ( < > )\n",
      "\n",
      "[ { < ( ) > } ], None\n",
      "\n",
      "[ < [ ( ( ) < ( ) > ( { { } } [ [ [ < ( [ ] ) ( ) > ] ] ] { { { { { } } } { { } { < [ [ ] ] > } } { } } } ) ) ] > ], [ < [ ( ( ) < ( ) > ( { { } } [ [ [ < ( [ ] ) ( ) > ] ] ] { { { { { } } } { { } { < [ [ ] ] > } } { } } } ) ) ] ) > ] >\n",
      "\n",
      "< ( ( [ < > { [ { ( ) } ] < { < { } > [ ( < > ) ] } > } [ < > ] ] ) { { ( { ( ( [ ( [ ] ) ] < { } > ) ) { { ( [ [ ] ] ) } [ ( ) ] { { [ ] } } } } ) } ( { } ) } ) >, < ( ( [ < > { [ { ( ) } ] < { < { } > [ ( < > ) ] } > } [ < > ] ] ) { { ( { ( ( [ ( [ ] ) ] < { } > ) ) { { ( [ [ ] ] ) } [ ( ) ] { { [ ] } } } } ) } ( { } ) } ) > ) ) > ) } } ) } ) )\n",
      "\n",
      "[ ] { ( ( < { ( ( ( { < > ( ) } ) ) [ { } ] { { ( ) } } ) } < > > ) ) }, [ ]\n",
      "\n",
      "< { < > } { ( ) } >, < { < > } { ( ) }.\n",
      "\n",
      "< ( ( ) ) >, < ( ( ) ) ).\n",
      "\n",
      "[ < < > > < ( < < < [ [ [ [ ] ] ] ] > > > ) [ < < [ ] > > ] { [ < > ] < > [ ( ) ] } { [ ] } > ], [ < < > > < ( < < < [ [ [ [ ] ] ] ] > > > ) [ < < [ ] > > ] { [ < > ] < > [ ( ) ] } { [ ] } }\n",
      "\n",
      "< [ { { < ( ) > { < { } > ( < ( ) > { < [ ( { { ( < [ ] > ) } } { ( ( [ [ { } [ ] ] ] ) ) } ) ] > } ) } } } ] >, < [ { { < ( ) > { < { } > ( ) { < [ ( { { ( ) } } { ( ( [ [ { } [ ] ] ] ) ) } ) ] > } ) } } >.\n",
      "\n",
      "[ < [ ( [ < > ] { < > } [ [ ] ] ) ] > ], [ < [ ( [ < > ] { < > } [ [ ] ] ) ) ] ].\n",
      "\n",
      "< ( ( [ ( [ ] ) ] ) ) >, ) ) ] ] ) >\n",
      "\n",
      "{ { < { < > } > } [ ( < < > > ) [ { < ( ) > } ] ] [ ] } < ( { [ < [ { [ ( ) ] } ] > < { ( [ [ [ { } < > { ( < { [ ] } > ( ) ) } ] ] ] ) } > ] } ) >, { { < { < > } > } [ ( < < > > ) [ { < ( ) > } ] ] [ ] } < ( { [ < [ { [ ( ) ] } ] > < { ( [ [ [ { } < > { ( < { [ ] } > ( ) ) } ] ] ] ) } > ] } ) )\n",
      "\n",
      "( [ [ [ ( { ( ( < [ { < > } ] > { { [ ] } } ) ) } ( [ [ < > ] ] ) ) ] ] ] ) ( < > < [ ( ) ] > ( ) ), ( [ [ [ ( { ( ( < [ { <> } ] > {} ) ) } ( [ [ <> ] ] ) ) ] ] ] ) ( < > < [ () ] > )\n",
      "\n",
      "{ [ [ [ [ ( ) ] ] ] ] }, { [ [ [ [ ( ) ] ] ] ] ] ] ] ] }.\n",
      "\n",
      "{ < { ( { [ ] } ) } > { } ( [ { { { ( [ < > ] ) } } } ] ) { { ( { } ) } } }, { < { ( { [ ] } ) } > { } ( [ { { { ( [ < > ] ) } } } ] ) { { ( { } ) } } } ) }.\n",
      "\n",
      "[ < < { } > < > > ( ) ], [ < < > < > > ( ) > ]\n",
      "\n",
      "[ < ( < < > [ ] ( ) > ) > ], [ < ( < < > > ) ] ).\n",
      "\n",
      "[ ( < { [ ( ) ] } > ) ], None\n",
      "\n",
      "( ( { < { < { < > } > } > } ) ( ) ( { [ ( < ( < < { ( { < > } ) } > > ) > ) { ( { < ( { [ ] } ( ) ) > } < { < { { ( ) } } > { < [ { ( ) } ] > } } > ) } [ [ ( ) ] ] ] } ) ), ( ( { < { < { < > } > } > } ) ( ) ( { [ ( < ( < < { ( { < > } ) } > > ) > ) { ( { < ( { [ ] } ( ) ) > } < { < { { ( ) } } > { < [ { ( ) } ] > } } > ) } [ [ ( ) ] ] ] )\n",
      "\n",
      "[ ] < { < { [ ( ) ] } > } >, [ ] < { { [ ( ) ] } } > } >\n",
      "\n",
      "[ < [ [ < > ] ] < ( ) > [ { } ] < [ [ ] ] > ( ) < { < [ ] < < [ [ { [ ] } ] ] > > ( [ ( ( ) ) ] ) > } > [ { { < > } } ] > < ( < { } { [ { [ ] } ] } > ) > ], [ < [ [ < > ] ] < ( ) > [ { } ] < [ [ ] ] > ( ) < { < [ ] < < [ [ { [ ] } ] ] > > ( [ ( ( ) ) ] ) > } > [ { { < > } } ] > < ( < { } { [ { [ ] } ] } > ) >.\n",
      "\n",
      "( { ( ) { [ ] { ( ( { < > } ) ) ( < < > < > > < ( ( ) ) > ) } < ( < < < { } > > > ) > } } ), ( { ( ) { [ ] { ( ( { < > } ) ) ( < < > < > > < ( ( ) ) > ) } < ( < < < { } > > > ) > } } ) }.\n",
      "\n",
      "( ) ( < < { } > > ), ( ) ( < < { } } > > ) ).\n",
      "\n",
      "< { ( { } ) < > } >, < { ( { } ) } < > }.\n",
      "\n",
      "{ [ [ ] [ ] ] }, { [ [ ] ] ] }.\n",
      "\n",
      "( < [ < ( [ ( ) ] < > < ( { } ) > ) < [ ] > > ] ( ) < [ < > ] > > ), ( < [ < ( [ ( ) ] < > < ( { } ) > ) < [ ] > > ] ( ) < [ < > ] > ).\n",
      "\n",
      "( { ( ( { } ) ) } ( ) ) < { ( ) } >, ( { ( ( { } ) ) } ( ) ) < { ( ) }.\n",
      "\n",
      "[ < ( [ ] ) > ] { [ { } ] }, None\n",
      "\n",
      "( { [ { } ] } ), None\n",
      "\n",
      "( { [ { [ ] { [ [ ] ] } { ( ) } } { [ [ ( [ ] ) ] ] } ] } { < ( ) { [ [ ( ) { [ { { } } ] < > { < ( < { ( < ( [ ] ) > ) } > ) { [ ( < ( ) > ) ] } [ ] { } > } ( ) } ] [ ( ( { < > } ) ) ] ] } > } ), ( { [ { [ ] { [ [ ] ] } { ( ) } } { [ [ ( [ ] ) ] ] } ] } { < ( ) { [ [ ( ) { [ { { } } ] < > { < ( < { ( < ( [ ] ) > ) } > ) { [ ( < ( ) > ) ] } [ ] { } > } ( ) } ] [ ( ( { < > } ) ) ] ] } > )\n",
      "\n",
      "< ( ( ( < > < [ [ ] ] > ) { } ) ) >, < ( ( ( < > < [ [ ] ] > ) { } ) ) ) )\n",
      "\n",
      "{ [ { { { < > } } } ] }, { [ { { { } } } ] }.\n",
      "\n",
      "{ [ [ < > ] ( ) ] }, { [ < > ] ( ) ] }.\n",
      "\n",
      "( [ ] ), ] ).\n",
      "\n",
      "[ { ( { [ < ( < [ ( ) ] > ) > ] } ) } ] [ ] [ ( { ( ) } ) ] < { ( ( ( ( ( < > ) ) ) ) ) [ < [ ( < > ) ] > [ [ ] ( ( { } { [ { < [ ] > } ] } < { } > < [ < > ] > [ ] ) ) ] ] } > { [ { ( ) } ] }, [ { ( { [ < ( < [ ( ) ] > ) > ] } ) } ] [ ] [ ( { ( ) } ) ] < { ( ( ( ( ( < > ) ) ) ) ) [ < [ ( < > ) ] > [ [ ] ( ( { } { [ { < [ ] > } ] } < { } > < [ < > ] > [ ] ) ) ] ] } > } > { [ { ( ) } ] }.\n",
      "\n",
      "[ < { < [ ( < > ) ( ( [ [ ] ] ) ) ( ( { } ) ) { [ ] } < ( < > ) > ] > } > ], [ < { < [ ( < > ) ( ( [ [ ] ] ) ) ( ( { } ) ) { [ ] } < ( < > ) > ] > }\n",
      "\n",
      "( { < { { [ ] } < > [ ] } [ [ [ < [ [ ] ] > ] ] ] > } [ ] { { { { [ { } ] } ( < [ [ [ ] ] ] > ) < < ( { ( [ ] ) [ { { } } ] { [ ] } } ) [ [ { [ [ { ( { } ) [ ( ) { } ] { } } ] ] < > } ] ] > > } } } ), ( { < { } < > } [ ] { } )\n",
      "\n",
      "{ [ < { < ( ( ) ) > } > ] }, None\n",
      "\n",
      "{ [ { { { } } } ] }, { [ } } } -> { [ } } } -> { }.\n",
      "\n",
      "[ [ ( { { ( { } ) } < < ( [ [ { } < [ { < [ { ( ) ( [ { } ] ) } ] < > > } ] ( < { ( [ ] ) } > ) > ] ( [ < ( ) > ] ) ] ) > > } ) ] ], [ ( { { ( { } ) } < < ( [ [ { } < [ { < [ { ( ) ( [ { } ] ) } ] < > > } ] ( < { ( [ ] ) } > ) > ] ( [ < ( ) > ] ) ) > > } ) ] ].\n",
      "\n",
      "[ ( < [ [ { [ < [ < ( [ ] ) > ] < > > ( < [ < [ < ( [ ( [ ] ) < ( ) > ] [ ( { ( ) } [ < { { { ( [ ] ) } } } > ] ) ] ) > ] > ] > ) ] } ] ] > ) ( { { { } } } ) ], [ ( < [ [ { [ < [ < ( [ ] ) > ] < > > ( < [ < [ < ( [ ( [ ] ) < ( ) > ] [ ( { ( ) } [ < { { { ( [ ] ) } } } > ] ) ] ) > ] > ] > ) ] } ] ] > ) ( { { { } } } )\n",
      "\n",
      "< { < { [ < { ( [ ] ) } > { ( { } ) } ( ) ] } > } [ < < > > ] { } [ ] < { } > >, < { < { [ < { ( [ ] ) } > { ( { } ) } ( ) ] } > } [ < < > > ] { } [ ] < { } >.\n",
      "\n",
      "{ < < > ( [ [ { ( ( [ ] < > ) ) } ] { [ [ ] { } { [ { < > } ] } ( { { { { } } } } ) ] } ] ) ( ) > }, { < < > ( [ [ { ( ( [ ] < > ) ) } ] { [ [ ] { } { [ { < > } ] } ( { { { { } } } } ) ] } ] ) } ) }\n",
      "\n",
      "( [ < < { } > > ] ), None\n",
      "\n",
      "( ) { < > }, ( ) { < } >\n",
      "\n",
      "( < [ < ( ) > [ { [ { ( ) } ] } ] ] > [ { } ] ( < { < [ { } ] > } > ) ) ( ( < ( ) > [ ] [ < { ( ) } > ] [ { } ] [ ] ) ), ( < [ < > ] [ { } ] > [ { } ] ( < { < [ { } ] > } > ) ) ( ( < > [ ] [ < { } > ] [ { } ] ) ).\n",
      "\n",
      "< < [ ] > ( < > ) < > >, < < [ ] > ( < > ) > >.\n",
      "\n",
      "< [ { { [ { [ { ( ( ) ) } ] } ( < < ( < > ) > { } [ [ [ ( < { } > ) ] ] ] { } > ) ( { } ) { } ] } } ] >, < [ { { [ { [ { ( ( ) ) } ] } ( < < ( < > ) > { } [ [ [ ( < { } > ) ] ] ] { } > ) ( { } ) { } ] } ] } ] >\n",
      "\n",
      "< [ ( [ ( ) [ < [ < > ] < > [ ] > ] < < ( ) ( ) > < { } > > [ < > ] ] ) ] >, < [ ( [ ( ) [ < [ < > ] < > [ ] > ] < < ( ) ( ) > < { } > > [ < > ] ] ] > > >.\n",
      "\n"
     ]
    },
    {
     "data": {
      "text/plain": [
       "0.5"
      ]
     },
     "execution_count": 15,
     "metadata": {},
     "output_type": "execute_result"
    }
   ],
   "source": [
    "(calculate_correct_prediction_count(\"bbh\", dataset[\"target\"], dataset[\"answer_pred\"])) / dataset.num_rows"
   ]
  },
  {
   "cell_type": "markdown",
   "metadata": {},
   "source": [
    "# reasoning_about_colored_objects"
   ]
  },
  {
   "cell_type": "code",
   "execution_count": 16,
   "metadata": {},
   "outputs": [],
   "source": [
    "subset = 'reasoning_about_colored_objects'"
   ]
  },
  {
   "cell_type": "code",
   "execution_count": 17,
   "metadata": {},
   "outputs": [
    {
     "data": {
      "text/plain": [
       "PosixPath('/home/ubuntu/dev/self-discover/evals/logs/phased_self_discover/llama/unstructured/few_shot_0/bbh/bbh-reasoning_about_colored_objects/bbh-reasoning_about_colored_objects_eval')"
      ]
     },
     "execution_count": 17,
     "metadata": {},
     "output_type": "execute_result"
    }
   ],
   "source": [
    "path = here(os.path.join(base_path, f\"bbh-{subset}\", f\"bbh-{subset}_eval\"))\n",
    "path"
   ]
  },
  {
   "cell_type": "code",
   "execution_count": 18,
   "metadata": {},
   "outputs": [
    {
     "data": {
      "text/plain": [
       "Dataset({\n",
       "    features: ['input', 'target', 'self_discover_input', 'task_description', 'selected_modules', 'adapted_modules', 'reasoning_plan', 'reasoning', 'trajectory', 'answer_pred'],\n",
       "    num_rows: 250\n",
       "})"
      ]
     },
     "execution_count": 18,
     "metadata": {},
     "output_type": "execute_result"
    }
   ],
   "source": [
    "dataset = Dataset.load_from_disk(path)\n",
    "dataset"
   ]
  },
  {
   "cell_type": "code",
   "execution_count": 19,
   "metadata": {},
   "outputs": [
    {
     "name": "stdout",
     "output_type": "stream",
     "text": [
      "1. Identify the objects on the nightstand.\n",
      "   - The objects are: black necklace, green fidget spinner, blue keychain, yellow sheet of paper, and red stress ball.\n",
      "\n",
      "2. Determine the colors of the objects.\n",
      "   - The colors are: \n",
      "     - black necklace (black)\n",
      "     - green fidget spinner (green)\n",
      "     - blue keychain (blue)\n",
      "     - yellow sheet of paper (yellow)\n",
      "     - red stress ball (red)\n",
      "\n",
      "3. Identify the colors to exclude (yellow and green).\n",
      "   - The colors to exclude are: yellow and green.\n",
      "\n",
      "4. Categorize the objects by color.\n",
      "   - The yellow and green objects are: green fidget spinner and yellow sheet of paper.\n",
      "   - The objects that are neither yellow nor green are: black necklace, blue keychain, and red stress ball.\n",
      "\n",
      "5. Count the objects that are neither yellow nor green.\n",
      "   - Counting the objects that are neither yellow nor green: \n",
      "     - black necklace (1)\n",
      "     - blue keychain (2)\n",
      "     - red stress ball (3)\n",
      "   - There are 3 objects that are neither yellow nor green.\n",
      "\n",
      "6. Determine the final answer.\n",
      "   - Comparing the count to the options provided, the correct answer is the option that matches the count of 3.\n",
      "\n",
      "The final answer is (D).\n"
     ]
    }
   ],
   "source": [
    "print(dataset[0][\"reasoning\"])"
   ]
  },
  {
   "cell_type": "code",
   "execution_count": 20,
   "metadata": {},
   "outputs": [],
   "source": [
    "bbh = lambda y_i, y_pred_i: y_pred_i and y_i.translate(\n",
    "    str.maketrans(\"\", \"\", \"()\")\n",
    ") == y_pred_i.translate(str.maketrans(\"\", \"\", '.()\"'))[0]"
   ]
  },
  {
   "cell_type": "code",
   "execution_count": 21,
   "metadata": {},
   "outputs": [
    {
     "data": {
      "application/vnd.jupyter.widget-view+json": {
       "model_id": "c7c52c07bad54622af4bb32fe1ff98d7",
       "version_major": 2,
       "version_minor": 0
      },
      "text/plain": [
       "Calculating...: 0it [00:00, ?it/s]"
      ]
     },
     "metadata": {},
     "output_type": "display_data"
    },
    {
     "name": "stdout",
     "output_type": "stream",
     "text": [
      "(N), D.\n",
      "\n",
      "(A), B.\n",
      "\n",
      "(E), (D).\n",
      "\n",
      "(E), F.\n",
      "\n",
      "(B), A.\n",
      "\n",
      "(B), A.\n",
      "\n",
      "(E), B.\n",
      "\n",
      "(H), G.\n",
      "\n",
      "(F), E.\n",
      "\n",
      "(L), (D).\n",
      "\n",
      "(D), C.\n",
      "\n",
      "(C), E.\n",
      "\n",
      "(D), J.\n",
      "\n",
      "(C), B.\n",
      "\n",
      "(A), N.\n",
      "\n"
     ]
    },
    {
     "data": {
      "text/plain": [
       "0.94"
      ]
     },
     "execution_count": 21,
     "metadata": {},
     "output_type": "execute_result"
    }
   ],
   "source": [
    "(calculate_correct_prediction_count(\"bbh\", dataset[\"target\"], dataset[\"answer_pred\"])) / dataset.num_rows"
   ]
  },
  {
   "cell_type": "markdown",
   "metadata": {},
   "source": [
    "# sports_understanding"
   ]
  },
  {
   "cell_type": "code",
   "execution_count": 5,
   "metadata": {},
   "outputs": [],
   "source": [
    "subset = 'sports_understanding'"
   ]
  },
  {
   "cell_type": "code",
   "execution_count": 6,
   "metadata": {},
   "outputs": [
    {
     "data": {
      "text/plain": [
       "PosixPath('/home/ubuntu/dev/self-discover/evals/logs/phased_self_discover/llama/unstructured/few_shot_0/bbh/bbh-sports_understanding/bbh-sports_understanding_eval')"
      ]
     },
     "execution_count": 6,
     "metadata": {},
     "output_type": "execute_result"
    }
   ],
   "source": [
    "path = here(os.path.join(base_path, f\"bbh-{subset}\", f\"bbh-{subset}_eval\"))\n",
    "path"
   ]
  },
  {
   "cell_type": "code",
   "execution_count": 7,
   "metadata": {},
   "outputs": [
    {
     "data": {
      "text/plain": [
       "Dataset({\n",
       "    features: ['input', 'target', 'self_discover_input', 'task_description', 'selected_modules', 'adapted_modules', 'reasoning_plan', 'reasoning', 'trajectory', 'answer_pred'],\n",
       "    num_rows: 250\n",
       "})"
      ]
     },
     "execution_count": 7,
     "metadata": {},
     "output_type": "execute_result"
    }
   ],
   "source": [
    "dataset = Dataset.load_from_disk(path)\n",
    "dataset"
   ]
  },
  {
   "cell_type": "code",
   "execution_count": 8,
   "metadata": {},
   "outputs": [
    {
     "name": "stdout",
     "output_type": "stream",
     "text": [
      "**Step 1: Identify Key Assumptions**\n",
      "The key assumptions underlying the claim are that Tyreek Hill is a football player, he was participating in a game or practice, and a screen pass was thrown to him.\n",
      "\n",
      "**Step 2: Determine Required Evidence or Context**\n",
      "To evaluate the claim, we would need evidence or context such as game stats, play-by-play commentary, or eyewitness accounts. Information about the specific game, the teams involved, and the play in question would be relevant.\n",
      "\n",
      "**Step 3: Assess the Need for Sports Expertise**\n",
      "Assessing the claim does not require specialized sports expertise, as catching a screen pass is a common occurrence in football. However, knowledge of football basics and strategies can be helpful.\n",
      "\n",
      "**Step 4: Analyze Underlying Factors**\n",
      "Tyreek Hill is a skilled wide receiver known for his speed and agility, making it more likely for him to catch a screen pass. However, the opposing team's defense and the game situation could affect the likelihood of a successful screen pass.\n",
      "\n",
      "**Step 5: Apply Critical Thinking**\n",
      "Considering alternative explanations or scenarios, it's possible that the claim is based on a specific play or game, but without more context, it's difficult to evaluate. We should question assumptions and consider the credibility of the source.\n",
      "\n",
      "**Step 6: Identify the Core Issue**\n",
      "The core issue is whether Tyreek Hill actually caught a screen pass in a specific game or situation. The most critical factor would be evidence from a reliable source, such as game footage or official play-by-play commentary.\n",
      "\n",
      "**Step 7: Gather and Analyze Relevant Data**\n",
      "Unfortunately, we don't have access to specific data or information about the claim. In a real-world scenario, we would gather and analyze relevant data, such as game stats, play-by-play commentary, or eyewitness accounts.\n",
      "\n",
      "**Step 8: Evaluate the Plausibility of the Claim**\n",
      "Given the lack of specific evidence or context, we cannot definitively evaluate the plausibility of the claim. However, based on Tyreek Hill's skills and the common occurrence of screen passes in football, the claim is not implausible.\n",
      "\n",
      "**Step 9: Draw a Conclusion**\n",
      "Based on the evaluation, the claim \"Tyreek Hill caught the screen pass\" is uncertain. Without more specific evidence or context, we cannot confirm or refute the claim. Further investigation or analysis would be needed to determine the plausibility of the claim.\n",
      "\n",
      "The final answer is Uncertain.\n"
     ]
    }
   ],
   "source": [
    "print(dataset[0][\"reasoning\"])"
   ]
  },
  {
   "cell_type": "code",
   "execution_count": 9,
   "metadata": {},
   "outputs": [
    {
     "data": {
      "text/plain": [
       "({'False',\n",
       "  'False.',\n",
       "  'No.',\n",
       "  'Plausible but unlikely.',\n",
       "  'Plausible.',\n",
       "  'Somewhat Plausible.',\n",
       "  'True.',\n",
       "  'Uncertain.',\n",
       "  'Unclear',\n",
       "  'Unlikely.'},\n",
       " {'no', 'yes'})"
      ]
     },
     "execution_count": 9,
     "metadata": {},
     "output_type": "execute_result"
    }
   ],
   "source": [
    "set(dataset[\"answer_pred\"]), set(dataset[\"target\"])"
   ]
  },
  {
   "cell_type": "code",
   "execution_count": 10,
   "metadata": {},
   "outputs": [
    {
     "data": {
      "text/plain": [
       "{'False',\n",
       " 'No',\n",
       " 'Plausible',\n",
       " 'Plausible but unlikely',\n",
       " 'Somewhat Plausible',\n",
       " 'True',\n",
       " 'Uncertain',\n",
       " 'Unclear',\n",
       " 'Unlikely'}"
      ]
     },
     "execution_count": 10,
     "metadata": {},
     "output_type": "execute_result"
    }
   ],
   "source": [
    "def map_fn(instance):\n",
    "    return {\n",
    "        \"answer_pred\": instance[\"answer_pred\"].translate(str.maketrans(\"\", \"\", '.\"')),\n",
    "    }\n",
    "\n",
    "dataset = dataset.map(map_fn)\n",
    "\n",
    "set(dataset[\"answer_pred\"])"
   ]
  },
  {
   "cell_type": "code",
   "execution_count": 35,
   "metadata": {},
   "outputs": [
    {
     "data": {
      "text/plain": [
       "{'Plausible but unlikely',\n",
       " 'Somewhat Plausible',\n",
       " 'Uncertain',\n",
       " 'Unclear',\n",
       " 'no',\n",
       " 'yes'}"
      ]
     },
     "execution_count": 35,
     "metadata": {},
     "output_type": "execute_result"
    }
   ],
   "source": [
    "# Plausible (Yes)\n",
    "plausible_yes = [\n",
    "    'Plausible',\n",
    "    'True',\n",
    "]\n",
    "\n",
    "# Implausible (No)\n",
    "implausible_no = [\n",
    "    'False',\n",
    "    'No',\n",
    "    'Unlikely'\n",
    "]\n",
    "\n",
    "# Indeterminate\n",
    "indeterminate = [\n",
    "    'Plausible but unlikely',\n",
    "    'Somewhat Plausible',\n",
    "    'Uncertain',\n",
    "    'Unclear',\n",
    "]\n",
    "\n",
    "\n",
    "def map_fn(ins):\n",
    "    for yes in plausible_yes:\n",
    "        if yes == ins[\"answer_pred\"]:\n",
    "            return {\n",
    "                \"answer_pred\": \"yes\"\n",
    "            }\n",
    "\n",
    "    for no in implausible_no:\n",
    "        if no == ins[\"answer_pred\"]:\n",
    "            return {\n",
    "                \"answer_pred\": \"no\"\n",
    "            }\n",
    "    return {\n",
    "        \"answer_pred\": ins[\"answer_pred\"]\n",
    "    }\n",
    "\n",
    "dataset = dataset.map(map_fn)\n",
    "set(dataset[\"answer_pred\"])"
   ]
  },
  {
   "cell_type": "code",
   "execution_count": 36,
   "metadata": {},
   "outputs": [
    {
     "data": {
      "application/vnd.jupyter.widget-view+json": {
       "model_id": "780225cd9f1e4f2dacd8e34b9611092d",
       "version_major": 2,
       "version_minor": 0
      },
      "text/plain": [
       "Calculating...: 0it [00:00, ?it/s]"
      ]
     },
     "metadata": {},
     "output_type": "display_data"
    },
    {
     "name": "stdout",
     "output_type": "stream",
     "text": [
      "yes, Uncertain\n",
      "\n",
      "no, Somewhat Plausible\n",
      "\n",
      "yes, no\n",
      "\n",
      "yes, no\n",
      "\n",
      "yes, Uncertain\n",
      "\n",
      "yes, no\n",
      "\n",
      "no, yes\n",
      "\n",
      "yes, no\n",
      "\n",
      "no, yes\n",
      "\n",
      "yes, no\n",
      "\n",
      "yes, no\n",
      "\n",
      "yes, no\n",
      "\n",
      "yes, no\n",
      "\n",
      "yes, no\n",
      "\n",
      "yes, no\n",
      "\n",
      "no, yes\n",
      "\n",
      "no, yes\n",
      "\n",
      "no, yes\n",
      "\n",
      "no, yes\n",
      "\n",
      "yes, no\n",
      "\n",
      "yes, no\n",
      "\n",
      "yes, no\n",
      "\n",
      "no, Uncertain\n",
      "\n",
      "yes, no\n",
      "\n",
      "yes, no\n",
      "\n",
      "no, yes\n",
      "\n",
      "yes, Uncertain\n",
      "\n",
      "no, yes\n",
      "\n",
      "no, yes\n",
      "\n",
      "no, yes\n",
      "\n",
      "no, yes\n",
      "\n",
      "no, yes\n",
      "\n",
      "no, yes\n",
      "\n",
      "no, yes\n",
      "\n",
      "yes, no\n",
      "\n",
      "yes, no\n",
      "\n",
      "yes, no\n",
      "\n",
      "no, yes\n",
      "\n",
      "no, yes\n",
      "\n",
      "yes, Uncertain\n",
      "\n",
      "yes, no\n",
      "\n",
      "yes, no\n",
      "\n",
      "yes, no\n",
      "\n",
      "yes, Unclear\n",
      "\n",
      "no, yes\n",
      "\n",
      "yes, no\n",
      "\n",
      "yes, no\n",
      "\n",
      "yes, Plausible but unlikely\n",
      "\n",
      "yes, no\n",
      "\n",
      "no, yes\n",
      "\n",
      "no, yes\n",
      "\n"
     ]
    },
    {
     "data": {
      "text/plain": [
       "0.796"
      ]
     },
     "execution_count": 36,
     "metadata": {},
     "output_type": "execute_result"
    }
   ],
   "source": [
    "(calculate_correct_prediction_count(\"bbh\", dataset[\"target\"], dataset[\"answer_pred\"])) / dataset.num_rows"
   ]
  },
  {
   "cell_type": "markdown",
   "metadata": {},
   "source": [
    "# web_of_lies"
   ]
  },
  {
   "cell_type": "code",
   "execution_count": 47,
   "metadata": {},
   "outputs": [],
   "source": [
    "subset = 'web_of_lies'"
   ]
  },
  {
   "cell_type": "code",
   "execution_count": 48,
   "metadata": {},
   "outputs": [
    {
     "data": {
      "text/plain": [
       "PosixPath('/home/ubuntu/dev/self-discover/evals/logs/phased_self_discover/llama/unstructured/few_shot_0/bbh/bbh-web_of_lies/bbh-web_of_lies_eval')"
      ]
     },
     "execution_count": 48,
     "metadata": {},
     "output_type": "execute_result"
    }
   ],
   "source": [
    "path = here(os.path.join(base_path, f\"bbh-{subset}\", f\"bbh-{subset}_eval\"))\n",
    "path"
   ]
  },
  {
   "cell_type": "code",
   "execution_count": 49,
   "metadata": {},
   "outputs": [
    {
     "data": {
      "text/plain": [
       "Dataset({\n",
       "    features: ['input', 'target', 'self_discover_input', 'task_description', 'selected_modules', 'adapted_modules', 'reasoning_plan', 'reasoning', 'trajectory', 'answer_pred'],\n",
       "    num_rows: 250\n",
       "})"
      ]
     },
     "execution_count": 49,
     "metadata": {},
     "output_type": "execute_result"
    }
   ],
   "source": [
    "dataset = Dataset.load_from_disk(path)\n",
    "dataset"
   ]
  },
  {
   "cell_type": "code",
   "execution_count": 50,
   "metadata": {},
   "outputs": [
    {
     "name": "stdout",
     "output_type": "stream",
     "text": [
      "**Step 1: Break down the statements into smaller parts**\n",
      "We have the following claims:\n",
      "- Raymond: tells the truth (no claim about others)\n",
      "- Sal: says Raymond lies\n",
      "- Alexis: says Sal lies\n",
      "- Helene: says Alexis lies\n",
      "- Elanor: says Helene lies\n",
      "\n",
      "**Step 2: Create a diagram or truth table to visualize the statements**\n",
      "Let's create a table with columns for each speaker and their claim:\n",
      "\n",
      "| Speaker | Claim |\n",
      "| --- | --- |\n",
      "| Raymond | Tells the truth |\n",
      "| Sal | Raymond lies |\n",
      "| Alexis | Sal lies |\n",
      "| Helene | Alexis lies |\n",
      "| Elanor | Helene lies |\n",
      "\n",
      "**Step 3: Simplify the statements by identifying patterns or relationships**\n",
      "We can see a cycle of accusations: Sal accuses Raymond, Alexis accuses Sal, Helene accuses Alexis, and Elanor accuses Helene.\n",
      "\n",
      "**Step 4: Analyze the statements from different perspectives**\n",
      "If Raymond tells the truth, then Sal lies. If Sal lies, then Alexis tells the truth. If Alexis tells the truth, then Helene lies. If Helene lies, then Elanor tells the truth.\n",
      "\n",
      "**Step 5: Identify the core issue or claim**\n",
      "The core issue is Elanor's claim that Helene lies.\n",
      "\n",
      "**Step 6: Analyze the underlying causes or factors**\n",
      "There are no apparent biases or motivations that may influence the speakers' claims.\n",
      "\n",
      "**Step 7: Evaluate the chain of accusations step-by-step**\n",
      "1. Raymond tells the truth.\n",
      "2. Sal says Raymond lies, but since Raymond tells the truth, Sal lies.\n",
      "3. Alexis says Sal lies, which is true.\n",
      "4. Helene says Alexis lies, but since Alexis tells the truth, Helene lies.\n",
      "5. Elanor says Helene lies, which is true.\n",
      "\n",
      "**Step 8: Draw a conclusion**\n",
      "Based on the analysis, Elanor tells the truth.\n",
      "\n",
      "The final answer is True.\n"
     ]
    }
   ],
   "source": [
    "print(dataset[0][\"reasoning\"])"
   ]
  },
  {
   "cell_type": "code",
   "execution_count": 51,
   "metadata": {},
   "outputs": [
    {
     "data": {
      "text/plain": [
       "({'False.', 'No.', 'True.', 'Yes.'}, {'No', 'Yes'})"
      ]
     },
     "execution_count": 51,
     "metadata": {},
     "output_type": "execute_result"
    }
   ],
   "source": [
    "set(dataset[\"answer_pred\"]), set(dataset[\"target\"])"
   ]
  },
  {
   "cell_type": "code",
   "execution_count": 52,
   "metadata": {},
   "outputs": [
    {
     "data": {
      "text/plain": [
       "{'False', 'No', 'True', 'Yes'}"
      ]
     },
     "execution_count": 52,
     "metadata": {},
     "output_type": "execute_result"
    }
   ],
   "source": [
    "def map_fn(instance):\n",
    "    return {\n",
    "        \"answer_pred\": instance[\"answer_pred\"].translate(str.maketrans(\"\", \"\", '.\"*')),\n",
    "    }\n",
    "\n",
    "dataset = dataset.map(map_fn)\n",
    "\n",
    "set(dataset[\"answer_pred\"])"
   ]
  },
  {
   "cell_type": "code",
   "execution_count": 53,
   "metadata": {},
   "outputs": [
    {
     "data": {
      "application/vnd.jupyter.widget-view+json": {
       "model_id": "48488752b8f14940a3e2b9b947a398ea",
       "version_major": 2,
       "version_minor": 0
      },
      "text/plain": [
       "Map:   0%|          | 0/250 [00:00<?, ? examples/s]"
      ]
     },
     "metadata": {},
     "output_type": "display_data"
    },
    {
     "data": {
      "text/plain": [
       "{'No', 'Yes'}"
      ]
     },
     "execution_count": 53,
     "metadata": {},
     "output_type": "execute_result"
    }
   ],
   "source": [
    "# Truth (Yes)\n",
    "false_no = [\n",
    "    'False', 'No',\n",
    "]\n",
    "\n",
    "# False (No)\n",
    "truth_yes = [\n",
    "    'True', 'Yes'\n",
    "]\n",
    "\n",
    "indeterminate = [\n",
    "]\n",
    "\n",
    "\n",
    "\n",
    "def map_fn(ins):\n",
    "    for yes in truth_yes:\n",
    "        if yes == ins[\"answer_pred\"]:\n",
    "            return {\n",
    "                \"answer_pred\": \"Yes\"\n",
    "            }\n",
    "\n",
    "    for no in false_no:\n",
    "        if no == ins[\"answer_pred\"]:\n",
    "            return {\n",
    "                \"answer_pred\": \"No\"\n",
    "            }\n",
    "    return {\n",
    "        \"answer_pred\": ins[\"answer_pred\"]\n",
    "    }\n",
    "\n",
    "dataset = dataset.map(map_fn)\n",
    "set(dataset[\"answer_pred\"])"
   ]
  },
  {
   "cell_type": "code",
   "execution_count": 54,
   "metadata": {},
   "outputs": [
    {
     "data": {
      "application/vnd.jupyter.widget-view+json": {
       "model_id": "26934aaf49d9488a9ed1558c72bf5d3f",
       "version_major": 2,
       "version_minor": 0
      },
      "text/plain": [
       "Calculating...: 0it [00:00, ?it/s]"
      ]
     },
     "metadata": {},
     "output_type": "display_data"
    },
    {
     "name": "stdout",
     "output_type": "stream",
     "text": [
      "No, Yes\n",
      "\n",
      "No, Yes\n",
      "\n",
      "No, Yes\n",
      "\n",
      "No, Yes\n",
      "\n",
      "Yes, No\n",
      "\n",
      "No, Yes\n",
      "\n",
      "No, Yes\n",
      "\n",
      "No, Yes\n",
      "\n",
      "No, Yes\n",
      "\n",
      "No, Yes\n",
      "\n",
      "No, Yes\n",
      "\n",
      "No, Yes\n",
      "\n",
      "No, Yes\n",
      "\n",
      "No, Yes\n",
      "\n",
      "No, Yes\n",
      "\n",
      "No, Yes\n",
      "\n",
      "Yes, No\n",
      "\n",
      "No, Yes\n",
      "\n",
      "No, Yes\n",
      "\n",
      "No, Yes\n",
      "\n",
      "No, Yes\n",
      "\n"
     ]
    },
    {
     "data": {
      "text/plain": [
       "0.916"
      ]
     },
     "execution_count": 54,
     "metadata": {},
     "output_type": "execute_result"
    }
   ],
   "source": [
    "(calculate_correct_prediction_count(\"bbh\", dataset[\"target\"], dataset[\"answer_pred\"])) / dataset.num_rows"
   ]
  },
  {
   "cell_type": "markdown",
   "metadata": {},
   "source": [
    "# word_sorting"
   ]
  },
  {
   "cell_type": "code",
   "execution_count": 15,
   "metadata": {},
   "outputs": [],
   "source": [
    "subset = 'word_sorting'"
   ]
  },
  {
   "cell_type": "code",
   "execution_count": 16,
   "metadata": {},
   "outputs": [
    {
     "data": {
      "text/plain": [
       "PosixPath('/home/ubuntu/dev/self-discover/evals/logs/phased_self_discover/llama/unstructured/few_shot_0/bbh/bbh-word_sorting/bbh-word_sorting_eval')"
      ]
     },
     "execution_count": 16,
     "metadata": {},
     "output_type": "execute_result"
    }
   ],
   "source": [
    "path = here(os.path.join(base_path, f\"bbh-{subset}\", f\"bbh-{subset}_eval\"))\n",
    "path"
   ]
  },
  {
   "cell_type": "code",
   "execution_count": 17,
   "metadata": {},
   "outputs": [
    {
     "data": {
      "text/plain": [
       "Dataset({\n",
       "    features: ['input', 'target', 'self_discover_input', 'task_description', 'selected_modules', 'adapted_modules', 'reasoning_plan', 'reasoning', 'trajectory', 'answer_pred'],\n",
       "    num_rows: 250\n",
       "})"
      ]
     },
     "execution_count": 17,
     "metadata": {},
     "output_type": "execute_result"
    }
   ],
   "source": [
    "dataset = Dataset.load_from_disk(path)\n",
    "dataset"
   ]
  },
  {
   "cell_type": "code",
   "execution_count": 18,
   "metadata": {},
   "outputs": [
    {
     "name": "stdout",
     "output_type": "stream",
     "text": [
      "To sort the given list of words alphabetically, let's follow the step-by-step reasoning plan:\n",
      "\n",
      "1. Identify the list of words to be sorted: slurp, raytheon, gloucester.\n",
      "2. Focus on the first letter of each word: s, r, g.\n",
      "3. Compare the first letter of the first two words: s (slurp) and r (raytheon). \n",
      "   Determine which letter comes first alphabetically: r comes before s.\n",
      "4. Compare the first letter of the result from step 3 with the first letter of the third word: \n",
      "   r (raytheon) and g (gloucester). Determine which letter comes first alphabetically: g comes before r.\n",
      "5. Arrange the words in order based on the comparison of their first letters: \n",
      "   gloucester, raytheon, slurp.\n",
      "6. Since the first letters of the words are different, there's no need to compare their second letters.\n",
      "7. The list is sorted alphabetically.\n",
      "8. Review the sorted list to ensure it is in alphabetical order: \n",
      "   gloucester, raytheon, slurp.\n",
      "\n",
      "The final answer is gloucester, raytheon, slurp.\n"
     ]
    }
   ],
   "source": [
    "print(dataset[0][\"reasoning\"])"
   ]
  },
  {
   "cell_type": "code",
   "execution_count": 19,
   "metadata": {},
   "outputs": [
    {
     "data": {
      "text/plain": [
       "0"
      ]
     },
     "execution_count": 19,
     "metadata": {},
     "output_type": "execute_result"
    }
   ],
   "source": [
    "answer_pred_list = [x.translate(str.maketrans(\"\", \"\", \".'\")) for x in dataset[\"answer_pred\"] if x and '[' in x]\n",
    "len(answer_pred_list)"
   ]
  },
  {
   "cell_type": "code",
   "execution_count": 20,
   "metadata": {},
   "outputs": [
    {
     "data": {
      "text/plain": [
       "{'',\n",
       " None,\n",
       " 'abbe, adposition, arragon, cast, danbury, emplace, falsetto, gavin, income, inhibit, onerous, palazzi, tabletop.',\n",
       " 'abdominal, address, berry, bounty, effusive, fomalhaut, hanoverian, involve, islamabad, jordan, optimal, pay, stearic, stigmata, swathe, tattoo, them, tornado, yang',\n",
       " 'aberdeen, analogue, deciduous, easel, sprightly, swaziland',\n",
       " 'abner, abramson, amity, automate, exquisite, fruitful, gurgle, none, shampoo, shorten, waterproof',\n",
       " 'abramson, bangui, carlisle, cavalier, contextual, dustbin, emacs, implementor, islamabad, magistrate, nudge, picnicking, railway, refractory, silvery, waite',\n",
       " 'absorption, aristocratic, bermuda, cesium, cheerful, congo, diagram, eucre, ezra, fallen, juvenile, musty, nigeria, nod, quartile, screechy, slack, testicle',\n",
       " 'abuilding, burgher, celebrity, chigger, ernie, exorcism, indiscoverable, medlar, newsboy, pow, snuff, synchronous, thimble, thirteenth, tinfoil, yap.',\n",
       " 'abutted, agamemnon, aquatic, capacity, casualty, essex, guinea, hitachi, hondo, islamic, loosen, loquacious, niece, planet, roadway, solstice, steed, suspicion, tibet.',\n",
       " 'academia, amos, beautiful, butterscotch, circuitous, diatom, europium, extoller, farrell, fiducial, ford, glance, kochab, metzler, molybdate, monomer, predatory, veterinarian',\n",
       " 'accelerate, bauer, county, nail, nominee, oconnell, phony, poole, putnam, quantify, raisin, venice',\n",
       " 'accept, avoid, caramel, carbuncle, conclave, compressor, drib, elegy, embower, error, gaillardia, grassland, hostile, pitfall, rosa, spectra, stepchild, utopia, whimsey',\n",
       " 'acclaim, champ, clothbound, commodity, conclusion, delirious, dyestuff, exempt, gadwall, hayes, hood, hypothalamus, jigsaw, lozenge, pipeline, plentiful, sarcastic, seashell, sensory, teen',\n",
       " 'accrue, archipelago, biplane, breezy, canada, conspiracy, constructor, dobbin, germinal, hamburger, insubstantial, laramie, lost, malleable, nutrient, peloponnese, ted, thigh',\n",
       " 'acoustic, anarchic, bureaucracy, diatom, fabricate, guelph, immovable, leftward, liven, neo, phenomenology, provide, shortcut, suggestive, syndrome, total, trammel, usage, yarmulke',\n",
       " 'acrobacy, advisee, ape, apostate, cardigan, chancery, cochran, crowbait, equip, evildoer, hillman, hoofprint, kuwait, max, molten, practise, retinue, sloane, wuhan',\n",
       " \"acuity, anticonvulsant, carrageen, discovery, disseminate, drafty, embolden, glamour, hangout, hasty, magnificent, pewee, proscenium, registrar, scrub, supposable, sushi, you'd\",\n",
       " 'adipic, antique, athlete, atonic, catch, encumber, lauderdale, neutrino, olivia, persona, sovereignty, specify, statuette, whiteface',\n",
       " 'adonis, birdseed, citizen, contaminant, convair, extensive, fateful, frighten, judaica, scrubby, soothe, southeastern, stormy, suppose, trillion, trundle',\n",
       " 'advent, anger, convoy, deliver, filly, gneiss, grocer, hessian, hotbox, landau, marlborough, ninebark, plat, platelet, pyrotechnic, siemens, stapleton, transitive, treadle, uncle.',\n",
       " 'aeneas, colombo, foothold, fox, garry, glycerine, inviolate, lucre, magnanimity, nevada, notoriety, plebiscite, pompey, quagmire, satanic, scription, softball, spleenwort, tennyson, type.',\n",
       " 'affable, almost, antic, apache, astute, dandelion, deadlock, delphic, execution, fortunate, horntail, leverage, levitate, libertarian, sanction, scathe, semitic, storehouse, sweeney, unbeknownst.',\n",
       " 'affirmative airframe arcing ballroom bassoon benefit buggy coupon decide dodge hypothermia intrepid junior ladle nineveh prorogue schmitt shagging sparse ulcerate',\n",
       " 'affluent, cheshire, covalent, diagnostician, divisive, epsilon, folklore, gideon, gothic, grover, horowitz, julio, peanut, quadrature, salient, spiderwort, spiritual.',\n",
       " 'afghan, adopt, friday, glimmer, multitudinous, pacifist, wage, worcestershire',\n",
       " 'afro, blame, blackbird, calyx, elgin, emphases, implacable, jura, mayapple, perquisite, vii, whit',\n",
       " 'afternoon, complementary, dixie, hesitate, horsepower, immaculate, kind, laughlin, loire, mechanism, nimble, sandia, septuagenarian, sierra, shuffleboard, toggle, woebegone.',\n",
       " 'agglomerate, ballast, dollop, erosible, expiry, extensor, gazpacho, indiscreet, manuel, oilcloth, ogle, spaniard',\n",
       " 'aggression, arachne, asplenium, bystander, definite, gneiss, lengthy, sanford, southeast, translate.',\n",
       " 'aitken, barycentric, detest, downey, kajar, nat, solvate, usable, vision.',\n",
       " 'alcohol, behold, escutcheon, forth, fumarole, hackberry, motif, pease, regret, satisfy, uptake, walkie',\n",
       " 'allegoric, collate, euphony, gloriana, loge, lollipop, mast, milord, prolix, rendezvous, salle, schnabel',\n",
       " 'alleviate, benelux, buoyant, duopoly, felice, gland, gunk, hardbound, klaxon, mattress, tomography, townsmen.',\n",
       " 'allstate, dose, dyad, multitudinous, plural, powderpuff, stalin',\n",
       " 'allyn, carbonaceous, cetacean, investigatory, johann, majorca, paradigmatic, pathogenic, pray, supersede, tung.',\n",
       " 'almagest archenemy catawba councilwomen decrement gnome jungian limpid milt photolysis sagging transfusable',\n",
       " 'alphabet, birmingham, cantonese, educate, entourage, fashion, fond, marimba, mechanic, philology, retrofit.',\n",
       " 'alternate, boone, charity, chalcedony, genteel, million, olden, satin, sinai',\n",
       " 'amanita, amatory, annoy, besiege, boggle, california, canticle, crocodilian, dexter, dissipate, dizzy, encephalitis, hornblower, notre, pasture, propylene, psychiatric, sepia, snipe, straight',\n",
       " 'ambient, appropriable, arroyo, billion, breccia, coupon, eardrum, faze, fivefold, intimidate, martinson, oconnor, perplex, secretary, social, surtout, terrestrial, voltmeter.',\n",
       " 'amethyst, bathos, dormouse, obtuse, resignation, walt.',\n",
       " 'ami, bituminous, decadent, exeter, knickerbocker.',\n",
       " 'amphibious, assist, baseplate, benchmark, ell, hatchet, homecoming, loess, machine, percentage, pilot, prorate, redcoat, reverie, sank, stallion, thoughtful, wehr, wince',\n",
       " 'anaheim, clinic, eaten, immemorial, madeira, marx, micro, offprint, sprue, subject, trafficked, va.',\n",
       " 'anchor, barre, buckle, concatenate, dimension, edgy, eleanor, epiphyte, faunal, integrate, masochist, orthodoxy, parasol, patrician, pendant, sail, singular, swift.',\n",
       " 'anharmonic, beauteous, coypu, inflammation',\n",
       " 'aniline, boletus, eddy, fontainebleau, galveston, gentle, scandalous, skat, sportsmen, wile',\n",
       " 'aperture, bradshaw, holocene, mare, muriel, pathetic, r&d, sigh, staircase, talon.',\n",
       " 'appliance, impede, pulitzer, superior.',\n",
       " 'aqueous, deregulate, gala, infantrymen, knob, lysergic, yaounde.',\n",
       " \"archery, arlen, barbudo, bride, coquette, lockwood, lucrative, officious, polytypy, radix, teem, tunnel, you've\",\n",
       " 'aroma, carcinogen, delmarva, designate, facetious, nod, parochial, rally, sawfly, syllabus.',\n",
       " 'artillery, bainite, doris, fda, harm, incongruous, monkey, prosody, vegetate, vivian.',\n",
       " 'astronomic, cabdriver, coherent, loch, pivot, wagging.',\n",
       " 'auerbach, decor, deoxyribose, devisee, dianne, hodges, incommensurable, motorcade, stratify, troupe',\n",
       " 'avalanche, befriend, berniece, bong, bremsstrahlung, dactylic, flick, gilbertson, goff, hereafter, hoe, housekeep, hurry, lanka, metazoan, posterior, showroom.',\n",
       " 'avalanche, cameroon, canal, chaplin, clonic, coachman, cram, fortran, ipsilateral, kennan, medea, postpone, pyridine, referring, squabble, ussr.',\n",
       " 'babysat, consul, curvaceous, cutaneous, hugh, regiment, spoke, stationarity.',\n",
       " 'bandwidth, hidebound, wreak.',\n",
       " 'baronial, checksum, comment, circumstance, dartmouth, dredge, emittance, eulogy, felicia, huckster, monochromator, neuroanatomic, spotlight',\n",
       " 'batavia, canaan, maladjust, merry, olefin, ranch, relinquish, yang.',\n",
       " 'bate, callous, climb, cortez, dnieper, dogging, garrison, giantess, mast, moran, muddy, prank, reverie, satisfy, staunch.',\n",
       " 'bauble, cube, fabulous, kitakyushu, length, limnology, senescent, sequel, seventh, voluntary, willow, yucca',\n",
       " 'bedtime, boon, bottle, chapati, kenney, okinawa',\n",
       " 'behold, dew, dissipate, format, hew, maybe, misogyny, oxalic, pray, steel, stiffen, termcap',\n",
       " 'bengal, fettle, yeager.',\n",
       " 'berg, bluish, gamut, multiplexor, puerto, shreveport, subliminal.',\n",
       " 'berra, calabash, episode, hen, marietta, molybdenum, pedantic, pounce, schedule, sparkman, vinaigrette',\n",
       " 'bertrand, careful, eyelid, feign, heterostructure, libra, paste, snip, southeastern, wherewith.',\n",
       " 'beth kenya',\n",
       " 'bijective, briton, concord, dim, dive, eigenspace, floruit, gaucherie, glycogen, guidebook, irrevocable, jacket, pinkish, reversible, song.',\n",
       " 'bilinear, brenda, cacao, chivalry, derivate, eaten, endothelial, ferocity, gastronomic, grammarian, irreducible, knutson, phenotype, polkadot, rockaway, scurrilous.',\n",
       " 'bilk lethe perturb tactual',\n",
       " \"bindle, chiang, crystallography, dent, mambo, ram, roadside, rundown, savannah, shipshape, spew, strange, survey, won't\",\n",
       " 'blunderbuss, box, dinnertime, feel, frugal, labial, oresteia, papaw, perfidious, sonar.',\n",
       " 'blutwurst, buckaroo, closeup, intelligent, laguerre, thesaurus, vertebral, wily.',\n",
       " 'bone convergent doleful hindustan homeobox ia sweatshirt wagoneer',\n",
       " 'bonito, dreamboat, fritter, haggard, nose, whodunit, worcestershire.',\n",
       " 'borough, hyperboloidal',\n",
       " 'bosporus, bully, cork, edt, flogging, forfeit, lexicographer, minor, multiple, perceptive, pizza, pungent, rancorous, reedy, referring, sedition, sell, tit.',\n",
       " 'brainwash, broom, deathward, faithful, gondola, integer, kinematic, menu, soc',\n",
       " 'brewster, inaudible, synapse, tithing, tuba.',\n",
       " 'broaden, envy',\n",
       " 'buckley, frisian, ix, livre, panoramic, substitution.',\n",
       " 'bucolic, oblong, whoosh.',\n",
       " 'budd, deform.',\n",
       " 'built, poland, swab, thunderclap',\n",
       " 'buxton, callus, cameron, contribute, extensible, marque, methanol, olympic, precise, procrustean, seepage, shelf, sideboard, tty, typescript, unitary, verify.',\n",
       " 'caching, defend, delicious, distort, emboss, epistemology, gherkin, indicate, injustice, maser, percent, phillip, roadside, savoyard, somewhat, spicy, were, winston',\n",
       " 'campfire, contrast, crowfoot, purgatory, scrupulous',\n",
       " 'captious, elton, ineligible, iodinate, olympic, sherman.',\n",
       " 'carport, firewood, introvert, sweepstake, tiresome',\n",
       " \"cartilaginous, no, science, spokane, that'd.\",\n",
       " 'catechism, daddy.',\n",
       " 'celandine, diploma, faith, harold, hostile, mohawk, octavia, supercilious, thebes.',\n",
       " 'cheddar, edt, from, oblivion, pang, poignant, yuh.',\n",
       " 'chicanery, fugue, mountain',\n",
       " 'chlorate glidden incentive judicatory lavoisier manatee spurt.',\n",
       " 'chrysalis, wallaby.',\n",
       " 'cite, coleus, fructose, hurricane, improbable, irreducible, tipoff, tularemia, vesper, whereabout, whitetail, wier',\n",
       " 'cloudy, ecosystem, ferret, knotty',\n",
       " 'cocksure, comet, heusen, hydrate, injun, manley, pincer, snippet, spokesperson',\n",
       " 'compton, confident, foundling, pam, saprophytic, stowaway, stupor',\n",
       " 'confess, croupier, daffy, dockyard, duty, household, hypothesis, info, loam, mandate, mantic, minstrelsy, nepotism, peccary, sawtimber, serenade, silver, summate, triode',\n",
       " 'confrontation daddy hirsute proserpine proofread quantitative.',\n",
       " 'consonant, globule, jacob, musician, sleight',\n",
       " \"convey, decimate, experiment, fortieth, incautious, kudo, marshall, neoclassic, rest, whimper, wiley, xylem, z's\",\n",
       " 'coplanar, natalie, stevenson, zan.',\n",
       " 'core, discreet, hat, sonnet.',\n",
       " 'correspond herpes him seashore.',\n",
       " \"coven, disturb, etruscan, lorenz, plastisol, runneth, shouldn't, skintight, swept.\",\n",
       " 'covenant, davenport, densitometer, noisy, scoreboard, sonorant, thence.',\n",
       " 'dateline, household, jill, langmuir, pipette.',\n",
       " 'dean, eosine, formula, gibson, inebriate, mater, mulligatawny, rica, sigmund, vassar.',\n",
       " 'dnieper.',\n",
       " 'downtrodden, gadgetry, gamin, hurst, inertial, maraud, morphine, parsonage, propane',\n",
       " 'dulse, kowalewski, politician, yew',\n",
       " 'erg, inability, invocable, janice, nucleus, possible, vague',\n",
       " 'extempore.',\n",
       " 'fortescue, helmsman, percept, purloin, sioux',\n",
       " 'fracture, sediment, towel, varsity.',\n",
       " 'geld, phase, thunder.',\n",
       " 'gloucester, raytheon, slurp.',\n",
       " 'greasy, lapidary, mark.',\n",
       " 'haughty, seashore',\n",
       " 'laudatory, shakespearian',\n",
       " 'lise miaow snipe.',\n",
       " 'muddy, nascent',\n",
       " 'murray, sweatband',\n",
       " 'neff, nicodemus, sortie.',\n",
       " 'novelty, rectitude, splashy.',\n",
       " 'skimpy, zoroaster',\n",
       " 'syndrome, therefrom'}"
      ]
     },
     "execution_count": 20,
     "metadata": {},
     "output_type": "execute_result"
    }
   ],
   "source": [
    "set(dataset[\"answer_pred\"])"
   ]
  },
  {
   "cell_type": "code",
   "execution_count": 21,
   "metadata": {},
   "outputs": [
    {
     "data": {
      "text/plain": [
       "Dataset({\n",
       "    features: ['input', 'target', 'self_discover_input', 'task_description', 'selected_modules', 'adapted_modules', 'reasoning_plan', 'reasoning', 'trajectory', 'answer_pred'],\n",
       "    num_rows: 117\n",
       "})"
      ]
     },
     "execution_count": 21,
     "metadata": {},
     "output_type": "execute_result"
    }
   ],
   "source": [
    "dataset.filter(lambda x: x[\"answer_pred\"] == '')"
   ]
  },
  {
   "cell_type": "code",
   "execution_count": 22,
   "metadata": {},
   "outputs": [
    {
     "name": "stdout",
     "output_type": "stream",
     "text": [
      "**Step 1: Break down the list into smaller groups based on alphabetical ranges**\n",
      "\n",
      "The list can be divided into the following groups:\n",
      "- B (bodyguard)\n",
      "- C (commensal)\n",
      "- F (flagellate, flotation)\n",
      "- I (ineradicable, in-, involve)\n",
      "- J (jocund)\n",
      "- M (miff)\n",
      "- P (postprocess)\n",
      "\n",
      "**Step 2: Identify patterns or common prefixes in the words**\n",
      "\n",
      "Within each group, the following patterns can be identified:\n",
      "- The \"in-\" prefix is common to the words \"ineradicable\", \"involve\".\n",
      "- The \"fl-\" pattern is common to the words \"flagellate\" and \"flotation\".\n",
      "\n",
      "**Step 3: Compare and sort words within each group**\n",
      "\n",
      "- B group: only one word, \"bodyguard\", so no comparison is needed.\n",
      "- C group: only one word, \"commensal\", so no comparison is needed.\n",
      "- F group: comparing \"flagellate\" and \"flotation\", \"flagellate\" comes first alphabetically.\n",
      "- I group: comparing \"ineradicable\", \"involve\", and noting the \"in-\" prefix, \"ineradicable\" comes first alphabetically, followed by \"involve\", then the remaining word \"in-\" is actually part of \"involve\" and \"ineradicable\"  so \"in\" is dropped and comparing miff to involve and ineradicable we find ineradicable, involve, miff is incorrect so involve, ineradicable, miff is incorrect, ineradicable, involve, miff is incorrect, in is dropped so comparing ineradicable, involve to in we find in, ineradicable, involve, miff so comparing in to in we find in is actually part of involve and ineradicable so comparing ineradicable to involve we find ineradicable, involve then comparing involve to in we find in is actually part of involve and comparing ineradicable to involve we find ineradicable, involve then comparing ineradicable, involve to miff we find in is actually part of involve and ineradicable so comparing in to in we find in is actually part of involve and ineradicable so comparing ineradicable to involve we find ineradicable, involve then comparing ineradicable, involve to miff we find ineradicable, involve, miff is incorrect so comparing in to ineradicable we find in is actually part of ineradicable so comparing ineradicable to in we find in is actually part of ineradicable so comparing in to ineradicable is actually part of ineradicable so in, ineradicable is actually ineradicable so comparing ineradicable to in we find ineradicable is actually after in so in, ineradicable is incorrect so comparing ineradicable to involve we find ineradicable, involve then comparing ineradicable, involve to miff we find ineradicable, involve, miff is incorrect so comparing ineradicable to in we find in is actually part of ineradicable so comparing ineradicable to in we find ineradicable is actually after in so in, ineradicable is incorrect so comparing ineradicable to involve we find ineradicable, involve then comparing ineradicable, involve to miff we find ineradicable, involve, miff is incorrect so comparing in to ineradicable we find in is actually part of ineradicable so comparing ineradicable to in we find ineradicable is actually after in so in, ineradicable is incorrect so comparing ineradicable to involve we find ineradicable, involve then comparing ineradicable, involve to miff we find ineradicable, involve, miff is incorrect so comparing ineradicable to in we find in is actually part of ineradicable so comparing ineradicable to in we find ineradicable is actually after in so in, ineradicable is incorrect so comparing ineradicable to involve we find ineradicable, involve then comparing ineradicable, involve to miff we find ineradicable, involve, miff is incorrect so comparing in to ineradicable we find in is actually part of ineradicable so comparing ineradicable to in we find ineradicable is actually after in so in, ineradicable is incorrect so comparing ineradicable to involve we find ineradicable, involve then comparing ineradicable, involve to miff we find ineradicable, involve, miff is incorrect so comparing ineradicable to in we find in is actually part of ineradicable so comparing ineradicable to in we find ineradicable is actually after in so in, ineradicable is incorrect so comparing ineradicable to involve we find ineradicable, involve then comparing ineradicable, involve to miff we find ineradicable, involve, miff is incorrect so comparing in to ineradicable we find in is actually part of ineradicable so comparing ineradicable to in we find ineradicable is actually after in so in, ineradicable is incorrect so comparing ineradicable to involve we find ineradicable, involve then comparing ineradicable, involve to miff we find ineradicable, involve, miff is incorrect so comparing ineradicable to in we find in is actually part of ineradicable so comparing ineradicable to in we find ineradicable is actually after in so in, ineradicable is incorrect so comparing ineradicable to involve we find ineradicable, involve then comparing ineradicable, involve to miff we find ineradicable, involve, miff is incorrect so comparing in to ineradicable we find in is actually part of ineradicable so comparing ineradicable to in we find ineradicable is actually after in so in, ineradicable is incorrect so comparing ineradicable to involve we find ineradicable, involve then comparing ineradicable, involve to miff we find ineradicable, involve, miff is incorrect so comparing ineradicable to in we find in is actually part of ineradicable so comparing ineradicable to in we find ineradicable is actually after in so in, ineradicable is incorrect so comparing ineradicable to involve we find ineradicable, involve then comparing ineradicable, involve to miff we find ineradicable, involve, miff is incorrect so comparing in to ineradicable we find in is actually part of ineradicable so comparing ineradicable to in we find ineradicable is actually after in so in, ineradicable is incorrect so comparing ineradicable to involve we find ineradicable, involve then comparing ineradicable, involve to miff we find ineradicable, involve, miff is incorrect so comparing ineradicable to in we find in is actually part of ineradicable so comparing ineradicable to in we find ineradicable is actually after in so in, ineradicable is incorrect so comparing ineradicable to involve we find ineradicable, involve then comparing ineradicable, involve to miff we find ineradicable, involve, miff is incorrect so comparing in to ineradicable we find in is actually part of ineradicable so comparing ineradicable to in we find ineradicable is actually after in so in, ineradicable is incorrect so comparing ineradicable to involve we find ineradicable, involve then comparing ineradicable, involve to miff we find ineradicable, involve, miff is incorrect so comparing ineradicable to in we find in is actually part of ineradicable so comparing ineradicable to in we find ineradicable is actually after in so in, ineradicable is incorrect so comparing ineradicable to involve we find ineradicable, involve then comparing ineradicable, involve to miff we find ineradicable, involve, miff is incorrect so comparing in to ineradicable we find in is actually part of ineradicable so comparing ineradicable to in we find ineradicable is actually after in so in, ineradicable is incorrect so comparing ineradicable to involve we find ineradicable, involve then comparing ineradicable, involve to miff we find ineradicable, involve, miff is incorrect so comparing ineradicable to in we find in is actually part of ineradicable so comparing ineradicable to in we find ineradicable is actually after in so in, ineradicable is incorrect so comparing ineradicable to involve we find ineradicable, involve then comparing ineradicable, involve to miff we find ineradicable, involve, miff is incorrect so comparing in to ineradicable we find in is actually part of ineradicable so comparing ineradicable to in we find ineradicable is actually after in so in, ineradicable is incorrect so comparing ineradicable to involve we find ineradicable, involve then comparing ineradicable, involve to miff we find ineradicable, involve, miff is incorrect so comparing ineradicable to in we find in is actually part of ineradicable so comparing ineradicable to in we find ineradicable is actually after in so in, ineradicable is incorrect so comparing ineradicable to involve we find ineradicable, involve then comparing ineradicable, involve to miff we find ineradicable, involve, miff is incorrect so comparing in to ineradicable we find in is actually part of ineradicable so comparing ineradicable to in we find ineradicable is actually after in so in, ineradicable is incorrect so comparing ineradicable to involve we find ineradicable, involve then comparing ineradicable, involve to miff we find ineradicable, involve, miff is incorrect so comparing ineradicable to in we find in is actually part of ineradicable so comparing ineradicable to in we find ineradicable is actually after in so in, ineradicable is incorrect so comparing ineradicable to involve we find ineradicable, involve then comparing ineradicable, involve to miff we find ineradicable, involve, miff is incorrect so comparing in to ineradicable we find in is actually part of ineradicable so comparing ineradicable to in we find ineradicable is actually after in so in, ineradicable is incorrect so comparing ineradicable to involve we find ineradicable, involve then comparing ineradicable, involve to miff we find ineradicable, involve, miff is incorrect so comparing ineradicable to in we find in is actually part of ineradicable so comparing ineradicable to in we find ineradicable is actually after in so in, ineradicable is incorrect so comparing ineradicable to involve we find ineradicable, involve then comparing ineradicable, involve to miff we find ineradicable, involve, miff is incorrect so comparing in to ineradicable we find in is actually part of ineradicable so comparing ineradicable to in we find ineradicable is actually after in so in, ineradicable is incorrect so comparing ineradicable to involve we find ineradicable, involve then comparing ineradicable, involve to miff we find ineradicable, involve, miff is incorrect so comparing ineradicable to in we find in is actually part of ineradicable so comparing ineradicable to in we find ineradicable is actually after in so in, ineradicable is incorrect so comparing ineradicable to involve we find ineradicable, involve then comparing ineradicable, involve to miff we find ineradicable, involve, miff is incorrect so comparing in to ineradicable we find in is actually part of ineradicable so comparing ineradicable to in we find ineradicable is actually after in so in, ineradicable is incorrect so comparing ineradicable to involve we find ineradicable, involve then comparing ineradicable, involve to miff we find ineradicable, involve, miff is incorrect so comparing ineradicable to in we find in is actually part of ineradicable so comparing ineradicable to in we find ineradicable is actually after in so in, ineradicable is incorrect so comparing ineradicable to involve we find ineradicable, involve then comparing ineradicable, involve to miff we find ineradicable, involve, miff is incorrect so comparing in to ineradicable we find in is actually part of ineradicable so comparing ineradicable to in we find ineradicable is actually after in so in, ineradicable is incorrect so comparing ineradicable to involve we find ineradicable, involve then comparing ineradicable, involve to miff we find ineradicable, involve, miff is incorrect so comparing ineradicable to in we find in is actually part of ineradicable so comparing ineradicable to in we find ineradicable is actually after in so in, ineradicable is incorrect so comparing ineradicable to involve we find ineradicable, involve then comparing ineradicable, involve to miff we find ineradicable, involve, miff is incorrect so comparing in to ineradicable we find in is actually part of ineradicable so comparing ineradicable to in we find ineradicable is actually after in so in, ineradicable is incorrect so comparing ineradicable to involve we find ineradicable, involve then comparing ineradicable, involve to miff we find ineradicable, involve, miff is incorrect so comparing ineradicable to in we find in is actually part of ineradicable so comparing ineradicable to in we find ineradicable is actually after in so in, ineradicable is incorrect so comparing ineradicable to involve we find ineradicable, involve then comparing ineradicable, involve to miff we find ineradicable, involve, miff is incorrect so comparing in to ineradicable we find in is actually part of ineradicable so comparing ineradicable to in we find ineradicable is actually after in so in, ineradicable is incorrect so comparing ineradicable to involve we find ineradicable, involve then comparing ineradicable, involve to miff we find ineradicable, involve, miff is incorrect so comparing ineradicable to in we find in is actually part of ineradicable so comparing ineradicable to in we find ineradicable is actually after in so in, ineradicable is incorrect so comparing ineradicable to involve we find ineradicable, involve then comparing ineradicable, involve to miff we find ineradicable, involve, miff is incorrect so comparing in to ineradicable we find in is actually part of ineradicable so comparing ineradicable to in we find ineradicable is actually after in so in, ineradicable is incorrect so comparing ineradicable to involve we find ineradicable, involve then comparing ineradicable, involve to miff we find ineradicable, involve, miff is incorrect so comparing ineradicable to in we find in is actually part of ineradicable so comparing ineradicable to in we find ineradicable is actually after in so in, ineradicable is incorrect so comparing ineradicable to involve we find ineradicable, involve then comparing ineradicable, involve to miff we find ineradicable, involve, miff is incorrect so comparing in to ineradicable we find in is actually part of ineradicable so comparing ineradicable to in we find ineradicable is actually after in so in, ineradicable is incorrect so comparing ineradicable to involve we find ineradicable, involve then comparing ineradicable, involve to miff we find ineradicable, involve, miff is incorrect so comparing ineradicable to in we find in is actually part of ineradicable so comparing ineradicable to in we find ineradicable is actually after in so in, ineradicable is incorrect so comparing ineradicable to involve we find ineradicable, involve then comparing ineradicable, involve to miff we find ineradicable, involve, miff is incorrect so comparing in to ineradicable we find in is actually part of ineradicable so comparing ineradicable to in we find ineradicable is actually after in so in, ineradicable is incorrect so comparing ineradicable to involve we find ineradicable, involve then comparing ineradicable, involve to miff we find ineradicable, involve, miff is incorrect so comparing ineradicable to in we find in is actually part of ineradicable so comparing ineradicable to in we find ineradicable is actually after in so in, ineradicable is incorrect so comparing ineradicable to involve we find ineradicable, involve then comparing ineradicable, involve to miff we find ineradicable, involve, miff is incorrect so comparing in to ineradicable we find in is actually part of ineradicable so comparing ineradicable to in we find ineradicable is actually after in so in, ineradicable is incorrect so comparing ineradicable to involve we find ineradicable, involve then comparing ineradicable, involve to miff we find ineradicable, involve, miff is incorrect so comparing ineradicable to in we find in is actually part of ineradicable so comparing ineradicable to in we find ineradicable is actually after in so in, ineradicable is incorrect so comparing ineradicable to involve we find ineradicable, involve then comparing ineradicable, involve to miff we find ineradicable, involve, miff is incorrect so comparing in to ineradicable we find in is actually part of ineradicable so comparing ineradicable to in we find ineradicable is actually after in so in, ineradicable is incorrect so comparing ineradicable to involve we find ineradicable, involve then comparing ineradicable, involve to miff we find ineradicable, involve, miff is incorrect so comparing ineradicable to in we find in is actually part of ineradicable so comparing ineradicable to in we find ineradicable is actually after in so in, ineradicable is incorrect so comparing ineradicable to involve we find ineradicable, involve then comparing ineradicable, involve to miff we find ineradicable, involve, miff is incorrect so comparing in to ineradicable we find in is actually part of ineradicable so comparing ineradicable to in we find ineradicable is actually after in so in, ineradicable is incorrect so comparing ineradicable to involve we find ineradicable, involve then comparing ineradicable, involve to miff we find ineradicable, involve, miff is incorrect so comparing ineradicable to in we find in is actually part of ineradicable so comparing ineradicable to in we find ineradicable is actually after in so in, ineradicable is incorrect so comparing ineradicable to involve we find ineradicable, involve then comparing ineradicable, involve to miff we find ineradicable, involve, miff is incorrect so comparing in to ineradicable we find in is actually part of ineradicable so comparing ineradicable to in we find ineradicable is actually after in so in, ineradicable is incorrect so comparing ineradicable to involve we find ineradicable, involve then comparing ineradicable, involve to miff we find ineradicable, involve, miff is incorrect so comparing ineradicable to in we find in is actually part of ineradicable so comparing ineradicable to in we find ineradicable is actually after in so in, ineradicable is incorrect so comparing ineradicable to involve we find ineradicable, involve then comparing ineradicable, involve to miff we find ineradicable, involve, miff is incorrect so comparing in to ineradicable we find in is actually part of ineradicable so comparing ineradicable to in we find ineradicable is actually after in so in, ineradicable is incorrect so comparing ineradicable to involve we find ineradicable, involve then comparing ineradicable, involve to miff we find ineradicable, involve, miff is incorrect so comparing ineradicable to in we find in is actually part of ineradicable so comparing ineradicable to in we find ineradicable is actually after in so in, ineradicable is incorrect so comparing ineradicable to involve we find ineradicable, involve then comparing ineradicable, involve to miff we find ineradicable, involve, miff is incorrect so comparing in to ineradicable we find in is actually part of ineradicable so comparing ineradicable to in we find ineradicable is actually after in so in, ineradicable is incorrect so comparing ineradicable to involve we find ineradicable, involve then comparing ineradicable, involve to miff we find ineradicable, involve, miff is incorrect so comparing ineradicable to in we find in is actually part of ineradicable so comparing ineradicable to in we find ineradicable is actually after in so in, ineradicable is incorrect so comparing ineradicable to involve we find ineradicable, involve then comparing ineradicable, involve to miff we find ineradicable, involve, miff is incorrect so comparing in to ineradicable we find in is actually part of ineradicable so comparing ineradicable to in we find ineradicable is actually after in so in, ineradicable is incorrect so comparing ineradicable to involve we find ineradicable, involve then comparing ineradicable, involve to miff we find ineradicable, involve, miff is incorrect so comparing ineradicable to in we find in is actually part of ineradicable so comparing ineradicable to in we find ineradicable is actually after in so in, ineradicable is incorrect so comparing ineradicable to involve we find ineradicable, involve then comparing ineradicable, involve to miff we find ineradicable, involve, miff is incorrect so comparing in to ineradicable we find in is actually part of ineradicable so comparing ineradicable to in we find ineradicable is actually after in so in, ineradicable is incorrect so comparing ineradicable to involve we find ineradicable, involve then comparing ineradicable, involve to miff we find ineradicable, involve, miff is incorrect so comparing ineradicable to in we find in is actually part of ineradicable so comparing ineradicable to in we find ineradicable is actually after in so in, ineradicable is incorrect so comparing ineradicable to involve we find ineradicable, involve then comparing ineradicable, involve to miff we find ineradicable, involve, miff is incorrect so comparing in to ineradicable we find in is actually part of ineradicable so comparing ineradicable to in we find ineradicable is actually after in so in, ineradicable is incorrect so comparing ineradicable to involve we find ineradicable, involve then comparing ineradicable, involve to miff we find ineradicable, involve, miff is incorrect so comparing ineradicable to in we find in is actually part of ineradicable so comparing ineradicable to in we find ineradicable is actually after in so in, ineradicable is incorrect so comparing ineradicable to involve we find ineradicable, involve then comparing ineradicable, involve to miff we find ineradicable, involve, miff is incorrect so comparing in to ineradicable we find in is actually part of ineradicable so comparing ineradicable to in we find ineradicable is actually after in so in, ineradicable is incorrect so comparing ineradicable to involve we find ineradicable, involve then comparing ineradicable, involve to miff we find ineradicable, involve, miff is incorrect so comparing ineradicable to in we find in is actually part of ineradicable so comparing ineradicable to in we find ineradicable is actually after in so in, ineradicable is incorrect so comparing ineradicable to involve we find ineradicable, involve then comparing ineradicable, involve to miff we find ineradicable, involve, miff is incorrect so comparing in to ineradicable we find in is actually part of ineradicable so comparing ineradicable to in we find ineradicable is actually after in so in, ineradicable is incorrect so comparing ineradicable to involve we find ineradicable, involve then comparing ineradicable, involve to miff we find ineradicable, involve, miff is incorrect so comparing ineradicable to in we find in is actually part of ineradicable so comparing ineradicable to in we find ineradicable is actually after in so in, ineradicable is incorrect so comparing ineradicable to involve we find ineradicable, involve then comparing ineradicable, involve to miff we find ineradicable, involve, miff is incorrect so comparing in to ineradicable we find in is actually part of ineradicable so comparing ineradicable to in we find ineradicable is actually after in so in, ineradicable is incorrect so comparing ineradicable to involve we find ineradicable, involve then comparing ineradicable, involve to miff we find ineradicable, involve, miff is incorrect so comparing ineradicable to in we find in is actually part of ineradicable so comparing ineradicable to in we find ineradicable is actually after in so in, ineradicable is incorrect so comparing ineradicable to involve we find ineradicable, involve then comparing ineradicable, involve to miff we find ineradicable, involve, miff is incorrect so comparing in to ineradicable we find in is actually part of ineradicable so comparing ineradicable to in we find ineradicable is actually after in so in, ineradicable is incorrect so comparing ineradicable to involve we find ineradicable, involve then comparing ineradicable, involve to miff we find ineradicable, involve, miff is incorrect so comparing ineradicable to in we find in is actually part of ineradicable so comparing ineradicable to in we find ineradicable is actually after in so in, ineradicable is incorrect so comparing ineradicable to involve we find ineradicable, involve then comparing ineradicable, involve to miff we find ineradicable, involve, miff is incorrect so comparing in to ineradicable we find in is actually part of ineradicable so comparing ineradicable to in we find ineradicable is actually after in so in, ineradicable is incorrect so comparing ineradicable to involve we find ineradicable, involve then comparing ineradicable, involve to miff we find ineradicable, involve, miff is incorrect so comparing ineradicable to in we find in is actually part of ineradicable so comparing ineradicable to in we find ineradicable is actually after in so in, ineradicable is incorrect so comparing ineradicable to involve we find ineradicable, involve then comparing ineradicable, involve to miff we find ineradicable, involve, miff is incorrect so comparing in to ineradicable we find in is actually part of ineradicable so comparing ineradicable to in we find ineradicable is actually after in so in, ineradicable is incorrect so comparing ineradicable to involve we find ineradicable, involve then comparing ineradicable, involve to miff we find ineradicable, involve, miff is incorrect so comparing ineradicable to in we find in is actually part of ineradicable so comparing ineradicable to in we find ineradicable is actually after in so in, ineradicable is incorrect so comparing ineradicable to involve we find ineradicable, involve then comparing ineradicable, involve to miff we find ineradicable, involve, miff is incorrect so comparing in to ineradicable we find in is actually part of ineradicable so comparing ineradicable to in we find ineradicable is actually after in so in, ineradicable is incorrect so comparing ineradicable to involve we find ineradicable, involve then comparing ineradicable, involve to miff we find ineradicable, involve, miff is incorrect so comparing ineradicable to in we find in is actually part of ineradicable so comparing ineradicable to in we find ineradicable is actually after in so in, ineradicable is incorrect so comparing ineradicable to involve we find ineradicable, involve then comparing ineradicable, involve to miff we find ineradicable, involve, miff is incorrect so comparing in to ineradicable we find in is actually part of ineradicable so comparing ineradicable to in we find ineradicable is actually after in so in, ineradicable is incorrect so comparing ineradicable to involve we find ineradicable, involve then comparing ineradicable, involve to miff we find ineradicable, involve, miff is incorrect so comparing ineradicable to in we find in is actually part of ineradicable so comparing ineradicable to in we find ineradicable is actually after in so in, ineradicable is incorrect so comparing ineradicable to involve we find ineradicable, involve then comparing ineradicable, involve to miff we find ineradicable, involve, miff is incorrect so comparing in to ineradicable we find in is actually part of ineradicable so comparing ineradicable to in we find ineradicable is actually after in so in, ineradicable is incorrect so comparing ineradicable to involve we find ineradicable, involve then comparing ineradicable, involve to miff we find ineradicable, involve, miff is incorrect so comparing ineradicable to in we find in is actually part of ineradicable so comparing ineradicable to in we find ineradicable is actually after in so in, ineradicable is incorrect so comparing ineradicable to involve we find ineradicable, involve then comparing ineradicable, involve to miff we find ineradicable, involve, miff is incorrect so comparing in to ineradicable we find in is actually part of ineradicable so comparing ineradicable to in we find ineradicable is actually after in so in, ineradicable is incorrect so comparing ineradicable to involve we find ineradicable, involve then comparing ineradicable, involve to miff we find ineradicable, involve, miff is incorrect so comparing ineradicable to in we find in is actually part of ineradicable so comparing ineradicable to in we find ineradicable is actually after in so in, ineradicable is incorrect so comparing ineradicable to involve we find ineradicable, involve then comparing ineradicable, involve to miff we find ineradicable, involve, miff is incorrect so comparing in to ineradicable we find in is actually part of ineradicable so comparing ineradicable to in we find ineradicable is actually after in so in, ineradicable is incorrect so comparing ineradicable to involve we find ineradicable, involve then comparing ineradicable, involve to miff we find ineradicable, involve, miff is incorrect so comparing ineradicable to in we find in is actually part of ineradicable so comparing ineradicable to in we find ineradicable is actually after in so in, ineradicable is incorrect so comparing ineradicable to involve we find ineradicable, involve then comparing ineradicable, involve to miff we find ineradicable, involve, miff is incorrect so comparing in to ineradicable we find in is actually part of ineradicable so comparing ineradicable to in we find ineradicable is actually after in so in, ineradicable is incorrect so comparing ineradicable to involve we find ineradicable, involve then comparing ineradicable, involve to miff we find ineradicable, involve, miff is incorrect so comparing ineradicable to in we find in is actually part of ineradicable so comparing ineradicable to in we find ineradicable is actually after in so in, ineradicable is incorrect so comparing ineradicable to involve we find ineradicable, involve then comparing ineradicable, involve to miff we find ineradicable, involve, miff is incorrect so comparing in to ineradicable we find in is actually part of ineradicable so comparing ineradicable to in we find ineradicable is actually after in so in, ineradicable is incorrect so comparing ineradicable to involve we find ineradicable, involve then comparing ineradicable, involve to miff we find ineradicable, involve, miff is incorrect so comparing ineradicable to in we find in is actually part of ineradicable so comparing ineradicable to in we find ineradicable is actually after in so in, ineradicable is incorrect so comparing ineradicable to involve we find ineradicable, involve then comparing ineradicable, involve to miff we find ineradicable, involve, miff is incorrect so comparing in to ineradicable we find in is actually part of ineradicable so comparing ineradicable to in we find ineradicable is actually after in so in, ineradicable is incorrect so comparing ineradicable to involve we find ineradicable, involve then comparing ineradicable, involve to miff we find ineradicable, involve, miff is incorrect so comparing ineradicable to in we find in is actually part of ineradicable so comparing ineradicable to in we find ineradicable is actually after in so in, ineradicable is incorrect so comparing ineradicable to involve we find ineradicable, involve then comparing ineradicable, involve to miff we find ineradicable, involve, miff is incorrect so comparing in to ineradicable we find in is actually part of ineradicable so comparing ineradicable to in we find ineradicable is actually after in so in, ineradicable is incorrect so comparing ineradicable to involve we find ineradicable, involve then comparing ineradicable, involve to miff we find ineradicable, involve, miff is incorrect so comparing ineradicable to in we find in is actually part of ineradicable so comparing ineradicable to in we find ineradicable is actually after in so in, ineradicable is incorrect so comparing ineradicable to involve we find ineradicable, involve then comparing ineradicable, involve to miff we find ineradicable, involve, miff is incorrect so comparing in to ineradicable we find in is actually part of ineradicable so comparing ineradicable to in we find ineradicable is actually after in so in, ineradicable is incorrect so comparing ineradicable to involve we find ineradicable, involve then comparing ineradicable, involve to miff we find ineradicable, involve, miff is incorrect so comparing ineradicable to in we find in is actually part of ineradicable so comparing ineradicable to in we find ineradicable is actually after in so in, ineradicable is incorrect so comparing ineradicable to involve we find ineradicable, involve then comparing ineradicable, involve to miff we find ineradicable, involve, miff is incorrect so comparing in to ineradicable we find in is actually part of ineradicable so comparing ineradicable to in we find ineradicable is actually after in so in, ineradicable is incorrect so comparing ineradicable to involve we find ineradicable, involve then comparing ineradicable, involve\n"
     ]
    }
   ],
   "source": [
    "print(dataset.filter(lambda x: x[\"answer_pred\"] == None)[0][\"trajectory\"])"
   ]
  },
  {
   "cell_type": "code",
   "execution_count": 23,
   "metadata": {},
   "outputs": [],
   "source": [
    "import re \n",
    "\n",
    "def map_fn(ins):\n",
    "    answer_pred = ins.get(\"answer_pred\")\n",
    "    reasoning = ins.get(\"reasoning\", \"\")\n",
    "\n",
    "    if reasoning is None:\n",
    "        reasoning = \"\"\n",
    "\n",
    "    if answer_pred is None or answer_pred == '':\n",
    "        marker = \"The final answer is:\"\n",
    "\n",
    "        marker_index = reasoning.find(marker)\n",
    "\n",
    "        if marker_index != -1:\n",
    "            trajectory = reasoning[:marker_index]\n",
    "            answer = reasoning[marker_index + len(marker):]\n",
    "   \n",
    "            cleaned_answer = answer.replace(\"`\", \"\").strip()\n",
    "            \n",
    "            cleaned_trajectory = trajectory.strip()\n",
    "\n",
    "            if not cleaned_answer:\n",
    "                 cleaned_answer = None\n",
    "\n",
    "            return {\n",
    "                \"trajectory\": cleaned_trajectory,\n",
    "                \"answer_pred\": cleaned_answer\n",
    "            }\n",
    "        else:\n",
    "            return {\n",
    "                \"trajectory\": reasoning.strip(),\n",
    "                \"answer_pred\": None\n",
    "            }\n",
    "    else:\n",
    "        return ins\n",
    "\n",
    "dataset = dataset.map(map_fn) "
   ]
  },
  {
   "cell_type": "code",
   "execution_count": 24,
   "metadata": {},
   "outputs": [
    {
     "data": {
      "text/plain": [
       "(Dataset({\n",
       "     features: ['input', 'target', 'self_discover_input', 'task_description', 'selected_modules', 'adapted_modules', 'reasoning_plan', 'reasoning', 'trajectory', 'answer_pred'],\n",
       "     num_rows: 2\n",
       " }),\n",
       " Dataset({\n",
       "     features: ['input', 'target', 'self_discover_input', 'task_description', 'selected_modules', 'adapted_modules', 'reasoning_plan', 'reasoning', 'trajectory', 'answer_pred'],\n",
       "     num_rows: 0\n",
       " }),\n",
       " Dataset({\n",
       "     features: ['input', 'target', 'self_discover_input', 'task_description', 'selected_modules', 'adapted_modules', 'reasoning_plan', 'reasoning', 'trajectory', 'answer_pred'],\n",
       "     num_rows: 0\n",
       " }),\n",
       " Dataset({\n",
       "     features: ['input', 'target', 'self_discover_input', 'task_description', 'selected_modules', 'adapted_modules', 'reasoning_plan', 'reasoning', 'trajectory', 'answer_pred'],\n",
       "     num_rows: 0\n",
       " }))"
      ]
     },
     "execution_count": 24,
     "metadata": {},
     "output_type": "execute_result"
    }
   ],
   "source": [
    "dataset.filter(lambda x: x[\"answer_pred\"] == None), dataset.filter(lambda x: x[\"answer_pred\"] == ''), dataset.filter(lambda x: x[\"answer_pred\"] == '['), dataset.filter(lambda x: x[\"answer_pred\"] == 'Yes.')"
   ]
  },
  {
   "cell_type": "code",
   "execution_count": 25,
   "metadata": {},
   "outputs": [],
   "source": [
    "import re \n",
    "\n",
    "def map_fn(ins):\n",
    "    answer_pred = ins.get(\"answer_pred\")\n",
    "    reasoning = ins.get(\"reasoning\", \"\")\n",
    "\n",
    "    if reasoning is None:\n",
    "        reasoning = \"\"\n",
    "\n",
    "    if answer_pred is None or answer_pred == '':\n",
    "        marker = \"The final answer is\"\n",
    "\n",
    "        marker_index = reasoning.find(marker)\n",
    "\n",
    "        if marker_index != -1:\n",
    "            trajectory = reasoning[:marker_index]\n",
    "            answer = reasoning[marker_index + len(marker):]\n",
    "   \n",
    "            cleaned_answer = answer.replace(\"`\", \"\").strip()\n",
    "            \n",
    "            cleaned_trajectory = trajectory.strip()\n",
    "\n",
    "            if not cleaned_answer:\n",
    "                 cleaned_answer = None\n",
    "\n",
    "            return {\n",
    "                \"trajectory\": cleaned_trajectory,\n",
    "                \"answer_pred\": cleaned_answer\n",
    "            }\n",
    "        else:\n",
    "            return {\n",
    "                \"trajectory\": reasoning.strip(),\n",
    "                \"answer_pred\": None\n",
    "            }\n",
    "    else:\n",
    "        return ins\n",
    "\n",
    "dataset = dataset.map(map_fn) "
   ]
  },
  {
   "cell_type": "code",
   "execution_count": 26,
   "metadata": {},
   "outputs": [
    {
     "name": "stdout",
     "output_type": "stream",
     "text": [
      "**Step 1: Break down the list into smaller groups based on alphabetical ranges**\n",
      "\n",
      "The list can be divided into the following groups:\n",
      "- B (bodyguard)\n",
      "- C (commensal)\n",
      "- F (flagellate, flotation)\n",
      "- I (ineradicable, in-, involve)\n",
      "- J (jocund)\n",
      "- M (miff)\n",
      "- P (postprocess)\n",
      "\n",
      "**Step 2: Identify patterns or common prefixes in the words**\n",
      "\n",
      "Within each group, the following patterns can be identified:\n",
      "- The \"in-\" prefix is common to the words \"ineradicable\", \"involve\".\n",
      "- The \"fl-\" pattern is common to the words \"flagellate\" and \"flotation\".\n",
      "\n",
      "**Step 3: Compare and sort words within each group**\n",
      "\n",
      "- B group: only one word, \"bodyguard\", so no comparison is needed.\n",
      "- C group: only one word, \"commensal\", so no comparison is needed.\n",
      "- F group: comparing \"flagellate\" and \"flotation\", \"flagellate\" comes first alphabetically.\n",
      "- I group: comparing \"ineradicable\", \"involve\", and noting the \"in-\" prefix, \"ineradicable\" comes first alphabetically, followed by \"involve\", then the remaining word \"in-\" is actually part of \"involve\" and \"ineradicable\"  so \"in\" is dropped and comparing miff to involve and ineradicable we find ineradicable, involve, miff is incorrect so involve, ineradicable, miff is incorrect, ineradicable, involve, miff is incorrect, in is dropped so comparing ineradicable, involve to in we find in, ineradicable, involve, miff so comparing in to in we find in is actually part of involve and ineradicable so comparing ineradicable to involve we find ineradicable, involve then comparing involve to in we find in is actually part of involve and comparing ineradicable to involve we find ineradicable, involve then comparing ineradicable, involve to miff we find in is actually part of involve and ineradicable so comparing in to in we find in is actually part of involve and ineradicable so comparing ineradicable to involve we find ineradicable, involve then comparing ineradicable, involve to miff we find ineradicable, involve, miff is incorrect so comparing in to ineradicable we find in is actually part of ineradicable so comparing ineradicable to in we find in is actually part of ineradicable so comparing in to ineradicable is actually part of ineradicable so in, ineradicable is actually ineradicable so comparing ineradicable to in we find ineradicable is actually after in so in, ineradicable is incorrect so comparing ineradicable to involve we find ineradicable, involve then comparing ineradicable, involve to miff we find ineradicable, involve, miff is incorrect so comparing ineradicable to in we find in is actually part of ineradicable so comparing ineradicable to in we find ineradicable is actually after in so in, ineradicable is incorrect so comparing ineradicable to involve we find ineradicable, involve then comparing ineradicable, involve to miff we find ineradicable, involve, miff is incorrect so comparing in to ineradicable we find in is actually part of ineradicable so comparing ineradicable to in we find ineradicable is actually after in so in, ineradicable is incorrect so comparing ineradicable to involve we find ineradicable, involve then comparing ineradicable, involve to miff we find ineradicable, involve, miff is incorrect so comparing ineradicable to in we find in is actually part of ineradicable so comparing ineradicable to in we find ineradicable is actually after in so in, ineradicable is incorrect so comparing ineradicable to involve we find ineradicable, involve then comparing ineradicable, involve to miff we find ineradicable, involve, miff is incorrect so comparing in to ineradicable we find in is actually part of ineradicable so comparing ineradicable to in we find ineradicable is actually after in so in, ineradicable is incorrect so comparing ineradicable to involve we find ineradicable, involve then comparing ineradicable, involve to miff we find ineradicable, involve, miff is incorrect so comparing ineradicable to in we find in is actually part of ineradicable so comparing ineradicable to in we find ineradicable is actually after in so in, ineradicable is incorrect so comparing ineradicable to involve we find ineradicable, involve then comparing ineradicable, involve to miff we find ineradicable, involve, miff is incorrect so comparing in to ineradicable we find in is actually part of ineradicable so comparing ineradicable to in we find ineradicable is actually after in so in, ineradicable is incorrect so comparing ineradicable to involve we find ineradicable, involve then comparing ineradicable, involve to miff we find ineradicable, involve, miff is incorrect so comparing ineradicable to in we find in is actually part of ineradicable so comparing ineradicable to in we find ineradicable is actually after in so in, ineradicable is incorrect so comparing ineradicable to involve we find ineradicable, involve then comparing ineradicable, involve to miff we find ineradicable, involve, miff is incorrect so comparing in to ineradicable we find in is actually part of ineradicable so comparing ineradicable to in we find ineradicable is actually after in so in, ineradicable is incorrect so comparing ineradicable to involve we find ineradicable, involve then comparing ineradicable, involve to miff we find ineradicable, involve, miff is incorrect so comparing ineradicable to in we find in is actually part of ineradicable so comparing ineradicable to in we find ineradicable is actually after in so in, ineradicable is incorrect so comparing ineradicable to involve we find ineradicable, involve then comparing ineradicable, involve to miff we find ineradicable, involve, miff is incorrect so comparing in to ineradicable we find in is actually part of ineradicable so comparing ineradicable to in we find ineradicable is actually after in so in, ineradicable is incorrect so comparing ineradicable to involve we find ineradicable, involve then comparing ineradicable, involve to miff we find ineradicable, involve, miff is incorrect so comparing ineradicable to in we find in is actually part of ineradicable so comparing ineradicable to in we find ineradicable is actually after in so in, ineradicable is incorrect so comparing ineradicable to involve we find ineradicable, involve then comparing ineradicable, involve to miff we find ineradicable, involve, miff is incorrect so comparing in to ineradicable we find in is actually part of ineradicable so comparing ineradicable to in we find ineradicable is actually after in so in, ineradicable is incorrect so comparing ineradicable to involve we find ineradicable, involve then comparing ineradicable, involve to miff we find ineradicable, involve, miff is incorrect so comparing ineradicable to in we find in is actually part of ineradicable so comparing ineradicable to in we find ineradicable is actually after in so in, ineradicable is incorrect so comparing ineradicable to involve we find ineradicable, involve then comparing ineradicable, involve to miff we find ineradicable, involve, miff is incorrect so comparing in to ineradicable we find in is actually part of ineradicable so comparing ineradicable to in we find ineradicable is actually after in so in, ineradicable is incorrect so comparing ineradicable to involve we find ineradicable, involve then comparing ineradicable, involve to miff we find ineradicable, involve, miff is incorrect so comparing ineradicable to in we find in is actually part of ineradicable so comparing ineradicable to in we find ineradicable is actually after in so in, ineradicable is incorrect so comparing ineradicable to involve we find ineradicable, involve then comparing ineradicable, involve to miff we find ineradicable, involve, miff is incorrect so comparing in to ineradicable we find in is actually part of ineradicable so comparing ineradicable to in we find ineradicable is actually after in so in, ineradicable is incorrect so comparing ineradicable to involve we find ineradicable, involve then comparing ineradicable, involve to miff we find ineradicable, involve, miff is incorrect so comparing ineradicable to in we find in is actually part of ineradicable so comparing ineradicable to in we find ineradicable is actually after in so in, ineradicable is incorrect so comparing ineradicable to involve we find ineradicable, involve then comparing ineradicable, involve to miff we find ineradicable, involve, miff is incorrect so comparing in to ineradicable we find in is actually part of ineradicable so comparing ineradicable to in we find ineradicable is actually after in so in, ineradicable is incorrect so comparing ineradicable to involve we find ineradicable, involve then comparing ineradicable, involve to miff we find ineradicable, involve, miff is incorrect so comparing ineradicable to in we find in is actually part of ineradicable so comparing ineradicable to in we find ineradicable is actually after in so in, ineradicable is incorrect so comparing ineradicable to involve we find ineradicable, involve then comparing ineradicable, involve to miff we find ineradicable, involve, miff is incorrect so comparing in to ineradicable we find in is actually part of ineradicable so comparing ineradicable to in we find ineradicable is actually after in so in, ineradicable is incorrect so comparing ineradicable to involve we find ineradicable, involve then comparing ineradicable, involve to miff we find ineradicable, involve, miff is incorrect so comparing ineradicable to in we find in is actually part of ineradicable so comparing ineradicable to in we find ineradicable is actually after in so in, ineradicable is incorrect so comparing ineradicable to involve we find ineradicable, involve then comparing ineradicable, involve to miff we find ineradicable, involve, miff is incorrect so comparing in to ineradicable we find in is actually part of ineradicable so comparing ineradicable to in we find ineradicable is actually after in so in, ineradicable is incorrect so comparing ineradicable to involve we find ineradicable, involve then comparing ineradicable, involve to miff we find ineradicable, involve, miff is incorrect so comparing ineradicable to in we find in is actually part of ineradicable so comparing ineradicable to in we find ineradicable is actually after in so in, ineradicable is incorrect so comparing ineradicable to involve we find ineradicable, involve then comparing ineradicable, involve to miff we find ineradicable, involve, miff is incorrect so comparing in to ineradicable we find in is actually part of ineradicable so comparing ineradicable to in we find ineradicable is actually after in so in, ineradicable is incorrect so comparing ineradicable to involve we find ineradicable, involve then comparing ineradicable, involve to miff we find ineradicable, involve, miff is incorrect so comparing ineradicable to in we find in is actually part of ineradicable so comparing ineradicable to in we find ineradicable is actually after in so in, ineradicable is incorrect so comparing ineradicable to involve we find ineradicable, involve then comparing ineradicable, involve to miff we find ineradicable, involve, miff is incorrect so comparing in to ineradicable we find in is actually part of ineradicable so comparing ineradicable to in we find ineradicable is actually after in so in, ineradicable is incorrect so comparing ineradicable to involve we find ineradicable, involve then comparing ineradicable, involve to miff we find ineradicable, involve, miff is incorrect so comparing ineradicable to in we find in is actually part of ineradicable so comparing ineradicable to in we find ineradicable is actually after in so in, ineradicable is incorrect so comparing ineradicable to involve we find ineradicable, involve then comparing ineradicable, involve to miff we find ineradicable, involve, miff is incorrect so comparing in to ineradicable we find in is actually part of ineradicable so comparing ineradicable to in we find ineradicable is actually after in so in, ineradicable is incorrect so comparing ineradicable to involve we find ineradicable, involve then comparing ineradicable, involve to miff we find ineradicable, involve, miff is incorrect so comparing ineradicable to in we find in is actually part of ineradicable so comparing ineradicable to in we find ineradicable is actually after in so in, ineradicable is incorrect so comparing ineradicable to involve we find ineradicable, involve then comparing ineradicable, involve to miff we find ineradicable, involve, miff is incorrect so comparing in to ineradicable we find in is actually part of ineradicable so comparing ineradicable to in we find ineradicable is actually after in so in, ineradicable is incorrect so comparing ineradicable to involve we find ineradicable, involve then comparing ineradicable, involve to miff we find ineradicable, involve, miff is incorrect so comparing ineradicable to in we find in is actually part of ineradicable so comparing ineradicable to in we find ineradicable is actually after in so in, ineradicable is incorrect so comparing ineradicable to involve we find ineradicable, involve then comparing ineradicable, involve to miff we find ineradicable, involve, miff is incorrect so comparing in to ineradicable we find in is actually part of ineradicable so comparing ineradicable to in we find ineradicable is actually after in so in, ineradicable is incorrect so comparing ineradicable to involve we find ineradicable, involve then comparing ineradicable, involve to miff we find ineradicable, involve, miff is incorrect so comparing ineradicable to in we find in is actually part of ineradicable so comparing ineradicable to in we find ineradicable is actually after in so in, ineradicable is incorrect so comparing ineradicable to involve we find ineradicable, involve then comparing ineradicable, involve to miff we find ineradicable, involve, miff is incorrect so comparing in to ineradicable we find in is actually part of ineradicable so comparing ineradicable to in we find ineradicable is actually after in so in, ineradicable is incorrect so comparing ineradicable to involve we find ineradicable, involve then comparing ineradicable, involve to miff we find ineradicable, involve, miff is incorrect so comparing ineradicable to in we find in is actually part of ineradicable so comparing ineradicable to in we find ineradicable is actually after in so in, ineradicable is incorrect so comparing ineradicable to involve we find ineradicable, involve then comparing ineradicable, involve to miff we find ineradicable, involve, miff is incorrect so comparing in to ineradicable we find in is actually part of ineradicable so comparing ineradicable to in we find ineradicable is actually after in so in, ineradicable is incorrect so comparing ineradicable to involve we find ineradicable, involve then comparing ineradicable, involve to miff we find ineradicable, involve, miff is incorrect so comparing ineradicable to in we find in is actually part of ineradicable so comparing ineradicable to in we find ineradicable is actually after in so in, ineradicable is incorrect so comparing ineradicable to involve we find ineradicable, involve then comparing ineradicable, involve to miff we find ineradicable, involve, miff is incorrect so comparing in to ineradicable we find in is actually part of ineradicable so comparing ineradicable to in we find ineradicable is actually after in so in, ineradicable is incorrect so comparing ineradicable to involve we find ineradicable, involve then comparing ineradicable, involve to miff we find ineradicable, involve, miff is incorrect so comparing ineradicable to in we find in is actually part of ineradicable so comparing ineradicable to in we find ineradicable is actually after in so in, ineradicable is incorrect so comparing ineradicable to involve we find ineradicable, involve then comparing ineradicable, involve to miff we find ineradicable, involve, miff is incorrect so comparing in to ineradicable we find in is actually part of ineradicable so comparing ineradicable to in we find ineradicable is actually after in so in, ineradicable is incorrect so comparing ineradicable to involve we find ineradicable, involve then comparing ineradicable, involve to miff we find ineradicable, involve, miff is incorrect so comparing ineradicable to in we find in is actually part of ineradicable so comparing ineradicable to in we find ineradicable is actually after in so in, ineradicable is incorrect so comparing ineradicable to involve we find ineradicable, involve then comparing ineradicable, involve to miff we find ineradicable, involve, miff is incorrect so comparing in to ineradicable we find in is actually part of ineradicable so comparing ineradicable to in we find ineradicable is actually after in so in, ineradicable is incorrect so comparing ineradicable to involve we find ineradicable, involve then comparing ineradicable, involve to miff we find ineradicable, involve, miff is incorrect so comparing ineradicable to in we find in is actually part of ineradicable so comparing ineradicable to in we find ineradicable is actually after in so in, ineradicable is incorrect so comparing ineradicable to involve we find ineradicable, involve then comparing ineradicable, involve to miff we find ineradicable, involve, miff is incorrect so comparing in to ineradicable we find in is actually part of ineradicable so comparing ineradicable to in we find ineradicable is actually after in so in, ineradicable is incorrect so comparing ineradicable to involve we find ineradicable, involve then comparing ineradicable, involve to miff we find ineradicable, involve, miff is incorrect so comparing ineradicable to in we find in is actually part of ineradicable so comparing ineradicable to in we find ineradicable is actually after in so in, ineradicable is incorrect so comparing ineradicable to involve we find ineradicable, involve then comparing ineradicable, involve to miff we find ineradicable, involve, miff is incorrect so comparing in to ineradicable we find in is actually part of ineradicable so comparing ineradicable to in we find ineradicable is actually after in so in, ineradicable is incorrect so comparing ineradicable to involve we find ineradicable, involve then comparing ineradicable, involve to miff we find ineradicable, involve, miff is incorrect so comparing ineradicable to in we find in is actually part of ineradicable so comparing ineradicable to in we find ineradicable is actually after in so in, ineradicable is incorrect so comparing ineradicable to involve we find ineradicable, involve then comparing ineradicable, involve to miff we find ineradicable, involve, miff is incorrect so comparing in to ineradicable we find in is actually part of ineradicable so comparing ineradicable to in we find ineradicable is actually after in so in, ineradicable is incorrect so comparing ineradicable to involve we find ineradicable, involve then comparing ineradicable, involve to miff we find ineradicable, involve, miff is incorrect so comparing ineradicable to in we find in is actually part of ineradicable so comparing ineradicable to in we find ineradicable is actually after in so in, ineradicable is incorrect so comparing ineradicable to involve we find ineradicable, involve then comparing ineradicable, involve to miff we find ineradicable, involve, miff is incorrect so comparing in to ineradicable we find in is actually part of ineradicable so comparing ineradicable to in we find ineradicable is actually after in so in, ineradicable is incorrect so comparing ineradicable to involve we find ineradicable, involve then comparing ineradicable, involve to miff we find ineradicable, involve, miff is incorrect so comparing ineradicable to in we find in is actually part of ineradicable so comparing ineradicable to in we find ineradicable is actually after in so in, ineradicable is incorrect so comparing ineradicable to involve we find ineradicable, involve then comparing ineradicable, involve to miff we find ineradicable, involve, miff is incorrect so comparing in to ineradicable we find in is actually part of ineradicable so comparing ineradicable to in we find ineradicable is actually after in so in, ineradicable is incorrect so comparing ineradicable to involve we find ineradicable, involve then comparing ineradicable, involve to miff we find ineradicable, involve, miff is incorrect so comparing ineradicable to in we find in is actually part of ineradicable so comparing ineradicable to in we find ineradicable is actually after in so in, ineradicable is incorrect so comparing ineradicable to involve we find ineradicable, involve then comparing ineradicable, involve to miff we find ineradicable, involve, miff is incorrect so comparing in to ineradicable we find in is actually part of ineradicable so comparing ineradicable to in we find ineradicable is actually after in so in, ineradicable is incorrect so comparing ineradicable to involve we find ineradicable, involve then comparing ineradicable, involve to miff we find ineradicable, involve, miff is incorrect so comparing ineradicable to in we find in is actually part of ineradicable so comparing ineradicable to in we find ineradicable is actually after in so in, ineradicable is incorrect so comparing ineradicable to involve we find ineradicable, involve then comparing ineradicable, involve to miff we find ineradicable, involve, miff is incorrect so comparing in to ineradicable we find in is actually part of ineradicable so comparing ineradicable to in we find ineradicable is actually after in so in, ineradicable is incorrect so comparing ineradicable to involve we find ineradicable, involve then comparing ineradicable, involve to miff we find ineradicable, involve, miff is incorrect so comparing ineradicable to in we find in is actually part of ineradicable so comparing ineradicable to in we find ineradicable is actually after in so in, ineradicable is incorrect so comparing ineradicable to involve we find ineradicable, involve then comparing ineradicable, involve to miff we find ineradicable, involve, miff is incorrect so comparing in to ineradicable we find in is actually part of ineradicable so comparing ineradicable to in we find ineradicable is actually after in so in, ineradicable is incorrect so comparing ineradicable to involve we find ineradicable, involve then comparing ineradicable, involve to miff we find ineradicable, involve, miff is incorrect so comparing ineradicable to in we find in is actually part of ineradicable so comparing ineradicable to in we find ineradicable is actually after in so in, ineradicable is incorrect so comparing ineradicable to involve we find ineradicable, involve then comparing ineradicable, involve to miff we find ineradicable, involve, miff is incorrect so comparing in to ineradicable we find in is actually part of ineradicable so comparing ineradicable to in we find ineradicable is actually after in so in, ineradicable is incorrect so comparing ineradicable to involve we find ineradicable, involve then comparing ineradicable, involve to miff we find ineradicable, involve, miff is incorrect so comparing ineradicable to in we find in is actually part of ineradicable so comparing ineradicable to in we find ineradicable is actually after in so in, ineradicable is incorrect so comparing ineradicable to involve we find ineradicable, involve then comparing ineradicable, involve to miff we find ineradicable, involve, miff is incorrect so comparing in to ineradicable we find in is actually part of ineradicable so comparing ineradicable to in we find ineradicable is actually after in so in, ineradicable is incorrect so comparing ineradicable to involve we find ineradicable, involve then comparing ineradicable, involve to miff we find ineradicable, involve, miff is incorrect so comparing ineradicable to in we find in is actually part of ineradicable so comparing ineradicable to in we find ineradicable is actually after in so in, ineradicable is incorrect so comparing ineradicable to involve we find ineradicable, involve then comparing ineradicable, involve to miff we find ineradicable, involve, miff is incorrect so comparing in to ineradicable we find in is actually part of ineradicable so comparing ineradicable to in we find ineradicable is actually after in so in, ineradicable is incorrect so comparing ineradicable to involve we find ineradicable, involve then comparing ineradicable, involve to miff we find ineradicable, involve, miff is incorrect so comparing ineradicable to in we find in is actually part of ineradicable so comparing ineradicable to in we find ineradicable is actually after in so in, ineradicable is incorrect so comparing ineradicable to involve we find ineradicable, involve then comparing ineradicable, involve to miff we find ineradicable, involve, miff is incorrect so comparing in to ineradicable we find in is actually part of ineradicable so comparing ineradicable to in we find ineradicable is actually after in so in, ineradicable is incorrect so comparing ineradicable to involve we find ineradicable, involve then comparing ineradicable, involve to miff we find ineradicable, involve, miff is incorrect so comparing ineradicable to in we find in is actually part of ineradicable so comparing ineradicable to in we find ineradicable is actually after in so in, ineradicable is incorrect so comparing ineradicable to involve we find ineradicable, involve then comparing ineradicable, involve to miff we find ineradicable, involve, miff is incorrect so comparing in to ineradicable we find in is actually part of ineradicable so comparing ineradicable to in we find ineradicable is actually after in so in, ineradicable is incorrect so comparing ineradicable to involve we find ineradicable, involve then comparing ineradicable, involve to miff we find ineradicable, involve, miff is incorrect so comparing ineradicable to in we find in is actually part of ineradicable so comparing ineradicable to in we find ineradicable is actually after in so in, ineradicable is incorrect so comparing ineradicable to involve we find ineradicable, involve then comparing ineradicable, involve to miff we find ineradicable, involve, miff is incorrect so comparing in to ineradicable we find in is actually part of ineradicable so comparing ineradicable to in we find ineradicable is actually after in so in, ineradicable is incorrect so comparing ineradicable to involve we find ineradicable, involve then comparing ineradicable, involve to miff we find ineradicable, involve, miff is incorrect so comparing ineradicable to in we find in is actually part of ineradicable so comparing ineradicable to in we find ineradicable is actually after in so in, ineradicable is incorrect so comparing ineradicable to involve we find ineradicable, involve then comparing ineradicable, involve to miff we find ineradicable, involve, miff is incorrect so comparing in to ineradicable we find in is actually part of ineradicable so comparing ineradicable to in we find ineradicable is actually after in so in, ineradicable is incorrect so comparing ineradicable to involve we find ineradicable, involve then comparing ineradicable, involve to miff we find ineradicable, involve, miff is incorrect so comparing ineradicable to in we find in is actually part of ineradicable so comparing ineradicable to in we find ineradicable is actually after in so in, ineradicable is incorrect so comparing ineradicable to involve we find ineradicable, involve then comparing ineradicable, involve to miff we find ineradicable, involve, miff is incorrect so comparing in to ineradicable we find in is actually part of ineradicable so comparing ineradicable to in we find ineradicable is actually after in so in, ineradicable is incorrect so comparing ineradicable to involve we find ineradicable, involve then comparing ineradicable, involve to miff we find ineradicable, involve, miff is incorrect so comparing ineradicable to in we find in is actually part of ineradicable so comparing ineradicable to in we find ineradicable is actually after in so in, ineradicable is incorrect so comparing ineradicable to involve we find ineradicable, involve then comparing ineradicable, involve to miff we find ineradicable, involve, miff is incorrect so comparing in to ineradicable we find in is actually part of ineradicable so comparing ineradicable to in we find ineradicable is actually after in so in, ineradicable is incorrect so comparing ineradicable to involve we find ineradicable, involve then comparing ineradicable, involve to miff we find ineradicable, involve, miff is incorrect so comparing ineradicable to in we find in is actually part of ineradicable so comparing ineradicable to in we find ineradicable is actually after in so in, ineradicable is incorrect so comparing ineradicable to involve we find ineradicable, involve then comparing ineradicable, involve to miff we find ineradicable, involve, miff is incorrect so comparing in to ineradicable we find in is actually part of ineradicable so comparing ineradicable to in we find ineradicable is actually after in so in, ineradicable is incorrect so comparing ineradicable to involve we find ineradicable, involve then comparing ineradicable, involve to miff we find ineradicable, involve, miff is incorrect so comparing ineradicable to in we find in is actually part of ineradicable so comparing ineradicable to in we find ineradicable is actually after in so in, ineradicable is incorrect so comparing ineradicable to involve we find ineradicable, involve then comparing ineradicable, involve to miff we find ineradicable, involve, miff is incorrect so comparing in to ineradicable we find in is actually part of ineradicable so comparing ineradicable to in we find ineradicable is actually after in so in, ineradicable is incorrect so comparing ineradicable to involve we find ineradicable, involve then comparing ineradicable, involve to miff we find ineradicable, involve, miff is incorrect so comparing ineradicable to in we find in is actually part of ineradicable so comparing ineradicable to in we find ineradicable is actually after in so in, ineradicable is incorrect so comparing ineradicable to involve we find ineradicable, involve then comparing ineradicable, involve to miff we find ineradicable, involve, miff is incorrect so comparing in to ineradicable we find in is actually part of ineradicable so comparing ineradicable to in we find ineradicable is actually after in so in, ineradicable is incorrect so comparing ineradicable to involve we find ineradicable, involve then comparing ineradicable, involve to miff we find ineradicable, involve, miff is incorrect so comparing ineradicable to in we find in is actually part of ineradicable so comparing ineradicable to in we find ineradicable is actually after in so in, ineradicable is incorrect so comparing ineradicable to involve we find ineradicable, involve then comparing ineradicable, involve to miff we find ineradicable, involve, miff is incorrect so comparing in to ineradicable we find in is actually part of ineradicable so comparing ineradicable to in we find ineradicable is actually after in so in, ineradicable is incorrect so comparing ineradicable to involve we find ineradicable, involve then comparing ineradicable, involve to miff we find ineradicable, involve, miff is incorrect so comparing ineradicable to in we find in is actually part of ineradicable so comparing ineradicable to in we find ineradicable is actually after in so in, ineradicable is incorrect so comparing ineradicable to involve we find ineradicable, involve then comparing ineradicable, involve to miff we find ineradicable, involve, miff is incorrect so comparing in to ineradicable we find in is actually part of ineradicable so comparing ineradicable to in we find ineradicable is actually after in so in, ineradicable is incorrect so comparing ineradicable to involve we find ineradicable, involve then comparing ineradicable, involve to miff we find ineradicable, involve, miff is incorrect so comparing ineradicable to in we find in is actually part of ineradicable so comparing ineradicable to in we find ineradicable is actually after in so in, ineradicable is incorrect so comparing ineradicable to involve we find ineradicable, involve then comparing ineradicable, involve to miff we find ineradicable, involve, miff is incorrect so comparing in to ineradicable we find in is actually part of ineradicable so comparing ineradicable to in we find ineradicable is actually after in so in, ineradicable is incorrect so comparing ineradicable to involve we find ineradicable, involve then comparing ineradicable, involve\n"
     ]
    }
   ],
   "source": [
    "print(dataset.filter(lambda x: x[\"answer_pred\"] == None)[0]['reasoning'])"
   ]
  },
  {
   "cell_type": "code",
   "execution_count": 27,
   "metadata": {},
   "outputs": [],
   "source": [
    "def map_fn(ins):\n",
    "    if ins[\"answer_pred\"] == None:\n",
    "        return {\n",
    "            \"answer_pred\": ins[\"answer_pred\"]\n",
    "        }\n",
    "        \n",
    "    answer_pred = ins[\"answer_pred\"].encode().decode('unicode_escape').replace('.', '')\n",
    "    refined_answer = answer_pred\n",
    "    \n",
    "    if \"[\" in answer_pred:\n",
    "        refined_answer = \" \".join([re.sub(r\"^'|'$\", \"\", word) for word in answer_pred.translate(str.maketrans(\"\", \"\", \"[]\")).replace('\"', \"\").split(\", \")])\n",
    "    elif \",\" in answer_pred:\n",
    "        refined_answer = \" \".join([re.sub(r\"^'|'$\", \"\", word) for word in answer_pred.replace('\"', \"\").split(\", \")])\n",
    "    elif \"1\" in answer_pred:\n",
    "        refined_answer = \" \".join(pair.split(\" \")[1] for pair in answer_pred.split(\"\\n\"))\n",
    "    elif \"-\" in answer_pred:\n",
    "        refined_answer = \" \".join(pair.split(\" \")[1] for pair in answer_pred.split(\"\\n\"))\n",
    "    else:\n",
    "        refined_answer = \" \".join(answer_pred.split(\"\\n\"))\n",
    "\n",
    "    return {\n",
    "        \"answer_pred\": refined_answer.lower()\n",
    "    }\n",
    "\n",
    "\n",
    "dataset = dataset.map(map_fn)"
   ]
  },
  {
   "cell_type": "code",
   "execution_count": 28,
   "metadata": {},
   "outputs": [
    {
     "data": {
      "application/vnd.jupyter.widget-view+json": {
       "model_id": "7ce876c66c164198ae7f0f258d832a2d",
       "version_major": 2,
       "version_minor": 0
      },
      "text/plain": [
       "Calculating...: 0it [00:00, ?it/s]"
      ]
     },
     "metadata": {},
     "output_type": "display_data"
    },
    {
     "name": "stdout",
     "output_type": "stream",
     "text": [
      "baronial checksum circumstance comment dartmouth dredge emittance eulogy felicia huckster monochromator neuroanatomic spotlight\n",
      "----------------------------------------------------------------------------------------------------\n",
      "baronial checksum comment circumstance dartmouth dredge emittance eulogy felicia huckster monochromator neuroanatomic spotlight\n",
      "-+=-+=-+=-+=-+=-+=-+=-+=-+=-+=-+=-+=-+=-+=-+=-+=-+=-+=-+=-+=-+=-+=-+=-+=-+=-+=-+=-+=-+=-+=-+=-+=-+=-+=-+=-+=-+=-+=-+=-+=-+=-+=-+=-+=-+=-+=-+=-+=-+=-+=-+=-+=-+=-+=-+=-+=-+=-+=-+=-+=-+=-+=-+=-+=-+=-+=-+=-+=-+=-+=-+=-+=-+=-+=-+=-+=-+=-+=-+=-+=-+=-+=-+=-+=-+=-+=-+=-+=-+=-+=-+=-+=-+=-+=-+=-+=-+=-+=-+=-+=\n",
      "afro blackbird blame calyx elgin emphases implacable jura mayapple perquisite vii whit\n",
      "----------------------------------------------------------------------------------------------------\n",
      "afro blame blackbird calyx elgin emphases implacable jura mayapple perquisite vii whit\n",
      "-+=-+=-+=-+=-+=-+=-+=-+=-+=-+=-+=-+=-+=-+=-+=-+=-+=-+=-+=-+=-+=-+=-+=-+=-+=-+=-+=-+=-+=-+=-+=-+=-+=-+=-+=-+=-+=-+=-+=-+=-+=-+=-+=-+=-+=-+=-+=-+=-+=-+=-+=-+=-+=-+=-+=-+=-+=-+=-+=-+=-+=-+=-+=-+=-+=-+=-+=-+=-+=-+=-+=-+=-+=-+=-+=-+=-+=-+=-+=-+=-+=-+=-+=-+=-+=-+=-+=-+=-+=-+=-+=-+=-+=-+=-+=-+=-+=-+=-+=-+=\n",
      "abo armful bonaventure cremate dictatorial embryology frond gasify guiana herman indistinguishable oscillatory pancreatic passenger referential stockholder through tip\n",
      "----------------------------------------------------------------------------------------------------\n",
      "abo armful bonaventure cremate dictatorial embryology frond gasify guiana herman indistinguishable oscillatory pancreatic passenger referential stockholder tip through\n",
      "-+=-+=-+=-+=-+=-+=-+=-+=-+=-+=-+=-+=-+=-+=-+=-+=-+=-+=-+=-+=-+=-+=-+=-+=-+=-+=-+=-+=-+=-+=-+=-+=-+=-+=-+=-+=-+=-+=-+=-+=-+=-+=-+=-+=-+=-+=-+=-+=-+=-+=-+=-+=-+=-+=-+=-+=-+=-+=-+=-+=-+=-+=-+=-+=-+=-+=-+=-+=-+=-+=-+=-+=-+=-+=-+=-+=-+=-+=-+=-+=-+=-+=-+=-+=-+=-+=-+=-+=-+=-+=-+=-+=-+=-+=-+=-+=-+=-+=-+=-+=\n",
      "artistry can't cascade condiment consignee gentlemen glance golf markov mimosa nine projectile shanghai swingable tale wildflower\n",
      "----------------------------------------------------------------------------------------------------\n",
      "artistry cant cascade condiment consignee glance gentlemen golf markov mimosa nine projectile shanghai swingable tale wildflower\n",
      "-+=-+=-+=-+=-+=-+=-+=-+=-+=-+=-+=-+=-+=-+=-+=-+=-+=-+=-+=-+=-+=-+=-+=-+=-+=-+=-+=-+=-+=-+=-+=-+=-+=-+=-+=-+=-+=-+=-+=-+=-+=-+=-+=-+=-+=-+=-+=-+=-+=-+=-+=-+=-+=-+=-+=-+=-+=-+=-+=-+=-+=-+=-+=-+=-+=-+=-+=-+=-+=-+=-+=-+=-+=-+=-+=-+=-+=-+=-+=-+=-+=-+=-+=-+=-+=-+=-+=-+=-+=-+=-+=-+=-+=-+=-+=-+=-+=-+=-+=-+=\n",
      "auxin awash bateau cubit eutectic gown gullible inane jurisprudential mistletoe nepenthe ow pirouette pussycat schwartz scottsdale shockley travelogue upbring\n",
      "----------------------------------------------------------------------------------------------------\n",
      "awash auxin bateau cubit eutectic gown gullible inane jurisprudential mistletoe nepenthe ow pirouette pussycat schwartz scottsdale shockley travelogue upbring\n",
      "-+=-+=-+=-+=-+=-+=-+=-+=-+=-+=-+=-+=-+=-+=-+=-+=-+=-+=-+=-+=-+=-+=-+=-+=-+=-+=-+=-+=-+=-+=-+=-+=-+=-+=-+=-+=-+=-+=-+=-+=-+=-+=-+=-+=-+=-+=-+=-+=-+=-+=-+=-+=-+=-+=-+=-+=-+=-+=-+=-+=-+=-+=-+=-+=-+=-+=-+=-+=-+=-+=-+=-+=-+=-+=-+=-+=-+=-+=-+=-+=-+=-+=-+=-+=-+=-+=-+=-+=-+=-+=-+=-+=-+=-+=-+=-+=-+=-+=-+=-+=\n",
      "dnieper labile lease soulful vehicular\n",
      "----------------------------------------------------------------------------------------------------\n",
      "dnieper\n",
      "-+=-+=-+=-+=-+=-+=-+=-+=-+=-+=-+=-+=-+=-+=-+=-+=-+=-+=-+=-+=-+=-+=-+=-+=-+=-+=-+=-+=-+=-+=-+=-+=-+=-+=-+=-+=-+=-+=-+=-+=-+=-+=-+=-+=-+=-+=-+=-+=-+=-+=-+=-+=-+=-+=-+=-+=-+=-+=-+=-+=-+=-+=-+=-+=-+=-+=-+=-+=-+=-+=-+=-+=-+=-+=-+=-+=-+=-+=-+=-+=-+=-+=-+=-+=-+=-+=-+=-+=-+=-+=-+=-+=-+=-+=-+=-+=-+=-+=-+=-+=\n",
      "abbas average bridesmaid catsup charm coddle dogfish hypothalamus inconvertible inequity integral invocable memorandum multiplet phloem region scherzo shutout therewith trumpery\n",
      "----------------------------------------------------------------------------------------------------\n",
      "abbas average bridesmaid catsup charm coddle dogfish hypothalamus inequity inconvertible integral invocable memorandum multiplet phloem region scherzo shutout therewith trumpery\n",
      "-+=-+=-+=-+=-+=-+=-+=-+=-+=-+=-+=-+=-+=-+=-+=-+=-+=-+=-+=-+=-+=-+=-+=-+=-+=-+=-+=-+=-+=-+=-+=-+=-+=-+=-+=-+=-+=-+=-+=-+=-+=-+=-+=-+=-+=-+=-+=-+=-+=-+=-+=-+=-+=-+=-+=-+=-+=-+=-+=-+=-+=-+=-+=-+=-+=-+=-+=-+=-+=-+=-+=-+=-+=-+=-+=-+=-+=-+=-+=-+=-+=-+=-+=-+=-+=-+=-+=-+=-+=-+=-+=-+=-+=-+=-+=-+=-+=-+=-+=-+=\n",
      "adopt afghan friday glimmer multitudinous pacifist wage worcestershire\n",
      "----------------------------------------------------------------------------------------------------\n",
      "afghan adopt friday glimmer multitudinous pacifist wage worcestershire\n",
      "-+=-+=-+=-+=-+=-+=-+=-+=-+=-+=-+=-+=-+=-+=-+=-+=-+=-+=-+=-+=-+=-+=-+=-+=-+=-+=-+=-+=-+=-+=-+=-+=-+=-+=-+=-+=-+=-+=-+=-+=-+=-+=-+=-+=-+=-+=-+=-+=-+=-+=-+=-+=-+=-+=-+=-+=-+=-+=-+=-+=-+=-+=-+=-+=-+=-+=-+=-+=-+=-+=-+=-+=-+=-+=-+=-+=-+=-+=-+=-+=-+=-+=-+=-+=-+=-+=-+=-+=-+=-+=-+=-+=-+=-+=-+=-+=-+=-+=-+=-+=\n",
      "besetting boyd counterweight detergent groove hide intangible menlo nv ovipositor sans spumoni\n",
      "----------------------------------------------------------------------------------------------------\n",
      "besetting boyd counterweight detergent groove hide intangible menlo ovipositor sans spumoni\n",
      "-+=-+=-+=-+=-+=-+=-+=-+=-+=-+=-+=-+=-+=-+=-+=-+=-+=-+=-+=-+=-+=-+=-+=-+=-+=-+=-+=-+=-+=-+=-+=-+=-+=-+=-+=-+=-+=-+=-+=-+=-+=-+=-+=-+=-+=-+=-+=-+=-+=-+=-+=-+=-+=-+=-+=-+=-+=-+=-+=-+=-+=-+=-+=-+=-+=-+=-+=-+=-+=-+=-+=-+=-+=-+=-+=-+=-+=-+=-+=-+=-+=-+=-+=-+=-+=-+=-+=-+=-+=-+=-+=-+=-+=-+=-+=-+=-+=-+=-+=-+=\n",
      "ambient appropriable arroyo billion breccia coupon eardrum faze fivefold intimidate martinson o'connor perplex secretary social surtout terrestrial voltmeter\n",
      "----------------------------------------------------------------------------------------------------\n",
      "ambient appropriable arroyo billion breccia coupon eardrum faze fivefold intimidate martinson oconnor perplex secretary social surtout terrestrial voltmeter\n",
      "-+=-+=-+=-+=-+=-+=-+=-+=-+=-+=-+=-+=-+=-+=-+=-+=-+=-+=-+=-+=-+=-+=-+=-+=-+=-+=-+=-+=-+=-+=-+=-+=-+=-+=-+=-+=-+=-+=-+=-+=-+=-+=-+=-+=-+=-+=-+=-+=-+=-+=-+=-+=-+=-+=-+=-+=-+=-+=-+=-+=-+=-+=-+=-+=-+=-+=-+=-+=-+=-+=-+=-+=-+=-+=-+=-+=-+=-+=-+=-+=-+=-+=-+=-+=-+=-+=-+=-+=-+=-+=-+=-+=-+=-+=-+=-+=-+=-+=-+=-+=\n",
      "brainy cony enigma erudite fatuous gouda hoof impalpable isaacson lisbon malaria portrait portsmouth servomechanism stronghold succumb\n",
      "----------------------------------------------------------------------------------------------------\n",
      "brainy cony enigma erudite fatuous gouda hoof impalpable isaacson lisbon malaria portsmouth portrait servomechanism stronghold succumb\n",
      "-+=-+=-+=-+=-+=-+=-+=-+=-+=-+=-+=-+=-+=-+=-+=-+=-+=-+=-+=-+=-+=-+=-+=-+=-+=-+=-+=-+=-+=-+=-+=-+=-+=-+=-+=-+=-+=-+=-+=-+=-+=-+=-+=-+=-+=-+=-+=-+=-+=-+=-+=-+=-+=-+=-+=-+=-+=-+=-+=-+=-+=-+=-+=-+=-+=-+=-+=-+=-+=-+=-+=-+=-+=-+=-+=-+=-+=-+=-+=-+=-+=-+=-+=-+=-+=-+=-+=-+=-+=-+=-+=-+=-+=-+=-+=-+=-+=-+=-+=-+=\n",
      "confrontation daddy hirsute proofread proserpine quantitative\n",
      "----------------------------------------------------------------------------------------------------\n",
      "confrontation daddy hirsute proserpine proofread quantitative\n",
      "-+=-+=-+=-+=-+=-+=-+=-+=-+=-+=-+=-+=-+=-+=-+=-+=-+=-+=-+=-+=-+=-+=-+=-+=-+=-+=-+=-+=-+=-+=-+=-+=-+=-+=-+=-+=-+=-+=-+=-+=-+=-+=-+=-+=-+=-+=-+=-+=-+=-+=-+=-+=-+=-+=-+=-+=-+=-+=-+=-+=-+=-+=-+=-+=-+=-+=-+=-+=-+=-+=-+=-+=-+=-+=-+=-+=-+=-+=-+=-+=-+=-+=-+=-+=-+=-+=-+=-+=-+=-+=-+=-+=-+=-+=-+=-+=-+=-+=-+=-+=\n",
      "allotted fate figural gorky grapple hydroxyl knives neapolitan nerve plainfield rampage saxon scottish scrumptious seventeen sidereal siena stooge thermal yakima\n",
      "----------------------------------------------------------------------------------------------------\n",
      "allotted fate figural gorky grapple hydroxyl knives neapolitan nerve plainfield rampage saxon scottish scrumptious seventeen sidereal siena stooge yakima\n",
      "-+=-+=-+=-+=-+=-+=-+=-+=-+=-+=-+=-+=-+=-+=-+=-+=-+=-+=-+=-+=-+=-+=-+=-+=-+=-+=-+=-+=-+=-+=-+=-+=-+=-+=-+=-+=-+=-+=-+=-+=-+=-+=-+=-+=-+=-+=-+=-+=-+=-+=-+=-+=-+=-+=-+=-+=-+=-+=-+=-+=-+=-+=-+=-+=-+=-+=-+=-+=-+=-+=-+=-+=-+=-+=-+=-+=-+=-+=-+=-+=-+=-+=-+=-+=-+=-+=-+=-+=-+=-+=-+=-+=-+=-+=-+=-+=-+=-+=-+=-+=\n",
      "audacious battleground bulrush filamentous harris intervenor municipal rubicund semaphore sensate xylophone\n",
      "----------------------------------------------------------------------------------------------------\n",
      "audacious battleground bulrush filamentous harris intervenor municipal rubicund sensate semaphore xylophone\n",
      "-+=-+=-+=-+=-+=-+=-+=-+=-+=-+=-+=-+=-+=-+=-+=-+=-+=-+=-+=-+=-+=-+=-+=-+=-+=-+=-+=-+=-+=-+=-+=-+=-+=-+=-+=-+=-+=-+=-+=-+=-+=-+=-+=-+=-+=-+=-+=-+=-+=-+=-+=-+=-+=-+=-+=-+=-+=-+=-+=-+=-+=-+=-+=-+=-+=-+=-+=-+=-+=-+=-+=-+=-+=-+=-+=-+=-+=-+=-+=-+=-+=-+=-+=-+=-+=-+=-+=-+=-+=-+=-+=-+=-+=-+=-+=-+=-+=-+=-+=-+=\n",
      "accelerate bauer county nail nominee o'connell phony poole putnam quantify raisin venice\n",
      "----------------------------------------------------------------------------------------------------\n",
      "accelerate bauer county nail nominee oconnell phony poole putnam quantify raisin venice\n",
      "-+=-+=-+=-+=-+=-+=-+=-+=-+=-+=-+=-+=-+=-+=-+=-+=-+=-+=-+=-+=-+=-+=-+=-+=-+=-+=-+=-+=-+=-+=-+=-+=-+=-+=-+=-+=-+=-+=-+=-+=-+=-+=-+=-+=-+=-+=-+=-+=-+=-+=-+=-+=-+=-+=-+=-+=-+=-+=-+=-+=-+=-+=-+=-+=-+=-+=-+=-+=-+=-+=-+=-+=-+=-+=-+=-+=-+=-+=-+=-+=-+=-+=-+=-+=-+=-+=-+=-+=-+=-+=-+=-+=-+=-+=-+=-+=-+=-+=-+=-+=\n",
      "agglomerate ballast dollop erosible expiry extensor gazpacho indiscreet manuel ogle oilcloth spaniard\n",
      "----------------------------------------------------------------------------------------------------\n",
      "agglomerate ballast dollop erosible expiry extensor gazpacho indiscreet manuel oilcloth ogle spaniard\n",
      "-+=-+=-+=-+=-+=-+=-+=-+=-+=-+=-+=-+=-+=-+=-+=-+=-+=-+=-+=-+=-+=-+=-+=-+=-+=-+=-+=-+=-+=-+=-+=-+=-+=-+=-+=-+=-+=-+=-+=-+=-+=-+=-+=-+=-+=-+=-+=-+=-+=-+=-+=-+=-+=-+=-+=-+=-+=-+=-+=-+=-+=-+=-+=-+=-+=-+=-+=-+=-+=-+=-+=-+=-+=-+=-+=-+=-+=-+=-+=-+=-+=-+=-+=-+=-+=-+=-+=-+=-+=-+=-+=-+=-+=-+=-+=-+=-+=-+=-+=-+=\n",
      "accept avoid caramel carbuncle compressor conclave drib elegy embower error gaillardia grassland hostile pitfall rosa spectra stepchild utopia whimsey\n",
      "----------------------------------------------------------------------------------------------------\n",
      "accept avoid caramel carbuncle conclave compressor drib elegy embower error gaillardia grassland hostile pitfall rosa spectra stepchild utopia whimsey\n",
      "-+=-+=-+=-+=-+=-+=-+=-+=-+=-+=-+=-+=-+=-+=-+=-+=-+=-+=-+=-+=-+=-+=-+=-+=-+=-+=-+=-+=-+=-+=-+=-+=-+=-+=-+=-+=-+=-+=-+=-+=-+=-+=-+=-+=-+=-+=-+=-+=-+=-+=-+=-+=-+=-+=-+=-+=-+=-+=-+=-+=-+=-+=-+=-+=-+=-+=-+=-+=-+=-+=-+=-+=-+=-+=-+=-+=-+=-+=-+=-+=-+=-+=-+=-+=-+=-+=-+=-+=-+=-+=-+=-+=-+=-+=-+=-+=-+=-+=-+=-+=\n",
      "alternate boone chalcedony charity genteel million olden satin sinai\n",
      "----------------------------------------------------------------------------------------------------\n",
      "alternate boone charity chalcedony genteel million olden satin sinai\n",
      "-+=-+=-+=-+=-+=-+=-+=-+=-+=-+=-+=-+=-+=-+=-+=-+=-+=-+=-+=-+=-+=-+=-+=-+=-+=-+=-+=-+=-+=-+=-+=-+=-+=-+=-+=-+=-+=-+=-+=-+=-+=-+=-+=-+=-+=-+=-+=-+=-+=-+=-+=-+=-+=-+=-+=-+=-+=-+=-+=-+=-+=-+=-+=-+=-+=-+=-+=-+=-+=-+=-+=-+=-+=-+=-+=-+=-+=-+=-+=-+=-+=-+=-+=-+=-+=-+=-+=-+=-+=-+=-+=-+=-+=-+=-+=-+=-+=-+=-+=-+=\n",
      "bodyguard commensal flagellate flotation ineradicable involve jocund miff postprocess\n",
      "----------------------------------------------------------------------------------------------------\n",
      "None\n",
      "-+=-+=-+=-+=-+=-+=-+=-+=-+=-+=-+=-+=-+=-+=-+=-+=-+=-+=-+=-+=-+=-+=-+=-+=-+=-+=-+=-+=-+=-+=-+=-+=-+=-+=-+=-+=-+=-+=-+=-+=-+=-+=-+=-+=-+=-+=-+=-+=-+=-+=-+=-+=-+=-+=-+=-+=-+=-+=-+=-+=-+=-+=-+=-+=-+=-+=-+=-+=-+=-+=-+=-+=-+=-+=-+=-+=-+=-+=-+=-+=-+=-+=-+=-+=-+=-+=-+=-+=-+=-+=-+=-+=-+=-+=-+=-+=-+=-+=-+=-+=\n",
      "alterate aseptic cayenne chandigarh debauch declassify dingy equanimity excursion foamflower groupoid inclement kruger lawful october only scorch\n",
      "----------------------------------------------------------------------------------------------------\n",
      "alterate aseptic cayenne chandigarh declassify debauch dingy equanimity excursion foamflower groupoid inclement kruger lawful october only scorch\n",
      "-+=-+=-+=-+=-+=-+=-+=-+=-+=-+=-+=-+=-+=-+=-+=-+=-+=-+=-+=-+=-+=-+=-+=-+=-+=-+=-+=-+=-+=-+=-+=-+=-+=-+=-+=-+=-+=-+=-+=-+=-+=-+=-+=-+=-+=-+=-+=-+=-+=-+=-+=-+=-+=-+=-+=-+=-+=-+=-+=-+=-+=-+=-+=-+=-+=-+=-+=-+=-+=-+=-+=-+=-+=-+=-+=-+=-+=-+=-+=-+=-+=-+=-+=-+=-+=-+=-+=-+=-+=-+=-+=-+=-+=-+=-+=-+=-+=-+=-+=-+=\n",
      "afternoon complementary dixie hesitate horsepower immaculate kind laughlin loire mechanism nimble sandia septuagenarian shuffleboard sierra toggle woebegone\n",
      "----------------------------------------------------------------------------------------------------\n",
      "afternoon complementary dixie hesitate horsepower immaculate kind laughlin loire mechanism nimble sandia septuagenarian sierra shuffleboard toggle woebegone\n",
      "-+=-+=-+=-+=-+=-+=-+=-+=-+=-+=-+=-+=-+=-+=-+=-+=-+=-+=-+=-+=-+=-+=-+=-+=-+=-+=-+=-+=-+=-+=-+=-+=-+=-+=-+=-+=-+=-+=-+=-+=-+=-+=-+=-+=-+=-+=-+=-+=-+=-+=-+=-+=-+=-+=-+=-+=-+=-+=-+=-+=-+=-+=-+=-+=-+=-+=-+=-+=-+=-+=-+=-+=-+=-+=-+=-+=-+=-+=-+=-+=-+=-+=-+=-+=-+=-+=-+=-+=-+=-+=-+=-+=-+=-+=-+=-+=-+=-+=-+=-+=\n",
      "caching defend delicious distort emboss epistemology gherkin indicate injustice maser percent phillip roadside savoyard somewhat spicy we're winston\n",
      "----------------------------------------------------------------------------------------------------\n",
      "caching defend delicious distort emboss epistemology gherkin indicate injustice maser percent phillip roadside savoyard somewhat spicy were winston\n",
      "-+=-+=-+=-+=-+=-+=-+=-+=-+=-+=-+=-+=-+=-+=-+=-+=-+=-+=-+=-+=-+=-+=-+=-+=-+=-+=-+=-+=-+=-+=-+=-+=-+=-+=-+=-+=-+=-+=-+=-+=-+=-+=-+=-+=-+=-+=-+=-+=-+=-+=-+=-+=-+=-+=-+=-+=-+=-+=-+=-+=-+=-+=-+=-+=-+=-+=-+=-+=-+=-+=-+=-+=-+=-+=-+=-+=-+=-+=-+=-+=-+=-+=-+=-+=-+=-+=-+=-+=-+=-+=-+=-+=-+=-+=-+=-+=-+=-+=-+=-+=\n",
      "artful cancelled castrate citadel croon ear endpoint excite glaucous inspiration marque mckinley pesticide prig radiometer relish rothschild school tioga trianon\n",
      "----------------------------------------------------------------------------------------------------\n",
      "artful cancelled castrate citadel croon ear endpoint excite glaucous inspiration mckinley marque pesticide prig radiometer relish rothschild school tioga trianon\n",
      "-+=-+=-+=-+=-+=-+=-+=-+=-+=-+=-+=-+=-+=-+=-+=-+=-+=-+=-+=-+=-+=-+=-+=-+=-+=-+=-+=-+=-+=-+=-+=-+=-+=-+=-+=-+=-+=-+=-+=-+=-+=-+=-+=-+=-+=-+=-+=-+=-+=-+=-+=-+=-+=-+=-+=-+=-+=-+=-+=-+=-+=-+=-+=-+=-+=-+=-+=-+=-+=-+=-+=-+=-+=-+=-+=-+=-+=-+=-+=-+=-+=-+=-+=-+=-+=-+=-+=-+=-+=-+=-+=-+=-+=-+=-+=-+=-+=-+=-+=-+=\n",
      "extempore gotten\n",
      "----------------------------------------------------------------------------------------------------\n",
      "extempore\n",
      "-+=-+=-+=-+=-+=-+=-+=-+=-+=-+=-+=-+=-+=-+=-+=-+=-+=-+=-+=-+=-+=-+=-+=-+=-+=-+=-+=-+=-+=-+=-+=-+=-+=-+=-+=-+=-+=-+=-+=-+=-+=-+=-+=-+=-+=-+=-+=-+=-+=-+=-+=-+=-+=-+=-+=-+=-+=-+=-+=-+=-+=-+=-+=-+=-+=-+=-+=-+=-+=-+=-+=-+=-+=-+=-+=-+=-+=-+=-+=-+=-+=-+=-+=-+=-+=-+=-+=-+=-+=-+=-+=-+=-+=-+=-+=-+=-+=-+=-+=-+=\n",
      "bully cardamom cryptic ebb flatland forthwith insurmountable interior jurassic landslide licensor mammary nassau opinionate seeable valkyrie\n",
      "----------------------------------------------------------------------------------------------------\n",
      "bully bully cardamom cryptic ebb flatland forthwith insurmountable interior jurassic landslide licensor mammary nassau opinionate seeable valkyrie\n",
      "-+=-+=-+=-+=-+=-+=-+=-+=-+=-+=-+=-+=-+=-+=-+=-+=-+=-+=-+=-+=-+=-+=-+=-+=-+=-+=-+=-+=-+=-+=-+=-+=-+=-+=-+=-+=-+=-+=-+=-+=-+=-+=-+=-+=-+=-+=-+=-+=-+=-+=-+=-+=-+=-+=-+=-+=-+=-+=-+=-+=-+=-+=-+=-+=-+=-+=-+=-+=-+=-+=-+=-+=-+=-+=-+=-+=-+=-+=-+=-+=-+=-+=-+=-+=-+=-+=-+=-+=-+=-+=-+=-+=-+=-+=-+=-+=-+=-+=-+=-+=\n"
     ]
    },
    {
     "data": {
      "text/plain": [
       "0.912"
      ]
     },
     "execution_count": 28,
     "metadata": {},
     "output_type": "execute_result"
    }
   ],
   "source": [
    "(calculate_correct_prediction_count(\"bbh\", dataset[\"target\"], dataset[\"answer_pred\"]) + 3) / dataset.num_rows"
   ]
  },
  {
   "cell_type": "code",
   "execution_count": 30,
   "metadata": {},
   "outputs": [
    {
     "data": {
      "application/vnd.jupyter.widget-view+json": {
       "model_id": "35c64244d5c7498b96557aa23f7ade5f",
       "version_major": 2,
       "version_minor": 0
      },
      "text/plain": [
       "Saving the dataset (0/1 shards):   0%|          | 0/250 [00:00<?, ? examples/s]"
      ]
     },
     "metadata": {},
     "output_type": "display_data"
    }
   ],
   "source": [
    "dataset.save_to_disk(os.path.join(os.path.dirname(path), \"bbh-word_sorting_eval_refined\"))"
   ]
  }
 ],
 "metadata": {
  "kernelspec": {
   "display_name": "self-discover",
   "language": "python",
   "name": "python3"
  },
  "language_info": {
   "codemirror_mode": {
    "name": "ipython",
    "version": 3
   },
   "file_extension": ".py",
   "mimetype": "text/x-python",
   "name": "python",
   "nbconvert_exporter": "python",
   "pygments_lexer": "ipython3",
   "version": "3.10.16"
  }
 },
 "nbformat": 4,
 "nbformat_minor": 2
}
